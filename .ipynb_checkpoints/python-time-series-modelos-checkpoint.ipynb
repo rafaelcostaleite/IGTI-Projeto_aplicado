{
 "cells": [
  {
   "cell_type": "code",
   "execution_count": 7,
   "metadata": {
    "colab": {
     "base_uri": "https://localhost:8080/"
    },
    "executionInfo": {
     "elapsed": 5889,
     "status": "ok",
     "timestamp": 1611535790283,
     "user": {
      "displayName": "Rafael de Miranda da Costa Leite",
      "photoUrl": "https://lh3.googleusercontent.com/a-/AOh14Gj-3rbInttHw_wvyiLPSmYAdgOUmDm2bFbC-AEvbw=s64",
      "userId": "02906791875441644303"
     },
     "user_tz": 180
    },
    "id": "UuLK8aBwJgzT",
    "outputId": "f61d5bc7-82fb-45f7-9c7c-539039a08957"
   },
   "outputs": [
    {
     "name": "stdout",
     "output_type": "stream",
     "text": [
      "Collecting pyramid-arima\n",
      "  Using cached pyramid-arima-0.8.1.tar.gz (515 kB)\n",
      "Requirement already satisfied: Cython>=0.23 in /home/rafael/Apps/anaconda3/lib/python3.8/site-packages (from pyramid-arima) (0.29.17)\n",
      "Requirement already satisfied: numpy>=1.10 in /home/rafael/Apps/anaconda3/lib/python3.8/site-packages (from pyramid-arima) (1.18.5)\n",
      "Requirement already satisfied: scipy>=0.9 in /home/rafael/Apps/anaconda3/lib/python3.8/site-packages (from pyramid-arima) (1.5.0)\n",
      "Requirement already satisfied: scikit-learn>=0.17 in /home/rafael/Apps/anaconda3/lib/python3.8/site-packages (from pyramid-arima) (0.23.1)\n",
      "Requirement already satisfied: pandas>=0.19 in /home/rafael/Apps/anaconda3/lib/python3.8/site-packages (from pyramid-arima) (1.0.5)\n",
      "Requirement already satisfied: statsmodels>=0.9.0 in /home/rafael/Apps/anaconda3/lib/python3.8/site-packages (from pyramid-arima) (0.11.1)\n",
      "Requirement already satisfied: pytz>=2017.2 in /home/rafael/Apps/anaconda3/lib/python3.8/site-packages (from pandas>=0.19->pyramid-arima) (2019.3)\n",
      "Requirement already satisfied: python-dateutil>=2.6.1 in /home/rafael/Apps/anaconda3/lib/python3.8/site-packages (from pandas>=0.19->pyramid-arima) (2.8.1)\n",
      "Requirement already satisfied: six>=1.5 in /home/rafael/Apps/anaconda3/lib/python3.8/site-packages (from python-dateutil>=2.6.1->pandas>=0.19->pyramid-arima) (1.15.0)\n",
      "Requirement already satisfied: threadpoolctl>=2.0.0 in /home/rafael/Apps/anaconda3/lib/python3.8/site-packages (from scikit-learn>=0.17->pyramid-arima) (2.1.0)\n",
      "Requirement already satisfied: joblib>=0.11 in /home/rafael/Apps/anaconda3/lib/python3.8/site-packages (from scikit-learn>=0.17->pyramid-arima) (0.16.0)\n",
      "Requirement already satisfied: patsy>=0.5 in /home/rafael/Apps/anaconda3/lib/python3.8/site-packages (from statsmodels>=0.9.0->pyramid-arima) (0.5.1)\n",
      "Building wheels for collected packages: pyramid-arima\n",
      "  Building wheel for pyramid-arima (setup.py) ... \u001b[?25lerror\n",
      "\u001b[31m  ERROR: Command errored out with exit status 1:\n",
      "   command: /home/rafael/Apps/anaconda3/bin/python -u -c 'import sys, setuptools, tokenize; sys.argv[0] = '\"'\"'/tmp/pip-install-x8bd9i34/pyramid-arima_8b15b4c440984d05a9e63b52d724db7f/setup.py'\"'\"'; __file__='\"'\"'/tmp/pip-install-x8bd9i34/pyramid-arima_8b15b4c440984d05a9e63b52d724db7f/setup.py'\"'\"';f=getattr(tokenize, '\"'\"'open'\"'\"', open)(__file__);code=f.read().replace('\"'\"'\\r\\n'\"'\"', '\"'\"'\\n'\"'\"');f.close();exec(compile(code, __file__, '\"'\"'exec'\"'\"'))' bdist_wheel -d /tmp/pip-wheel-cb5ss_w2\n",
      "       cwd: /tmp/pip-install-x8bd9i34/pyramid-arima_8b15b4c440984d05a9e63b52d724db7f/\n",
      "  Complete output (260 lines):\n",
      "  Partial import of pyramid during the build process.\n",
      "  Requirements: ['Cython>=0.23', 'numpy>=1.10', 'scipy>=0.9', 'scikit-learn>=0.17', 'pandas>=0.19', 'statsmodels>=0.9.0']\n",
      "  Adding extra setuptools args\n",
      "  blas_opt_info:\n",
      "  blas_mkl_info:\n",
      "  customize UnixCCompiler\n",
      "  C compiler: /home/rafael/Apps/anaconda3/bin/x86_64-conda_cos6-linux-gnu-cc -Wno-unused-result -Wsign-compare -DNDEBUG -fwrapv -O2 -Wall -Wstrict-prototypes -march=nocona -mtune=haswell -ftree-vectorize -fPIC -fstack-protector-strong -fno-plt -O2 -pipe -march=nocona -mtune=haswell -ftree-vectorize -fPIC -fstack-protector-strong -fno-plt -O2 -pipe -march=nocona -mtune=haswell -ftree-vectorize -fPIC -fstack-protector-strong -fno-plt -O2 -ffunction-sections -pipe -isystem /home/rafael/Apps/anaconda3/include -DNDEBUG -D_FORTIFY_SOURCE=2 -O2 -isystem /home/rafael/Apps/anaconda3/include -fPIC\n",
      "  \n",
      "  creating /tmp/tmpcvhoa_nt/tmp\n",
      "  creating /tmp/tmpcvhoa_nt/tmp/tmpcvhoa_nt\n",
      "  compile options: '-MMD -MF /tmp/tmpcvhoa_nt/file.c.d -c'\n",
      "  x86_64-conda_cos6-linux-gnu-cc: /tmp/tmpcvhoa_nt/file.c\n",
      "    FOUND:\n",
      "      libraries = ['mkl_rt', 'pthread']\n",
      "      library_dirs = ['/home/rafael/Apps/anaconda3/lib']\n",
      "      define_macros = [('SCIPY_MKL_H', None), ('HAVE_CBLAS', None)]\n",
      "      include_dirs = ['/home/rafael/Apps/anaconda3/include']\n",
      "  \n",
      "    FOUND:\n",
      "      libraries = ['mkl_rt', 'pthread']\n",
      "      library_dirs = ['/home/rafael/Apps/anaconda3/lib']\n",
      "      define_macros = [('SCIPY_MKL_H', None), ('HAVE_CBLAS', None)]\n",
      "      include_dirs = ['/home/rafael/Apps/anaconda3/include']\n",
      "  \n",
      "  running bdist_wheel\n",
      "  running build\n",
      "  running config_cc\n",
      "  unifing config_cc, config, build_clib, build_ext, build commands --compiler options\n",
      "  running config_fc\n",
      "  unifing config_fc, config, build_clib, build_ext, build commands --fcompiler options\n",
      "  running build_src\n",
      "  build_src\n",
      "  building extension \"pyramid.__check_build._check_build\" sources\n",
      "  building extension \"pyramid.arima._arima\" sources\n",
      "  build_src: building npy-pkg config files\n",
      "  running build_py\n",
      "  creating build\n",
      "  creating build/lib.linux-x86_64-3.8\n",
      "  creating build/lib.linux-x86_64-3.8/pyramid\n",
      "  copying pyramid/_config.py -> build/lib.linux-x86_64-3.8/pyramid\n",
      "  copying pyramid/__init__.py -> build/lib.linux-x86_64-3.8/pyramid\n",
      "  copying pyramid/setup.py -> build/lib.linux-x86_64-3.8/pyramid\n",
      "  creating build/lib.linux-x86_64-3.8/pyramid/__check_build\n",
      "  copying pyramid/__check_build/__init__.py -> build/lib.linux-x86_64-3.8/pyramid/__check_build\n",
      "  copying pyramid/__check_build/setup.py -> build/lib.linux-x86_64-3.8/pyramid/__check_build\n",
      "  creating build/lib.linux-x86_64-3.8/pyramid/__check_build/tests\n",
      "  copying pyramid/__check_build/tests/__init__.py -> build/lib.linux-x86_64-3.8/pyramid/__check_build/tests\n",
      "  copying pyramid/__check_build/tests/test_check_build.py -> build/lib.linux-x86_64-3.8/pyramid/__check_build/tests\n",
      "  creating build/lib.linux-x86_64-3.8/pyramid/_build_utils\n",
      "  copying pyramid/_build_utils/__init__.py -> build/lib.linux-x86_64-3.8/pyramid/_build_utils\n",
      "  creating build/lib.linux-x86_64-3.8/pyramid/_build_utils/tests\n",
      "  copying pyramid/_build_utils/tests/__init__.py -> build/lib.linux-x86_64-3.8/pyramid/_build_utils/tests\n",
      "  creating build/lib.linux-x86_64-3.8/pyramid/compat\n",
      "  copying pyramid/compat/__init__.py -> build/lib.linux-x86_64-3.8/pyramid/compat\n",
      "  copying pyramid/compat/matplotlib.py -> build/lib.linux-x86_64-3.8/pyramid/compat\n",
      "  copying pyramid/compat/numpy.py -> build/lib.linux-x86_64-3.8/pyramid/compat\n",
      "  copying pyramid/compat/python.py -> build/lib.linux-x86_64-3.8/pyramid/compat\n",
      "  copying pyramid/compat/pandas.py -> build/lib.linux-x86_64-3.8/pyramid/compat\n",
      "  creating build/lib.linux-x86_64-3.8/pyramid/compat/tests\n",
      "  copying pyramid/compat/tests/test_compat.py -> build/lib.linux-x86_64-3.8/pyramid/compat/tests\n",
      "  copying pyramid/compat/tests/__init__.py -> build/lib.linux-x86_64-3.8/pyramid/compat/tests\n",
      "  creating build/lib.linux-x86_64-3.8/pyramid/datasets\n",
      "  copying pyramid/datasets/heartrate.py -> build/lib.linux-x86_64-3.8/pyramid/datasets\n",
      "  copying pyramid/datasets/__init__.py -> build/lib.linux-x86_64-3.8/pyramid/datasets\n",
      "  copying pyramid/datasets/woolyrnq.py -> build/lib.linux-x86_64-3.8/pyramid/datasets\n",
      "  copying pyramid/datasets/wineind.py -> build/lib.linux-x86_64-3.8/pyramid/datasets\n",
      "  copying pyramid/datasets/lynx.py -> build/lib.linux-x86_64-3.8/pyramid/datasets\n",
      "  creating build/lib.linux-x86_64-3.8/pyramid/utils\n",
      "  copying pyramid/utils/__init__.py -> build/lib.linux-x86_64-3.8/pyramid/utils\n",
      "  copying pyramid/utils/visualization.py -> build/lib.linux-x86_64-3.8/pyramid/utils\n",
      "  copying pyramid/utils/testing.py -> build/lib.linux-x86_64-3.8/pyramid/utils\n",
      "  copying pyramid/utils/array.py -> build/lib.linux-x86_64-3.8/pyramid/utils\n",
      "  copying pyramid/utils/metaestimators.py -> build/lib.linux-x86_64-3.8/pyramid/utils\n",
      "  copying pyramid/utils/wrapped.py -> build/lib.linux-x86_64-3.8/pyramid/utils\n",
      "  creating build/lib.linux-x86_64-3.8/pyramid/utils/tests\n",
      "  copying pyramid/utils/tests/test_vis.py -> build/lib.linux-x86_64-3.8/pyramid/utils/tests\n",
      "  copying pyramid/utils/tests/test_testing.py -> build/lib.linux-x86_64-3.8/pyramid/utils/tests\n",
      "  copying pyramid/utils/tests/test_meta.py -> build/lib.linux-x86_64-3.8/pyramid/utils/tests\n",
      "  copying pyramid/utils/tests/test_wrapped.py -> build/lib.linux-x86_64-3.8/pyramid/utils/tests\n",
      "  copying pyramid/utils/tests/__init__.py -> build/lib.linux-x86_64-3.8/pyramid/utils/tests\n",
      "  copying pyramid/utils/tests/test_array.py -> build/lib.linux-x86_64-3.8/pyramid/utils/tests\n",
      "  creating build/lib.linux-x86_64-3.8/pyramid/arima\n",
      "  copying pyramid/arima/auto.py -> build/lib.linux-x86_64-3.8/pyramid/arima\n",
      "  copying pyramid/arima/__init__.py -> build/lib.linux-x86_64-3.8/pyramid/arima\n",
      "  copying pyramid/arima/arima.py -> build/lib.linux-x86_64-3.8/pyramid/arima\n",
      "  copying pyramid/arima/seasonality.py -> build/lib.linux-x86_64-3.8/pyramid/arima\n",
      "  copying pyramid/arima/approx.py -> build/lib.linux-x86_64-3.8/pyramid/arima\n",
      "  copying pyramid/arima/stationarity.py -> build/lib.linux-x86_64-3.8/pyramid/arima\n",
      "  copying pyramid/arima/warnings.py -> build/lib.linux-x86_64-3.8/pyramid/arima\n",
      "  copying pyramid/arima/utils.py -> build/lib.linux-x86_64-3.8/pyramid/arima\n",
      "  copying pyramid/arima/setup.py -> build/lib.linux-x86_64-3.8/pyramid/arima\n",
      "  creating build/lib.linux-x86_64-3.8/pyramid/arima/tests\n",
      "  copying pyramid/arima/tests/test_approx.py -> build/lib.linux-x86_64-3.8/pyramid/arima/tests\n",
      "  copying pyramid/arima/tests/test_arima.py -> build/lib.linux-x86_64-3.8/pyramid/arima/tests\n",
      "  copying pyramid/arima/tests/test_c_arima.py -> build/lib.linux-x86_64-3.8/pyramid/arima/tests\n",
      "  copying pyramid/arima/tests/__init__.py -> build/lib.linux-x86_64-3.8/pyramid/arima/tests\n",
      "  copying pyramid/arima/tests/test_stationarity.py -> build/lib.linux-x86_64-3.8/pyramid/arima/tests\n",
      "  running build_ext\n",
      "  customize UnixCCompiler\n",
      "  C compiler: /home/rafael/Apps/anaconda3/bin/x86_64-conda_cos6-linux-gnu-cc -Wno-unused-result -Wsign-compare -DNDEBUG -fwrapv -O2 -Wall -Wstrict-prototypes -march=nocona -mtune=haswell -ftree-vectorize -fPIC -fstack-protector-strong -fno-plt -O2 -pipe -march=nocona -mtune=haswell -ftree-vectorize -fPIC -fstack-protector-strong -fno-plt -O2 -pipe -march=nocona -mtune=haswell -ftree-vectorize -fPIC -fstack-protector-strong -fno-plt -O2 -ffunction-sections -pipe -isystem /home/rafael/Apps/anaconda3/include -DNDEBUG -D_FORTIFY_SOURCE=2 -O2 -isystem /home/rafael/Apps/anaconda3/include -fPIC\n",
      "  \n",
      "  creating /tmp/tmpn7o4wg2s/tmp\n",
      "  creating /tmp/tmpn7o4wg2s/tmp/tmpn7o4wg2s\n",
      "  compile options: '-MMD -MF /tmp/tmpn7o4wg2s/file.c.d -c'\n",
      "  x86_64-conda_cos6-linux-gnu-cc: /tmp/tmpn7o4wg2s/file.c\n",
      "  customize UnixCCompiler using build_ext\n",
      "  building 'pyramid.__check_build._check_build' extension\n",
      "  compiling C sources\n",
      "  C compiler: /home/rafael/Apps/anaconda3/bin/x86_64-conda_cos6-linux-gnu-cc -Wno-unused-result -Wsign-compare -DNDEBUG -fwrapv -O2 -Wall -Wstrict-prototypes -march=nocona -mtune=haswell -ftree-vectorize -fPIC -fstack-protector-strong -fno-plt -O2 -pipe -march=nocona -mtune=haswell -ftree-vectorize -fPIC -fstack-protector-strong -fno-plt -O2 -pipe -march=nocona -mtune=haswell -ftree-vectorize -fPIC -fstack-protector-strong -fno-plt -O2 -ffunction-sections -pipe -isystem /home/rafael/Apps/anaconda3/include -DNDEBUG -D_FORTIFY_SOURCE=2 -O2 -isystem /home/rafael/Apps/anaconda3/include -fPIC\n",
      "  \n",
      "  creating build/temp.linux-x86_64-3.8/pyramid\n",
      "  creating build/temp.linux-x86_64-3.8/pyramid/__check_build\n",
      "  compile options: '-I/home/rafael/Apps/anaconda3/lib/python3.8/site-packages/numpy/core/include -I/home/rafael/Apps/anaconda3/lib/python3.8/site-packages/numpy/core/include -I/home/rafael/Apps/anaconda3/include/python3.8 -c'\n",
      "  x86_64-conda_cos6-linux-gnu-cc: pyramid/__check_build/_check_build.c\n",
      "  x86_64-conda_cos6-linux-gnu-gcc -pthread -shared -Wl,-O2 -Wl,--sort-common -Wl,--as-needed -Wl,-z,relro -Wl,-z,now -Wl,-rpath,/home/rafael/Apps/anaconda3/lib -L/home/rafael/Apps/anaconda3/lib -Wl,-O2 -Wl,--sort-common -Wl,--as-needed -Wl,-z,relro -Wl,-z,now -Wl,-rpath,/home/rafael/Apps/anaconda3/lib -L/home/rafael/Apps/anaconda3/lib -Wl,-O2 -Wl,--sort-common -Wl,--as-needed -Wl,-z,relro -Wl,-z,now -Wl,--disable-new-dtags -Wl,--gc-sections -Wl,-rpath,/home/rafael/Apps/anaconda3/lib -Wl,-rpath-link,/home/rafael/Apps/anaconda3/lib -L/home/rafael/Apps/anaconda3/lib -march=nocona -mtune=haswell -ftree-vectorize -fPIC -fstack-protector-strong -fno-plt -O2 -ffunction-sections -pipe -isystem /home/rafael/Apps/anaconda3/include -DNDEBUG -D_FORTIFY_SOURCE=2 -O2 -isystem /home/rafael/Apps/anaconda3/include build/temp.linux-x86_64-3.8/pyramid/__check_build/_check_build.o -o build/lib.linux-x86_64-3.8/pyramid/__check_build/_check_build.cpython-38-x86_64-linux-gnu.so\n",
      "  building 'pyramid.arima._arima' extension\n",
      "  compiling C sources\n",
      "  C compiler: /home/rafael/Apps/anaconda3/bin/x86_64-conda_cos6-linux-gnu-cc -Wno-unused-result -Wsign-compare -DNDEBUG -fwrapv -O2 -Wall -Wstrict-prototypes -march=nocona -mtune=haswell -ftree-vectorize -fPIC -fstack-protector-strong -fno-plt -O2 -pipe -march=nocona -mtune=haswell -ftree-vectorize -fPIC -fstack-protector-strong -fno-plt -O2 -pipe -march=nocona -mtune=haswell -ftree-vectorize -fPIC -fstack-protector-strong -fno-plt -O2 -ffunction-sections -pipe -isystem /home/rafael/Apps/anaconda3/include -DNDEBUG -D_FORTIFY_SOURCE=2 -O2 -isystem /home/rafael/Apps/anaconda3/include -fPIC\n",
      "  \n",
      "  creating build/temp.linux-x86_64-3.8/pyramid/arima\n",
      "  compile options: '-DSCIPY_MKL_H -DHAVE_CBLAS -I/home/rafael/Apps/anaconda3/lib/python3.8/site-packages/numpy/core/include -Ipyramid/arima/_arima_fast_helpers.h -I/home/rafael/Apps/anaconda3/include -I/home/rafael/Apps/anaconda3/lib/python3.8/site-packages/numpy/core/include -I/home/rafael/Apps/anaconda3/include/python3.8 -c'\n",
      "  x86_64-conda_cos6-linux-gnu-cc: pyramid/arima/_arima.c\n",
      "  cc1: warning: pyramid/arima/_arima_fast_helpers.h: not a directory\n",
      "  In file included from /home/rafael/Apps/anaconda3/lib/python3.8/site-packages/numpy/core/include/numpy/ndarraytypes.h:1832:0,\n",
      "                   from /home/rafael/Apps/anaconda3/lib/python3.8/site-packages/numpy/core/include/numpy/ndarrayobject.h:12,\n",
      "                   from /home/rafael/Apps/anaconda3/lib/python3.8/site-packages/numpy/core/include/numpy/arrayobject.h:4,\n",
      "                   from pyramid/arima/_arima.c:308:\n",
      "  /home/rafael/Apps/anaconda3/lib/python3.8/site-packages/numpy/core/include/numpy/npy_1_7_deprecated_api.h:17:2: warning: #warning \"Using deprecated NumPy API, disable it with \" \"#define NPY_NO_DEPRECATED_API NPY_1_7_API_VERSION\" [-Wcpp]\n",
      "   #warning \"Using deprecated NumPy API, disable it with \" \\\n",
      "    ^~~~~~~\n",
      "  pyramid/arima/_arima.c: In function 'PyInit__arima':\n",
      "  pyramid/arima/_arima.c:25487:3: warning: 'tp_print' is deprecated [-Wdeprecated-declarations]\n",
      "     __pyx_type___pyx_array.tp_print = 0;\n",
      "     ^~~~~~~~~~~~~~~~~~~~~~\n",
      "  In file included from /home/rafael/Apps/anaconda3/include/python3.8/object.h:746:0,\n",
      "                   from /home/rafael/Apps/anaconda3/include/python3.8/pytime.h:6,\n",
      "                   from /home/rafael/Apps/anaconda3/include/python3.8/Python.h:85,\n",
      "                   from pyramid/arima/_arima.c:38:\n",
      "  /home/rafael/Apps/anaconda3/include/python3.8/cpython/object.h:260:30: note: declared here\n",
      "       Py_DEPRECATED(3.8) int (*tp_print)(PyObject *, FILE *, int);\n",
      "                                ^~~~~~~~\n",
      "  pyramid/arima/_arima.c:25491:3: warning: 'tp_print' is deprecated [-Wdeprecated-declarations]\n",
      "     __pyx_type___pyx_MemviewEnum.tp_print = 0;\n",
      "     ^~~~~~~~~~~~~~~~~~~~~~~~~~~~\n",
      "  In file included from /home/rafael/Apps/anaconda3/include/python3.8/object.h:746:0,\n",
      "                   from /home/rafael/Apps/anaconda3/include/python3.8/pytime.h:6,\n",
      "                   from /home/rafael/Apps/anaconda3/include/python3.8/Python.h:85,\n",
      "                   from pyramid/arima/_arima.c:38:\n",
      "  /home/rafael/Apps/anaconda3/include/python3.8/cpython/object.h:260:30: note: declared here\n",
      "       Py_DEPRECATED(3.8) int (*tp_print)(PyObject *, FILE *, int);\n",
      "                                ^~~~~~~~\n",
      "  pyramid/arima/_arima.c:25502:3: warning: 'tp_print' is deprecated [-Wdeprecated-declarations]\n",
      "     __pyx_type___pyx_memoryview.tp_print = 0;\n",
      "     ^~~~~~~~~~~~~~~~~~~~~~~~~~~\n",
      "  In file included from /home/rafael/Apps/anaconda3/include/python3.8/object.h:746:0,\n",
      "                   from /home/rafael/Apps/anaconda3/include/python3.8/pytime.h:6,\n",
      "                   from /home/rafael/Apps/anaconda3/include/python3.8/Python.h:85,\n",
      "                   from pyramid/arima/_arima.c:38:\n",
      "  /home/rafael/Apps/anaconda3/include/python3.8/cpython/object.h:260:30: note: declared here\n",
      "       Py_DEPRECATED(3.8) int (*tp_print)(PyObject *, FILE *, int);\n",
      "                                ^~~~~~~~\n",
      "  pyramid/arima/_arima.c:25511:3: warning: 'tp_print' is deprecated [-Wdeprecated-declarations]\n",
      "     __pyx_type___pyx_memoryviewslice.tp_print = 0;\n",
      "     ^~~~~~~~~~~~~~~~~~~~~~~~~~~~~~~~\n",
      "  In file included from /home/rafael/Apps/anaconda3/include/python3.8/object.h:746:0,\n",
      "                   from /home/rafael/Apps/anaconda3/include/python3.8/pytime.h:6,\n",
      "                   from /home/rafael/Apps/anaconda3/include/python3.8/Python.h:85,\n",
      "                   from pyramid/arima/_arima.c:38:\n",
      "  /home/rafael/Apps/anaconda3/include/python3.8/cpython/object.h:260:30: note: declared here\n",
      "       Py_DEPRECATED(3.8) int (*tp_print)(PyObject *, FILE *, int);\n",
      "                                ^~~~~~~~\n",
      "  pyramid/arima/_arima.c: In function '__Pyx__ExceptionSave':\n",
      "  pyramid/arima/_arima.c:26129:21: error: 'PyThreadState {aka struct _ts}' has no member named 'exc_type'; did you mean 'curexc_type'?\n",
      "       *type = tstate->exc_type;\n",
      "                       ^~~~~~~~\n",
      "                       curexc_type\n",
      "  pyramid/arima/_arima.c:26130:22: error: 'PyThreadState {aka struct _ts}' has no member named 'exc_value'; did you mean 'curexc_value'?\n",
      "       *value = tstate->exc_value;\n",
      "                        ^~~~~~~~~\n",
      "                        curexc_value\n",
      "  pyramid/arima/_arima.c:26131:19: error: 'PyThreadState {aka struct _ts}' has no member named 'exc_traceback'; did you mean 'curexc_traceback'?\n",
      "       *tb = tstate->exc_traceback;\n",
      "                     ^~~~~~~~~~~~~\n",
      "                     curexc_traceback\n",
      "  pyramid/arima/_arima.c: In function '__Pyx__ExceptionReset':\n",
      "  pyramid/arima/_arima.c:26138:24: error: 'PyThreadState {aka struct _ts}' has no member named 'exc_type'; did you mean 'curexc_type'?\n",
      "       tmp_type = tstate->exc_type;\n",
      "                          ^~~~~~~~\n",
      "                          curexc_type\n",
      "  pyramid/arima/_arima.c:26139:25: error: 'PyThreadState {aka struct _ts}' has no member named 'exc_value'; did you mean 'curexc_value'?\n",
      "       tmp_value = tstate->exc_value;\n",
      "                           ^~~~~~~~~\n",
      "                           curexc_value\n",
      "  pyramid/arima/_arima.c:26140:22: error: 'PyThreadState {aka struct _ts}' has no member named 'exc_traceback'; did you mean 'curexc_traceback'?\n",
      "       tmp_tb = tstate->exc_traceback;\n",
      "                        ^~~~~~~~~~~~~\n",
      "                        curexc_traceback\n",
      "  pyramid/arima/_arima.c:26141:13: error: 'PyThreadState {aka struct _ts}' has no member named 'exc_type'; did you mean 'curexc_type'?\n",
      "       tstate->exc_type = type;\n",
      "               ^~~~~~~~\n",
      "               curexc_type\n",
      "  pyramid/arima/_arima.c:26142:13: error: 'PyThreadState {aka struct _ts}' has no member named 'exc_value'; did you mean 'curexc_value'?\n",
      "       tstate->exc_value = value;\n",
      "               ^~~~~~~~~\n",
      "               curexc_value\n",
      "  pyramid/arima/_arima.c:26143:13: error: 'PyThreadState {aka struct _ts}' has no member named 'exc_traceback'; did you mean 'curexc_traceback'?\n",
      "       tstate->exc_traceback = tb;\n",
      "               ^~~~~~~~~~~~~\n",
      "               curexc_traceback\n",
      "  pyramid/arima/_arima.c: In function '__Pyx__GetException':\n",
      "  pyramid/arima/_arima.c:26198:24: error: 'PyThreadState {aka struct _ts}' has no member named 'exc_type'; did you mean 'curexc_type'?\n",
      "       tmp_type = tstate->exc_type;\n",
      "                          ^~~~~~~~\n",
      "                          curexc_type\n",
      "  pyramid/arima/_arima.c:26199:25: error: 'PyThreadState {aka struct _ts}' has no member named 'exc_value'; did you mean 'curexc_value'?\n",
      "       tmp_value = tstate->exc_value;\n",
      "                           ^~~~~~~~~\n",
      "                           curexc_value\n",
      "  pyramid/arima/_arima.c:26200:22: error: 'PyThreadState {aka struct _ts}' has no member named 'exc_traceback'; did you mean 'curexc_traceback'?\n",
      "       tmp_tb = tstate->exc_traceback;\n",
      "                        ^~~~~~~~~~~~~\n",
      "                        curexc_traceback\n",
      "  pyramid/arima/_arima.c:26201:13: error: 'PyThreadState {aka struct _ts}' has no member named 'exc_type'; did you mean 'curexc_type'?\n",
      "       tstate->exc_type = local_type;\n",
      "               ^~~~~~~~\n",
      "               curexc_type\n",
      "  pyramid/arima/_arima.c:26202:13: error: 'PyThreadState {aka struct _ts}' has no member named 'exc_value'; did you mean 'curexc_value'?\n",
      "       tstate->exc_value = local_value;\n",
      "               ^~~~~~~~~\n",
      "               curexc_value\n",
      "  pyramid/arima/_arima.c:26203:13: error: 'PyThreadState {aka struct _ts}' has no member named 'exc_traceback'; did you mean 'curexc_traceback'?\n",
      "       tstate->exc_traceback = local_tb;\n",
      "               ^~~~~~~~~~~~~\n",
      "               curexc_traceback\n",
      "  pyramid/arima/_arima.c: In function '__Pyx__ExceptionSwap':\n",
      "  pyramid/arima/_arima.c:27811:24: error: 'PyThreadState {aka struct _ts}' has no member named 'exc_type'; did you mean 'curexc_type'?\n",
      "       tmp_type = tstate->exc_type;\n",
      "                          ^~~~~~~~\n",
      "                          curexc_type\n",
      "  pyramid/arima/_arima.c:27812:25: error: 'PyThreadState {aka struct _ts}' has no member named 'exc_value'; did you mean 'curexc_value'?\n",
      "       tmp_value = tstate->exc_value;\n",
      "                           ^~~~~~~~~\n",
      "                           curexc_value\n",
      "  pyramid/arima/_arima.c:27813:22: error: 'PyThreadState {aka struct _ts}' has no member named 'exc_traceback'; did you mean 'curexc_traceback'?\n",
      "       tmp_tb = tstate->exc_traceback;\n",
      "                        ^~~~~~~~~~~~~\n",
      "                        curexc_traceback\n",
      "  pyramid/arima/_arima.c:27814:13: error: 'PyThreadState {aka struct _ts}' has no member named 'exc_type'; did you mean 'curexc_type'?\n",
      "       tstate->exc_type = *type;\n",
      "               ^~~~~~~~\n",
      "               curexc_type\n",
      "  pyramid/arima/_arima.c:27815:13: error: 'PyThreadState {aka struct _ts}' has no member named 'exc_value'; did you mean 'curexc_value'?\n",
      "       tstate->exc_value = *value;\n",
      "               ^~~~~~~~~\n",
      "               curexc_value\n",
      "  pyramid/arima/_arima.c:27816:13: error: 'PyThreadState {aka struct _ts}' has no member named 'exc_traceback'; did you mean 'curexc_traceback'?\n",
      "       tstate->exc_traceback = *tb;\n",
      "               ^~~~~~~~~~~~~\n",
      "               curexc_traceback\n",
      "  error: Command \"/home/rafael/Apps/anaconda3/bin/x86_64-conda_cos6-linux-gnu-cc -Wno-unused-result -Wsign-compare -DNDEBUG -fwrapv -O2 -Wall -Wstrict-prototypes -march=nocona -mtune=haswell -ftree-vectorize -fPIC -fstack-protector-strong -fno-plt -O2 -pipe -march=nocona -mtune=haswell -ftree-vectorize -fPIC -fstack-protector-strong -fno-plt -O2 -pipe -march=nocona -mtune=haswell -ftree-vectorize -fPIC -fstack-protector-strong -fno-plt -O2 -ffunction-sections -pipe -isystem /home/rafael/Apps/anaconda3/include -DNDEBUG -D_FORTIFY_SOURCE=2 -O2 -isystem /home/rafael/Apps/anaconda3/include -fPIC -DSCIPY_MKL_H -DHAVE_CBLAS -I/home/rafael/Apps/anaconda3/lib/python3.8/site-packages/numpy/core/include -Ipyramid/arima/_arima_fast_helpers.h -I/home/rafael/Apps/anaconda3/include -I/home/rafael/Apps/anaconda3/lib/python3.8/site-packages/numpy/core/include -I/home/rafael/Apps/anaconda3/include/python3.8 -c pyramid/arima/_arima.c -o build/temp.linux-x86_64-3.8/pyramid/arima/_arima.o -MMD -MF build/temp.linux-x86_64-3.8/pyramid/arima/_arima.o.d\" failed with exit status 1\n",
      "  ----------------------------------------\u001b[0m\n",
      "\u001b[31m  ERROR: Failed building wheel for pyramid-arima\u001b[0m\n",
      "\u001b[?25h  Running setup.py clean for pyramid-arima\n"
     ]
    },
    {
     "name": "stdout",
     "output_type": "stream",
     "text": [
      "Failed to build pyramid-arima\n",
      "Installing collected packages: pyramid-arima\n",
      "    Running setup.py install for pyramid-arima ... \u001b[?25lerror\n",
      "\u001b[31m    ERROR: Command errored out with exit status 1:\n",
      "     command: /home/rafael/Apps/anaconda3/bin/python -u -c 'import sys, setuptools, tokenize; sys.argv[0] = '\"'\"'/tmp/pip-install-x8bd9i34/pyramid-arima_8b15b4c440984d05a9e63b52d724db7f/setup.py'\"'\"'; __file__='\"'\"'/tmp/pip-install-x8bd9i34/pyramid-arima_8b15b4c440984d05a9e63b52d724db7f/setup.py'\"'\"';f=getattr(tokenize, '\"'\"'open'\"'\"', open)(__file__);code=f.read().replace('\"'\"'\\r\\n'\"'\"', '\"'\"'\\n'\"'\"');f.close();exec(compile(code, __file__, '\"'\"'exec'\"'\"'))' install --record /tmp/pip-record-th90_vdb/install-record.txt --single-version-externally-managed --compile --install-headers /home/rafael/Apps/anaconda3/include/python3.8/pyramid-arima\n",
      "         cwd: /tmp/pip-install-x8bd9i34/pyramid-arima_8b15b4c440984d05a9e63b52d724db7f/\n",
      "    Complete output (260 lines):\n",
      "    Partial import of pyramid during the build process.\n",
      "    Requirements: ['Cython>=0.23', 'numpy>=1.10', 'scipy>=0.9', 'scikit-learn>=0.17', 'pandas>=0.19', 'statsmodels>=0.9.0']\n",
      "    Adding extra setuptools args\n",
      "    blas_opt_info:\n",
      "    blas_mkl_info:\n",
      "    customize UnixCCompiler\n",
      "    C compiler: /home/rafael/Apps/anaconda3/bin/x86_64-conda_cos6-linux-gnu-cc -Wno-unused-result -Wsign-compare -DNDEBUG -fwrapv -O2 -Wall -Wstrict-prototypes -march=nocona -mtune=haswell -ftree-vectorize -fPIC -fstack-protector-strong -fno-plt -O2 -pipe -march=nocona -mtune=haswell -ftree-vectorize -fPIC -fstack-protector-strong -fno-plt -O2 -pipe -march=nocona -mtune=haswell -ftree-vectorize -fPIC -fstack-protector-strong -fno-plt -O2 -ffunction-sections -pipe -isystem /home/rafael/Apps/anaconda3/include -DNDEBUG -D_FORTIFY_SOURCE=2 -O2 -isystem /home/rafael/Apps/anaconda3/include -fPIC\n",
      "    \n",
      "    creating /tmp/tmpb41yfaba/tmp\n",
      "    creating /tmp/tmpb41yfaba/tmp/tmpb41yfaba\n",
      "    compile options: '-MMD -MF /tmp/tmpb41yfaba/file.c.d -c'\n",
      "    x86_64-conda_cos6-linux-gnu-cc: /tmp/tmpb41yfaba/file.c\n",
      "      FOUND:\n",
      "        libraries = ['mkl_rt', 'pthread']\n",
      "        library_dirs = ['/home/rafael/Apps/anaconda3/lib']\n",
      "        define_macros = [('SCIPY_MKL_H', None), ('HAVE_CBLAS', None)]\n",
      "        include_dirs = ['/home/rafael/Apps/anaconda3/include']\n",
      "    \n",
      "      FOUND:\n",
      "        libraries = ['mkl_rt', 'pthread']\n",
      "        library_dirs = ['/home/rafael/Apps/anaconda3/lib']\n",
      "        define_macros = [('SCIPY_MKL_H', None), ('HAVE_CBLAS', None)]\n",
      "        include_dirs = ['/home/rafael/Apps/anaconda3/include']\n",
      "    \n",
      "    running install\n",
      "    running build\n",
      "    running config_cc\n",
      "    unifing config_cc, config, build_clib, build_ext, build commands --compiler options\n",
      "    running config_fc\n",
      "    unifing config_fc, config, build_clib, build_ext, build commands --fcompiler options\n",
      "    running build_src\n",
      "    build_src\n",
      "    building extension \"pyramid.__check_build._check_build\" sources\n",
      "    building extension \"pyramid.arima._arima\" sources\n",
      "    build_src: building npy-pkg config files\n",
      "    running build_py\n",
      "    creating build\n",
      "    creating build/lib.linux-x86_64-3.8\n",
      "    creating build/lib.linux-x86_64-3.8/pyramid\n",
      "    copying pyramid/_config.py -> build/lib.linux-x86_64-3.8/pyramid\n",
      "    copying pyramid/__init__.py -> build/lib.linux-x86_64-3.8/pyramid\n",
      "    copying pyramid/setup.py -> build/lib.linux-x86_64-3.8/pyramid\n",
      "    creating build/lib.linux-x86_64-3.8/pyramid/__check_build\n",
      "    copying pyramid/__check_build/__init__.py -> build/lib.linux-x86_64-3.8/pyramid/__check_build\n",
      "    copying pyramid/__check_build/setup.py -> build/lib.linux-x86_64-3.8/pyramid/__check_build\n",
      "    creating build/lib.linux-x86_64-3.8/pyramid/__check_build/tests\n",
      "    copying pyramid/__check_build/tests/__init__.py -> build/lib.linux-x86_64-3.8/pyramid/__check_build/tests\n",
      "    copying pyramid/__check_build/tests/test_check_build.py -> build/lib.linux-x86_64-3.8/pyramid/__check_build/tests\n",
      "    creating build/lib.linux-x86_64-3.8/pyramid/_build_utils\n",
      "    copying pyramid/_build_utils/__init__.py -> build/lib.linux-x86_64-3.8/pyramid/_build_utils\n",
      "    creating build/lib.linux-x86_64-3.8/pyramid/_build_utils/tests\n",
      "    copying pyramid/_build_utils/tests/__init__.py -> build/lib.linux-x86_64-3.8/pyramid/_build_utils/tests\n",
      "    creating build/lib.linux-x86_64-3.8/pyramid/compat\n",
      "    copying pyramid/compat/__init__.py -> build/lib.linux-x86_64-3.8/pyramid/compat\n",
      "    copying pyramid/compat/matplotlib.py -> build/lib.linux-x86_64-3.8/pyramid/compat\n",
      "    copying pyramid/compat/numpy.py -> build/lib.linux-x86_64-3.8/pyramid/compat\n",
      "    copying pyramid/compat/python.py -> build/lib.linux-x86_64-3.8/pyramid/compat\n",
      "    copying pyramid/compat/pandas.py -> build/lib.linux-x86_64-3.8/pyramid/compat\n",
      "    creating build/lib.linux-x86_64-3.8/pyramid/compat/tests\n",
      "    copying pyramid/compat/tests/test_compat.py -> build/lib.linux-x86_64-3.8/pyramid/compat/tests\n",
      "    copying pyramid/compat/tests/__init__.py -> build/lib.linux-x86_64-3.8/pyramid/compat/tests\n",
      "    creating build/lib.linux-x86_64-3.8/pyramid/datasets\n",
      "    copying pyramid/datasets/heartrate.py -> build/lib.linux-x86_64-3.8/pyramid/datasets\n",
      "    copying pyramid/datasets/__init__.py -> build/lib.linux-x86_64-3.8/pyramid/datasets\n",
      "    copying pyramid/datasets/woolyrnq.py -> build/lib.linux-x86_64-3.8/pyramid/datasets\n",
      "    copying pyramid/datasets/wineind.py -> build/lib.linux-x86_64-3.8/pyramid/datasets\n",
      "    copying pyramid/datasets/lynx.py -> build/lib.linux-x86_64-3.8/pyramid/datasets\n",
      "    creating build/lib.linux-x86_64-3.8/pyramid/utils\n",
      "    copying pyramid/utils/__init__.py -> build/lib.linux-x86_64-3.8/pyramid/utils\n",
      "    copying pyramid/utils/visualization.py -> build/lib.linux-x86_64-3.8/pyramid/utils\n",
      "    copying pyramid/utils/testing.py -> build/lib.linux-x86_64-3.8/pyramid/utils\n",
      "    copying pyramid/utils/array.py -> build/lib.linux-x86_64-3.8/pyramid/utils\n",
      "    copying pyramid/utils/metaestimators.py -> build/lib.linux-x86_64-3.8/pyramid/utils\n",
      "    copying pyramid/utils/wrapped.py -> build/lib.linux-x86_64-3.8/pyramid/utils\n",
      "    creating build/lib.linux-x86_64-3.8/pyramid/utils/tests\n",
      "    copying pyramid/utils/tests/test_vis.py -> build/lib.linux-x86_64-3.8/pyramid/utils/tests\n",
      "    copying pyramid/utils/tests/test_testing.py -> build/lib.linux-x86_64-3.8/pyramid/utils/tests\n",
      "    copying pyramid/utils/tests/test_meta.py -> build/lib.linux-x86_64-3.8/pyramid/utils/tests\n",
      "    copying pyramid/utils/tests/test_wrapped.py -> build/lib.linux-x86_64-3.8/pyramid/utils/tests\n",
      "    copying pyramid/utils/tests/__init__.py -> build/lib.linux-x86_64-3.8/pyramid/utils/tests\n",
      "    copying pyramid/utils/tests/test_array.py -> build/lib.linux-x86_64-3.8/pyramid/utils/tests\n",
      "    creating build/lib.linux-x86_64-3.8/pyramid/arima\n",
      "    copying pyramid/arima/auto.py -> build/lib.linux-x86_64-3.8/pyramid/arima\n",
      "    copying pyramid/arima/__init__.py -> build/lib.linux-x86_64-3.8/pyramid/arima\n",
      "    copying pyramid/arima/arima.py -> build/lib.linux-x86_64-3.8/pyramid/arima\n",
      "    copying pyramid/arima/seasonality.py -> build/lib.linux-x86_64-3.8/pyramid/arima\n",
      "    copying pyramid/arima/approx.py -> build/lib.linux-x86_64-3.8/pyramid/arima\n",
      "    copying pyramid/arima/stationarity.py -> build/lib.linux-x86_64-3.8/pyramid/arima\n",
      "    copying pyramid/arima/warnings.py -> build/lib.linux-x86_64-3.8/pyramid/arima\n",
      "    copying pyramid/arima/utils.py -> build/lib.linux-x86_64-3.8/pyramid/arima\n",
      "    copying pyramid/arima/setup.py -> build/lib.linux-x86_64-3.8/pyramid/arima\n",
      "    creating build/lib.linux-x86_64-3.8/pyramid/arima/tests\n",
      "    copying pyramid/arima/tests/test_approx.py -> build/lib.linux-x86_64-3.8/pyramid/arima/tests\n",
      "    copying pyramid/arima/tests/test_arima.py -> build/lib.linux-x86_64-3.8/pyramid/arima/tests\n",
      "    copying pyramid/arima/tests/test_c_arima.py -> build/lib.linux-x86_64-3.8/pyramid/arima/tests\n",
      "    copying pyramid/arima/tests/__init__.py -> build/lib.linux-x86_64-3.8/pyramid/arima/tests\n",
      "    copying pyramid/arima/tests/test_stationarity.py -> build/lib.linux-x86_64-3.8/pyramid/arima/tests\n",
      "    running build_ext\n",
      "    customize UnixCCompiler\n",
      "    C compiler: /home/rafael/Apps/anaconda3/bin/x86_64-conda_cos6-linux-gnu-cc -Wno-unused-result -Wsign-compare -DNDEBUG -fwrapv -O2 -Wall -Wstrict-prototypes -march=nocona -mtune=haswell -ftree-vectorize -fPIC -fstack-protector-strong -fno-plt -O2 -pipe -march=nocona -mtune=haswell -ftree-vectorize -fPIC -fstack-protector-strong -fno-plt -O2 -pipe -march=nocona -mtune=haswell -ftree-vectorize -fPIC -fstack-protector-strong -fno-plt -O2 -ffunction-sections -pipe -isystem /home/rafael/Apps/anaconda3/include -DNDEBUG -D_FORTIFY_SOURCE=2 -O2 -isystem /home/rafael/Apps/anaconda3/include -fPIC\n",
      "    \n",
      "    creating /tmp/tmpreanl3rp/tmp\n",
      "    creating /tmp/tmpreanl3rp/tmp/tmpreanl3rp\n",
      "    compile options: '-MMD -MF /tmp/tmpreanl3rp/file.c.d -c'\n",
      "    x86_64-conda_cos6-linux-gnu-cc: /tmp/tmpreanl3rp/file.c\n",
      "    customize UnixCCompiler using build_ext\n",
      "    building 'pyramid.__check_build._check_build' extension\n",
      "    compiling C sources\n",
      "    C compiler: /home/rafael/Apps/anaconda3/bin/x86_64-conda_cos6-linux-gnu-cc -Wno-unused-result -Wsign-compare -DNDEBUG -fwrapv -O2 -Wall -Wstrict-prototypes -march=nocona -mtune=haswell -ftree-vectorize -fPIC -fstack-protector-strong -fno-plt -O2 -pipe -march=nocona -mtune=haswell -ftree-vectorize -fPIC -fstack-protector-strong -fno-plt -O2 -pipe -march=nocona -mtune=haswell -ftree-vectorize -fPIC -fstack-protector-strong -fno-plt -O2 -ffunction-sections -pipe -isystem /home/rafael/Apps/anaconda3/include -DNDEBUG -D_FORTIFY_SOURCE=2 -O2 -isystem /home/rafael/Apps/anaconda3/include -fPIC\n",
      "    \n",
      "    creating build/temp.linux-x86_64-3.8/pyramid\n",
      "    creating build/temp.linux-x86_64-3.8/pyramid/__check_build\n",
      "    compile options: '-I/home/rafael/Apps/anaconda3/lib/python3.8/site-packages/numpy/core/include -I/home/rafael/Apps/anaconda3/lib/python3.8/site-packages/numpy/core/include -I/home/rafael/Apps/anaconda3/include/python3.8 -c'\n",
      "    x86_64-conda_cos6-linux-gnu-cc: pyramid/__check_build/_check_build.c\n",
      "    x86_64-conda_cos6-linux-gnu-gcc -pthread -shared -Wl,-O2 -Wl,--sort-common -Wl,--as-needed -Wl,-z,relro -Wl,-z,now -Wl,-rpath,/home/rafael/Apps/anaconda3/lib -L/home/rafael/Apps/anaconda3/lib -Wl,-O2 -Wl,--sort-common -Wl,--as-needed -Wl,-z,relro -Wl,-z,now -Wl,-rpath,/home/rafael/Apps/anaconda3/lib -L/home/rafael/Apps/anaconda3/lib -Wl,-O2 -Wl,--sort-common -Wl,--as-needed -Wl,-z,relro -Wl,-z,now -Wl,--disable-new-dtags -Wl,--gc-sections -Wl,-rpath,/home/rafael/Apps/anaconda3/lib -Wl,-rpath-link,/home/rafael/Apps/anaconda3/lib -L/home/rafael/Apps/anaconda3/lib -march=nocona -mtune=haswell -ftree-vectorize -fPIC -fstack-protector-strong -fno-plt -O2 -ffunction-sections -pipe -isystem /home/rafael/Apps/anaconda3/include -DNDEBUG -D_FORTIFY_SOURCE=2 -O2 -isystem /home/rafael/Apps/anaconda3/include build/temp.linux-x86_64-3.8/pyramid/__check_build/_check_build.o -o build/lib.linux-x86_64-3.8/pyramid/__check_build/_check_build.cpython-38-x86_64-linux-gnu.so\n",
      "    building 'pyramid.arima._arima' extension\n",
      "    compiling C sources\n",
      "    C compiler: /home/rafael/Apps/anaconda3/bin/x86_64-conda_cos6-linux-gnu-cc -Wno-unused-result -Wsign-compare -DNDEBUG -fwrapv -O2 -Wall -Wstrict-prototypes -march=nocona -mtune=haswell -ftree-vectorize -fPIC -fstack-protector-strong -fno-plt -O2 -pipe -march=nocona -mtune=haswell -ftree-vectorize -fPIC -fstack-protector-strong -fno-plt -O2 -pipe -march=nocona -mtune=haswell -ftree-vectorize -fPIC -fstack-protector-strong -fno-plt -O2 -ffunction-sections -pipe -isystem /home/rafael/Apps/anaconda3/include -DNDEBUG -D_FORTIFY_SOURCE=2 -O2 -isystem /home/rafael/Apps/anaconda3/include -fPIC\n",
      "    \n",
      "    creating build/temp.linux-x86_64-3.8/pyramid/arima\n",
      "    compile options: '-DSCIPY_MKL_H -DHAVE_CBLAS -I/home/rafael/Apps/anaconda3/lib/python3.8/site-packages/numpy/core/include -Ipyramid/arima/_arima_fast_helpers.h -I/home/rafael/Apps/anaconda3/include -I/home/rafael/Apps/anaconda3/lib/python3.8/site-packages/numpy/core/include -I/home/rafael/Apps/anaconda3/include/python3.8 -c'\n",
      "    x86_64-conda_cos6-linux-gnu-cc: pyramid/arima/_arima.c\n",
      "    cc1: warning: pyramid/arima/_arima_fast_helpers.h: not a directory\n",
      "    In file included from /home/rafael/Apps/anaconda3/lib/python3.8/site-packages/numpy/core/include/numpy/ndarraytypes.h:1832:0,\n",
      "                     from /home/rafael/Apps/anaconda3/lib/python3.8/site-packages/numpy/core/include/numpy/ndarrayobject.h:12,\n",
      "                     from /home/rafael/Apps/anaconda3/lib/python3.8/site-packages/numpy/core/include/numpy/arrayobject.h:4,\n",
      "                     from pyramid/arima/_arima.c:308:\n",
      "    /home/rafael/Apps/anaconda3/lib/python3.8/site-packages/numpy/core/include/numpy/npy_1_7_deprecated_api.h:17:2: warning: #warning \"Using deprecated NumPy API, disable it with \" \"#define NPY_NO_DEPRECATED_API NPY_1_7_API_VERSION\" [-Wcpp]\n",
      "     #warning \"Using deprecated NumPy API, disable it with \" \\\n",
      "      ^~~~~~~\n",
      "    pyramid/arima/_arima.c: In function 'PyInit__arima':\n",
      "    pyramid/arima/_arima.c:25487:3: warning: 'tp_print' is deprecated [-Wdeprecated-declarations]\n",
      "       __pyx_type___pyx_array.tp_print = 0;\n",
      "       ^~~~~~~~~~~~~~~~~~~~~~\n",
      "    In file included from /home/rafael/Apps/anaconda3/include/python3.8/object.h:746:0,\n",
      "                     from /home/rafael/Apps/anaconda3/include/python3.8/pytime.h:6,\n",
      "                     from /home/rafael/Apps/anaconda3/include/python3.8/Python.h:85,\n",
      "                     from pyramid/arima/_arima.c:38:\n",
      "    /home/rafael/Apps/anaconda3/include/python3.8/cpython/object.h:260:30: note: declared here\n",
      "         Py_DEPRECATED(3.8) int (*tp_print)(PyObject *, FILE *, int);\n",
      "                                  ^~~~~~~~\n",
      "    pyramid/arima/_arima.c:25491:3: warning: 'tp_print' is deprecated [-Wdeprecated-declarations]\n",
      "       __pyx_type___pyx_MemviewEnum.tp_print = 0;\n",
      "       ^~~~~~~~~~~~~~~~~~~~~~~~~~~~\n",
      "    In file included from /home/rafael/Apps/anaconda3/include/python3.8/object.h:746:0,\n",
      "                     from /home/rafael/Apps/anaconda3/include/python3.8/pytime.h:6,\n",
      "                     from /home/rafael/Apps/anaconda3/include/python3.8/Python.h:85,\n",
      "                     from pyramid/arima/_arima.c:38:\n",
      "    /home/rafael/Apps/anaconda3/include/python3.8/cpython/object.h:260:30: note: declared here\n",
      "         Py_DEPRECATED(3.8) int (*tp_print)(PyObject *, FILE *, int);\n",
      "                                  ^~~~~~~~\n",
      "    pyramid/arima/_arima.c:25502:3: warning: 'tp_print' is deprecated [-Wdeprecated-declarations]\n",
      "       __pyx_type___pyx_memoryview.tp_print = 0;\n",
      "       ^~~~~~~~~~~~~~~~~~~~~~~~~~~\n",
      "    In file included from /home/rafael/Apps/anaconda3/include/python3.8/object.h:746:0,\n",
      "                     from /home/rafael/Apps/anaconda3/include/python3.8/pytime.h:6,\n",
      "                     from /home/rafael/Apps/anaconda3/include/python3.8/Python.h:85,\n",
      "                     from pyramid/arima/_arima.c:38:\n",
      "    /home/rafael/Apps/anaconda3/include/python3.8/cpython/object.h:260:30: note: declared here\n",
      "         Py_DEPRECATED(3.8) int (*tp_print)(PyObject *, FILE *, int);\n",
      "                                  ^~~~~~~~\n",
      "    pyramid/arima/_arima.c:25511:3: warning: 'tp_print' is deprecated [-Wdeprecated-declarations]\n",
      "       __pyx_type___pyx_memoryviewslice.tp_print = 0;\n",
      "       ^~~~~~~~~~~~~~~~~~~~~~~~~~~~~~~~\n",
      "    In file included from /home/rafael/Apps/anaconda3/include/python3.8/object.h:746:0,\n",
      "                     from /home/rafael/Apps/anaconda3/include/python3.8/pytime.h:6,\n",
      "                     from /home/rafael/Apps/anaconda3/include/python3.8/Python.h:85,\n",
      "                     from pyramid/arima/_arima.c:38:\n",
      "    /home/rafael/Apps/anaconda3/include/python3.8/cpython/object.h:260:30: note: declared here\n",
      "         Py_DEPRECATED(3.8) int (*tp_print)(PyObject *, FILE *, int);\n",
      "                                  ^~~~~~~~\n",
      "    pyramid/arima/_arima.c: In function '__Pyx__ExceptionSave':\n",
      "    pyramid/arima/_arima.c:26129:21: error: 'PyThreadState {aka struct _ts}' has no member named 'exc_type'; did you mean 'curexc_type'?\n",
      "         *type = tstate->exc_type;\n",
      "                         ^~~~~~~~\n",
      "                         curexc_type\n",
      "    pyramid/arima/_arima.c:26130:22: error: 'PyThreadState {aka struct _ts}' has no member named 'exc_value'; did you mean 'curexc_value'?\n",
      "         *value = tstate->exc_value;\n",
      "                          ^~~~~~~~~\n",
      "                          curexc_value\n",
      "    pyramid/arima/_arima.c:26131:19: error: 'PyThreadState {aka struct _ts}' has no member named 'exc_traceback'; did you mean 'curexc_traceback'?\n",
      "         *tb = tstate->exc_traceback;\n",
      "                       ^~~~~~~~~~~~~\n",
      "                       curexc_traceback\n",
      "    pyramid/arima/_arima.c: In function '__Pyx__ExceptionReset':\n",
      "    pyramid/arima/_arima.c:26138:24: error: 'PyThreadState {aka struct _ts}' has no member named 'exc_type'; did you mean 'curexc_type'?\n",
      "         tmp_type = tstate->exc_type;\n",
      "                            ^~~~~~~~\n",
      "                            curexc_type\n",
      "    pyramid/arima/_arima.c:26139:25: error: 'PyThreadState {aka struct _ts}' has no member named 'exc_value'; did you mean 'curexc_value'?\n",
      "         tmp_value = tstate->exc_value;\n",
      "                             ^~~~~~~~~\n",
      "                             curexc_value\n",
      "    pyramid/arima/_arima.c:26140:22: error: 'PyThreadState {aka struct _ts}' has no member named 'exc_traceback'; did you mean 'curexc_traceback'?\n",
      "         tmp_tb = tstate->exc_traceback;\n",
      "                          ^~~~~~~~~~~~~\n",
      "                          curexc_traceback\n",
      "    pyramid/arima/_arima.c:26141:13: error: 'PyThreadState {aka struct _ts}' has no member named 'exc_type'; did you mean 'curexc_type'?\n",
      "         tstate->exc_type = type;\n",
      "                 ^~~~~~~~\n",
      "                 curexc_type\n",
      "    pyramid/arima/_arima.c:26142:13: error: 'PyThreadState {aka struct _ts}' has no member named 'exc_value'; did you mean 'curexc_value'?\n",
      "         tstate->exc_value = value;\n",
      "                 ^~~~~~~~~\n",
      "                 curexc_value\n",
      "    pyramid/arima/_arima.c:26143:13: error: 'PyThreadState {aka struct _ts}' has no member named 'exc_traceback'; did you mean 'curexc_traceback'?\n",
      "         tstate->exc_traceback = tb;\n",
      "                 ^~~~~~~~~~~~~\n",
      "                 curexc_traceback\n",
      "    pyramid/arima/_arima.c: In function '__Pyx__GetException':\n",
      "    pyramid/arima/_arima.c:26198:24: error: 'PyThreadState {aka struct _ts}' has no member named 'exc_type'; did you mean 'curexc_type'?\n",
      "         tmp_type = tstate->exc_type;\n",
      "                            ^~~~~~~~\n",
      "                            curexc_type\n",
      "    pyramid/arima/_arima.c:26199:25: error: 'PyThreadState {aka struct _ts}' has no member named 'exc_value'; did you mean 'curexc_value'?\n",
      "         tmp_value = tstate->exc_value;\n",
      "                             ^~~~~~~~~\n",
      "                             curexc_value\n",
      "    pyramid/arima/_arima.c:26200:22: error: 'PyThreadState {aka struct _ts}' has no member named 'exc_traceback'; did you mean 'curexc_traceback'?\n",
      "         tmp_tb = tstate->exc_traceback;\n",
      "                          ^~~~~~~~~~~~~\n",
      "                          curexc_traceback\n",
      "    pyramid/arima/_arima.c:26201:13: error: 'PyThreadState {aka struct _ts}' has no member named 'exc_type'; did you mean 'curexc_type'?\n",
      "         tstate->exc_type = local_type;\n",
      "                 ^~~~~~~~\n",
      "                 curexc_type\n",
      "    pyramid/arima/_arima.c:26202:13: error: 'PyThreadState {aka struct _ts}' has no member named 'exc_value'; did you mean 'curexc_value'?\n",
      "         tstate->exc_value = local_value;\n",
      "                 ^~~~~~~~~\n",
      "                 curexc_value\n",
      "    pyramid/arima/_arima.c:26203:13: error: 'PyThreadState {aka struct _ts}' has no member named 'exc_traceback'; did you mean 'curexc_traceback'?\n",
      "         tstate->exc_traceback = local_tb;\n",
      "                 ^~~~~~~~~~~~~\n",
      "                 curexc_traceback\n",
      "    pyramid/arima/_arima.c: In function '__Pyx__ExceptionSwap':\n",
      "    pyramid/arima/_arima.c:27811:24: error: 'PyThreadState {aka struct _ts}' has no member named 'exc_type'; did you mean 'curexc_type'?\n",
      "         tmp_type = tstate->exc_type;\n",
      "                            ^~~~~~~~\n",
      "                            curexc_type\n",
      "    pyramid/arima/_arima.c:27812:25: error: 'PyThreadState {aka struct _ts}' has no member named 'exc_value'; did you mean 'curexc_value'?\n",
      "         tmp_value = tstate->exc_value;\n",
      "                             ^~~~~~~~~\n",
      "                             curexc_value\n",
      "    pyramid/arima/_arima.c:27813:22: error: 'PyThreadState {aka struct _ts}' has no member named 'exc_traceback'; did you mean 'curexc_traceback'?\n",
      "         tmp_tb = tstate->exc_traceback;\n",
      "                          ^~~~~~~~~~~~~\n",
      "                          curexc_traceback\n",
      "    pyramid/arima/_arima.c:27814:13: error: 'PyThreadState {aka struct _ts}' has no member named 'exc_type'; did you mean 'curexc_type'?\n",
      "         tstate->exc_type = *type;\n",
      "                 ^~~~~~~~\n",
      "                 curexc_type\n",
      "    pyramid/arima/_arima.c:27815:13: error: 'PyThreadState {aka struct _ts}' has no member named 'exc_value'; did you mean 'curexc_value'?\n",
      "         tstate->exc_value = *value;\n",
      "                 ^~~~~~~~~\n",
      "                 curexc_value\n",
      "    pyramid/arima/_arima.c:27816:13: error: 'PyThreadState {aka struct _ts}' has no member named 'exc_traceback'; did you mean 'curexc_traceback'?\n",
      "         tstate->exc_traceback = *tb;\n",
      "                 ^~~~~~~~~~~~~\n",
      "                 curexc_traceback\n",
      "    error: Command \"/home/rafael/Apps/anaconda3/bin/x86_64-conda_cos6-linux-gnu-cc -Wno-unused-result -Wsign-compare -DNDEBUG -fwrapv -O2 -Wall -Wstrict-prototypes -march=nocona -mtune=haswell -ftree-vectorize -fPIC -fstack-protector-strong -fno-plt -O2 -pipe -march=nocona -mtune=haswell -ftree-vectorize -fPIC -fstack-protector-strong -fno-plt -O2 -pipe -march=nocona -mtune=haswell -ftree-vectorize -fPIC -fstack-protector-strong -fno-plt -O2 -ffunction-sections -pipe -isystem /home/rafael/Apps/anaconda3/include -DNDEBUG -D_FORTIFY_SOURCE=2 -O2 -isystem /home/rafael/Apps/anaconda3/include -fPIC -DSCIPY_MKL_H -DHAVE_CBLAS -I/home/rafael/Apps/anaconda3/lib/python3.8/site-packages/numpy/core/include -Ipyramid/arima/_arima_fast_helpers.h -I/home/rafael/Apps/anaconda3/include -I/home/rafael/Apps/anaconda3/lib/python3.8/site-packages/numpy/core/include -I/home/rafael/Apps/anaconda3/include/python3.8 -c pyramid/arima/_arima.c -o build/temp.linux-x86_64-3.8/pyramid/arima/_arima.o -MMD -MF build/temp.linux-x86_64-3.8/pyramid/arima/_arima.o.d\" failed with exit status 1\n",
      "    ----------------------------------------\u001b[0m\n",
      "\u001b[31mERROR: Command errored out with exit status 1: /home/rafael/Apps/anaconda3/bin/python -u -c 'import sys, setuptools, tokenize; sys.argv[0] = '\"'\"'/tmp/pip-install-x8bd9i34/pyramid-arima_8b15b4c440984d05a9e63b52d724db7f/setup.py'\"'\"'; __file__='\"'\"'/tmp/pip-install-x8bd9i34/pyramid-arima_8b15b4c440984d05a9e63b52d724db7f/setup.py'\"'\"';f=getattr(tokenize, '\"'\"'open'\"'\"', open)(__file__);code=f.read().replace('\"'\"'\\r\\n'\"'\"', '\"'\"'\\n'\"'\"');f.close();exec(compile(code, __file__, '\"'\"'exec'\"'\"'))' install --record /tmp/pip-record-th90_vdb/install-record.txt --single-version-externally-managed --compile --install-headers /home/rafael/Apps/anaconda3/include/python3.8/pyramid-arima Check the logs for full command output.\u001b[0m\n"
     ]
    },
    {
     "name": "stdout",
     "output_type": "stream",
     "text": [
      "\u001b[33mWARNING: You are using pip version 20.3.3; however, version 21.0.1 is available.\n",
      "You should consider upgrading via the '/home/rafael/Apps/anaconda3/bin/python -m pip install --upgrade pip' command.\u001b[0m\n",
      "\u001b[?25hRequirement already satisfied: pmdarima in /home/rafael/Apps/anaconda3/lib/python3.8/site-packages (1.8.0)\n",
      "Requirement already satisfied: Cython<0.29.18,>=0.29 in /home/rafael/Apps/anaconda3/lib/python3.8/site-packages (from pmdarima) (0.29.17)\n",
      "Requirement already satisfied: joblib>=0.11 in /home/rafael/Apps/anaconda3/lib/python3.8/site-packages (from pmdarima) (0.16.0)\n",
      "Requirement already satisfied: urllib3 in /home/rafael/Apps/anaconda3/lib/python3.8/site-packages (from pmdarima) (1.25.9)\n",
      "Requirement already satisfied: numpy>=1.17.3 in /home/rafael/Apps/anaconda3/lib/python3.8/site-packages (from pmdarima) (1.18.5)\n",
      "Requirement already satisfied: pandas>=0.19 in /home/rafael/Apps/anaconda3/lib/python3.8/site-packages (from pmdarima) (1.0.5)\n",
      "Requirement already satisfied: statsmodels!=0.12.0,>=0.11 in /home/rafael/Apps/anaconda3/lib/python3.8/site-packages (from pmdarima) (0.11.1)\n",
      "Requirement already satisfied: setuptools!=50.0.0,>=38.6.0 in /home/rafael/Apps/anaconda3/lib/python3.8/site-packages (from pmdarima) (49.2.0.post20200714)\n",
      "Requirement already satisfied: scipy>=1.3.2 in /home/rafael/Apps/anaconda3/lib/python3.8/site-packages (from pmdarima) (1.5.0)\n",
      "Requirement already satisfied: scikit-learn>=0.22 in /home/rafael/Apps/anaconda3/lib/python3.8/site-packages (from pmdarima) (0.23.1)\n",
      "Requirement already satisfied: python-dateutil>=2.6.1 in /home/rafael/Apps/anaconda3/lib/python3.8/site-packages (from pandas>=0.19->pmdarima) (2.8.1)\n",
      "Requirement already satisfied: pytz>=2017.2 in /home/rafael/Apps/anaconda3/lib/python3.8/site-packages (from pandas>=0.19->pmdarima) (2019.3)\n",
      "Requirement already satisfied: six>=1.5 in /home/rafael/Apps/anaconda3/lib/python3.8/site-packages (from python-dateutil>=2.6.1->pandas>=0.19->pmdarima) (1.15.0)\n",
      "Requirement already satisfied: threadpoolctl>=2.0.0 in /home/rafael/Apps/anaconda3/lib/python3.8/site-packages (from scikit-learn>=0.22->pmdarima) (2.1.0)\n",
      "Requirement already satisfied: patsy>=0.5 in /home/rafael/Apps/anaconda3/lib/python3.8/site-packages (from statsmodels!=0.12.0,>=0.11->pmdarima) (0.5.1)\n",
      "\u001b[33mWARNING: You are using pip version 20.3.3; however, version 21.0.1 is available.\n",
      "You should consider upgrading via the '/home/rafael/Apps/anaconda3/bin/python -m pip install --upgrade pip' command.\u001b[0m\n",
      "Requirement already satisfied: mysql-connector-python in /home/rafael/Apps/anaconda3/lib/python3.8/site-packages (8.0.23)\n",
      "Requirement already satisfied: protobuf>=3.0.0 in /home/rafael/Apps/anaconda3/lib/python3.8/site-packages (from mysql-connector-python) (3.15.5)\n",
      "Requirement already satisfied: six>=1.9 in /home/rafael/Apps/anaconda3/lib/python3.8/site-packages (from protobuf>=3.0.0->mysql-connector-python) (1.15.0)\n",
      "\u001b[33mWARNING: You are using pip version 20.3.3; however, version 21.0.1 is available.\n",
      "You should consider upgrading via the '/home/rafael/Apps/anaconda3/bin/python -m pip install --upgrade pip' command.\u001b[0m\n"
     ]
    }
   ],
   "source": [
    "#instalação de pacotes\n",
    "!pip3 install pyramid-arima\n",
    "!pip install pmdarima\n",
    "!pip install mysql-connector-python"
   ]
  },
  {
   "cell_type": "code",
   "execution_count": 2,
   "metadata": {
    "executionInfo": {
     "elapsed": 5882,
     "status": "ok",
     "timestamp": 1611535790285,
     "user": {
      "displayName": "Rafael de Miranda da Costa Leite",
      "photoUrl": "https://lh3.googleusercontent.com/a-/AOh14Gj-3rbInttHw_wvyiLPSmYAdgOUmDm2bFbC-AEvbw=s64",
      "userId": "02906791875441644303"
     },
     "user_tz": 180
    },
    "id": "MyI1os5XJlqv"
   },
   "outputs": [],
   "source": [
    "#from statsmodels.tsa.stattools import adfuller\n",
    "#from numpy import log\n",
    "#from statsmodels.graphics.tsaplots import plot_acf, plot_pacf\n"
   ]
  },
  {
   "cell_type": "markdown",
   "metadata": {
    "id": "oSiipM3hu9Qu"
   },
   "source": [
    "# Importa dados"
   ]
  },
  {
   "cell_type": "code",
   "execution_count": 5,
   "metadata": {},
   "outputs": [
    {
     "name": "stdout",
     "output_type": "stream",
     "text": [
      "MySQL connection is closed\n",
      "<class 'pandas.core.frame.DataFrame'>\n",
      "RangeIndex: 1311 entries, 0 to 1310\n",
      "Data columns (total 5 columns):\n",
      " #   Column  Non-Null Count  Dtype \n",
      "---  ------  --------------  ----- \n",
      " 0   0       1311 non-null   int64 \n",
      " 1   1       1311 non-null   int64 \n",
      " 2   2       1311 non-null   int64 \n",
      " 3   3       1311 non-null   int64 \n",
      " 4   4       1311 non-null   object\n",
      "dtypes: int64(4), object(1)\n",
      "memory usage: 51.3+ KB\n"
     ]
    }
   ],
   "source": [
    "\n",
    "import numpy as np\n",
    "import pandas as pd\n",
    "import mysql.connector\n",
    "\n",
    "#Conecta com bando MySQL\n",
    "try:\n",
    "    connection = mysql.connector.connect(host='localhost',\n",
    "                                         database='projeto',\n",
    "                                         user='root',\n",
    "                                         password='12345678')\n",
    "\n",
    "    sql_select_Query = \"select * from fato_venda\"\n",
    "    \n",
    "    cursor = connection.cursor()\n",
    "    cursor.execute(sql_select_Query)\n",
    "    \n",
    "    #carrega dados\n",
    "    records = cursor.fetchall()\n",
    "\n",
    "    data_sql = pd.DataFrame(records)\n",
    "\n",
    "except mysql.connector.Error as e:\n",
    "    print(\"Error reading data from MySQL table\", e)\n",
    "finally:\n",
    "    if connection.is_connected():\n",
    "        connection.close()\n",
    "        cursor.close()\n",
    "        print(\"MySQL connection is closed\")\n",
    "        \n",
    "data_sql.info()"
   ]
  },
  {
   "cell_type": "code",
   "execution_count": 3,
   "metadata": {
    "colab": {
     "base_uri": "https://localhost:8080/"
    },
    "executionInfo": {
     "elapsed": 5879,
     "status": "ok",
     "timestamp": 1611535790286,
     "user": {
      "displayName": "Rafael de Miranda da Costa Leite",
      "photoUrl": "https://lh3.googleusercontent.com/a-/AOh14Gj-3rbInttHw_wvyiLPSmYAdgOUmDm2bFbC-AEvbw=s64",
      "userId": "02906791875441644303"
     },
     "user_tz": 180
    },
    "id": "mVcBgvxHJ9E9",
    "outputId": "b6563d33-b99f-408e-a25f-36af411cecfe"
   },
   "outputs": [
    {
     "name": "stdout",
     "output_type": "stream",
     "text": [
      "<class 'pandas.core.frame.DataFrame'>\n",
      "RangeIndex: 3522 entries, 0 to 3521\n",
      "Data columns (total 3 columns):\n",
      " #   Column            Non-Null Count  Dtype \n",
      "---  ------            --------------  ----- \n",
      " 0   DS_DATA_SEM_HORA  3522 non-null   object\n",
      " 1   ISBN_PRODUTO      3522 non-null   int64 \n",
      " 2   QTD_VENDA         3522 non-null   int64 \n",
      "dtypes: int64(2), object(1)\n",
      "memory usage: 82.7+ KB\n"
     ]
    }
   ],
   "source": [
    "import numpy as np\n",
    "import pandas as pd\n",
    "\n",
    "#importa dados\n",
    "data = pd.read_excel(\"python-time-series-arima.xlsx\")\n",
    "\n",
    "data.info()"
   ]
  },
  {
   "cell_type": "markdown",
   "metadata": {
    "id": "oMRp_5Hpu6hO"
   },
   "source": [
    "Prepara dados"
   ]
  },
  {
   "cell_type": "code",
   "execution_count": 4,
   "metadata": {
    "executionInfo": {
     "elapsed": 6165,
     "status": "ok",
     "timestamp": 1611535790580,
     "user": {
      "displayName": "Rafael de Miranda da Costa Leite",
      "photoUrl": "https://lh3.googleusercontent.com/a-/AOh14Gj-3rbInttHw_wvyiLPSmYAdgOUmDm2bFbC-AEvbw=s64",
      "userId": "02906791875441644303"
     },
     "user_tz": 180
    },
    "id": "eXGYS3Oxu4J_"
   },
   "outputs": [],
   "source": [
    "#Filtra dados e remove colunas\n",
    "df1 = data\n",
    "df1['DS_DATA_SEM_HORA'] = pd.to_datetime(df1['DS_DATA_SEM_HORA'])\n",
    "df1 = df1.rename(columns={\"DS_DATA_SEM_HORA\": \"date\", \"QTD_VENDA\": \"value\"})\n",
    "\n",
    "cols = ['ISBN_PRODUTO']\n",
    "df1.drop(cols, axis=1, inplace=True)\n",
    "\n",
    "#transforma em time series\n",
    "df1 = df1.sort_values('date')\n",
    "df1 = df1.groupby('date')['value'].sum().reset_index()\n",
    "df1 = df1.set_index('date')\n",
    "df1 = df1['value'].resample('MS').sum()"
   ]
  },
  {
   "cell_type": "code",
   "execution_count": 5,
   "metadata": {
    "executionInfo": {
     "elapsed": 6161,
     "status": "ok",
     "timestamp": 1611535790580,
     "user": {
      "displayName": "Rafael de Miranda da Costa Leite",
      "photoUrl": "https://lh3.googleusercontent.com/a-/AOh14Gj-3rbInttHw_wvyiLPSmYAdgOUmDm2bFbC-AEvbw=s64",
      "userId": "02906791875441644303"
     },
     "user_tz": 180
    },
    "id": "YKvp5fbBVI0-"
   },
   "outputs": [],
   "source": [
    "#Separa dados\n",
    "train = df1.loc[:'2018-12-31']\n",
    "test = df1.loc['2019-01-01':]"
   ]
  },
  {
   "cell_type": "markdown",
   "metadata": {
    "id": "g18_JT40vAcC"
   },
   "source": [
    "# Analisa os dados"
   ]
  },
  {
   "cell_type": "code",
   "execution_count": 6,
   "metadata": {
    "colab": {
     "base_uri": "https://localhost:8080/",
     "height": 297
    },
    "executionInfo": {
     "elapsed": 7781,
     "status": "ok",
     "timestamp": 1611535792205,
     "user": {
      "displayName": "Rafael de Miranda da Costa Leite",
      "photoUrl": "https://lh3.googleusercontent.com/a-/AOh14Gj-3rbInttHw_wvyiLPSmYAdgOUmDm2bFbC-AEvbw=s64",
      "userId": "02906791875441644303"
     },
     "user_tz": 180
    },
    "id": "acpRaZR3Ie85",
    "outputId": "fc2a04c4-e0e1-4ed4-834c-4fc21e15eb08"
   },
   "outputs": [
    {
     "data": {
      "image/png": "[encoded data removed]",
      "text/plain": [
       "<Figure size 432x288 with 4 Axes>"
      ]
     },
     "metadata": {
      "needs_background": "light",
      "tags": []
     },
     "output_type": "display_data"
    }
   ],
   "source": [
    "from pylab import rcParams\n",
    "from statsmodels.tsa.seasonal import seasonal_decompose\n",
    "import statsmodels.api as sm\n",
    "import matplotlib.pyplot as plt\n",
    "\n",
    "a = seasonal_decompose(df1, model = \"add\")\n",
    "a.plot();"
   ]
  },
  {
   "cell_type": "code",
   "execution_count": 7,
   "metadata": {
    "colab": {
     "base_uri": "https://localhost:8080/",
     "height": 406
    },
    "executionInfo": {
     "elapsed": 7765,
     "status": "ok",
     "timestamp": 1611535792206,
     "user": {
      "displayName": "Rafael de Miranda da Costa Leite",
      "photoUrl": "https://lh3.googleusercontent.com/a-/AOh14Gj-3rbInttHw_wvyiLPSmYAdgOUmDm2bFbC-AEvbw=s64",
      "userId": "02906791875441644303"
     },
     "user_tz": 180
    },
    "id": "pnToCXWA-DBM",
    "outputId": "ccf7f152-755f-4d64-d126-e986aac771a7"
   },
   "outputs": [
    {
     "name": "stderr",
     "output_type": "stream",
     "text": [
      "/usr/local/lib/python3.6/dist-packages/seaborn/_decorators.py:43: FutureWarning: Pass the following variable as a keyword arg: x. From version 0.12, the only valid positional argument will be `data`, and passing other arguments without an explicit keyword will result in an error or misinterpretation.\n",
      "  FutureWarning\n"
     ]
    },
    {
     "data": {
      "text/plain": [
       "<matplotlib.axes._subplots.AxesSubplot at 0x7f0da82b5b38>"
      ]
     },
     "execution_count": 7,
     "metadata": {
      "tags": []
     },
     "output_type": "execute_result"
    },
    {
     "data": {
      "image/png": "[encoded data removed]",
      "text/plain": [
       "<Figure size 864x360 with 1 Axes>"
      ]
     },
     "metadata": {
      "needs_background": "light",
      "tags": []
     },
     "output_type": "display_data"
    }
   ],
   "source": [
    "#Boxplot\n",
    "import seaborn\n",
    "\n",
    "fig, ax = plt.subplots(figsize=(12,5))\n",
    "seaborn.boxplot(df1, ax=ax)"
   ]
  },
  {
   "cell_type": "code",
   "execution_count": 8,
   "metadata": {
    "colab": {
     "base_uri": "https://localhost:8080/",
     "height": 334
    },
    "executionInfo": {
     "elapsed": 8059,
     "status": "ok",
     "timestamp": 1611535792513,
     "user": {
      "displayName": "Rafael de Miranda da Costa Leite",
      "photoUrl": "https://lh3.googleusercontent.com/a-/AOh14Gj-3rbInttHw_wvyiLPSmYAdgOUmDm2bFbC-AEvbw=s64",
      "userId": "02906791875441644303"
     },
     "user_tz": 180
    },
    "id": "D7OJspOhAHfg",
    "outputId": "107ed0f6-d3bf-4050-ab93-b06dafaf394b"
   },
   "outputs": [
    {
     "name": "stderr",
     "output_type": "stream",
     "text": [
      "/usr/local/lib/python3.6/dist-packages/seaborn/distributions.py:2557: FutureWarning: `distplot` is a deprecated function and will be removed in a future version. Please adapt your code to use either `displot` (a figure-level function with similar flexibility) or `histplot` (an axes-level function for histograms).\n",
      "  warnings.warn(msg, FutureWarning)\n"
     ]
    },
    {
     "data": {
      "image/png": "[encoded data removed]",
      "text/plain": [
       "<Figure size 432x288 with 1 Axes>"
      ]
     },
     "metadata": {
      "needs_background": "light",
      "tags": []
     },
     "output_type": "display_data"
    }
   ],
   "source": [
    "#Histograma\n",
    "seaborn.distplot(df1, hist=True, kde=True, \n",
    "             bins=5, color = 'darkblue', \n",
    "             hist_kws={'edgecolor':'black'},\n",
    "             kde_kws={'linewidth': 3});"
   ]
  },
  {
   "cell_type": "code",
   "execution_count": 9,
   "metadata": {
    "colab": {
     "base_uri": "https://localhost:8080/",
     "height": 297
    },
    "executionInfo": {
     "elapsed": 8760,
     "status": "ok",
     "timestamp": 1611535793221,
     "user": {
      "displayName": "Rafael de Miranda da Costa Leite",
      "photoUrl": "https://lh3.googleusercontent.com/a-/AOh14Gj-3rbInttHw_wvyiLPSmYAdgOUmDm2bFbC-AEvbw=s64",
      "userId": "02906791875441644303"
     },
     "user_tz": 180
    },
    "id": "1l0N5nt2CWZk",
    "outputId": "2ea8e0e3-ce06-427b-8f24-63610d99c0f4"
   },
   "outputs": [
    {
     "data": {
      "image/png": "[encoded data removed]",
      "text/plain": [
       "<Figure size 432x288 with 4 Axes>"
      ]
     },
     "metadata": {
      "needs_background": "light",
      "tags": []
     },
     "output_type": "display_data"
    }
   ],
   "source": [
    "for i, binwidth in enumerate([5, 10, 15, 20]):\n",
    "    \n",
    "    # Set up the plot\n",
    "    ax = plt.subplot(2, 2, i + 1)\n",
    "    \n",
    "    # Draw the plot\n",
    "    ax.hist(df1, bins = binwidth, color = 'blue', edgecolor = 'black')\n",
    "    \n",
    "    # Title and labels\n",
    "    ax.set_title('Histogram with Binwidth = %d' % binwidth, size = 15)\n",
    "    ax.set_xlabel('Quantidade', size = 15)\n",
    "    ax.set_ylabel('Ocorrências', size= 15)\n",
    "\n",
    "plt.tight_layout()\n",
    "plt.show()"
   ]
  },
  {
   "cell_type": "markdown",
   "metadata": {
    "id": "5GUR1JwAGBrK"
   },
   "source": [
    "# Modelos"
   ]
  },
  {
   "cell_type": "markdown",
   "metadata": {
    "id": "a_TDvkyHvKY3"
   },
   "source": [
    "Modelo Auto ARIMA"
   ]
  },
  {
   "cell_type": "code",
   "execution_count": 10,
   "metadata": {
    "colab": {
     "base_uri": "https://localhost:8080/"
    },
    "executionInfo": {
     "elapsed": 19470,
     "status": "ok",
     "timestamp": 1611535803937,
     "user": {
      "displayName": "Rafael de Miranda da Costa Leite",
      "photoUrl": "https://lh3.googleusercontent.com/a-/AOh14Gj-3rbInttHw_wvyiLPSmYAdgOUmDm2bFbC-AEvbw=s64",
      "userId": "02906791875441644303"
     },
     "user_tz": 180
    },
    "id": "dCNRCC5zKeEj",
    "outputId": "a3e2195b-2849-4311-8eb7-2626f4097665"
   },
   "outputs": [
    {
     "data": {
      "text/plain": [
       "ARIMA(maxiter=50, method='lbfgs', order=(0, 0, 0), out_of_sample_size=0,\n",
       "      scoring='mse', scoring_args={}, seasonal_order=(1, 1, 0, 12),\n",
       "      start_params=None, suppress_warnings=True, trend=None,\n",
       "      with_intercept=True)"
      ]
     },
     "execution_count": 10,
     "metadata": {
      "tags": []
     },
     "output_type": "execute_result"
    }
   ],
   "source": [
    "import pmdarima as pm\n",
    "\n",
    "#Fit modelo auto-arima\n",
    "fitSArima = pm.auto_arima(df1, start_p=1, start_q=1,\n",
    "                         max_p=3, max_q=3, m=12,\n",
    "                         start_P=0, seasonal=True,\n",
    "                         d=None, D=1, trace=False,\n",
    "                         error_action='ignore',  \n",
    "                         suppress_warnings=True, \n",
    "                         stepwise=True)\n",
    "\n",
    "#test='adf',\n",
    "\n",
    "#fitSArima = pm.auto_arima(df1, seasonal=True, m=12,max_p=7, max_d=5,max_q=7, max_P=4, max_D=4,max_Q=4) \n",
    "\n",
    "fitSArima.fit(train)"
   ]
  },
  {
   "cell_type": "code",
   "execution_count": 11,
   "metadata": {
    "colab": {
     "base_uri": "https://localhost:8080/",
     "height": 420
    },
    "executionInfo": {
     "elapsed": 29797,
     "status": "ok",
     "timestamp": 1611535814270,
     "user": {
      "displayName": "Rafael de Miranda da Costa Leite",
      "photoUrl": "https://lh3.googleusercontent.com/a-/AOh14Gj-3rbInttHw_wvyiLPSmYAdgOUmDm2bFbC-AEvbw=s64",
      "userId": "02906791875441644303"
     },
     "user_tz": 180
    },
    "id": "9GtX92IFLx5h",
    "outputId": "9b953dff-a8bf-49e4-cd1e-9df06fa0026b"
   },
   "outputs": [
    {
     "data": {
      "text/html": [
       "<table class=\"simpletable\">\n",
       "<caption>SARIMAX Results</caption>\n",
       "<tr>\n",
       "  <th>Dep. Variable:</th>             <td>y</td>          <th>  No. Observations:  </th>    <td>60</td>   \n",
       "</tr>\n",
       "<tr>\n",
       "  <th>Model:</th>           <td>SARIMAX(1, 1, 0, 12)</td> <th>  Log Likelihood     </th> <td>-350.089</td>\n",
       "</tr>\n",
       "<tr>\n",
       "  <th>Date:</th>              <td>Mon, 25 Jan 2021</td>   <th>  AIC                </th>  <td>706.177</td>\n",
       "</tr>\n",
       "<tr>\n",
       "  <th>Time:</th>                  <td>00:50:13</td>       <th>  BIC                </th>  <td>711.791</td>\n",
       "</tr>\n",
       "<tr>\n",
       "  <th>Sample:</th>                    <td>0</td>          <th>  HQIC               </th>  <td>708.299</td>\n",
       "</tr>\n",
       "<tr>\n",
       "  <th></th>                         <td> - 60</td>        <th>                     </th>     <td> </td>   \n",
       "</tr>\n",
       "<tr>\n",
       "  <th>Covariance Type:</th>          <td>opg</td>         <th>                     </th>     <td> </td>   \n",
       "</tr>\n",
       "</table>\n",
       "<table class=\"simpletable\">\n",
       "<tr>\n",
       "      <td></td>         <th>coef</th>     <th>std err</th>      <th>z</th>      <th>P>|z|</th>  <th>[0.025</th>    <th>0.975]</th>  \n",
       "</tr>\n",
       "<tr>\n",
       "  <th>intercept</th> <td>  -92.6416</td> <td>   58.553</td> <td>   -1.582</td> <td> 0.114</td> <td> -207.404</td> <td>   22.121</td>\n",
       "</tr>\n",
       "<tr>\n",
       "  <th>ar.S.L12</th>  <td>   -0.6316</td> <td>    0.114</td> <td>   -5.517</td> <td> 0.000</td> <td>   -0.856</td> <td>   -0.407</td>\n",
       "</tr>\n",
       "<tr>\n",
       "  <th>sigma2</th>    <td> 1.159e+05</td> <td> 2.46e+04</td> <td>    4.722</td> <td> 0.000</td> <td> 6.78e+04</td> <td> 1.64e+05</td>\n",
       "</tr>\n",
       "</table>\n",
       "<table class=\"simpletable\">\n",
       "<tr>\n",
       "  <th>Ljung-Box (L1) (Q):</th>     <td>0.59</td> <th>  Jarque-Bera (JB):  </th> <td>0.53</td>\n",
       "</tr>\n",
       "<tr>\n",
       "  <th>Prob(Q):</th>                <td>0.44</td> <th>  Prob(JB):          </th> <td>0.77</td>\n",
       "</tr>\n",
       "<tr>\n",
       "  <th>Heteroskedasticity (H):</th> <td>1.38</td> <th>  Skew:              </th> <td>0.24</td>\n",
       "</tr>\n",
       "<tr>\n",
       "  <th>Prob(H) (two-sided):</th>    <td>0.53</td> <th>  Kurtosis:          </th> <td>3.17</td>\n",
       "</tr>\n",
       "</table><br/><br/>Warnings:<br/>[1] Covariance matrix calculated using the outer product of gradients (complex-step)."
      ],
      "text/plain": [
       "<class 'statsmodels.iolib.summary.Summary'>\n",
       "\"\"\"\n",
       "                                SARIMAX Results                                 \n",
       "================================================================================\n",
       "Dep. Variable:                        y   No. Observations:                   60\n",
       "Model:             SARIMAX(1, 1, 0, 12)   Log Likelihood                -350.089\n",
       "Date:                  Mon, 25 Jan 2021   AIC                            706.177\n",
       "Time:                          00:50:13   BIC                            711.791\n",
       "Sample:                               0   HQIC                           708.299\n",
       "                                   - 60                                         \n",
       "Covariance Type:                    opg                                         \n",
       "==============================================================================\n",
       "                 coef    std err          z      P>|z|      [0.025      0.975]\n",
       "------------------------------------------------------------------------------\n",
       "intercept    -92.6416     58.553     -1.582      0.114    -207.404      22.121\n",
       "ar.S.L12      -0.6316      0.114     -5.517      0.000      -0.856      -0.407\n",
       "sigma2      1.159e+05   2.46e+04      4.722      0.000    6.78e+04    1.64e+05\n",
       "===================================================================================\n",
       "Ljung-Box (L1) (Q):                   0.59   Jarque-Bera (JB):                 0.53\n",
       "Prob(Q):                              0.44   Prob(JB):                         0.77\n",
       "Heteroskedasticity (H):               1.38   Skew:                             0.24\n",
       "Prob(H) (two-sided):                  0.53   Kurtosis:                         3.17\n",
       "===================================================================================\n",
       "\n",
       "Warnings:\n",
       "[1] Covariance matrix calculated using the outer product of gradients (complex-step).\n",
       "\"\"\""
      ]
     },
     "execution_count": 11,
     "metadata": {
      "tags": []
     },
     "output_type": "execute_result"
    }
   ],
   "source": [
    "#Teste 1\n",
    "pm.auto_arima(df1, start_p=1, start_q=1,max_p=3, max_q=3, m=12,start_P=0, seasonal=True,\n",
    "              d=None, D=1, trace=False,error_action='ignore',suppress_warnings=True,stepwise=True).summary()"
   ]
  },
  {
   "cell_type": "code",
   "execution_count": 12,
   "metadata": {
    "executionInfo": {
     "elapsed": 29792,
     "status": "ok",
     "timestamp": 1611535814272,
     "user": {
      "displayName": "Rafael de Miranda da Costa Leite",
      "photoUrl": "https://lh3.googleusercontent.com/a-/AOh14Gj-3rbInttHw_wvyiLPSmYAdgOUmDm2bFbC-AEvbw=s64",
      "userId": "02906791875441644303"
     },
     "user_tz": 180
    },
    "id": "PTvwdvT8JpdQ"
   },
   "outputs": [],
   "source": [
    "#Teste 2\n",
    "#pm.auto_arima(df1, seasonal=True, m=12,max_p=7, max_d=5,max_q=7, max_P=4, max_D=4,max_Q=4).summary()"
   ]
  },
  {
   "cell_type": "code",
   "execution_count": 13,
   "metadata": {
    "executionInfo": {
     "elapsed": 29788,
     "status": "ok",
     "timestamp": 1611535814273,
     "user": {
      "displayName": "Rafael de Miranda da Costa Leite",
      "photoUrl": "https://lh3.googleusercontent.com/a-/AOh14Gj-3rbInttHw_wvyiLPSmYAdgOUmDm2bFbC-AEvbw=s64",
      "userId": "02906791875441644303"
     },
     "user_tz": 180
    },
    "id": "PuQuqdKxK7-B"
   },
   "outputs": [],
   "source": [
    "#Forecast auto-arima\n",
    "n_periods = 12\n",
    "predSArima, confint = fitSArima.predict(n_periods=n_periods, return_conf_int=True)\n",
    "\n",
    "#Cria dataseries\n",
    "predSArima = pd.DataFrame(predSArima,index = test.index,columns=['SARIMA'])"
   ]
  },
  {
   "cell_type": "markdown",
   "metadata": {
    "id": "nDrBRDknvHIE"
   },
   "source": [
    "Modelo Prophet"
   ]
  },
  {
   "cell_type": "code",
   "execution_count": 14,
   "metadata": {
    "executionInfo": {
     "elapsed": 29787,
     "status": "ok",
     "timestamp": 1611535814275,
     "user": {
      "displayName": "Rafael de Miranda da Costa Leite",
      "photoUrl": "https://lh3.googleusercontent.com/a-/AOh14Gj-3rbInttHw_wvyiLPSmYAdgOUmDm2bFbC-AEvbw=s64",
      "userId": "02906791875441644303"
     },
     "user_tz": 180
    },
    "id": "dGvVEzGevP5Z"
   },
   "outputs": [],
   "source": [
    "#Dados Prophet\n",
    "df2 = data\n",
    "\n",
    "df2['DS_DATA_SEM_HORA'] = pd.to_datetime(df2['DS_DATA_SEM_HORA'])\n",
    "\n",
    "df2['ds'] = df2['DS_DATA_SEM_HORA'].values.astype('datetime64[M]')\n",
    "\n",
    "df2.drop(['DS_DATA_SEM_HORA','ISBN_PRODUTO'], axis=1, inplace=True)\n",
    "\n",
    "df2 = data.rename(columns={\"QTD_VENDA\":\"y\"})\n",
    "\n",
    "df2 = df2.groupby(['ds']).sum()\n",
    "\n",
    "df2 = df2.reset_index()"
   ]
  },
  {
   "cell_type": "code",
   "execution_count": 15,
   "metadata": {
    "colab": {
     "base_uri": "https://localhost:8080/"
    },
    "executionInfo": {
     "elapsed": 31541,
     "status": "ok",
     "timestamp": 1611535816033,
     "user": {
      "displayName": "Rafael de Miranda da Costa Leite",
      "photoUrl": "https://lh3.googleusercontent.com/a-/AOh14Gj-3rbInttHw_wvyiLPSmYAdgOUmDm2bFbC-AEvbw=s64",
      "userId": "02906791875441644303"
     },
     "user_tz": 180
    },
    "id": "_UMZHBeRe_3j",
    "outputId": "16cf1b89-b159-45a2-b409-31b283cac166"
   },
   "outputs": [
    {
     "name": "stderr",
     "output_type": "stream",
     "text": [
      "INFO:fbprophet:Disabling weekly seasonality. Run prophet with weekly_seasonality=True to override this.\n",
      "INFO:fbprophet:Disabling daily seasonality. Run prophet with daily_seasonality=True to override this.\n"
     ]
    },
    {
     "data": {
      "text/plain": [
       "<fbprophet.forecaster.Prophet at 0x7f0dcb4746d8>"
      ]
     },
     "execution_count": 15,
     "metadata": {
      "tags": []
     },
     "output_type": "execute_result"
    }
   ],
   "source": [
    "from fbprophet import Prophet\n",
    "\n",
    "#Fit modelo Prophet\n",
    "fitProphet = Prophet()\n",
    "\n",
    "fitProphet.fit(df2)"
   ]
  },
  {
   "cell_type": "code",
   "execution_count": 16,
   "metadata": {
    "executionInfo": {
     "elapsed": 33453,
     "status": "ok",
     "timestamp": 1611535817950,
     "user": {
      "displayName": "Rafael de Miranda da Costa Leite",
      "photoUrl": "https://lh3.googleusercontent.com/a-/AOh14Gj-3rbInttHw_wvyiLPSmYAdgOUmDm2bFbC-AEvbw=s64",
      "userId": "02906791875441644303"
     },
     "user_tz": 180
    },
    "id": "jrER-SJ4mUmc"
   },
   "outputs": [],
   "source": [
    "#Forecast Prophet\n",
    "future = fitProphet.make_future_dataframe(periods=12, freq='MS')\n",
    "\n",
    "predProphet = fitProphet.predict(future)\n",
    "\n",
    "predProphet1 = predProphet[['ds','yhat']]\n",
    "\n",
    "predProphet1 = predProphet1.set_index('ds')\n",
    "predProphet1 = predProphet1.rename(columns={\"yhat\": \"PROPHET\"})\n",
    "\n",
    "predProphet1 = predProphet1['2019':'2019']"
   ]
  },
  {
   "cell_type": "markdown",
   "metadata": {
    "id": "vaBJwAnqyBLP"
   },
   "source": [
    "Modelo LSTM"
   ]
  },
  {
   "cell_type": "code",
   "execution_count": 17,
   "metadata": {
    "executionInfo": {
     "elapsed": 33451,
     "status": "ok",
     "timestamp": 1611535817952,
     "user": {
      "displayName": "Rafael de Miranda da Costa Leite",
      "photoUrl": "https://lh3.googleusercontent.com/a-/AOh14Gj-3rbInttHw_wvyiLPSmYAdgOUmDm2bFbC-AEvbw=s64",
      "userId": "02906791875441644303"
     },
     "user_tz": 180
    },
    "id": "LUnxkOhx0U7Y"
   },
   "outputs": [],
   "source": [
    "#Dados LSTM\n",
    "\n",
    "#importa dados\n",
    "data = pd.read_excel(\"python-time-series-arima.xlsx\")\n",
    "\n",
    "df3 = data\n",
    "\n",
    "df3['DS_DATA_SEM_HORA'] = pd.to_datetime(df3['DS_DATA_SEM_HORA'])\n",
    "\n",
    "df3['Mes'] = df3['DS_DATA_SEM_HORA'].values.astype('datetime64[M]')\n",
    "\n",
    "df3.drop(['DS_DATA_SEM_HORA','ISBN_PRODUTO'], axis=1, inplace=True)\n",
    "\n",
    "df3 = data.rename(columns={\"QTD_VENDA\":\"Venda\"})\n",
    "\n",
    "df3 = df3.groupby(['Mes']).sum()\n",
    "\n",
    "df3 = df3.reset_index()\n",
    "\n",
    "df3 = df3.set_index(\"Mes\")\n",
    "\n",
    "df3.index.freq = 'MS'\n",
    "\n",
    "train_data = df3[:len(df3)-12]\n",
    "test_data = df3[len(df3)-12:]"
   ]
  },
  {
   "cell_type": "code",
   "execution_count": 18,
   "metadata": {
    "executionInfo": {
     "elapsed": 33449,
     "status": "ok",
     "timestamp": 1611535817953,
     "user": {
      "displayName": "Rafael de Miranda da Costa Leite",
      "photoUrl": "https://lh3.googleusercontent.com/a-/AOh14Gj-3rbInttHw_wvyiLPSmYAdgOUmDm2bFbC-AEvbw=s64",
      "userId": "02906791875441644303"
     },
     "user_tz": 180
    },
    "id": "J4Na9k9lNYbY"
   },
   "outputs": [],
   "source": [
    "from sklearn.preprocessing import MinMaxScaler\n",
    "scaler = MinMaxScaler()"
   ]
  },
  {
   "cell_type": "code",
   "execution_count": 19,
   "metadata": {
    "executionInfo": {
     "elapsed": 33447,
     "status": "ok",
     "timestamp": 1611535817954,
     "user": {
      "displayName": "Rafael de Miranda da Costa Leite",
      "photoUrl": "https://lh3.googleusercontent.com/a-/AOh14Gj-3rbInttHw_wvyiLPSmYAdgOUmDm2bFbC-AEvbw=s64",
      "userId": "02906791875441644303"
     },
     "user_tz": 180
    },
    "id": "-QYaskWVNYbY"
   },
   "outputs": [],
   "source": [
    "scaler.fit(train_data)\n",
    "scaled_train_data = scaler.transform(train_data)\n",
    "scaled_test_data = scaler.transform(test_data)"
   ]
  },
  {
   "cell_type": "code",
   "execution_count": 20,
   "metadata": {
    "executionInfo": {
     "elapsed": 35272,
     "status": "ok",
     "timestamp": 1611535819784,
     "user": {
      "displayName": "Rafael de Miranda da Costa Leite",
      "photoUrl": "https://lh3.googleusercontent.com/a-/AOh14Gj-3rbInttHw_wvyiLPSmYAdgOUmDm2bFbC-AEvbw=s64",
      "userId": "02906791875441644303"
     },
     "user_tz": 180
    },
    "id": "fcObEiVKNYbY"
   },
   "outputs": [],
   "source": [
    "from keras.preprocessing.sequence import TimeseriesGenerator\n",
    "\n",
    "n_input = 12\n",
    "n_features= 1\n",
    "generator = TimeseriesGenerator(scaled_train_data, scaled_train_data, length=n_input, batch_size=1)"
   ]
  },
  {
   "cell_type": "code",
   "execution_count": 21,
   "metadata": {
    "colab": {
     "base_uri": "https://localhost:8080/"
    },
    "executionInfo": {
     "elapsed": 35269,
     "status": "ok",
     "timestamp": 1611535819785,
     "user": {
      "displayName": "Rafael de Miranda da Costa Leite",
      "photoUrl": "https://lh3.googleusercontent.com/a-/AOh14Gj-3rbInttHw_wvyiLPSmYAdgOUmDm2bFbC-AEvbw=s64",
      "userId": "02906791875441644303"
     },
     "user_tz": 180
    },
    "id": "niryx9RJNYbZ",
    "outputId": "de76434f-4746-49d2-876d-41ea23e18348"
   },
   "outputs": [
    {
     "name": "stdout",
     "output_type": "stream",
     "text": [
      "Model: \"sequential\"\n",
      "_________________________________________________________________\n",
      "Layer (type)                 Output Shape              Param #   \n",
      "=================================================================\n",
      "lstm (LSTM)                  (None, 200)               161600    \n",
      "_________________________________________________________________\n",
      "dense (Dense)                (None, 1)                 201       \n",
      "=================================================================\n",
      "Total params: 161,801\n",
      "Trainable params: 161,801\n",
      "Non-trainable params: 0\n",
      "_________________________________________________________________\n"
     ]
    }
   ],
   "source": [
    "from keras.models import Sequential\n",
    "from keras.layers import Dense\n",
    "from keras.layers import LSTM\n",
    "\n",
    "lstm_model = Sequential()\n",
    "lstm_model.add(LSTM(200, activation='relu', input_shape=(n_input, n_features)))\n",
    "lstm_model.add(Dense(1))\n",
    "lstm_model.compile(optimizer='adam', loss='mse')\n",
    "\n",
    "lstm_model.summary()"
   ]
  },
  {
   "cell_type": "code",
   "execution_count": 22,
   "metadata": {
    "colab": {
     "base_uri": "https://localhost:8080/"
    },
    "executionInfo": {
     "elapsed": 56336,
     "status": "ok",
     "timestamp": 1611535840857,
     "user": {
      "displayName": "Rafael de Miranda da Costa Leite",
      "photoUrl": "https://lh3.googleusercontent.com/a-/AOh14Gj-3rbInttHw_wvyiLPSmYAdgOUmDm2bFbC-AEvbw=s64",
      "userId": "02906791875441644303"
     },
     "user_tz": 180
    },
    "id": "KQ0aNvA-NYbZ",
    "outputId": "cd5ad4b6-c2ab-412f-ed94-5fd144afc139"
   },
   "outputs": [
    {
     "name": "stdout",
     "output_type": "stream",
     "text": [
      "Epoch 1/50\n"
     ]
    },
    {
     "name": "stderr",
     "output_type": "stream",
     "text": [
      "/usr/local/lib/python3.6/dist-packages/tensorflow/python/keras/engine/training.py:1844: UserWarning:\n",
      "\n",
      "`Model.fit_generator` is deprecated and will be removed in a future version. Please use `Model.fit`, which supports generators.\n",
      "\n"
     ]
    },
    {
     "name": "stdout",
     "output_type": "stream",
     "text": [
      "36/36 [==============================] - 2s 10ms/step - loss: 0.1155\n",
      "Epoch 2/50\n",
      "36/36 [==============================] - 0s 9ms/step - loss: 0.0479\n",
      "Epoch 3/50\n",
      "36/36 [==============================] - 0s 10ms/step - loss: 0.0578\n",
      "Epoch 4/50\n",
      "36/36 [==============================] - 0s 10ms/step - loss: 0.0735\n",
      "Epoch 5/50\n",
      "36/36 [==============================] - 0s 10ms/step - loss: 0.0539\n",
      "Epoch 6/50\n",
      "36/36 [==============================] - 0s 9ms/step - loss: 0.0576\n",
      "Epoch 7/50\n",
      "36/36 [==============================] - 0s 10ms/step - loss: 0.0342\n",
      "Epoch 8/50\n",
      "36/36 [==============================] - 0s 10ms/step - loss: 0.0737\n",
      "Epoch 9/50\n",
      "36/36 [==============================] - 0s 10ms/step - loss: 0.0454\n",
      "Epoch 10/50\n",
      "36/36 [==============================] - 0s 10ms/step - loss: 0.0517\n",
      "Epoch 11/50\n",
      "36/36 [==============================] - 0s 10ms/step - loss: 0.0502\n",
      "Epoch 12/50\n",
      "36/36 [==============================] - 0s 11ms/step - loss: 0.0504\n",
      "Epoch 13/50\n",
      "36/36 [==============================] - 0s 10ms/step - loss: 0.0396\n",
      "Epoch 14/50\n",
      "36/36 [==============================] - 0s 10ms/step - loss: 0.0447\n",
      "Epoch 15/50\n",
      "36/36 [==============================] - 0s 10ms/step - loss: 0.0456\n",
      "Epoch 16/50\n",
      "36/36 [==============================] - 0s 11ms/step - loss: 0.0465\n",
      "Epoch 17/50\n",
      "36/36 [==============================] - 0s 9ms/step - loss: 0.0456\n",
      "Epoch 18/50\n",
      "36/36 [==============================] - 0s 10ms/step - loss: 0.0513\n",
      "Epoch 19/50\n",
      "36/36 [==============================] - 0s 10ms/step - loss: 0.0590\n",
      "Epoch 20/50\n",
      "36/36 [==============================] - 0s 10ms/step - loss: 0.0494\n",
      "Epoch 21/50\n",
      "36/36 [==============================] - 0s 10ms/step - loss: 0.0435\n",
      "Epoch 22/50\n",
      "36/36 [==============================] - 0s 10ms/step - loss: 0.0439\n",
      "Epoch 23/50\n",
      "36/36 [==============================] - 0s 11ms/step - loss: 0.0507\n",
      "Epoch 24/50\n",
      "36/36 [==============================] - 0s 11ms/step - loss: 0.0429\n",
      "Epoch 25/50\n",
      "36/36 [==============================] - 0s 10ms/step - loss: 0.0611\n",
      "Epoch 26/50\n",
      "36/36 [==============================] - 0s 10ms/step - loss: 0.0372\n",
      "Epoch 27/50\n",
      "36/36 [==============================] - 0s 10ms/step - loss: 0.0526\n",
      "Epoch 28/50\n",
      "36/36 [==============================] - 0s 9ms/step - loss: 0.0340\n",
      "Epoch 29/50\n",
      "36/36 [==============================] - 0s 11ms/step - loss: 0.0437\n",
      "Epoch 30/50\n",
      "36/36 [==============================] - 0s 10ms/step - loss: 0.0323\n",
      "Epoch 31/50\n",
      "36/36 [==============================] - 0s 10ms/step - loss: 0.0454\n",
      "Epoch 32/50\n",
      "36/36 [==============================] - 0s 10ms/step - loss: 0.0401\n",
      "Epoch 33/50\n",
      "36/36 [==============================] - 0s 10ms/step - loss: 0.0422\n",
      "Epoch 34/50\n",
      "36/36 [==============================] - 0s 10ms/step - loss: 0.0404\n",
      "Epoch 35/50\n",
      "36/36 [==============================] - 0s 10ms/step - loss: 0.0335\n",
      "Epoch 36/50\n",
      "36/36 [==============================] - 0s 10ms/step - loss: 0.0345\n",
      "Epoch 37/50\n",
      "36/36 [==============================] - 0s 9ms/step - loss: 0.0426\n",
      "Epoch 38/50\n",
      "36/36 [==============================] - 0s 9ms/step - loss: 0.0573\n",
      "Epoch 39/50\n",
      "36/36 [==============================] - 0s 11ms/step - loss: 0.0356\n",
      "Epoch 40/50\n",
      "36/36 [==============================] - 0s 10ms/step - loss: 0.0284\n",
      "Epoch 41/50\n",
      "36/36 [==============================] - 0s 10ms/step - loss: 0.0585\n",
      "Epoch 42/50\n",
      "36/36 [==============================] - 0s 10ms/step - loss: 0.0472\n",
      "Epoch 43/50\n",
      "36/36 [==============================] - 0s 10ms/step - loss: 0.0379\n",
      "Epoch 44/50\n",
      "36/36 [==============================] - 0s 10ms/step - loss: 0.0304\n",
      "Epoch 45/50\n",
      "36/36 [==============================] - 0s 10ms/step - loss: 0.0292\n",
      "Epoch 46/50\n",
      "36/36 [==============================] - 0s 10ms/step - loss: 0.0257\n",
      "Epoch 47/50\n",
      "36/36 [==============================] - 0s 11ms/step - loss: 0.0384\n",
      "Epoch 48/50\n",
      "36/36 [==============================] - 0s 10ms/step - loss: 0.0257\n",
      "Epoch 49/50\n",
      "36/36 [==============================] - 0s 10ms/step - loss: 0.0328\n",
      "Epoch 50/50\n",
      "36/36 [==============================] - 0s 10ms/step - loss: 0.0337\n"
     ]
    },
    {
     "data": {
      "text/plain": [
       "<tensorflow.python.keras.callbacks.History at 0x7f0d6847ac18>"
      ]
     },
     "execution_count": 22,
     "metadata": {
      "tags": []
     },
     "output_type": "execute_result"
    }
   ],
   "source": [
    "nepochs=50\n",
    "lstm_model.fit_generator(generator,epochs=nepochs)"
   ]
  },
  {
   "cell_type": "code",
   "execution_count": 23,
   "metadata": {
    "colab": {
     "base_uri": "https://localhost:8080/",
     "height": 497
    },
    "executionInfo": {
     "elapsed": 56733,
     "status": "ok",
     "timestamp": 1611535841260,
     "user": {
      "displayName": "Rafael de Miranda da Costa Leite",
      "photoUrl": "https://lh3.googleusercontent.com/a-/AOh14Gj-3rbInttHw_wvyiLPSmYAdgOUmDm2bFbC-AEvbw=s64",
      "userId": "02906791875441644303"
     },
     "user_tz": 180
    },
    "id": "Cz-smqKKNYbZ",
    "outputId": "7541ac13-7652-40bf-b103-12294e5a956a"
   },
   "outputs": [
    {
     "data": {
      "image/png": "[encoded data removed]",
      "text/plain": [
       "<Figure size 864x576 with 1 Axes>"
      ]
     },
     "metadata": {
      "needs_background": "light",
      "tags": []
     },
     "output_type": "display_data"
    }
   ],
   "source": [
    "losses_lstm = lstm_model.history.history['loss']\n",
    "plt.figure(figsize=(12,8))\n",
    "plt.xlabel(\"Epochs\")\n",
    "plt.ylabel(\"Loss\")\n",
    "plt.xticks(np.arange(0,nepochs,1))\n",
    "plt.plot(range(len(losses_lstm)),losses_lstm);"
   ]
  },
  {
   "cell_type": "code",
   "execution_count": 24,
   "metadata": {
    "executionInfo": {
     "elapsed": 57438,
     "status": "ok",
     "timestamp": 1611535841971,
     "user": {
      "displayName": "Rafael de Miranda da Costa Leite",
      "photoUrl": "https://lh3.googleusercontent.com/a-/AOh14Gj-3rbInttHw_wvyiLPSmYAdgOUmDm2bFbC-AEvbw=s64",
      "userId": "02906791875441644303"
     },
     "user_tz": 180
    },
    "id": "0NIISLnmNYbZ"
   },
   "outputs": [],
   "source": [
    "lstm_predictions_scaled = list()\n",
    "\n",
    "batch = scaled_train_data[-n_input:]\n",
    "current_batch = batch.reshape((1, n_input, n_features))\n",
    "\n",
    "for i in range(len(test_data)):   \n",
    "    lstm_pred = lstm_model.predict(current_batch)[0]\n",
    "    lstm_predictions_scaled.append(lstm_pred) \n",
    "    current_batch = np.append(current_batch[:,1:,:],[[lstm_pred]],axis=1)"
   ]
  },
  {
   "cell_type": "code",
   "execution_count": 25,
   "metadata": {
    "executionInfo": {
     "elapsed": 57436,
     "status": "ok",
     "timestamp": 1611535841972,
     "user": {
      "displayName": "Rafael de Miranda da Costa Leite",
      "photoUrl": "https://lh3.googleusercontent.com/a-/AOh14Gj-3rbInttHw_wvyiLPSmYAdgOUmDm2bFbC-AEvbw=s64",
      "userId": "02906791875441644303"
     },
     "user_tz": 180
    },
    "id": "CPXHVASvNYba"
   },
   "outputs": [],
   "source": [
    "lstm_predictions = scaler.inverse_transform(lstm_predictions_scaled)"
   ]
  },
  {
   "cell_type": "code",
   "execution_count": 26,
   "metadata": {
    "colab": {
     "base_uri": "https://localhost:8080/"
    },
    "executionInfo": {
     "elapsed": 57433,
     "status": "ok",
     "timestamp": 1611535841973,
     "user": {
      "displayName": "Rafael de Miranda da Costa Leite",
      "photoUrl": "https://lh3.googleusercontent.com/a-/AOh14Gj-3rbInttHw_wvyiLPSmYAdgOUmDm2bFbC-AEvbw=s64",
      "userId": "02906791875441644303"
     },
     "user_tz": 180
    },
    "id": "V1eDYoYcNYba",
    "outputId": "0d3fa310-27e4-40b4-b863-defe6c27f9be"
   },
   "outputs": [
    {
     "name": "stderr",
     "output_type": "stream",
     "text": [
      "/usr/local/lib/python3.6/dist-packages/ipykernel_launcher.py:1: SettingWithCopyWarning:\n",
      "\n",
      "\n",
      "A value is trying to be set on a copy of a slice from a DataFrame.\n",
      "Try using .loc[row_indexer,col_indexer] = value instead\n",
      "\n",
      "See the caveats in the documentation: https://pandas.pydata.org/pandas-docs/stable/user_guide/indexing.html#returning-a-view-versus-a-copy\n",
      "\n"
     ]
    }
   ],
   "source": [
    "test_data['LSTM'] = lstm_predictions"
   ]
  },
  {
   "cell_type": "markdown",
   "metadata": {
    "id": "KBMF7e_3Fu_t"
   },
   "source": [
    "# Avaliação do Forecast"
   ]
  },
  {
   "cell_type": "code",
   "execution_count": 27,
   "metadata": {
    "executionInfo": {
     "elapsed": 57428,
     "status": "ok",
     "timestamp": 1611535841974,
     "user": {
      "displayName": "Rafael de Miranda da Costa Leite",
      "photoUrl": "https://lh3.googleusercontent.com/a-/AOh14Gj-3rbInttHw_wvyiLPSmYAdgOUmDm2bFbC-AEvbw=s64",
      "userId": "02906791875441644303"
     },
     "user_tz": 180
    },
    "id": "TcrxWhwEOjO_"
   },
   "outputs": [],
   "source": [
    "#Concatena predições\n",
    "forecast = pd.concat([test,predSArima,predProphet1],axis=1)\n",
    "forecast['LSTM'] = lstm_predictions"
   ]
  },
  {
   "cell_type": "code",
   "execution_count": 28,
   "metadata": {
    "colab": {
     "base_uri": "https://localhost:8080/",
     "height": 417
    },
    "executionInfo": {
     "elapsed": 57424,
     "status": "ok",
     "timestamp": 1611535841974,
     "user": {
      "displayName": "Rafael de Miranda da Costa Leite",
      "photoUrl": "https://lh3.googleusercontent.com/a-/AOh14Gj-3rbInttHw_wvyiLPSmYAdgOUmDm2bFbC-AEvbw=s64",
      "userId": "02906791875441644303"
     },
     "user_tz": 180
    },
    "id": "UrG_xT_K9W00",
    "outputId": "aeb32e9f-201d-485f-a83d-897bc18233f9"
   },
   "outputs": [
    {
     "data": {
      "text/html": [
       "<div>\n",
       "<style scoped>\n",
       "    .dataframe tbody tr th:only-of-type {\n",
       "        vertical-align: middle;\n",
       "    }\n",
       "\n",
       "    .dataframe tbody tr th {\n",
       "        vertical-align: top;\n",
       "    }\n",
       "\n",
       "    .dataframe thead th {\n",
       "        text-align: right;\n",
       "    }\n",
       "</style>\n",
       "<table border=\"1\" class=\"dataframe\">\n",
       "  <thead>\n",
       "    <tr style=\"text-align: right;\">\n",
       "      <th></th>\n",
       "      <th>value</th>\n",
       "      <th>SARIMA</th>\n",
       "      <th>PROPHET</th>\n",
       "      <th>LSTM</th>\n",
       "    </tr>\n",
       "  </thead>\n",
       "  <tbody>\n",
       "    <tr>\n",
       "      <th>2019-01-01</th>\n",
       "      <td>739</td>\n",
       "      <td>84.349294</td>\n",
       "      <td>285.926413</td>\n",
       "      <td>280.788285</td>\n",
       "    </tr>\n",
       "    <tr>\n",
       "      <th>2019-02-01</th>\n",
       "      <td>387</td>\n",
       "      <td>343.332195</td>\n",
       "      <td>359.181222</td>\n",
       "      <td>417.048066</td>\n",
       "    </tr>\n",
       "    <tr>\n",
       "      <th>2019-03-01</th>\n",
       "      <td>589</td>\n",
       "      <td>928.598003</td>\n",
       "      <td>663.919202</td>\n",
       "      <td>607.610301</td>\n",
       "    </tr>\n",
       "    <tr>\n",
       "      <th>2019-04-01</th>\n",
       "      <td>341</td>\n",
       "      <td>160.035132</td>\n",
       "      <td>238.075210</td>\n",
       "      <td>421.662107</td>\n",
       "    </tr>\n",
       "    <tr>\n",
       "      <th>2019-05-01</th>\n",
       "      <td>166</td>\n",
       "      <td>503.979006</td>\n",
       "      <td>231.036632</td>\n",
       "      <td>436.911685</td>\n",
       "    </tr>\n",
       "    <tr>\n",
       "      <th>2019-06-01</th>\n",
       "      <td>1309</td>\n",
       "      <td>446.809573</td>\n",
       "      <td>703.431904</td>\n",
       "      <td>521.885115</td>\n",
       "    </tr>\n",
       "    <tr>\n",
       "      <th>2019-07-01</th>\n",
       "      <td>1085</td>\n",
       "      <td>737.201623</td>\n",
       "      <td>699.290478</td>\n",
       "      <td>710.989426</td>\n",
       "    </tr>\n",
       "    <tr>\n",
       "      <th>2019-08-01</th>\n",
       "      <td>224</td>\n",
       "      <td>437.587289</td>\n",
       "      <td>286.120694</td>\n",
       "      <td>504.183601</td>\n",
       "    </tr>\n",
       "    <tr>\n",
       "      <th>2019-09-01</th>\n",
       "      <td>485</td>\n",
       "      <td>316.114408</td>\n",
       "      <td>804.875573</td>\n",
       "      <td>385.657593</td>\n",
       "    </tr>\n",
       "    <tr>\n",
       "      <th>2019-10-01</th>\n",
       "      <td>304</td>\n",
       "      <td>289.797137</td>\n",
       "      <td>275.651965</td>\n",
       "      <td>403.122814</td>\n",
       "    </tr>\n",
       "    <tr>\n",
       "      <th>2019-11-01</th>\n",
       "      <td>144</td>\n",
       "      <td>225.173643</td>\n",
       "      <td>196.091916</td>\n",
       "      <td>714.299020</td>\n",
       "    </tr>\n",
       "    <tr>\n",
       "      <th>2019-12-01</th>\n",
       "      <td>320</td>\n",
       "      <td>1074.268464</td>\n",
       "      <td>877.625470</td>\n",
       "      <td>761.438405</td>\n",
       "    </tr>\n",
       "  </tbody>\n",
       "</table>\n",
       "</div>"
      ],
      "text/plain": [
       "            value       SARIMA     PROPHET        LSTM\n",
       "2019-01-01    739    84.349294  285.926413  280.788285\n",
       "2019-02-01    387   343.332195  359.181222  417.048066\n",
       "2019-03-01    589   928.598003  663.919202  607.610301\n",
       "2019-04-01    341   160.035132  238.075210  421.662107\n",
       "2019-05-01    166   503.979006  231.036632  436.911685\n",
       "2019-06-01   1309   446.809573  703.431904  521.885115\n",
       "2019-07-01   1085   737.201623  699.290478  710.989426\n",
       "2019-08-01    224   437.587289  286.120694  504.183601\n",
       "2019-09-01    485   316.114408  804.875573  385.657593\n",
       "2019-10-01    304   289.797137  275.651965  403.122814\n",
       "2019-11-01    144   225.173643  196.091916  714.299020\n",
       "2019-12-01    320  1074.268464  877.625470  761.438405"
      ]
     },
     "execution_count": 28,
     "metadata": {
      "tags": []
     },
     "output_type": "execute_result"
    }
   ],
   "source": [
    "forecast"
   ]
  },
  {
   "cell_type": "code",
   "execution_count": 29,
   "metadata": {
    "colab": {
     "base_uri": "https://localhost:8080/",
     "height": 295
    },
    "executionInfo": {
     "elapsed": 57833,
     "status": "ok",
     "timestamp": 1611535842389,
     "user": {
      "displayName": "Rafael de Miranda da Costa Leite",
      "photoUrl": "https://lh3.googleusercontent.com/a-/AOh14Gj-3rbInttHw_wvyiLPSmYAdgOUmDm2bFbC-AEvbw=s64",
      "userId": "02906791875441644303"
     },
     "user_tz": 180
    },
    "id": "44QVVxDg8Sb9",
    "outputId": "b7b93fc6-306c-4ac2-b937-458ceaa1a764"
   },
   "outputs": [
    {
     "data": {
      "text/plain": [
       "<matplotlib.axes._subplots.AxesSubplot at 0x7f0d65174908>"
      ]
     },
     "execution_count": 29,
     "metadata": {
      "tags": []
     },
     "output_type": "execute_result"
    },
    {
     "data": {
      "image/png": "[encoded data removed]",
      "text/plain": [
       "<Figure size 432x288 with 1 Axes>"
      ]
     },
     "metadata": {
      "needs_background": "light",
      "tags": []
     },
     "output_type": "display_data"
    }
   ],
   "source": [
    "forecast.plot()"
   ]
  },
  {
   "cell_type": "code",
   "execution_count": 30,
   "metadata": {
    "executionInfo": {
     "elapsed": 57827,
     "status": "ok",
     "timestamp": 1611535842390,
     "user": {
      "displayName": "Rafael de Miranda da Costa Leite",
      "photoUrl": "https://lh3.googleusercontent.com/a-/AOh14Gj-3rbInttHw_wvyiLPSmYAdgOUmDm2bFbC-AEvbw=s64",
      "userId": "02906791875441644303"
     },
     "user_tz": 180
    },
    "id": "zkxt16tucUgw"
   },
   "outputs": [],
   "source": [
    "forecast['Ac_venda'] = test.cumsum()\n",
    "forecast['Ac_SArima'] = forecast['SARIMA'].cumsum()\n",
    "forecast['Ac_PROPHET'] = forecast['PROPHET'].cumsum()\n",
    "forecast['Ac_LSTM'] = forecast['LSTM'].cumsum()"
   ]
  },
  {
   "cell_type": "code",
   "execution_count": 31,
   "metadata": {
    "colab": {
     "base_uri": "https://localhost:8080/",
     "height": 295
    },
    "executionInfo": {
     "elapsed": 58419,
     "status": "ok",
     "timestamp": 1611535842986,
     "user": {
      "displayName": "Rafael de Miranda da Costa Leite",
      "photoUrl": "https://lh3.googleusercontent.com/a-/AOh14Gj-3rbInttHw_wvyiLPSmYAdgOUmDm2bFbC-AEvbw=s64",
      "userId": "02906791875441644303"
     },
     "user_tz": 180
    },
    "id": "ZFquRXwPc_iy",
    "outputId": "8317d480-ef89-4d7c-f312-6d1c3e320afc"
   },
   "outputs": [
    {
     "data": {
      "text/plain": [
       "<matplotlib.axes._subplots.AxesSubplot at 0x7f0d651c9b70>"
      ]
     },
     "execution_count": 31,
     "metadata": {
      "tags": []
     },
     "output_type": "execute_result"
    },
    {
     "data": {
      "image/png": "[encoded data removed]",
      "text/plain": [
       "<Figure size 432x288 with 1 Axes>"
      ]
     },
     "metadata": {
      "needs_background": "light",
      "tags": []
     },
     "output_type": "display_data"
    }
   ],
   "source": [
    "forecast.plot()"
   ]
  },
  {
   "cell_type": "code",
   "execution_count": 36,
   "metadata": {
    "colab": {
     "base_uri": "https://localhost:8080/",
     "height": 283
    },
    "executionInfo": {
     "elapsed": 891,
     "status": "ok",
     "timestamp": 1611535951136,
     "user": {
      "displayName": "Rafael de Miranda da Costa Leite",
      "photoUrl": "https://lh3.googleusercontent.com/a-/AOh14Gj-3rbInttHw_wvyiLPSmYAdgOUmDm2bFbC-AEvbw=s64",
      "userId": "02906791875441644303"
     },
     "user_tz": 180
    },
    "id": "RqS-lTajZ2c6",
    "outputId": "d83808df-b9ea-4e6b-bb27-7bbe1e68baf2"
   },
   "outputs": [
    {
     "data": {
      "text/plain": [
       "<matplotlib.axes._subplots.AxesSubplot at 0x7f0d64149128>"
      ]
     },
     "execution_count": 36,
     "metadata": {
      "tags": []
     },
     "output_type": "execute_result"
    },
    {
     "data": {
      "image/png": "[encoded data removed]",
      "text/plain": [
       "<Figure size 432x288 with 1 Axes>"
      ]
     },
     "metadata": {
      "needs_background": "light",
      "tags": []
     },
     "output_type": "display_data"
    }
   ],
   "source": [
    "#Visão geral\n",
    "pd.concat([train,predSArima,predProphet1],axis=1).plot()"
   ]
  },
  {
   "cell_type": "markdown",
   "metadata": {
    "id": "1BJPrB9YFYQD"
   },
   "source": [
    "Exporta Dados"
   ]
  },
  {
   "cell_type": "code",
   "execution_count": 37,
   "metadata": {
    "executionInfo": {
     "elapsed": 659,
     "status": "ok",
     "timestamp": 1611535965081,
     "user": {
      "displayName": "Rafael de Miranda da Costa Leite",
      "photoUrl": "https://lh3.googleusercontent.com/a-/AOh14Gj-3rbInttHw_wvyiLPSmYAdgOUmDm2bFbC-AEvbw=s64",
      "userId": "02906791875441644303"
     },
     "user_tz": 180
    },
    "id": "B0Q614FobDzK"
   },
   "outputs": [],
   "source": [
    "forecast.to_excel ('forecast.xlsx', index = True, header=True, sheet_name = 'Dados')"
   ]
  },
  {
   "cell_type": "code",
   "execution_count": 34,
   "metadata": {
    "executionInfo": {
     "elapsed": 58734,
     "status": "ok",
     "timestamp": 1611535843318,
     "user": {
      "displayName": "Rafael de Miranda da Costa Leite",
      "photoUrl": "https://lh3.googleusercontent.com/a-/AOh14Gj-3rbInttHw_wvyiLPSmYAdgOUmDm2bFbC-AEvbw=s64",
      "userId": "02906791875441644303"
     },
     "user_tz": 180
    },
    "id": "nY3RBscfz2Fd"
   },
   "outputs": [],
   "source": []
  }
 ],
 "metadata": {
  "colab": {
   "authorship_tag": "ABX9TyPyUqI1rQJt6rqtTenTltJQ",
   "collapsed_sections": [],
   "name": "python-time-series-modelos.ipynb",
   "provenance": []
  },
  "kernelspec": {
   "display_name": "Python 3",
   "language": "python",
   "name": "python3"
  },
  "language_info": {
   "codemirror_mode": {
    "name": "ipython",
    "version": 3
   },
   "file_extension": ".py",
   "mimetype": "text/x-python",
   "name": "python",
   "nbconvert_exporter": "python",
   "pygments_lexer": "ipython3",
   "version": "3.8.3"
  }
 },
 "nbformat": 4,
 "nbformat_minor": 1
}
