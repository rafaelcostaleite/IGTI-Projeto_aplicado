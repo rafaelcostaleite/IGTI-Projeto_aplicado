{
 "cells": [
  {
   "cell_type": "code",
   "execution_count": 1,
   "metadata": {
    "colab": {
     "base_uri": "https://localhost:8080/"
    },
    "executionInfo": {
     "elapsed": 5889,
     "status": "ok",
     "timestamp": 1611535790283,
     "user": {
      "displayName": "Rafael de Miranda da Costa Leite",
      "photoUrl": "https://lh3.googleusercontent.com/a-/AOh14Gj-3rbInttHw_wvyiLPSmYAdgOUmDm2bFbC-AEvbw=s64",
      "userId": "02906791875441644303"
     },
     "user_tz": 180
    },
    "id": "UuLK8aBwJgzT",
    "outputId": "f61d5bc7-82fb-45f7-9c7c-539039a08957"
   },
   "outputs": [
    {
     "name": "stdout",
     "output_type": "stream",
     "text": [
      "Requirement already satisfied: pmdarima in /home/rafael/Apps/anaconda3/lib/python3.8/site-packages (1.8.0)\n",
      "Requirement already satisfied: urllib3 in /home/rafael/Apps/anaconda3/lib/python3.8/site-packages (from pmdarima) (1.25.9)\n",
      "Requirement already satisfied: setuptools!=50.0.0,>=38.6.0 in /home/rafael/Apps/anaconda3/lib/python3.8/site-packages (from pmdarima) (49.2.0.post20200714)\n",
      "Requirement already satisfied: pandas>=0.19 in /home/rafael/Apps/anaconda3/lib/python3.8/site-packages (from pmdarima) (1.0.5)\n",
      "Requirement already satisfied: joblib>=0.11 in /home/rafael/Apps/anaconda3/lib/python3.8/site-packages (from pmdarima) (0.16.0)\n",
      "Requirement already satisfied: Cython<0.29.18,>=0.29 in /home/rafael/Apps/anaconda3/lib/python3.8/site-packages (from pmdarima) (0.29.17)\n",
      "Requirement already satisfied: scikit-learn>=0.22 in /home/rafael/Apps/anaconda3/lib/python3.8/site-packages (from pmdarima) (0.23.1)\n",
      "Requirement already satisfied: statsmodels!=0.12.0,>=0.11 in /home/rafael/Apps/anaconda3/lib/python3.8/site-packages (from pmdarima) (0.11.1)\n",
      "Requirement already satisfied: numpy>=1.17.3 in /home/rafael/Apps/anaconda3/lib/python3.8/site-packages (from pmdarima) (1.19.5)\n",
      "Requirement already satisfied: scipy>=1.3.2 in /home/rafael/Apps/anaconda3/lib/python3.8/site-packages (from pmdarima) (1.5.0)\n",
      "Requirement already satisfied: pytz>=2017.2 in /home/rafael/Apps/anaconda3/lib/python3.8/site-packages (from pandas>=0.19->pmdarima) (2019.3)\n",
      "Requirement already satisfied: python-dateutil>=2.6.1 in /home/rafael/Apps/anaconda3/lib/python3.8/site-packages (from pandas>=0.19->pmdarima) (2.8.1)\n",
      "Requirement already satisfied: six>=1.5 in /home/rafael/Apps/anaconda3/lib/python3.8/site-packages (from python-dateutil>=2.6.1->pandas>=0.19->pmdarima) (1.15.0)\n",
      "Requirement already satisfied: threadpoolctl>=2.0.0 in /home/rafael/Apps/anaconda3/lib/python3.8/site-packages (from scikit-learn>=0.22->pmdarima) (2.1.0)\n",
      "Requirement already satisfied: patsy>=0.5 in /home/rafael/Apps/anaconda3/lib/python3.8/site-packages (from statsmodels!=0.12.0,>=0.11->pmdarima) (0.5.1)\n",
      "Requirement already satisfied: mysql-connector-python in /home/rafael/Apps/anaconda3/lib/python3.8/site-packages (8.0.23)\n",
      "Requirement already satisfied: protobuf>=3.0.0 in /home/rafael/Apps/anaconda3/lib/python3.8/site-packages (from mysql-connector-python) (3.15.5)\n",
      "Requirement already satisfied: six>=1.9 in /home/rafael/Apps/anaconda3/lib/python3.8/site-packages (from protobuf>=3.0.0->mysql-connector-python) (1.15.0)\n",
      "Requirement already satisfied: keras in /home/rafael/Apps/anaconda3/lib/python3.8/site-packages (2.4.3)\n",
      "Requirement already satisfied: numpy>=1.9.1 in /home/rafael/Apps/anaconda3/lib/python3.8/site-packages (from keras) (1.19.5)\n",
      "Requirement already satisfied: h5py in /home/rafael/Apps/anaconda3/lib/python3.8/site-packages (from keras) (2.10.0)\n",
      "Requirement already satisfied: pyyaml in /home/rafael/Apps/anaconda3/lib/python3.8/site-packages (from keras) (5.3.1)\n",
      "Requirement already satisfied: scipy>=0.14 in /home/rafael/Apps/anaconda3/lib/python3.8/site-packages (from keras) (1.5.0)\n",
      "Requirement already satisfied: six in /home/rafael/Apps/anaconda3/lib/python3.8/site-packages (from h5py->keras) (1.15.0)\n",
      "Requirement already satisfied: tensorflow in /home/rafael/Apps/anaconda3/lib/python3.8/site-packages (2.4.1)\n",
      "Requirement already satisfied: tensorboard~=2.4 in /home/rafael/Apps/anaconda3/lib/python3.8/site-packages (from tensorflow) (2.4.1)\n",
      "Requirement already satisfied: gast==0.3.3 in /home/rafael/Apps/anaconda3/lib/python3.8/site-packages (from tensorflow) (0.3.3)\n",
      "Requirement already satisfied: tensorflow-estimator<2.5.0,>=2.4.0 in /home/rafael/Apps/anaconda3/lib/python3.8/site-packages (from tensorflow) (2.4.0)\n",
      "Requirement already satisfied: opt-einsum~=3.3.0 in /home/rafael/Apps/anaconda3/lib/python3.8/site-packages (from tensorflow) (3.3.0)\n",
      "Requirement already satisfied: wheel~=0.35 in /home/rafael/Apps/anaconda3/lib/python3.8/site-packages (from tensorflow) (0.36.2)\n",
      "Requirement already satisfied: grpcio~=1.32.0 in /home/rafael/Apps/anaconda3/lib/python3.8/site-packages (from tensorflow) (1.32.0)\n",
      "Requirement already satisfied: typing-extensions~=3.7.4 in /home/rafael/Apps/anaconda3/lib/python3.8/site-packages (from tensorflow) (3.7.4.2)\n",
      "Requirement already satisfied: six~=1.15.0 in /home/rafael/Apps/anaconda3/lib/python3.8/site-packages (from tensorflow) (1.15.0)\n",
      "Requirement already satisfied: google-pasta~=0.2 in /home/rafael/Apps/anaconda3/lib/python3.8/site-packages (from tensorflow) (0.2.0)\n",
      "Requirement already satisfied: numpy~=1.19.2 in /home/rafael/Apps/anaconda3/lib/python3.8/site-packages (from tensorflow) (1.19.5)\n",
      "Requirement already satisfied: termcolor~=1.1.0 in /home/rafael/Apps/anaconda3/lib/python3.8/site-packages (from tensorflow) (1.1.0)\n",
      "Requirement already satisfied: absl-py~=0.10 in /home/rafael/Apps/anaconda3/lib/python3.8/site-packages (from tensorflow) (0.12.0)\n",
      "Requirement already satisfied: flatbuffers~=1.12.0 in /home/rafael/Apps/anaconda3/lib/python3.8/site-packages (from tensorflow) (1.12)\n",
      "Requirement already satisfied: wrapt~=1.12.1 in /home/rafael/Apps/anaconda3/lib/python3.8/site-packages (from tensorflow) (1.12.1)\n",
      "Requirement already satisfied: protobuf>=3.9.2 in /home/rafael/Apps/anaconda3/lib/python3.8/site-packages (from tensorflow) (3.15.5)\n",
      "Requirement already satisfied: keras-preprocessing~=1.1.2 in /home/rafael/Apps/anaconda3/lib/python3.8/site-packages (from tensorflow) (1.1.2)\n",
      "Requirement already satisfied: h5py~=2.10.0 in /home/rafael/Apps/anaconda3/lib/python3.8/site-packages (from tensorflow) (2.10.0)\n",
      "Requirement already satisfied: astunparse~=1.6.3 in /home/rafael/Apps/anaconda3/lib/python3.8/site-packages (from tensorflow) (1.6.3)\n",
      "Requirement already satisfied: google-auth-oauthlib<0.5,>=0.4.1 in /home/rafael/Apps/anaconda3/lib/python3.8/site-packages (from tensorboard~=2.4->tensorflow) (0.4.4)\n",
      "Requirement already satisfied: requests<3,>=2.21.0 in /home/rafael/Apps/anaconda3/lib/python3.8/site-packages (from tensorboard~=2.4->tensorflow) (2.24.0)\n",
      "Requirement already satisfied: tensorboard-plugin-wit>=1.6.0 in /home/rafael/Apps/anaconda3/lib/python3.8/site-packages (from tensorboard~=2.4->tensorflow) (1.8.0)\n",
      "Requirement already satisfied: werkzeug>=0.11.15 in /home/rafael/Apps/anaconda3/lib/python3.8/site-packages (from tensorboard~=2.4->tensorflow) (1.0.1)\n",
      "Requirement already satisfied: markdown>=2.6.8 in /home/rafael/Apps/anaconda3/lib/python3.8/site-packages (from tensorboard~=2.4->tensorflow) (3.3.4)\n",
      "Requirement already satisfied: google-auth<2,>=1.6.3 in /home/rafael/Apps/anaconda3/lib/python3.8/site-packages (from tensorboard~=2.4->tensorflow) (1.28.0)\n",
      "Requirement already satisfied: setuptools>=41.0.0 in /home/rafael/Apps/anaconda3/lib/python3.8/site-packages (from tensorboard~=2.4->tensorflow) (49.2.0.post20200714)\n",
      "Requirement already satisfied: pyasn1-modules>=0.2.1 in /home/rafael/Apps/anaconda3/lib/python3.8/site-packages (from google-auth<2,>=1.6.3->tensorboard~=2.4->tensorflow) (0.2.8)\n",
      "Requirement already satisfied: rsa<5,>=3.1.4 in /home/rafael/Apps/anaconda3/lib/python3.8/site-packages (from google-auth<2,>=1.6.3->tensorboard~=2.4->tensorflow) (4.7.2)\n",
      "Requirement already satisfied: cachetools<5.0,>=2.0.0 in /home/rafael/Apps/anaconda3/lib/python3.8/site-packages (from google-auth<2,>=1.6.3->tensorboard~=2.4->tensorflow) (4.2.1)\n",
      "Requirement already satisfied: requests-oauthlib>=0.7.0 in /home/rafael/Apps/anaconda3/lib/python3.8/site-packages (from google-auth-oauthlib<0.5,>=0.4.1->tensorboard~=2.4->tensorflow) (1.3.0)\n",
      "Requirement already satisfied: pyasn1<0.5.0,>=0.4.6 in /home/rafael/Apps/anaconda3/lib/python3.8/site-packages (from pyasn1-modules>=0.2.1->google-auth<2,>=1.6.3->tensorboard~=2.4->tensorflow) (0.4.8)\n",
      "Requirement already satisfied: certifi>=2017.4.17 in /home/rafael/Apps/anaconda3/lib/python3.8/site-packages (from requests<3,>=2.21.0->tensorboard~=2.4->tensorflow) (2020.6.20)\n",
      "Requirement already satisfied: chardet<4,>=3.0.2 in /home/rafael/Apps/anaconda3/lib/python3.8/site-packages (from requests<3,>=2.21.0->tensorboard~=2.4->tensorflow) (3.0.4)\n",
      "Requirement already satisfied: idna<3,>=2.5 in /home/rafael/Apps/anaconda3/lib/python3.8/site-packages (from requests<3,>=2.21.0->tensorboard~=2.4->tensorflow) (2.10)\n",
      "Requirement already satisfied: urllib3!=1.25.0,!=1.25.1,<1.26,>=1.21.1 in /home/rafael/Apps/anaconda3/lib/python3.8/site-packages (from requests<3,>=2.21.0->tensorboard~=2.4->tensorflow) (1.25.9)\n",
      "Requirement already satisfied: oauthlib>=3.0.0 in /home/rafael/Apps/anaconda3/lib/python3.8/site-packages (from requests-oauthlib>=0.7.0->google-auth-oauthlib<0.5,>=0.4.1->tensorboard~=2.4->tensorflow) (3.1.0)\n"
     ]
    }
   ],
   "source": [
    "#instalação de pacotes\n",
    "#!pip3 install pyramid-arima\n",
    "!pip install pmdarima\n",
    "!pip install mysql-connector-python\n",
    "!pip install keras\n",
    "!pip install tensorflow"
   ]
  },
  {
   "cell_type": "code",
   "execution_count": 2,
   "metadata": {
    "executionInfo": {
     "elapsed": 5882,
     "status": "ok",
     "timestamp": 1611535790285,
     "user": {
      "displayName": "Rafael de Miranda da Costa Leite",
      "photoUrl": "https://lh3.googleusercontent.com/a-/AOh14Gj-3rbInttHw_wvyiLPSmYAdgOUmDm2bFbC-AEvbw=s64",
      "userId": "02906791875441644303"
     },
     "user_tz": 180
    },
    "id": "MyI1os5XJlqv"
   },
   "outputs": [],
   "source": [
    "#from statsmodels.tsa.stattools import adfuller\n",
    "#from numpy import log\n",
    "#from statsmodels.graphics.tsaplots import plot_acf, plot_pacf\n"
   ]
  },
  {
   "cell_type": "markdown",
   "metadata": {
    "id": "oSiipM3hu9Qu"
   },
   "source": [
    "# Importa dados"
   ]
  },
  {
   "cell_type": "code",
   "execution_count": 3,
   "metadata": {},
   "outputs": [
    {
     "name": "stdout",
     "output_type": "stream",
     "text": [
      "MySQL connection is closed\n",
      "<class 'pandas.core.frame.DataFrame'>\n",
      "RangeIndex: 3522 entries, 0 to 3521\n",
      "Data columns (total 3 columns):\n",
      " #   Column  Non-Null Count  Dtype \n",
      "---  ------  --------------  ----- \n",
      " 0   0       3522 non-null   object\n",
      " 1   1       3522 non-null   object\n",
      " 2   2       3522 non-null   int64 \n",
      "dtypes: int64(1), object(2)\n",
      "memory usage: 82.7+ KB\n"
     ]
    }
   ],
   "source": [
    "\n",
    "import numpy as np\n",
    "import pandas as pd\n",
    "import mysql.connector\n",
    "\n",
    "#Conecta com banco MySQL\n",
    "try:\n",
    "    connection = mysql.connector.connect(host='localhost',\n",
    "                                         database='projeto',\n",
    "                                         user='root',\n",
    "                                         password='12345678')\n",
    "\n",
    "    sql_select_Query = \"select ds_data_sem_hora \\\n",
    "                        ,isbn_produto \\\n",
    "                        ,qtd_venda  \\\n",
    "                        from fato_venda as ft \\\n",
    "                        , dim_tempo as tp \\\n",
    "                        , dim_produto as pd \\\n",
    "                        where tp.sk_tempo = ft.sk_tempo \\\n",
    "                        and pd.sk_produto = ft.sk_protudo;\"\n",
    "    \n",
    "    cursor = connection.cursor()\n",
    "    cursor.execute(sql_select_Query)\n",
    "    \n",
    "    #carrega dados\n",
    "    records = cursor.fetchall()\n",
    "\n",
    "    data_sql = pd.DataFrame(records)\n",
    "\n",
    "except mysql.connector.Error as e:\n",
    "    print(\"Error reading data from MySQL table\", e)\n",
    "finally:\n",
    "    if connection.is_connected():\n",
    "        connection.close()\n",
    "        cursor.close()\n",
    "        print(\"MySQL connection is closed\")\n",
    "        \n",
    "data_sql.info()"
   ]
  },
  {
   "cell_type": "code",
   "execution_count": 4,
   "metadata": {},
   "outputs": [],
   "source": [
    "#ajusta dados para a predição\n",
    "df1 = data_sql\n",
    "\n",
    "#adiciona nome nas colunas\n",
    "df1 = df1.rename(columns={0: \"date\",1:\"isbn\", 2: \"value\"})\n",
    "\n",
    "#transforma para datetime\n",
    "df1[\"date\"] = pd.to_datetime(df1[\"date\"])\n",
    "\n",
    "#ordena\n",
    "df1 = df1.sort_values('date')\n",
    "\n",
    "#soma quantidade em datas iguais\n",
    "df1 = df1.groupby('date')['value'].sum().reset_index()\n",
    "\n",
    "#transforma a data em indice\n",
    "df1 = df1.set_index('date')\n",
    "\n",
    "#agrupa na soma do mês\n",
    "df1 = df1['value'].resample('MS').sum()"
   ]
  },
  {
   "cell_type": "markdown",
   "metadata": {
    "id": "oMRp_5Hpu6hO"
   },
   "source": [
    "Prepara dados"
   ]
  },
  {
   "cell_type": "code",
   "execution_count": 5,
   "metadata": {
    "executionInfo": {
     "elapsed": 6161,
     "status": "ok",
     "timestamp": 1611535790580,
     "user": {
      "displayName": "Rafael de Miranda da Costa Leite",
      "photoUrl": "https://lh3.googleusercontent.com/a-/AOh14Gj-3rbInttHw_wvyiLPSmYAdgOUmDm2bFbC-AEvbw=s64",
      "userId": "02906791875441644303"
     },
     "user_tz": 180
    },
    "id": "YKvp5fbBVI0-"
   },
   "outputs": [],
   "source": [
    "#Separa dados\n",
    "train = df1.loc[:'2018-12-31']\n",
    "test = df1.loc['2019-01-01':]"
   ]
  },
  {
   "cell_type": "markdown",
   "metadata": {
    "id": "g18_JT40vAcC"
   },
   "source": [
    "# Analisa os dados"
   ]
  },
  {
   "cell_type": "code",
   "execution_count": 6,
   "metadata": {
    "colab": {
     "base_uri": "https://localhost:8080/",
     "height": 297
    },
    "executionInfo": {
     "elapsed": 7781,
     "status": "ok",
     "timestamp": 1611535792205,
     "user": {
      "displayName": "Rafael de Miranda da Costa Leite",
      "photoUrl": "https://lh3.googleusercontent.com/a-/AOh14Gj-3rbInttHw_wvyiLPSmYAdgOUmDm2bFbC-AEvbw=s64",
      "userId": "02906791875441644303"
     },
     "user_tz": 180
    },
    "id": "acpRaZR3Ie85",
    "outputId": "fc2a04c4-e0e1-4ed4-834c-4fc21e15eb08"
   },
   "outputs": [
    {
     "data": {
      "image/png": "[encoded data removed]",
      "text/plain": [
       "<Figure size 432x288 with 4 Axes>"
      ]
     },
     "metadata": {
      "needs_background": "light"
     },
     "output_type": "display_data"
    }
   ],
   "source": [
    "from pylab import rcParams\n",
    "from statsmodels.tsa.seasonal import seasonal_decompose\n",
    "import statsmodels.api as sm\n",
    "import matplotlib.pyplot as plt\n",
    "\n",
    "a = seasonal_decompose(df1, model = \"add\")\n",
    "a.plot();"
   ]
  },
  {
   "cell_type": "code",
   "execution_count": 7,
   "metadata": {
    "colab": {
     "base_uri": "https://localhost:8080/",
     "height": 406
    },
    "executionInfo": {
     "elapsed": 7765,
     "status": "ok",
     "timestamp": 1611535792206,
     "user": {
      "displayName": "Rafael de Miranda da Costa Leite",
      "photoUrl": "https://lh3.googleusercontent.com/a-/AOh14Gj-3rbInttHw_wvyiLPSmYAdgOUmDm2bFbC-AEvbw=s64",
      "userId": "02906791875441644303"
     },
     "user_tz": 180
    },
    "id": "pnToCXWA-DBM",
    "outputId": "ccf7f152-755f-4d64-d126-e986aac771a7"
   },
   "outputs": [
    {
     "data": {
      "text/plain": [
       "<matplotlib.axes._subplots.AxesSubplot at 0x7f14c13c8190>"
      ]
     },
     "execution_count": 7,
     "metadata": {},
     "output_type": "execute_result"
    },
    {
     "data": {
      "image/png": "[encoded data removed]",
      "text/plain": [
       "<Figure size 864x360 with 1 Axes>"
      ]
     },
     "metadata": {
      "needs_background": "light"
     },
     "output_type": "display_data"
    }
   ],
   "source": [
    "#Boxplot\n",
    "import seaborn\n",
    "\n",
    "fig, ax = plt.subplots(figsize=(12,5))\n",
    "seaborn.boxplot(df1, ax=ax)"
   ]
  },
  {
   "cell_type": "code",
   "execution_count": 8,
   "metadata": {
    "colab": {
     "base_uri": "https://localhost:8080/",
     "height": 334
    },
    "executionInfo": {
     "elapsed": 8059,
     "status": "ok",
     "timestamp": 1611535792513,
     "user": {
      "displayName": "Rafael de Miranda da Costa Leite",
      "photoUrl": "https://lh3.googleusercontent.com/a-/AOh14Gj-3rbInttHw_wvyiLPSmYAdgOUmDm2bFbC-AEvbw=s64",
      "userId": "02906791875441644303"
     },
     "user_tz": 180
    },
    "id": "D7OJspOhAHfg",
    "outputId": "107ed0f6-d3bf-4050-ab93-b06dafaf394b"
   },
   "outputs": [
    {
     "data": {
      "image/png": "[encoded data removed]",
      "text/plain": [
       "<Figure size 432x288 with 1 Axes>"
      ]
     },
     "metadata": {
      "needs_background": "light"
     },
     "output_type": "display_data"
    }
   ],
   "source": [
    "#Histograma\n",
    "seaborn.distplot(df1, hist=True, kde=True, \n",
    "             bins=5, color = 'darkblue', \n",
    "             hist_kws={'edgecolor':'black'},\n",
    "             kde_kws={'linewidth': 3});"
   ]
  },
  {
   "cell_type": "code",
   "execution_count": 9,
   "metadata": {
    "colab": {
     "base_uri": "https://localhost:8080/",
     "height": 297
    },
    "executionInfo": {
     "elapsed": 8760,
     "status": "ok",
     "timestamp": 1611535793221,
     "user": {
      "displayName": "Rafael de Miranda da Costa Leite",
      "photoUrl": "https://lh3.googleusercontent.com/a-/AOh14Gj-3rbInttHw_wvyiLPSmYAdgOUmDm2bFbC-AEvbw=s64",
      "userId": "02906791875441644303"
     },
     "user_tz": 180
    },
    "id": "1l0N5nt2CWZk",
    "outputId": "2ea8e0e3-ce06-427b-8f24-63610d99c0f4"
   },
   "outputs": [
    {
     "data": {
      "image/png": "[encoded data removed]",
      "text/plain": [
       "<Figure size 432x288 with 4 Axes>"
      ]
     },
     "metadata": {
      "needs_background": "light"
     },
     "output_type": "display_data"
    }
   ],
   "source": [
    "for i, binwidth in enumerate([5, 10, 15, 20]):\n",
    "    \n",
    "    # Set up the plot\n",
    "    ax = plt.subplot(2, 2, i + 1)\n",
    "    \n",
    "    # Draw the plot\n",
    "    ax.hist(df1, bins = binwidth, color = 'blue', edgecolor = 'black')\n",
    "    \n",
    "    # Title and labels\n",
    "    ax.set_title('Histogram with Binwidth = %d' % binwidth, size = 15)\n",
    "    ax.set_xlabel('Quantidade', size = 15)\n",
    "    ax.set_ylabel('Ocorrências', size= 15)\n",
    "\n",
    "plt.tight_layout()\n",
    "plt.show()"
   ]
  },
  {
   "cell_type": "markdown",
   "metadata": {
    "id": "5GUR1JwAGBrK"
   },
   "source": [
    "# Modelos"
   ]
  },
  {
   "cell_type": "markdown",
   "metadata": {
    "id": "a_TDvkyHvKY3"
   },
   "source": [
    "Modelo Auto ARIMA"
   ]
  },
  {
   "cell_type": "code",
   "execution_count": 10,
   "metadata": {
    "colab": {
     "base_uri": "https://localhost:8080/"
    },
    "executionInfo": {
     "elapsed": 19470,
     "status": "ok",
     "timestamp": 1611535803937,
     "user": {
      "displayName": "Rafael de Miranda da Costa Leite",
      "photoUrl": "https://lh3.googleusercontent.com/a-/AOh14Gj-3rbInttHw_wvyiLPSmYAdgOUmDm2bFbC-AEvbw=s64",
      "userId": "02906791875441644303"
     },
     "user_tz": 180
    },
    "id": "dCNRCC5zKeEj",
    "outputId": "a3e2195b-2849-4311-8eb7-2626f4097665"
   },
   "outputs": [
    {
     "data": {
      "text/plain": [
       "ARIMA(order=(0, 0, 0), scoring_args={}, seasonal_order=(1, 1, 0, 12),\n",
       "      suppress_warnings=True)"
      ]
     },
     "execution_count": 10,
     "metadata": {},
     "output_type": "execute_result"
    }
   ],
   "source": [
    "import pmdarima as pm\n",
    "\n",
    "#Fit modelo auto-arima\n",
    "fitSArima = pm.auto_arima(df1, start_p=1, start_q=1,\n",
    "                         max_p=3, max_q=3, m=12,\n",
    "                         start_P=0, seasonal=True,\n",
    "                         d=None, D=1, trace=False,\n",
    "                         error_action='ignore',  \n",
    "                         suppress_warnings=True, \n",
    "                         stepwise=True)\n",
    "\n",
    "#test='adf',\n",
    "\n",
    "#fitSArima = pm.auto_arima(df1, seasonal=True, m=12,max_p=7, max_d=5,max_q=7, max_P=4, max_D=4,max_Q=4) \n",
    "\n",
    "fitSArima.fit(train)"
   ]
  },
  {
   "cell_type": "code",
   "execution_count": 11,
   "metadata": {
    "colab": {
     "base_uri": "https://localhost:8080/",
     "height": 420
    },
    "executionInfo": {
     "elapsed": 29797,
     "status": "ok",
     "timestamp": 1611535814270,
     "user": {
      "displayName": "Rafael de Miranda da Costa Leite",
      "photoUrl": "https://lh3.googleusercontent.com/a-/AOh14Gj-3rbInttHw_wvyiLPSmYAdgOUmDm2bFbC-AEvbw=s64",
      "userId": "02906791875441644303"
     },
     "user_tz": 180
    },
    "id": "9GtX92IFLx5h",
    "outputId": "9b953dff-a8bf-49e4-cd1e-9df06fa0026b"
   },
   "outputs": [
    {
     "data": {
      "text/html": [
       "<table class=\"simpletable\">\n",
       "<caption>SARIMAX Results</caption>\n",
       "<tr>\n",
       "  <th>Dep. Variable:</th>             <td>y</td>          <th>  No. Observations:  </th>    <td>60</td>   \n",
       "</tr>\n",
       "<tr>\n",
       "  <th>Model:</th>           <td>SARIMAX(1, 1, 0, 12)</td> <th>  Log Likelihood     </th> <td>-350.089</td>\n",
       "</tr>\n",
       "<tr>\n",
       "  <th>Date:</th>              <td>Fri, 02 Apr 2021</td>   <th>  AIC                </th>  <td>706.177</td>\n",
       "</tr>\n",
       "<tr>\n",
       "  <th>Time:</th>                  <td>19:22:23</td>       <th>  BIC                </th>  <td>711.791</td>\n",
       "</tr>\n",
       "<tr>\n",
       "  <th>Sample:</th>                    <td>0</td>          <th>  HQIC               </th>  <td>708.299</td>\n",
       "</tr>\n",
       "<tr>\n",
       "  <th></th>                         <td> - 60</td>        <th>                     </th>     <td> </td>   \n",
       "</tr>\n",
       "<tr>\n",
       "  <th>Covariance Type:</th>          <td>opg</td>         <th>                     </th>     <td> </td>   \n",
       "</tr>\n",
       "</table>\n",
       "<table class=\"simpletable\">\n",
       "<tr>\n",
       "      <td></td>         <th>coef</th>     <th>std err</th>      <th>z</th>      <th>P>|z|</th>  <th>[0.025</th>    <th>0.975]</th>  \n",
       "</tr>\n",
       "<tr>\n",
       "  <th>intercept</th> <td>  -92.6415</td> <td>   58.553</td> <td>   -1.582</td> <td> 0.114</td> <td> -207.404</td> <td>   22.121</td>\n",
       "</tr>\n",
       "<tr>\n",
       "  <th>ar.S.L12</th>  <td>   -0.6316</td> <td>    0.114</td> <td>   -5.517</td> <td> 0.000</td> <td>   -0.856</td> <td>   -0.407</td>\n",
       "</tr>\n",
       "<tr>\n",
       "  <th>sigma2</th>    <td> 1.159e+05</td> <td> 2.46e+04</td> <td>    4.722</td> <td> 0.000</td> <td> 6.78e+04</td> <td> 1.64e+05</td>\n",
       "</tr>\n",
       "</table>\n",
       "<table class=\"simpletable\">\n",
       "<tr>\n",
       "  <th>Ljung-Box (Q):</th>          <td>45.29</td> <th>  Jarque-Bera (JB):  </th> <td>0.53</td>\n",
       "</tr>\n",
       "<tr>\n",
       "  <th>Prob(Q):</th>                <td>0.26</td>  <th>  Prob(JB):          </th> <td>0.77</td>\n",
       "</tr>\n",
       "<tr>\n",
       "  <th>Heteroskedasticity (H):</th> <td>1.38</td>  <th>  Skew:              </th> <td>0.24</td>\n",
       "</tr>\n",
       "<tr>\n",
       "  <th>Prob(H) (two-sided):</th>    <td>0.53</td>  <th>  Kurtosis:          </th> <td>3.17</td>\n",
       "</tr>\n",
       "</table><br/><br/>Warnings:<br/>[1] Covariance matrix calculated using the outer product of gradients (complex-step)."
      ],
      "text/plain": [
       "<class 'statsmodels.iolib.summary.Summary'>\n",
       "\"\"\"\n",
       "                                SARIMAX Results                                 \n",
       "================================================================================\n",
       "Dep. Variable:                        y   No. Observations:                   60\n",
       "Model:             SARIMAX(1, 1, 0, 12)   Log Likelihood                -350.089\n",
       "Date:                  Fri, 02 Apr 2021   AIC                            706.177\n",
       "Time:                          19:22:23   BIC                            711.791\n",
       "Sample:                               0   HQIC                           708.299\n",
       "                                   - 60                                         \n",
       "Covariance Type:                    opg                                         \n",
       "==============================================================================\n",
       "                 coef    std err          z      P>|z|      [0.025      0.975]\n",
       "------------------------------------------------------------------------------\n",
       "intercept    -92.6415     58.553     -1.582      0.114    -207.404      22.121\n",
       "ar.S.L12      -0.6316      0.114     -5.517      0.000      -0.856      -0.407\n",
       "sigma2      1.159e+05   2.46e+04      4.722      0.000    6.78e+04    1.64e+05\n",
       "===================================================================================\n",
       "Ljung-Box (Q):                       45.29   Jarque-Bera (JB):                 0.53\n",
       "Prob(Q):                              0.26   Prob(JB):                         0.77\n",
       "Heteroskedasticity (H):               1.38   Skew:                             0.24\n",
       "Prob(H) (two-sided):                  0.53   Kurtosis:                         3.17\n",
       "===================================================================================\n",
       "\n",
       "Warnings:\n",
       "[1] Covariance matrix calculated using the outer product of gradients (complex-step).\n",
       "\"\"\""
      ]
     },
     "execution_count": 11,
     "metadata": {},
     "output_type": "execute_result"
    }
   ],
   "source": [
    "#Teste 1\n",
    "pm.auto_arima(df1, start_p=1, start_q=1,max_p=3, max_q=3, m=12,start_P=0, seasonal=True,\n",
    "              d=None, D=1, trace=False,error_action='ignore',suppress_warnings=True,stepwise=True).summary()"
   ]
  },
  {
   "cell_type": "code",
   "execution_count": 12,
   "metadata": {
    "executionInfo": {
     "elapsed": 29792,
     "status": "ok",
     "timestamp": 1611535814272,
     "user": {
      "displayName": "Rafael de Miranda da Costa Leite",
      "photoUrl": "https://lh3.googleusercontent.com/a-/AOh14Gj-3rbInttHw_wvyiLPSmYAdgOUmDm2bFbC-AEvbw=s64",
      "userId": "02906791875441644303"
     },
     "user_tz": 180
    },
    "id": "PTvwdvT8JpdQ"
   },
   "outputs": [],
   "source": [
    "#Teste 2\n",
    "#pm.auto_arima(df1, seasonal=True, m=12,max_p=7, max_d=5,max_q=7, max_P=4, max_D=4,max_Q=4).summary()"
   ]
  },
  {
   "cell_type": "code",
   "execution_count": 13,
   "metadata": {
    "executionInfo": {
     "elapsed": 29788,
     "status": "ok",
     "timestamp": 1611535814273,
     "user": {
      "displayName": "Rafael de Miranda da Costa Leite",
      "photoUrl": "https://lh3.googleusercontent.com/a-/AOh14Gj-3rbInttHw_wvyiLPSmYAdgOUmDm2bFbC-AEvbw=s64",
      "userId": "02906791875441644303"
     },
     "user_tz": 180
    },
    "id": "PuQuqdKxK7-B"
   },
   "outputs": [],
   "source": [
    "#Forecast auto-arima\n",
    "n_periods = 12\n",
    "predSArima, confint = fitSArima.predict(n_periods=n_periods, return_conf_int=True)\n",
    "\n",
    "#Cria dataseries\n",
    "predSArima = pd.DataFrame(predSArima,index = test.index,columns=['SARIMA'])"
   ]
  },
  {
   "cell_type": "markdown",
   "metadata": {
    "id": "nDrBRDknvHIE"
   },
   "source": [
    "Modelo Prophet"
   ]
  },
  {
   "cell_type": "code",
   "execution_count": 14,
   "metadata": {
    "executionInfo": {
     "elapsed": 29787,
     "status": "ok",
     "timestamp": 1611535814275,
     "user": {
      "displayName": "Rafael de Miranda da Costa Leite",
      "photoUrl": "https://lh3.googleusercontent.com/a-/AOh14Gj-3rbInttHw_wvyiLPSmYAdgOUmDm2bFbC-AEvbw=s64",
      "userId": "02906791875441644303"
     },
     "user_tz": 180
    },
    "id": "dGvVEzGevP5Z"
   },
   "outputs": [],
   "source": [
    "#Dados Prophet\n",
    "df2 = data_sql\n",
    "\n",
    "#adiciona nome nas colunas\n",
    "df2 = df2.rename(columns={0: \"ds\",1:\"isbn\", 2: \"y\"})\n",
    "\n",
    "#transforma para datetime\n",
    "df2[\"ds\"] = pd.to_datetime(df2[\"ds\"])\n",
    "\n",
    "df2['ds'] = df2['ds'].values.astype('datetime64[M]')\n",
    "\n",
    "df2 = df2.groupby(['ds']).sum()\n",
    "\n",
    "df2 = df2.reset_index()"
   ]
  },
  {
   "cell_type": "code",
   "execution_count": 15,
   "metadata": {
    "colab": {
     "base_uri": "https://localhost:8080/"
    },
    "executionInfo": {
     "elapsed": 31541,
     "status": "ok",
     "timestamp": 1611535816033,
     "user": {
      "displayName": "Rafael de Miranda da Costa Leite",
      "photoUrl": "https://lh3.googleusercontent.com/a-/AOh14Gj-3rbInttHw_wvyiLPSmYAdgOUmDm2bFbC-AEvbw=s64",
      "userId": "02906791875441644303"
     },
     "user_tz": 180
    },
    "id": "_UMZHBeRe_3j",
    "outputId": "16cf1b89-b159-45a2-b409-31b283cac166"
   },
   "outputs": [
    {
     "name": "stderr",
     "output_type": "stream",
     "text": [
      "INFO:numexpr.utils:NumExpr defaulting to 1 threads.\n",
      "INFO:fbprophet:Disabling weekly seasonality. Run prophet with weekly_seasonality=True to override this.\n",
      "INFO:fbprophet:Disabling daily seasonality. Run prophet with daily_seasonality=True to override this.\n"
     ]
    },
    {
     "data": {
      "text/plain": [
       "<fbprophet.forecaster.Prophet at 0x7f14b3c21970>"
      ]
     },
     "execution_count": 15,
     "metadata": {},
     "output_type": "execute_result"
    }
   ],
   "source": [
    "from fbprophet import Prophet\n",
    "\n",
    "#Fit modelo Prophet\n",
    "fitProphet = Prophet()\n",
    "\n",
    "fitProphet.fit(df2)"
   ]
  },
  {
   "cell_type": "code",
   "execution_count": 16,
   "metadata": {
    "executionInfo": {
     "elapsed": 33453,
     "status": "ok",
     "timestamp": 1611535817950,
     "user": {
      "displayName": "Rafael de Miranda da Costa Leite",
      "photoUrl": "https://lh3.googleusercontent.com/a-/AOh14Gj-3rbInttHw_wvyiLPSmYAdgOUmDm2bFbC-AEvbw=s64",
      "userId": "02906791875441644303"
     },
     "user_tz": 180
    },
    "id": "jrER-SJ4mUmc"
   },
   "outputs": [],
   "source": [
    "#Forecast Prophet\n",
    "future = fitProphet.make_future_dataframe(periods=12, freq='MS')\n",
    "\n",
    "predProphet = fitProphet.predict(future)\n",
    "\n",
    "predProphet1 = predProphet[['ds','yhat']]\n",
    "\n",
    "predProphet1 = predProphet1.set_index('ds')\n",
    "predProphet1 = predProphet1.rename(columns={\"yhat\": \"PROPHET\"})\n",
    "\n",
    "predProphet1 = predProphet1['2019':'2019']"
   ]
  },
  {
   "cell_type": "markdown",
   "metadata": {
    "id": "vaBJwAnqyBLP"
   },
   "source": [
    "Modelo LSTM"
   ]
  },
  {
   "cell_type": "code",
   "execution_count": 17,
   "metadata": {},
   "outputs": [],
   "source": [
    "#Dados LSTM\n",
    "\n",
    "#importa dados\n",
    "df3 = data_sql\n",
    "\n",
    "#adiciona nome nas colunas\n",
    "df3 = df3.rename(columns={0: \"ds\",1:\"isbn\", 2: \"Venda\"})\n",
    "\n",
    "#transforma para datetime\n",
    "df3[\"Mes\"] = pd.to_datetime(df3[\"ds\"])\n",
    "\n",
    "df3['Mes'] = df3['Mes'].values.astype('datetime64[M]')\n",
    "\n",
    "df3.drop(['ds','isbn'], axis=1, inplace=True)\n",
    "\n",
    "df3 = df3.groupby(['Mes']).sum()\n",
    "\n",
    "df3 = df3.reset_index()\n",
    "\n",
    "df3 = df3.set_index(\"Mes\")\n",
    "\n",
    "df3.index.freq = 'MS'\n",
    "\n",
    "train_data = df3[:len(df3)-12]\n",
    "test_data = df3[len(df3)-12:]"
   ]
  },
  {
   "cell_type": "code",
   "execution_count": 18,
   "metadata": {
    "executionInfo": {
     "elapsed": 33449,
     "status": "ok",
     "timestamp": 1611535817953,
     "user": {
      "displayName": "Rafael de Miranda da Costa Leite",
      "photoUrl": "https://lh3.googleusercontent.com/a-/AOh14Gj-3rbInttHw_wvyiLPSmYAdgOUmDm2bFbC-AEvbw=s64",
      "userId": "02906791875441644303"
     },
     "user_tz": 180
    },
    "id": "J4Na9k9lNYbY"
   },
   "outputs": [],
   "source": [
    "from sklearn.preprocessing import MinMaxScaler\n",
    "scaler = MinMaxScaler()"
   ]
  },
  {
   "cell_type": "code",
   "execution_count": 19,
   "metadata": {
    "executionInfo": {
     "elapsed": 33447,
     "status": "ok",
     "timestamp": 1611535817954,
     "user": {
      "displayName": "Rafael de Miranda da Costa Leite",
      "photoUrl": "https://lh3.googleusercontent.com/a-/AOh14Gj-3rbInttHw_wvyiLPSmYAdgOUmDm2bFbC-AEvbw=s64",
      "userId": "02906791875441644303"
     },
     "user_tz": 180
    },
    "id": "-QYaskWVNYbY"
   },
   "outputs": [],
   "source": [
    "scaler.fit(train_data)\n",
    "scaled_train_data = scaler.transform(train_data)\n",
    "scaled_test_data = scaler.transform(test_data)"
   ]
  },
  {
   "cell_type": "code",
   "execution_count": 20,
   "metadata": {
    "executionInfo": {
     "elapsed": 35272,
     "status": "ok",
     "timestamp": 1611535819784,
     "user": {
      "displayName": "Rafael de Miranda da Costa Leite",
      "photoUrl": "https://lh3.googleusercontent.com/a-/AOh14Gj-3rbInttHw_wvyiLPSmYAdgOUmDm2bFbC-AEvbw=s64",
      "userId": "02906791875441644303"
     },
     "user_tz": 180
    },
    "id": "fcObEiVKNYbY"
   },
   "outputs": [],
   "source": [
    "from keras.preprocessing.sequence import TimeseriesGenerator\n",
    "\n",
    "n_input = 12\n",
    "n_features= 1\n",
    "generator = TimeseriesGenerator(scaled_train_data, scaled_train_data, length=n_input, batch_size=1)"
   ]
  },
  {
   "cell_type": "code",
   "execution_count": 21,
   "metadata": {
    "colab": {
     "base_uri": "https://localhost:8080/"
    },
    "executionInfo": {
     "elapsed": 35269,
     "status": "ok",
     "timestamp": 1611535819785,
     "user": {
      "displayName": "Rafael de Miranda da Costa Leite",
      "photoUrl": "https://lh3.googleusercontent.com/a-/AOh14Gj-3rbInttHw_wvyiLPSmYAdgOUmDm2bFbC-AEvbw=s64",
      "userId": "02906791875441644303"
     },
     "user_tz": 180
    },
    "id": "niryx9RJNYbZ",
    "outputId": "de76434f-4746-49d2-876d-41ea23e18348"
   },
   "outputs": [
    {
     "name": "stdout",
     "output_type": "stream",
     "text": [
      "Model: \"sequential\"\n",
      "_________________________________________________________________\n",
      "Layer (type)                 Output Shape              Param #   \n",
      "=================================================================\n",
      "lstm (LSTM)                  (None, 200)               161600    \n",
      "_________________________________________________________________\n",
      "dense (Dense)                (None, 1)                 201       \n",
      "=================================================================\n",
      "Total params: 161,801\n",
      "Trainable params: 161,801\n",
      "Non-trainable params: 0\n",
      "_________________________________________________________________\n"
     ]
    }
   ],
   "source": [
    "from keras.models import Sequential\n",
    "from keras.layers import Dense\n",
    "from keras.layers import LSTM\n",
    "\n",
    "lstm_model = Sequential()\n",
    "lstm_model.add(LSTM(200, activation='relu', input_shape=(n_input, n_features)))\n",
    "lstm_model.add(Dense(1))\n",
    "lstm_model.compile(optimizer='adam', loss='mse')\n",
    "\n",
    "lstm_model.summary()"
   ]
  },
  {
   "cell_type": "code",
   "execution_count": 22,
   "metadata": {
    "colab": {
     "base_uri": "https://localhost:8080/"
    },
    "executionInfo": {
     "elapsed": 56336,
     "status": "ok",
     "timestamp": 1611535840857,
     "user": {
      "displayName": "Rafael de Miranda da Costa Leite",
      "photoUrl": "https://lh3.googleusercontent.com/a-/AOh14Gj-3rbInttHw_wvyiLPSmYAdgOUmDm2bFbC-AEvbw=s64",
      "userId": "02906791875441644303"
     },
     "user_tz": 180
    },
    "id": "KQ0aNvA-NYbZ",
    "outputId": "cd5ad4b6-c2ab-412f-ed94-5fd144afc139"
   },
   "outputs": [
    {
     "name": "stdout",
     "output_type": "stream",
     "text": [
      "Epoch 1/50\n"
     ]
    },
    {
     "name": "stderr",
     "output_type": "stream",
     "text": [
      "/home/rafael/Apps/anaconda3/lib/python3.8/site-packages/tensorflow/python/keras/engine/training.py:1844: UserWarning: `Model.fit_generator` is deprecated and will be removed in a future version. Please use `Model.fit`, which supports generators.\n",
      "  warnings.warn('`Model.fit_generator` is deprecated and '\n"
     ]
    },
    {
     "name": "stdout",
     "output_type": "stream",
     "text": [
      "36/36 [==============================] - 1s 9ms/step - loss: 0.1108\n",
      "Epoch 2/50\n",
      "36/36 [==============================] - 0s 10ms/step - loss: 0.0570\n",
      "Epoch 3/50\n",
      "36/36 [==============================] - 0s 10ms/step - loss: 0.0436\n",
      "Epoch 4/50\n",
      "36/36 [==============================] - 0s 10ms/step - loss: 0.0578\n",
      "Epoch 5/50\n",
      "36/36 [==============================] - 0s 10ms/step - loss: 0.0683\n",
      "Epoch 6/50\n",
      "36/36 [==============================] - 0s 10ms/step - loss: 0.0546\n",
      "Epoch 7/50\n",
      "36/36 [==============================] - 0s 9ms/step - loss: 0.0487\n",
      "Epoch 8/50\n",
      "36/36 [==============================] - 0s 9ms/step - loss: 0.0582\n",
      "Epoch 9/50\n",
      "36/36 [==============================] - 0s 10ms/step - loss: 0.0657\n",
      "Epoch 10/50\n",
      "36/36 [==============================] - 0s 9ms/step - loss: 0.0519\n",
      "Epoch 11/50\n",
      "36/36 [==============================] - 0s 9ms/step - loss: 0.0501\n",
      "Epoch 12/50\n",
      "36/36 [==============================] - 0s 10ms/step - loss: 0.0475\n",
      "Epoch 13/50\n",
      "36/36 [==============================] - 0s 9ms/step - loss: 0.0421\n",
      "Epoch 14/50\n",
      "36/36 [==============================] - 0s 9ms/step - loss: 0.0450\n",
      "Epoch 15/50\n",
      "36/36 [==============================] - 0s 9ms/step - loss: 0.0519\n",
      "Epoch 16/50\n",
      "36/36 [==============================] - 0s 9ms/step - loss: 0.0635\n",
      "Epoch 17/50\n",
      "36/36 [==============================] - 0s 9ms/step - loss: 0.0404\n",
      "Epoch 18/50\n",
      "36/36 [==============================] - 0s 10ms/step - loss: 0.0456\n",
      "Epoch 19/50\n",
      "36/36 [==============================] - 0s 9ms/step - loss: 0.0578\n",
      "Epoch 20/50\n",
      "36/36 [==============================] - 0s 10ms/step - loss: 0.0474\n",
      "Epoch 21/50\n",
      "36/36 [==============================] - 0s 10ms/step - loss: 0.0534\n",
      "Epoch 22/50\n",
      "36/36 [==============================] - 0s 10ms/step - loss: 0.0739\n",
      "Epoch 23/50\n",
      "36/36 [==============================] - 0s 10ms/step - loss: 0.0607\n",
      "Epoch 24/50\n",
      "36/36 [==============================] - 0s 9ms/step - loss: 0.0403\n",
      "Epoch 25/50\n",
      "36/36 [==============================] - 0s 10ms/step - loss: 0.0401\n",
      "Epoch 26/50\n",
      "36/36 [==============================] - 0s 10ms/step - loss: 0.0447\n",
      "Epoch 27/50\n",
      "36/36 [==============================] - 0s 9ms/step - loss: 0.0331\n",
      "Epoch 28/50\n",
      "36/36 [==============================] - 0s 10ms/step - loss: 0.0567\n",
      "Epoch 29/50\n",
      "36/36 [==============================] - 0s 10ms/step - loss: 0.0366\n",
      "Epoch 30/50\n",
      "36/36 [==============================] - 0s 11ms/step - loss: 0.0334\n",
      "Epoch 31/50\n",
      "36/36 [==============================] - 0s 12ms/step - loss: 0.0424\n",
      "Epoch 32/50\n",
      "36/36 [==============================] - 0s 12ms/step - loss: 0.0665\n",
      "Epoch 33/50\n",
      "36/36 [==============================] - 0s 10ms/step - loss: 0.0435\n",
      "Epoch 34/50\n",
      "36/36 [==============================] - 0s 10ms/step - loss: 0.0492\n",
      "Epoch 35/50\n",
      "36/36 [==============================] - 0s 10ms/step - loss: 0.0602\n",
      "Epoch 36/50\n",
      "36/36 [==============================] - 0s 9ms/step - loss: 0.0415\n",
      "Epoch 37/50\n",
      "36/36 [==============================] - 0s 9ms/step - loss: 0.0367\n",
      "Epoch 38/50\n",
      "36/36 [==============================] - 0s 10ms/step - loss: 0.0336\n",
      "Epoch 39/50\n",
      "36/36 [==============================] - 0s 10ms/step - loss: 0.0397\n",
      "Epoch 40/50\n",
      "36/36 [==============================] - 0s 10ms/step - loss: 0.0382\n",
      "Epoch 41/50\n",
      "36/36 [==============================] - 0s 10ms/step - loss: 0.0438\n",
      "Epoch 42/50\n",
      "36/36 [==============================] - 0s 9ms/step - loss: 0.0337\n",
      "Epoch 43/50\n",
      "36/36 [==============================] - 0s 9ms/step - loss: 0.0378\n",
      "Epoch 44/50\n",
      "36/36 [==============================] - 0s 10ms/step - loss: 0.0362\n",
      "Epoch 45/50\n",
      "36/36 [==============================] - 0s 9ms/step - loss: 0.0525\n",
      "Epoch 46/50\n",
      "36/36 [==============================] - 0s 11ms/step - loss: 0.0348\n",
      "Epoch 47/50\n",
      "36/36 [==============================] - 1s 16ms/step - loss: 0.0303\n",
      "Epoch 48/50\n",
      "36/36 [==============================] - 1s 14ms/step - loss: 0.0369\n",
      "Epoch 49/50\n",
      "36/36 [==============================] - 1s 14ms/step - loss: 0.0412\n",
      "Epoch 50/50\n",
      "36/36 [==============================] - 1s 19ms/step - loss: 0.0390\n"
     ]
    },
    {
     "data": {
      "text/plain": [
       "<tensorflow.python.keras.callbacks.History at 0x7f14826076d0>"
      ]
     },
     "execution_count": 22,
     "metadata": {},
     "output_type": "execute_result"
    }
   ],
   "source": [
    "nepochs=50\n",
    "lstm_model.fit_generator(generator,epochs=nepochs)"
   ]
  },
  {
   "cell_type": "code",
   "execution_count": 23,
   "metadata": {
    "colab": {
     "base_uri": "https://localhost:8080/",
     "height": 497
    },
    "executionInfo": {
     "elapsed": 56733,
     "status": "ok",
     "timestamp": 1611535841260,
     "user": {
      "displayName": "Rafael de Miranda da Costa Leite",
      "photoUrl": "https://lh3.googleusercontent.com/a-/AOh14Gj-3rbInttHw_wvyiLPSmYAdgOUmDm2bFbC-AEvbw=s64",
      "userId": "02906791875441644303"
     },
     "user_tz": 180
    },
    "id": "Cz-smqKKNYbZ",
    "outputId": "7541ac13-7652-40bf-b103-12294e5a956a"
   },
   "outputs": [
    {
     "data": {
      "image/png": "[encoded data removed]",
      "text/plain": [
       "<Figure size 864x576 with 1 Axes>"
      ]
     },
     "metadata": {
      "needs_background": "light"
     },
     "output_type": "display_data"
    }
   ],
   "source": [
    "losses_lstm = lstm_model.history.history['loss']\n",
    "plt.figure(figsize=(12,8))\n",
    "plt.xlabel(\"Epochs\")\n",
    "plt.ylabel(\"Loss\")\n",
    "plt.xticks(np.arange(0,nepochs,1))\n",
    "plt.plot(range(len(losses_lstm)),losses_lstm);"
   ]
  },
  {
   "cell_type": "code",
   "execution_count": 24,
   "metadata": {
    "executionInfo": {
     "elapsed": 57438,
     "status": "ok",
     "timestamp": 1611535841971,
     "user": {
      "displayName": "Rafael de Miranda da Costa Leite",
      "photoUrl": "https://lh3.googleusercontent.com/a-/AOh14Gj-3rbInttHw_wvyiLPSmYAdgOUmDm2bFbC-AEvbw=s64",
      "userId": "02906791875441644303"
     },
     "user_tz": 180
    },
    "id": "0NIISLnmNYbZ"
   },
   "outputs": [],
   "source": [
    "lstm_predictions_scaled = list()\n",
    "\n",
    "batch = scaled_train_data[-n_input:]\n",
    "current_batch = batch.reshape((1, n_input, n_features))\n",
    "\n",
    "for i in range(len(test_data)):   \n",
    "    lstm_pred = lstm_model.predict(current_batch)[0]\n",
    "    lstm_predictions_scaled.append(lstm_pred) \n",
    "    current_batch = np.append(current_batch[:,1:,:],[[lstm_pred]],axis=1)"
   ]
  },
  {
   "cell_type": "code",
   "execution_count": 25,
   "metadata": {
    "executionInfo": {
     "elapsed": 57436,
     "status": "ok",
     "timestamp": 1611535841972,
     "user": {
      "displayName": "Rafael de Miranda da Costa Leite",
      "photoUrl": "https://lh3.googleusercontent.com/a-/AOh14Gj-3rbInttHw_wvyiLPSmYAdgOUmDm2bFbC-AEvbw=s64",
      "userId": "02906791875441644303"
     },
     "user_tz": 180
    },
    "id": "CPXHVASvNYba"
   },
   "outputs": [],
   "source": [
    "lstm_predictions = scaler.inverse_transform(lstm_predictions_scaled)"
   ]
  },
  {
   "cell_type": "code",
   "execution_count": 26,
   "metadata": {
    "colab": {
     "base_uri": "https://localhost:8080/"
    },
    "executionInfo": {
     "elapsed": 57433,
     "status": "ok",
     "timestamp": 1611535841973,
     "user": {
      "displayName": "Rafael de Miranda da Costa Leite",
      "photoUrl": "https://lh3.googleusercontent.com/a-/AOh14Gj-3rbInttHw_wvyiLPSmYAdgOUmDm2bFbC-AEvbw=s64",
      "userId": "02906791875441644303"
     },
     "user_tz": 180
    },
    "id": "V1eDYoYcNYba",
    "outputId": "0d3fa310-27e4-40b4-b863-defe6c27f9be"
   },
   "outputs": [
    {
     "name": "stderr",
     "output_type": "stream",
     "text": [
      "<ipython-input-26-1b3517f27687>:1: SettingWithCopyWarning: \n",
      "A value is trying to be set on a copy of a slice from a DataFrame.\n",
      "Try using .loc[row_indexer,col_indexer] = value instead\n",
      "\n",
      "See the caveats in the documentation: https://pandas.pydata.org/pandas-docs/stable/user_guide/indexing.html#returning-a-view-versus-a-copy\n",
      "  test_data['LSTM'] = lstm_predictions\n"
     ]
    }
   ],
   "source": [
    "test_data['LSTM'] = lstm_predictions"
   ]
  },
  {
   "cell_type": "markdown",
   "metadata": {
    "id": "KBMF7e_3Fu_t"
   },
   "source": [
    "# Avaliação do Forecast"
   ]
  },
  {
   "cell_type": "code",
   "execution_count": 27,
   "metadata": {
    "executionInfo": {
     "elapsed": 57428,
     "status": "ok",
     "timestamp": 1611535841974,
     "user": {
      "displayName": "Rafael de Miranda da Costa Leite",
      "photoUrl": "https://lh3.googleusercontent.com/a-/AOh14Gj-3rbInttHw_wvyiLPSmYAdgOUmDm2bFbC-AEvbw=s64",
      "userId": "02906791875441644303"
     },
     "user_tz": 180
    },
    "id": "TcrxWhwEOjO_"
   },
   "outputs": [],
   "source": [
    "#Concatena predições\n",
    "forecast = pd.concat([test,predSArima,predProphet1],axis=1)\n",
    "forecast['LSTM'] = lstm_predictions"
   ]
  },
  {
   "cell_type": "code",
   "execution_count": 28,
   "metadata": {
    "colab": {
     "base_uri": "https://localhost:8080/",
     "height": 417
    },
    "executionInfo": {
     "elapsed": 57424,
     "status": "ok",
     "timestamp": 1611535841974,
     "user": {
      "displayName": "Rafael de Miranda da Costa Leite",
      "photoUrl": "https://lh3.googleusercontent.com/a-/AOh14Gj-3rbInttHw_wvyiLPSmYAdgOUmDm2bFbC-AEvbw=s64",
      "userId": "02906791875441644303"
     },
     "user_tz": 180
    },
    "id": "UrG_xT_K9W00",
    "outputId": "aeb32e9f-201d-485f-a83d-897bc18233f9"
   },
   "outputs": [
    {
     "data": {
      "text/html": [
       "<div>\n",
       "<style scoped>\n",
       "    .dataframe tbody tr th:only-of-type {\n",
       "        vertical-align: middle;\n",
       "    }\n",
       "\n",
       "    .dataframe tbody tr th {\n",
       "        vertical-align: top;\n",
       "    }\n",
       "\n",
       "    .dataframe thead th {\n",
       "        text-align: right;\n",
       "    }\n",
       "</style>\n",
       "<table border=\"1\" class=\"dataframe\">\n",
       "  <thead>\n",
       "    <tr style=\"text-align: right;\">\n",
       "      <th></th>\n",
       "      <th>value</th>\n",
       "      <th>SARIMA</th>\n",
       "      <th>PROPHET</th>\n",
       "      <th>LSTM</th>\n",
       "    </tr>\n",
       "  </thead>\n",
       "  <tbody>\n",
       "    <tr>\n",
       "      <th>2019-01-01</th>\n",
       "      <td>739</td>\n",
       "      <td>84.349309</td>\n",
       "      <td>285.926413</td>\n",
       "      <td>356.952502</td>\n",
       "    </tr>\n",
       "    <tr>\n",
       "      <th>2019-02-01</th>\n",
       "      <td>387</td>\n",
       "      <td>343.332209</td>\n",
       "      <td>359.181222</td>\n",
       "      <td>478.685703</td>\n",
       "    </tr>\n",
       "    <tr>\n",
       "      <th>2019-03-01</th>\n",
       "      <td>589</td>\n",
       "      <td>928.598027</td>\n",
       "      <td>663.919202</td>\n",
       "      <td>602.605767</td>\n",
       "    </tr>\n",
       "    <tr>\n",
       "      <th>2019-04-01</th>\n",
       "      <td>341</td>\n",
       "      <td>160.035147</td>\n",
       "      <td>238.075210</td>\n",
       "      <td>443.085734</td>\n",
       "    </tr>\n",
       "    <tr>\n",
       "      <th>2019-05-01</th>\n",
       "      <td>166</td>\n",
       "      <td>503.979032</td>\n",
       "      <td>231.036632</td>\n",
       "      <td>458.693502</td>\n",
       "    </tr>\n",
       "    <tr>\n",
       "      <th>2019-06-01</th>\n",
       "      <td>1309</td>\n",
       "      <td>446.809592</td>\n",
       "      <td>703.431904</td>\n",
       "      <td>604.871244</td>\n",
       "    </tr>\n",
       "    <tr>\n",
       "      <th>2019-07-01</th>\n",
       "      <td>1085</td>\n",
       "      <td>737.201632</td>\n",
       "      <td>699.290478</td>\n",
       "      <td>718.436001</td>\n",
       "    </tr>\n",
       "    <tr>\n",
       "      <th>2019-08-01</th>\n",
       "      <td>224</td>\n",
       "      <td>437.587300</td>\n",
       "      <td>286.120694</td>\n",
       "      <td>544.123095</td>\n",
       "    </tr>\n",
       "    <tr>\n",
       "      <th>2019-09-01</th>\n",
       "      <td>485</td>\n",
       "      <td>316.114427</td>\n",
       "      <td>804.875573</td>\n",
       "      <td>441.973055</td>\n",
       "    </tr>\n",
       "    <tr>\n",
       "      <th>2019-10-01</th>\n",
       "      <td>304</td>\n",
       "      <td>289.797156</td>\n",
       "      <td>275.651965</td>\n",
       "      <td>523.278341</td>\n",
       "    </tr>\n",
       "    <tr>\n",
       "      <th>2019-11-01</th>\n",
       "      <td>144</td>\n",
       "      <td>225.173651</td>\n",
       "      <td>196.091916</td>\n",
       "      <td>756.885674</td>\n",
       "    </tr>\n",
       "    <tr>\n",
       "      <th>2019-12-01</th>\n",
       "      <td>320</td>\n",
       "      <td>1074.268475</td>\n",
       "      <td>877.625470</td>\n",
       "      <td>794.060358</td>\n",
       "    </tr>\n",
       "  </tbody>\n",
       "</table>\n",
       "</div>"
      ],
      "text/plain": [
       "            value       SARIMA     PROPHET        LSTM\n",
       "2019-01-01    739    84.349309  285.926413  356.952502\n",
       "2019-02-01    387   343.332209  359.181222  478.685703\n",
       "2019-03-01    589   928.598027  663.919202  602.605767\n",
       "2019-04-01    341   160.035147  238.075210  443.085734\n",
       "2019-05-01    166   503.979032  231.036632  458.693502\n",
       "2019-06-01   1309   446.809592  703.431904  604.871244\n",
       "2019-07-01   1085   737.201632  699.290478  718.436001\n",
       "2019-08-01    224   437.587300  286.120694  544.123095\n",
       "2019-09-01    485   316.114427  804.875573  441.973055\n",
       "2019-10-01    304   289.797156  275.651965  523.278341\n",
       "2019-11-01    144   225.173651  196.091916  756.885674\n",
       "2019-12-01    320  1074.268475  877.625470  794.060358"
      ]
     },
     "execution_count": 28,
     "metadata": {},
     "output_type": "execute_result"
    }
   ],
   "source": [
    "forecast"
   ]
  },
  {
   "cell_type": "code",
   "execution_count": 29,
   "metadata": {
    "colab": {
     "base_uri": "https://localhost:8080/",
     "height": 295
    },
    "executionInfo": {
     "elapsed": 57833,
     "status": "ok",
     "timestamp": 1611535842389,
     "user": {
      "displayName": "Rafael de Miranda da Costa Leite",
      "photoUrl": "https://lh3.googleusercontent.com/a-/AOh14Gj-3rbInttHw_wvyiLPSmYAdgOUmDm2bFbC-AEvbw=s64",
      "userId": "02906791875441644303"
     },
     "user_tz": 180
    },
    "id": "44QVVxDg8Sb9",
    "outputId": "b7b93fc6-306c-4ac2-b937-458ceaa1a764"
   },
   "outputs": [
    {
     "data": {
      "text/plain": [
       "<matplotlib.axes._subplots.AxesSubplot at 0x7f147aadefd0>"
      ]
     },
     "execution_count": 29,
     "metadata": {},
     "output_type": "execute_result"
    },
    {
     "data": {
      "image/png": "[encoded data removed]",
      "text/plain": [
       "<Figure size 432x288 with 1 Axes>"
      ]
     },
     "metadata": {
      "needs_background": "light"
     },
     "output_type": "display_data"
    }
   ],
   "source": [
    "forecast.plot()"
   ]
  },
  {
   "cell_type": "code",
   "execution_count": 30,
   "metadata": {
    "executionInfo": {
     "elapsed": 57827,
     "status": "ok",
     "timestamp": 1611535842390,
     "user": {
      "displayName": "Rafael de Miranda da Costa Leite",
      "photoUrl": "https://lh3.googleusercontent.com/a-/AOh14Gj-3rbInttHw_wvyiLPSmYAdgOUmDm2bFbC-AEvbw=s64",
      "userId": "02906791875441644303"
     },
     "user_tz": 180
    },
    "id": "zkxt16tucUgw"
   },
   "outputs": [],
   "source": [
    "forecast['Ac_venda'] = test.cumsum()\n",
    "forecast['Ac_SArima'] = forecast['SARIMA'].cumsum()\n",
    "forecast['Ac_PROPHET'] = forecast['PROPHET'].cumsum()\n",
    "forecast['Ac_LSTM'] = forecast['LSTM'].cumsum()"
   ]
  },
  {
   "cell_type": "code",
   "execution_count": 31,
   "metadata": {
    "colab": {
     "base_uri": "https://localhost:8080/",
     "height": 295
    },
    "executionInfo": {
     "elapsed": 58419,
     "status": "ok",
     "timestamp": 1611535842986,
     "user": {
      "displayName": "Rafael de Miranda da Costa Leite",
      "photoUrl": "https://lh3.googleusercontent.com/a-/AOh14Gj-3rbInttHw_wvyiLPSmYAdgOUmDm2bFbC-AEvbw=s64",
      "userId": "02906791875441644303"
     },
     "user_tz": 180
    },
    "id": "ZFquRXwPc_iy",
    "outputId": "8317d480-ef89-4d7c-f312-6d1c3e320afc"
   },
   "outputs": [
    {
     "data": {
      "text/plain": [
       "<matplotlib.axes._subplots.AxesSubplot at 0x7f14799ca2e0>"
      ]
     },
     "execution_count": 31,
     "metadata": {},
     "output_type": "execute_result"
    },
    {
     "data": {
      "image/png": "[encoded data removed]",
      "text/plain": [
       "<Figure size 432x288 with 1 Axes>"
      ]
     },
     "metadata": {
      "needs_background": "light"
     },
     "output_type": "display_data"
    }
   ],
   "source": [
    "forecast.plot()"
   ]
  },
  {
   "cell_type": "code",
   "execution_count": 32,
   "metadata": {
    "colab": {
     "base_uri": "https://localhost:8080/",
     "height": 283
    },
    "executionInfo": {
     "elapsed": 891,
     "status": "ok",
     "timestamp": 1611535951136,
     "user": {
      "displayName": "Rafael de Miranda da Costa Leite",
      "photoUrl": "https://lh3.googleusercontent.com/a-/AOh14Gj-3rbInttHw_wvyiLPSmYAdgOUmDm2bFbC-AEvbw=s64",
      "userId": "02906791875441644303"
     },
     "user_tz": 180
    },
    "id": "RqS-lTajZ2c6",
    "outputId": "d83808df-b9ea-4e6b-bb27-7bbe1e68baf2"
   },
   "outputs": [
    {
     "data": {
      "text/plain": [
       "<matplotlib.axes._subplots.AxesSubplot at 0x7f1479928430>"
      ]
     },
     "execution_count": 32,
     "metadata": {},
     "output_type": "execute_result"
    },
    {
     "data": {
      "image/png": "[encoded data removed]",
      "text/plain": [
       "<Figure size 432x288 with 1 Axes>"
      ]
     },
     "metadata": {
      "needs_background": "light"
     },
     "output_type": "display_data"
    }
   ],
   "source": [
    "#Visão geral\n",
    "pd.concat([train,predSArima,predProphet1],axis=1).plot()"
   ]
  },
  {
   "cell_type": "markdown",
   "metadata": {
    "id": "1BJPrB9YFYQD"
   },
   "source": [
    "Exporta Dados"
   ]
  },
  {
   "cell_type": "code",
   "execution_count": 33,
   "metadata": {
    "executionInfo": {
     "elapsed": 659,
     "status": "ok",
     "timestamp": 1611535965081,
     "user": {
      "displayName": "Rafael de Miranda da Costa Leite",
      "photoUrl": "https://lh3.googleusercontent.com/a-/AOh14Gj-3rbInttHw_wvyiLPSmYAdgOUmDm2bFbC-AEvbw=s64",
      "userId": "02906791875441644303"
     },
     "user_tz": 180
    },
    "id": "B0Q614FobDzK"
   },
   "outputs": [],
   "source": [
    "#forecast.to_excel ('forecast.xlsx', index = True, header=True, sheet_name = 'Dados')"
   ]
  },
  {
   "cell_type": "code",
   "execution_count": 34,
   "metadata": {},
   "outputs": [
    {
     "name": "stdout",
     "output_type": "stream",
     "text": [
      "<class 'pandas.core.frame.DataFrame'>\n",
      "DatetimeIndex: 12 entries, 2019-01-01 to 2019-12-01\n",
      "Freq: MS\n",
      "Data columns (total 8 columns):\n",
      " #   Column       Non-Null Count  Dtype  \n",
      "---  ------       --------------  -----  \n",
      " 0   qtd_sarima   12 non-null     float64\n",
      " 1   qtd_prophet  12 non-null     float64\n",
      " 2   qtd_lstm     12 non-null     float64\n",
      " 3   acm_sarima   12 non-null     float64\n",
      " 4   acm_prophet  12 non-null     float64\n",
      " 5   acm_lstm     12 non-null     float64\n",
      " 6   sk_tempo     12 non-null     int64  \n",
      " 7   sk_protudo   12 non-null     int64  \n",
      "dtypes: float64(6), int64(2)\n",
      "memory usage: 864.0 bytes\n"
     ]
    }
   ],
   "source": [
    "df_export = forecast.copy()\n",
    "df_export[\"sk_tempo\"] = df_export.index.strftime('%Y%m%d').astype(int)\n",
    "df_export[\"sk_protudo\"] = 5795\n",
    "\n",
    "df_export.drop(['value','Ac_venda'], axis=1, inplace=True)\n",
    "df_export = df_export.rename(columns={\"PROPHET\":\"qtd_prophet\",\"Ac_PROPHET\":\"acm_prophet\"})\n",
    "df_export = df_export.rename(columns={\"LSTM\":\"qtd_lstm\",\"Ac_LSTM\":\"acm_lstm\"})\n",
    "df_export = df_export.rename(columns={\"SARIMA\":\"qtd_sarima\",\"Ac_SArima\":\"acm_sarima\"})\n",
    "\n",
    "df_export.info()"
   ]
  },
  {
   "cell_type": "code",
   "execution_count": 35,
   "metadata": {
    "executionInfo": {
     "elapsed": 58734,
     "status": "ok",
     "timestamp": 1611535843318,
     "user": {
      "displayName": "Rafael de Miranda da Costa Leite",
      "photoUrl": "https://lh3.googleusercontent.com/a-/AOh14Gj-3rbInttHw_wvyiLPSmYAdgOUmDm2bFbC-AEvbw=s64",
      "userId": "02906791875441644303"
     },
     "user_tz": 180
    },
    "id": "nY3RBscfz2Fd"
   },
   "outputs": [
    {
     "name": "stdout",
     "output_type": "stream",
     "text": [
      "(20190101, 5795, 'LSTM', Decimal('356.95'), Decimal('356.95'))\n",
      "(20190101, 5795, 'Prophet', Decimal('285.93'), Decimal('285.93'))\n",
      "(20190101, 5795, 'SArima', Decimal('84.35'), Decimal('84.35'))\n",
      "(20190201, 5795, 'LSTM', Decimal('478.69'), Decimal('835.64'))\n",
      "(20190201, 5795, 'Prophet', Decimal('359.18'), Decimal('645.11'))\n",
      "(20190201, 5795, 'SArima', Decimal('343.33'), Decimal('427.68'))\n",
      "(20190301, 5795, 'LSTM', Decimal('602.61'), Decimal('1438.24'))\n",
      "(20190301, 5795, 'Prophet', Decimal('663.92'), Decimal('1309.03'))\n",
      "(20190301, 5795, 'SArima', Decimal('928.60'), Decimal('1356.28'))\n",
      "(20190401, 5795, 'LSTM', Decimal('443.09'), Decimal('1881.33'))\n",
      "(20190401, 5795, 'Prophet', Decimal('238.08'), Decimal('1547.10'))\n",
      "(20190401, 5795, 'SArima', Decimal('160.04'), Decimal('1516.31'))\n",
      "(20190501, 5795, 'LSTM', Decimal('458.69'), Decimal('2340.02'))\n",
      "(20190501, 5795, 'Prophet', Decimal('231.04'), Decimal('1778.14'))\n",
      "(20190501, 5795, 'SArima', Decimal('503.98'), Decimal('2020.29'))\n",
      "(20190601, 5795, 'LSTM', Decimal('604.87'), Decimal('2944.89'))\n",
      "(20190601, 5795, 'Prophet', Decimal('703.43'), Decimal('2481.57'))\n",
      "(20190601, 5795, 'SArima', Decimal('446.81'), Decimal('2467.10'))\n",
      "(20190701, 5795, 'LSTM', Decimal('718.44'), Decimal('3663.33'))\n",
      "(20190701, 5795, 'Prophet', Decimal('699.29'), Decimal('3180.86'))\n",
      "(20190701, 5795, 'SArima', Decimal('737.20'), Decimal('3204.30'))\n",
      "(20190801, 5795, 'LSTM', Decimal('544.12'), Decimal('4207.45'))\n",
      "(20190801, 5795, 'Prophet', Decimal('286.12'), Decimal('3466.98'))\n",
      "(20190801, 5795, 'SArima', Decimal('437.59'), Decimal('3641.89'))\n",
      "(20190901, 5795, 'LSTM', Decimal('441.97'), Decimal('4649.43'))\n",
      "(20190901, 5795, 'Prophet', Decimal('804.88'), Decimal('4271.86'))\n",
      "(20190901, 5795, 'SArima', Decimal('316.11'), Decimal('3958.01'))\n",
      "(20191001, 5795, 'LSTM', Decimal('523.28'), Decimal('5172.70'))\n",
      "(20191001, 5795, 'Prophet', Decimal('275.65'), Decimal('4547.51'))\n",
      "(20191001, 5795, 'SArima', Decimal('289.80'), Decimal('4247.80'))\n",
      "(20191101, 5795, 'LSTM', Decimal('756.89'), Decimal('5929.59'))\n",
      "(20191101, 5795, 'Prophet', Decimal('196.09'), Decimal('4743.60'))\n",
      "(20191101, 5795, 'SArima', Decimal('225.17'), Decimal('4472.98'))\n",
      "(20191201, 5795, 'LSTM', Decimal('794.06'), Decimal('6723.65'))\n",
      "(20191201, 5795, 'Prophet', Decimal('877.63'), Decimal('5621.23'))\n",
      "(20191201, 5795, 'SArima', Decimal('1074.27'), Decimal('5547.25'))\n"
     ]
    }
   ],
   "source": [
    "#Grava dados no MySQL\n",
    "try:\n",
    "    # Connect to the database\n",
    "    connection = mysql.connector.connect(host='localhost',\n",
    "                                         database='projeto',\n",
    "                                         user='root',\n",
    "                                         password='12345678')\n",
    "\n",
    "    cursor = connection.cursor()\n",
    "\n",
    "    # Create a new record\n",
    "    query = \"\"\"DELETE FROM projeto.fato_predicao WHERE sk_protudo=5795 \"\"\"\n",
    "\n",
    "    cursor.execute(query)\n",
    "\n",
    "    # connection is not autocommit by default. So we must commit to save our changes.\n",
    "    connection.commit()\n",
    "\n",
    "    # Create a new record\n",
    "    #query = \"\"\"INSERT INTO projeto.fato_predicao (sk_tempo, sk_protudo, qtd_predicao, qtd_acumula) VALUES(%s, %s, %s, %s) ON DUPLICATE KEY UPDATE qtd_predicao=%s, qtd_acumula=%s\"\"\"\n",
    "    #cursor.execute(query, (df_export.sk_tempo[i], df_export.sk_protudo[i], df_export.PROPHET[i], df_export.Ac_PROPHET[i], df_export.PROPHET[i], df_export.Ac_PROPHET[i]))\n",
    "\n",
    "    query = \"\"\"INSERT INTO projeto.fato_predicao (sk_tempo, sk_protudo, no_modelo, qtd_predicao, qtd_acumula) VALUES(%s, %s, %s, %s, %s) ON DUPLICATE KEY UPDATE qtd_predicao=%s, qtd_acumula=%s\"\"\"\n",
    "    \n",
    "    for index, row in df_export.iterrows():\n",
    "        #Grava dados PROPHET\n",
    "        cModelo = 'Prophet'\n",
    "        nQtdInsert = row['qtd_prophet'].item() \n",
    "        nAcmInsert = row['acm_prophet'].item()\n",
    "        \n",
    "        cursor.execute(query, (row['sk_tempo'].item(), row['sk_protudo'].item(), cModelo, nQtdInsert, nAcmInsert, nQtdInsert, nAcmInsert))       \n",
    "\n",
    "        #Grava dados SArima        \n",
    "        cModelo = 'SArima'\n",
    "        nQtdInsert = row['qtd_sarima'].item() \n",
    "        nAcmInsert = row['acm_sarima'].item()\n",
    "        \n",
    "        cursor.execute(query, (row['sk_tempo'].item(), row['sk_protudo'].item(), cModelo, nQtdInsert, nAcmInsert, nQtdInsert, nAcmInsert))       \n",
    "\n",
    "        #Grava dados LSTM        \n",
    "        cModelo = 'LSTM'\n",
    "        nQtdInsert = row['qtd_lstm'].item() \n",
    "        nAcmInsert = row['acm_lstm'].item()\n",
    "        \n",
    "        cursor.execute(query, (row['sk_tempo'].item(), row['sk_protudo'].item(), cModelo, nQtdInsert, nAcmInsert, nQtdInsert, nAcmInsert))       \n",
    "\n",
    "    # connection is not autocommit by default. So we must commit to save our changes.\n",
    "    connection.commit()\n",
    "\n",
    "    # Execute query\n",
    "    sql = \"SELECT * FROM projeto.fato_predicao\"\n",
    "    \n",
    "    cursor.execute(sql)\n",
    "    \n",
    "    # Fetch all the records\n",
    "    result = cursor.fetchall()\n",
    "    \n",
    "    for i in result:\n",
    "        print(i)\n",
    "\n",
    "finally:\n",
    "    # close the database connection using close() method.\n",
    "    connection.close()"
   ]
  },
  {
   "cell_type": "code",
   "execution_count": null,
   "metadata": {},
   "outputs": [],
   "source": []
  }
 ],
 "metadata": {
  "colab": {
   "authorship_tag": "ABX9TyPyUqI1rQJt6rqtTenTltJQ",
   "collapsed_sections": [],
   "name": "python-time-series-modelos.ipynb",
   "provenance": []
  },
  "kernelspec": {
   "display_name": "Python 3",
   "language": "python",
   "name": "python3"
  },
  "language_info": {
   "codemirror_mode": {
    "name": "ipython",
    "version": 3
   },
   "file_extension": ".py",
   "mimetype": "text/x-python",
   "name": "python",
   "nbconvert_exporter": "python",
   "pygments_lexer": "ipython3",
   "version": "3.8.3"
  }
 },
 "nbformat": 4,
 "nbformat_minor": 4
}
