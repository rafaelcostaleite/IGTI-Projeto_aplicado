{
 "cells": [
  {
   "cell_type": "code",
   "execution_count": null,
   "metadata": {
    "colab": {
     "base_uri": "https://localhost:8080/"
    },
    "executionInfo": {
     "elapsed": 5889,
     "status": "ok",
     "timestamp": 1611535790283,
     "user": {
      "displayName": "Rafael de Miranda da Costa Leite",
      "photoUrl": "https://lh3.googleusercontent.com/a-/AOh14Gj-3rbInttHw_wvyiLPSmYAdgOUmDm2bFbC-AEvbw=s64",
      "userId": "02906791875441644303"
     },
     "user_tz": 180
    },
    "id": "UuLK8aBwJgzT",
    "outputId": "f61d5bc7-82fb-45f7-9c7c-539039a08957"
   },
   "outputs": [
    {
     "name": "stdout",
     "output_type": "stream",
     "text": [
      "Requirement already satisfied: pmdarima in /home/rafael/Apps/anaconda3/lib/python3.8/site-packages (1.8.0)\n",
      "Requirement already satisfied: joblib>=0.11 in /home/rafael/Apps/anaconda3/lib/python3.8/site-packages (from pmdarima) (0.16.0)\n",
      "Requirement already satisfied: urllib3 in /home/rafael/Apps/anaconda3/lib/python3.8/site-packages (from pmdarima) (1.25.9)\n",
      "Requirement already satisfied: scipy>=1.3.2 in /home/rafael/Apps/anaconda3/lib/python3.8/site-packages (from pmdarima) (1.5.0)\n",
      "Requirement already satisfied: setuptools!=50.0.0,>=38.6.0 in /home/rafael/Apps/anaconda3/lib/python3.8/site-packages (from pmdarima) (49.2.0.post20200714)\n",
      "Requirement already satisfied: numpy>=1.17.3 in /home/rafael/Apps/anaconda3/lib/python3.8/site-packages (from pmdarima) (1.19.5)\n",
      "Requirement already satisfied: statsmodels!=0.12.0,>=0.11 in /home/rafael/Apps/anaconda3/lib/python3.8/site-packages (from pmdarima) (0.11.1)\n",
      "Requirement already satisfied: Cython<0.29.18,>=0.29 in /home/rafael/Apps/anaconda3/lib/python3.8/site-packages (from pmdarima) (0.29.17)\n",
      "Requirement already satisfied: pandas>=0.19 in /home/rafael/Apps/anaconda3/lib/python3.8/site-packages (from pmdarima) (1.0.5)\n",
      "Requirement already satisfied: scikit-learn>=0.22 in /home/rafael/Apps/anaconda3/lib/python3.8/site-packages (from pmdarima) (0.23.1)\n",
      "Requirement already satisfied: pytz>=2017.2 in /home/rafael/Apps/anaconda3/lib/python3.8/site-packages (from pandas>=0.19->pmdarima) (2019.3)\n",
      "Requirement already satisfied: python-dateutil>=2.6.1 in /home/rafael/Apps/anaconda3/lib/python3.8/site-packages (from pandas>=0.19->pmdarima) (2.8.1)\n",
      "Requirement already satisfied: six>=1.5 in /home/rafael/Apps/anaconda3/lib/python3.8/site-packages (from python-dateutil>=2.6.1->pandas>=0.19->pmdarima) (1.15.0)\n",
      "Requirement already satisfied: threadpoolctl>=2.0.0 in /home/rafael/Apps/anaconda3/lib/python3.8/site-packages (from scikit-learn>=0.22->pmdarima) (2.1.0)\n",
      "Requirement already satisfied: patsy>=0.5 in /home/rafael/Apps/anaconda3/lib/python3.8/site-packages (from statsmodels!=0.12.0,>=0.11->pmdarima) (0.5.1)\n",
      "Requirement already satisfied: mysql-connector-python in /home/rafael/Apps/anaconda3/lib/python3.8/site-packages (8.0.23)\n",
      "Requirement already satisfied: protobuf>=3.0.0 in /home/rafael/Apps/anaconda3/lib/python3.8/site-packages (from mysql-connector-python) (3.15.5)\n",
      "Requirement already satisfied: six>=1.9 in /home/rafael/Apps/anaconda3/lib/python3.8/site-packages (from protobuf>=3.0.0->mysql-connector-python) (1.15.0)\n",
      "Requirement already satisfied: keras in /home/rafael/Apps/anaconda3/lib/python3.8/site-packages (2.4.3)\n",
      "Requirement already satisfied: scipy>=0.14 in /home/rafael/Apps/anaconda3/lib/python3.8/site-packages (from keras) (1.5.0)\n",
      "Requirement already satisfied: h5py in /home/rafael/Apps/anaconda3/lib/python3.8/site-packages (from keras) (2.10.0)\n",
      "Requirement already satisfied: numpy>=1.9.1 in /home/rafael/Apps/anaconda3/lib/python3.8/site-packages (from keras) (1.19.5)\n",
      "Requirement already satisfied: pyyaml in /home/rafael/Apps/anaconda3/lib/python3.8/site-packages (from keras) (5.3.1)\n",
      "Requirement already satisfied: six in /home/rafael/Apps/anaconda3/lib/python3.8/site-packages (from h5py->keras) (1.15.0)\n",
      "Requirement already satisfied: tensorflow in /home/rafael/Apps/anaconda3/lib/python3.8/site-packages (2.4.1)\n",
      "Requirement already satisfied: absl-py~=0.10 in /home/rafael/Apps/anaconda3/lib/python3.8/site-packages (from tensorflow) (0.12.0)\n",
      "Requirement already satisfied: termcolor~=1.1.0 in /home/rafael/Apps/anaconda3/lib/python3.8/site-packages (from tensorflow) (1.1.0)\n",
      "Requirement already satisfied: protobuf>=3.9.2 in /home/rafael/Apps/anaconda3/lib/python3.8/site-packages (from tensorflow) (3.15.5)\n",
      "Requirement already satisfied: opt-einsum~=3.3.0 in /home/rafael/Apps/anaconda3/lib/python3.8/site-packages (from tensorflow) (3.3.0)\n",
      "Requirement already satisfied: gast==0.3.3 in /home/rafael/Apps/anaconda3/lib/python3.8/site-packages (from tensorflow) (0.3.3)\n",
      "Requirement already satisfied: tensorflow-estimator<2.5.0,>=2.4.0 in /home/rafael/Apps/anaconda3/lib/python3.8/site-packages (from tensorflow) (2.4.0)\n",
      "Requirement already satisfied: six~=1.15.0 in /home/rafael/Apps/anaconda3/lib/python3.8/site-packages (from tensorflow) (1.15.0)\n",
      "Requirement already satisfied: keras-preprocessing~=1.1.2 in /home/rafael/Apps/anaconda3/lib/python3.8/site-packages (from tensorflow) (1.1.2)\n",
      "Requirement already satisfied: flatbuffers~=1.12.0 in /home/rafael/Apps/anaconda3/lib/python3.8/site-packages (from tensorflow) (1.12)\n",
      "Requirement already satisfied: h5py~=2.10.0 in /home/rafael/Apps/anaconda3/lib/python3.8/site-packages (from tensorflow) (2.10.0)\n",
      "Requirement already satisfied: numpy~=1.19.2 in /home/rafael/Apps/anaconda3/lib/python3.8/site-packages (from tensorflow) (1.19.5)\n",
      "Requirement already satisfied: typing-extensions~=3.7.4 in /home/rafael/Apps/anaconda3/lib/python3.8/site-packages (from tensorflow) (3.7.4.2)\n",
      "Requirement already satisfied: wheel~=0.35 in /home/rafael/Apps/anaconda3/lib/python3.8/site-packages (from tensorflow) (0.36.2)\n",
      "Requirement already satisfied: wrapt~=1.12.1 in /home/rafael/Apps/anaconda3/lib/python3.8/site-packages (from tensorflow) (1.12.1)\n",
      "Requirement already satisfied: tensorboard~=2.4 in /home/rafael/Apps/anaconda3/lib/python3.8/site-packages (from tensorflow) (2.4.1)\n",
      "Requirement already satisfied: astunparse~=1.6.3 in /home/rafael/Apps/anaconda3/lib/python3.8/site-packages (from tensorflow) (1.6.3)\n",
      "Requirement already satisfied: grpcio~=1.32.0 in /home/rafael/Apps/anaconda3/lib/python3.8/site-packages (from tensorflow) (1.32.0)\n",
      "Requirement already satisfied: google-pasta~=0.2 in /home/rafael/Apps/anaconda3/lib/python3.8/site-packages (from tensorflow) (0.2.0)\n",
      "Requirement already satisfied: markdown>=2.6.8 in /home/rafael/Apps/anaconda3/lib/python3.8/site-packages (from tensorboard~=2.4->tensorflow) (3.3.4)\n",
      "Requirement already satisfied: google-auth-oauthlib<0.5,>=0.4.1 in /home/rafael/Apps/anaconda3/lib/python3.8/site-packages (from tensorboard~=2.4->tensorflow) (0.4.4)\n",
      "Requirement already satisfied: google-auth<2,>=1.6.3 in /home/rafael/Apps/anaconda3/lib/python3.8/site-packages (from tensorboard~=2.4->tensorflow) (1.28.0)\n",
      "Requirement already satisfied: requests<3,>=2.21.0 in /home/rafael/Apps/anaconda3/lib/python3.8/site-packages (from tensorboard~=2.4->tensorflow) (2.24.0)\n",
      "Requirement already satisfied: werkzeug>=0.11.15 in /home/rafael/Apps/anaconda3/lib/python3.8/site-packages (from tensorboard~=2.4->tensorflow) (1.0.1)\n",
      "Requirement already satisfied: tensorboard-plugin-wit>=1.6.0 in /home/rafael/Apps/anaconda3/lib/python3.8/site-packages (from tensorboard~=2.4->tensorflow) (1.8.0)\n",
      "Requirement already satisfied: setuptools>=41.0.0 in /home/rafael/Apps/anaconda3/lib/python3.8/site-packages (from tensorboard~=2.4->tensorflow) (49.2.0.post20200714)\n",
      "Requirement already satisfied: cachetools<5.0,>=2.0.0 in /home/rafael/Apps/anaconda3/lib/python3.8/site-packages (from google-auth<2,>=1.6.3->tensorboard~=2.4->tensorflow) (4.2.1)\n",
      "Requirement already satisfied: rsa<5,>=3.1.4 in /home/rafael/Apps/anaconda3/lib/python3.8/site-packages (from google-auth<2,>=1.6.3->tensorboard~=2.4->tensorflow) (4.7.2)\n",
      "Requirement already satisfied: pyasn1-modules>=0.2.1 in /home/rafael/Apps/anaconda3/lib/python3.8/site-packages (from google-auth<2,>=1.6.3->tensorboard~=2.4->tensorflow) (0.2.8)\n",
      "Requirement already satisfied: requests-oauthlib>=0.7.0 in /home/rafael/Apps/anaconda3/lib/python3.8/site-packages (from google-auth-oauthlib<0.5,>=0.4.1->tensorboard~=2.4->tensorflow) (1.3.0)\n",
      "Requirement already satisfied: pyasn1<0.5.0,>=0.4.6 in /home/rafael/Apps/anaconda3/lib/python3.8/site-packages (from pyasn1-modules>=0.2.1->google-auth<2,>=1.6.3->tensorboard~=2.4->tensorflow) (0.4.8)\n",
      "Requirement already satisfied: chardet<4,>=3.0.2 in /home/rafael/Apps/anaconda3/lib/python3.8/site-packages (from requests<3,>=2.21.0->tensorboard~=2.4->tensorflow) (3.0.4)\n",
      "Requirement already satisfied: certifi>=2017.4.17 in /home/rafael/Apps/anaconda3/lib/python3.8/site-packages (from requests<3,>=2.21.0->tensorboard~=2.4->tensorflow) (2020.6.20)\n",
      "Requirement already satisfied: idna<3,>=2.5 in /home/rafael/Apps/anaconda3/lib/python3.8/site-packages (from requests<3,>=2.21.0->tensorboard~=2.4->tensorflow) (2.10)\n",
      "Requirement already satisfied: urllib3!=1.25.0,!=1.25.1,<1.26,>=1.21.1 in /home/rafael/Apps/anaconda3/lib/python3.8/site-packages (from requests<3,>=2.21.0->tensorboard~=2.4->tensorflow) (1.25.9)\n",
      "Requirement already satisfied: oauthlib>=3.0.0 in /home/rafael/Apps/anaconda3/lib/python3.8/site-packages (from requests-oauthlib>=0.7.0->google-auth-oauthlib<0.5,>=0.4.1->tensorboard~=2.4->tensorflow) (3.1.0)\n"
     ]
    }
   ],
   "source": [
    "#instalação de pacotes\n",
    "#!pip3 install pyramid-arima\n",
    "!pip install pmdarima\n",
    "!pip install mysql-connector-python\n",
    "!pip install keras\n",
    "!pip install tensorflow"
   ]
  },
  {
   "cell_type": "code",
   "execution_count": null,
   "metadata": {
    "executionInfo": {
     "elapsed": 5882,
     "status": "ok",
     "timestamp": 1611535790285,
     "user": {
      "displayName": "Rafael de Miranda da Costa Leite",
      "photoUrl": "https://lh3.googleusercontent.com/a-/AOh14Gj-3rbInttHw_wvyiLPSmYAdgOUmDm2bFbC-AEvbw=s64",
      "userId": "02906791875441644303"
     },
     "user_tz": 180
    },
    "id": "MyI1os5XJlqv"
   },
   "outputs": [],
   "source": [
    "#from statsmodels.tsa.stattools import adfuller\n",
    "#from numpy import log\n",
    "#from statsmodels.graphics.tsaplots import plot_acf, plot_pacf\n"
   ]
  },
  {
   "cell_type": "markdown",
   "metadata": {
    "id": "oSiipM3hu9Qu"
   },
   "source": [
    "# Importa dados"
   ]
  },
  {
   "cell_type": "code",
   "execution_count": null,
   "metadata": {},
   "outputs": [],
   "source": [
    "\n",
    "import numpy as np\n",
    "import pandas as pd\n",
    "import mysql.connector\n",
    "\n",
    "#Conecta com banco MySQL\n",
    "try:\n",
    "    connection = mysql.connector.connect(host='localhost',\n",
    "                                         database='projeto',\n",
    "                                         user='root',\n",
    "                                         password='12345678')\n",
    "\n",
    "    sql_select_Query = \"select ds_data_sem_hora \\\n",
    "                        ,isbn_produto \\\n",
    "                        ,qtd_venda  \\\n",
    "                        from fato_venda as ft \\\n",
    "                        , dim_tempo as tp \\\n",
    "                        , dim_produto as pd \\\n",
    "                        where tp.sk_tempo = ft.sk_tempo \\\n",
    "                        and pd.sk_produto = ft.sk_protudo;\"\n",
    "    \n",
    "    cursor = connection.cursor()\n",
    "    cursor.execute(sql_select_Query)\n",
    "    \n",
    "    #carrega dados\n",
    "    records = cursor.fetchall()\n",
    "\n",
    "    data_sql = pd.DataFrame(records)\n",
    "\n",
    "except mysql.connector.Error as e:\n",
    "    print(\"Error reading data from MySQL table\", e)\n",
    "finally:\n",
    "    if connection.is_connected():\n",
    "        connection.close()\n",
    "        cursor.close()\n",
    "        print(\"MySQL connection is closed\")\n",
    "        \n",
    "data_sql.info()"
   ]
  },
  {
   "cell_type": "code",
   "execution_count": null,
   "metadata": {},
   "outputs": [],
   "source": [
    "#ajusta dados para a predição\n",
    "df1 = data_sql\n",
    "\n",
    "#adiciona nome nas colunas\n",
    "df1 = df1.rename(columns={0: \"date\",1:\"isbn\", 2: \"value\"})\n",
    "\n",
    "#transforma para datetime\n",
    "df1[\"date\"] = pd.to_datetime(df1[\"date\"])\n",
    "\n",
    "#ordena\n",
    "df1 = df1.sort_values('date')\n",
    "\n",
    "#soma quantidade em datas iguais\n",
    "df1 = df1.groupby('date')['value'].sum().reset_index()\n",
    "\n",
    "#transforma a data em indice\n",
    "df1 = df1.set_index('date')\n",
    "\n",
    "#agrupa na soma do mês\n",
    "df1 = df1['value'].resample('MS').sum()"
   ]
  },
  {
   "cell_type": "markdown",
   "metadata": {
    "id": "oMRp_5Hpu6hO"
   },
   "source": [
    "Prepara dados"
   ]
  },
  {
   "cell_type": "code",
   "execution_count": null,
   "metadata": {
    "executionInfo": {
     "elapsed": 6161,
     "status": "ok",
     "timestamp": 1611535790580,
     "user": {
      "displayName": "Rafael de Miranda da Costa Leite",
      "photoUrl": "https://lh3.googleusercontent.com/a-/AOh14Gj-3rbInttHw_wvyiLPSmYAdgOUmDm2bFbC-AEvbw=s64",
      "userId": "02906791875441644303"
     },
     "user_tz": 180
    },
    "id": "YKvp5fbBVI0-"
   },
   "outputs": [],
   "source": [
    "#Separa dados\n",
    "train = df1.loc[:'2018-12-31']\n",
    "test = df1.loc['2019-01-01':]"
   ]
  },
  {
   "cell_type": "markdown",
   "metadata": {
    "id": "g18_JT40vAcC"
   },
   "source": [
    "# Analisa os dados"
   ]
  },
  {
   "cell_type": "code",
   "execution_count": null,
   "metadata": {
    "colab": {
     "base_uri": "https://localhost:8080/",
     "height": 297
    },
    "executionInfo": {
     "elapsed": 7781,
     "status": "ok",
     "timestamp": 1611535792205,
     "user": {
      "displayName": "Rafael de Miranda da Costa Leite",
      "photoUrl": "https://lh3.googleusercontent.com/a-/AOh14Gj-3rbInttHw_wvyiLPSmYAdgOUmDm2bFbC-AEvbw=s64",
      "userId": "02906791875441644303"
     },
     "user_tz": 180
    },
    "id": "acpRaZR3Ie85",
    "outputId": "fc2a04c4-e0e1-4ed4-834c-4fc21e15eb08"
   },
   "outputs": [],
   "source": [
    "from pylab import rcParams\n",
    "from statsmodels.tsa.seasonal import seasonal_decompose\n",
    "import statsmodels.api as sm\n",
    "import matplotlib.pyplot as plt\n",
    "\n",
    "a = seasonal_decompose(df1, model = \"add\")\n",
    "a.plot();"
   ]
  },
  {
   "cell_type": "code",
   "execution_count": null,
   "metadata": {
    "colab": {
     "base_uri": "https://localhost:8080/",
     "height": 406
    },
    "executionInfo": {
     "elapsed": 7765,
     "status": "ok",
     "timestamp": 1611535792206,
     "user": {
      "displayName": "Rafael de Miranda da Costa Leite",
      "photoUrl": "https://lh3.googleusercontent.com/a-/AOh14Gj-3rbInttHw_wvyiLPSmYAdgOUmDm2bFbC-AEvbw=s64",
      "userId": "02906791875441644303"
     },
     "user_tz": 180
    },
    "id": "pnToCXWA-DBM",
    "outputId": "ccf7f152-755f-4d64-d126-e986aac771a7"
   },
   "outputs": [],
   "source": [
    "#Boxplot\n",
    "import seaborn\n",
    "\n",
    "fig, ax = plt.subplots(figsize=(12,5))\n",
    "seaborn.boxplot(df1, ax=ax)"
   ]
  },
  {
   "cell_type": "code",
   "execution_count": null,
   "metadata": {
    "colab": {
     "base_uri": "https://localhost:8080/",
     "height": 334
    },
    "executionInfo": {
     "elapsed": 8059,
     "status": "ok",
     "timestamp": 1611535792513,
     "user": {
      "displayName": "Rafael de Miranda da Costa Leite",
      "photoUrl": "https://lh3.googleusercontent.com/a-/AOh14Gj-3rbInttHw_wvyiLPSmYAdgOUmDm2bFbC-AEvbw=s64",
      "userId": "02906791875441644303"
     },
     "user_tz": 180
    },
    "id": "D7OJspOhAHfg",
    "outputId": "107ed0f6-d3bf-4050-ab93-b06dafaf394b"
   },
   "outputs": [],
   "source": [
    "#Histograma\n",
    "seaborn.distplot(df1, hist=True, kde=True, \n",
    "             bins=5, color = 'darkblue', \n",
    "             hist_kws={'edgecolor':'black'},\n",
    "             kde_kws={'linewidth': 3});"
   ]
  },
  {
   "cell_type": "code",
   "execution_count": null,
   "metadata": {
    "colab": {
     "base_uri": "https://localhost:8080/",
     "height": 297
    },
    "executionInfo": {
     "elapsed": 8760,
     "status": "ok",
     "timestamp": 1611535793221,
     "user": {
      "displayName": "Rafael de Miranda da Costa Leite",
      "photoUrl": "https://lh3.googleusercontent.com/a-/AOh14Gj-3rbInttHw_wvyiLPSmYAdgOUmDm2bFbC-AEvbw=s64",
      "userId": "02906791875441644303"
     },
     "user_tz": 180
    },
    "id": "1l0N5nt2CWZk",
    "outputId": "2ea8e0e3-ce06-427b-8f24-63610d99c0f4"
   },
   "outputs": [],
   "source": [
    "for i, binwidth in enumerate([5, 10, 15, 20]):\n",
    "    \n",
    "    # Set up the plot\n",
    "    ax = plt.subplot(2, 2, i + 1)\n",
    "    \n",
    "    # Draw the plot\n",
    "    ax.hist(df1, bins = binwidth, color = 'blue', edgecolor = 'black')\n",
    "    \n",
    "    # Title and labels\n",
    "    ax.set_title('Histogram with Binwidth = %d' % binwidth, size = 15)\n",
    "    ax.set_xlabel('Quantidade', size = 15)\n",
    "    ax.set_ylabel('Ocorrências', size= 15)\n",
    "\n",
    "plt.tight_layout()\n",
    "plt.show()"
   ]
  },
  {
   "cell_type": "markdown",
   "metadata": {
    "id": "5GUR1JwAGBrK"
   },
   "source": [
    "# Modelos"
   ]
  },
  {
   "cell_type": "markdown",
   "metadata": {
    "id": "a_TDvkyHvKY3"
   },
   "source": [
    "Modelo Auto ARIMA"
   ]
  },
  {
   "cell_type": "code",
   "execution_count": null,
   "metadata": {
    "colab": {
     "base_uri": "https://localhost:8080/"
    },
    "executionInfo": {
     "elapsed": 19470,
     "status": "ok",
     "timestamp": 1611535803937,
     "user": {
      "displayName": "Rafael de Miranda da Costa Leite",
      "photoUrl": "https://lh3.googleusercontent.com/a-/AOh14Gj-3rbInttHw_wvyiLPSmYAdgOUmDm2bFbC-AEvbw=s64",
      "userId": "02906791875441644303"
     },
     "user_tz": 180
    },
    "id": "dCNRCC5zKeEj",
    "outputId": "a3e2195b-2849-4311-8eb7-2626f4097665"
   },
   "outputs": [],
   "source": [
    "import pmdarima as pm\n",
    "\n",
    "#Fit modelo auto-arima\n",
    "fitSArima = pm.auto_arima(df1, start_p=1, start_q=1,\n",
    "                         max_p=3, max_q=3, m=12,\n",
    "                         start_P=0, seasonal=True,\n",
    "                         d=None, D=1, trace=False,\n",
    "                         error_action='ignore',  \n",
    "                         suppress_warnings=True, \n",
    "                         stepwise=True)\n",
    "\n",
    "#test='adf',\n",
    "\n",
    "#fitSArima = pm.auto_arima(df1, seasonal=True, m=12,max_p=7, max_d=5,max_q=7, max_P=4, max_D=4,max_Q=4) \n",
    "\n",
    "fitSArima.fit(train)"
   ]
  },
  {
   "cell_type": "code",
   "execution_count": null,
   "metadata": {
    "colab": {
     "base_uri": "https://localhost:8080/",
     "height": 420
    },
    "executionInfo": {
     "elapsed": 29797,
     "status": "ok",
     "timestamp": 1611535814270,
     "user": {
      "displayName": "Rafael de Miranda da Costa Leite",
      "photoUrl": "https://lh3.googleusercontent.com/a-/AOh14Gj-3rbInttHw_wvyiLPSmYAdgOUmDm2bFbC-AEvbw=s64",
      "userId": "02906791875441644303"
     },
     "user_tz": 180
    },
    "id": "9GtX92IFLx5h",
    "outputId": "9b953dff-a8bf-49e4-cd1e-9df06fa0026b"
   },
   "outputs": [],
   "source": [
    "#Teste 1\n",
    "pm.auto_arima(df1, start_p=1, start_q=1,max_p=3, max_q=3, m=12,start_P=0, seasonal=True,\n",
    "              d=None, D=1, trace=False,error_action='ignore',suppress_warnings=True,stepwise=True).summary()"
   ]
  },
  {
   "cell_type": "code",
   "execution_count": null,
   "metadata": {
    "executionInfo": {
     "elapsed": 29792,
     "status": "ok",
     "timestamp": 1611535814272,
     "user": {
      "displayName": "Rafael de Miranda da Costa Leite",
      "photoUrl": "https://lh3.googleusercontent.com/a-/AOh14Gj-3rbInttHw_wvyiLPSmYAdgOUmDm2bFbC-AEvbw=s64",
      "userId": "02906791875441644303"
     },
     "user_tz": 180
    },
    "id": "PTvwdvT8JpdQ"
   },
   "outputs": [],
   "source": [
    "#Teste 2\n",
    "#pm.auto_arima(df1, seasonal=True, m=12,max_p=7, max_d=5,max_q=7, max_P=4, max_D=4,max_Q=4).summary()"
   ]
  },
  {
   "cell_type": "code",
   "execution_count": null,
   "metadata": {
    "executionInfo": {
     "elapsed": 29788,
     "status": "ok",
     "timestamp": 1611535814273,
     "user": {
      "displayName": "Rafael de Miranda da Costa Leite",
      "photoUrl": "https://lh3.googleusercontent.com/a-/AOh14Gj-3rbInttHw_wvyiLPSmYAdgOUmDm2bFbC-AEvbw=s64",
      "userId": "02906791875441644303"
     },
     "user_tz": 180
    },
    "id": "PuQuqdKxK7-B"
   },
   "outputs": [],
   "source": [
    "#Forecast auto-arima\n",
    "n_periods = 12\n",
    "predSArima, confint = fitSArima.predict(n_periods=n_periods, return_conf_int=True)\n",
    "\n",
    "#Cria dataseries\n",
    "predSArima = pd.DataFrame(predSArima,index = test.index,columns=['SARIMA'])"
   ]
  },
  {
   "cell_type": "markdown",
   "metadata": {
    "id": "nDrBRDknvHIE"
   },
   "source": [
    "Modelo Prophet"
   ]
  },
  {
   "cell_type": "code",
   "execution_count": null,
   "metadata": {
    "executionInfo": {
     "elapsed": 29787,
     "status": "ok",
     "timestamp": 1611535814275,
     "user": {
      "displayName": "Rafael de Miranda da Costa Leite",
      "photoUrl": "https://lh3.googleusercontent.com/a-/AOh14Gj-3rbInttHw_wvyiLPSmYAdgOUmDm2bFbC-AEvbw=s64",
      "userId": "02906791875441644303"
     },
     "user_tz": 180
    },
    "id": "dGvVEzGevP5Z"
   },
   "outputs": [],
   "source": [
    "#Dados Prophet\n",
    "df2 = data_sql\n",
    "\n",
    "#adiciona nome nas colunas\n",
    "df2 = df2.rename(columns={0: \"ds\",1:\"isbn\", 2: \"y\"})\n",
    "\n",
    "#transforma para datetime\n",
    "df2[\"ds\"] = pd.to_datetime(df2[\"ds\"])\n",
    "\n",
    "df2['ds'] = df2['ds'].values.astype('datetime64[M]')\n",
    "\n",
    "df2 = df2.groupby(['ds']).sum()\n",
    "\n",
    "df2 = df2.reset_index()"
   ]
  },
  {
   "cell_type": "code",
   "execution_count": null,
   "metadata": {
    "colab": {
     "base_uri": "https://localhost:8080/"
    },
    "executionInfo": {
     "elapsed": 31541,
     "status": "ok",
     "timestamp": 1611535816033,
     "user": {
      "displayName": "Rafael de Miranda da Costa Leite",
      "photoUrl": "https://lh3.googleusercontent.com/a-/AOh14Gj-3rbInttHw_wvyiLPSmYAdgOUmDm2bFbC-AEvbw=s64",
      "userId": "02906791875441644303"
     },
     "user_tz": 180
    },
    "id": "_UMZHBeRe_3j",
    "outputId": "16cf1b89-b159-45a2-b409-31b283cac166"
   },
   "outputs": [],
   "source": [
    "from fbprophet import Prophet\n",
    "\n",
    "#Fit modelo Prophet\n",
    "fitProphet = Prophet()\n",
    "\n",
    "fitProphet.fit(df2)"
   ]
  },
  {
   "cell_type": "code",
   "execution_count": null,
   "metadata": {
    "executionInfo": {
     "elapsed": 33453,
     "status": "ok",
     "timestamp": 1611535817950,
     "user": {
      "displayName": "Rafael de Miranda da Costa Leite",
      "photoUrl": "https://lh3.googleusercontent.com/a-/AOh14Gj-3rbInttHw_wvyiLPSmYAdgOUmDm2bFbC-AEvbw=s64",
      "userId": "02906791875441644303"
     },
     "user_tz": 180
    },
    "id": "jrER-SJ4mUmc"
   },
   "outputs": [],
   "source": [
    "#Forecast Prophet\n",
    "future = fitProphet.make_future_dataframe(periods=12, freq='MS')\n",
    "\n",
    "predProphet = fitProphet.predict(future)\n",
    "\n",
    "predProphet1 = predProphet[['ds','yhat']]\n",
    "\n",
    "predProphet1 = predProphet1.set_index('ds')\n",
    "predProphet1 = predProphet1.rename(columns={\"yhat\": \"PROPHET\"})\n",
    "\n",
    "predProphet1 = predProphet1['2019':'2019']"
   ]
  },
  {
   "cell_type": "markdown",
   "metadata": {
    "id": "vaBJwAnqyBLP"
   },
   "source": [
    "Modelo LSTM"
   ]
  },
  {
   "cell_type": "code",
   "execution_count": null,
   "metadata": {},
   "outputs": [],
   "source": [
    "#Dados LSTM\n",
    "\n",
    "#importa dados\n",
    "df3 = data_sql\n",
    "\n",
    "#adiciona nome nas colunas\n",
    "df3 = df3.rename(columns={0: \"ds\",1:\"isbn\", 2: \"Venda\"})\n",
    "\n",
    "#transforma para datetime\n",
    "df3[\"Mes\"] = pd.to_datetime(df3[\"ds\"])\n",
    "\n",
    "df3['Mes'] = df3['Mes'].values.astype('datetime64[M]')\n",
    "\n",
    "df3.drop(['ds','isbn'], axis=1, inplace=True)\n",
    "\n",
    "df3 = df3.groupby(['Mes']).sum()\n",
    "\n",
    "df3 = df3.reset_index()\n",
    "\n",
    "df3 = df3.set_index(\"Mes\")\n",
    "\n",
    "df3.index.freq = 'MS'\n",
    "\n",
    "train_data = df3[:len(df3)-12]\n",
    "test_data = df3[len(df3)-12:]"
   ]
  },
  {
   "cell_type": "code",
   "execution_count": null,
   "metadata": {
    "executionInfo": {
     "elapsed": 33449,
     "status": "ok",
     "timestamp": 1611535817953,
     "user": {
      "displayName": "Rafael de Miranda da Costa Leite",
      "photoUrl": "https://lh3.googleusercontent.com/a-/AOh14Gj-3rbInttHw_wvyiLPSmYAdgOUmDm2bFbC-AEvbw=s64",
      "userId": "02906791875441644303"
     },
     "user_tz": 180
    },
    "id": "J4Na9k9lNYbY"
   },
   "outputs": [],
   "source": [
    "from sklearn.preprocessing import MinMaxScaler\n",
    "scaler = MinMaxScaler()"
   ]
  },
  {
   "cell_type": "code",
   "execution_count": null,
   "metadata": {
    "executionInfo": {
     "elapsed": 33447,
     "status": "ok",
     "timestamp": 1611535817954,
     "user": {
      "displayName": "Rafael de Miranda da Costa Leite",
      "photoUrl": "https://lh3.googleusercontent.com/a-/AOh14Gj-3rbInttHw_wvyiLPSmYAdgOUmDm2bFbC-AEvbw=s64",
      "userId": "02906791875441644303"
     },
     "user_tz": 180
    },
    "id": "-QYaskWVNYbY"
   },
   "outputs": [],
   "source": [
    "scaler.fit(train_data)\n",
    "scaled_train_data = scaler.transform(train_data)\n",
    "scaled_test_data = scaler.transform(test_data)"
   ]
  },
  {
   "cell_type": "code",
   "execution_count": null,
   "metadata": {
    "executionInfo": {
     "elapsed": 35272,
     "status": "ok",
     "timestamp": 1611535819784,
     "user": {
      "displayName": "Rafael de Miranda da Costa Leite",
      "photoUrl": "https://lh3.googleusercontent.com/a-/AOh14Gj-3rbInttHw_wvyiLPSmYAdgOUmDm2bFbC-AEvbw=s64",
      "userId": "02906791875441644303"
     },
     "user_tz": 180
    },
    "id": "fcObEiVKNYbY"
   },
   "outputs": [],
   "source": [
    "from keras.preprocessing.sequence import TimeseriesGenerator\n",
    "\n",
    "n_input = 12\n",
    "n_features= 1\n",
    "generator = TimeseriesGenerator(scaled_train_data, scaled_train_data, length=n_input, batch_size=1)"
   ]
  },
  {
   "cell_type": "code",
   "execution_count": null,
   "metadata": {
    "colab": {
     "base_uri": "https://localhost:8080/"
    },
    "executionInfo": {
     "elapsed": 35269,
     "status": "ok",
     "timestamp": 1611535819785,
     "user": {
      "displayName": "Rafael de Miranda da Costa Leite",
      "photoUrl": "https://lh3.googleusercontent.com/a-/AOh14Gj-3rbInttHw_wvyiLPSmYAdgOUmDm2bFbC-AEvbw=s64",
      "userId": "02906791875441644303"
     },
     "user_tz": 180
    },
    "id": "niryx9RJNYbZ",
    "outputId": "de76434f-4746-49d2-876d-41ea23e18348"
   },
   "outputs": [],
   "source": [
    "from keras.models import Sequential\n",
    "from keras.layers import Dense\n",
    "from keras.layers import LSTM\n",
    "\n",
    "lstm_model = Sequential()\n",
    "lstm_model.add(LSTM(200, activation='relu', input_shape=(n_input, n_features)))\n",
    "lstm_model.add(Dense(1))\n",
    "lstm_model.compile(optimizer='adam', loss='mse')\n",
    "\n",
    "lstm_model.summary()"
   ]
  },
  {
   "cell_type": "code",
   "execution_count": null,
   "metadata": {
    "colab": {
     "base_uri": "https://localhost:8080/"
    },
    "executionInfo": {
     "elapsed": 56336,
     "status": "ok",
     "timestamp": 1611535840857,
     "user": {
      "displayName": "Rafael de Miranda da Costa Leite",
      "photoUrl": "https://lh3.googleusercontent.com/a-/AOh14Gj-3rbInttHw_wvyiLPSmYAdgOUmDm2bFbC-AEvbw=s64",
      "userId": "02906791875441644303"
     },
     "user_tz": 180
    },
    "id": "KQ0aNvA-NYbZ",
    "outputId": "cd5ad4b6-c2ab-412f-ed94-5fd144afc139"
   },
   "outputs": [],
   "source": [
    "nepochs=50\n",
    "lstm_model.fit_generator(generator,epochs=nepochs)"
   ]
  },
  {
   "cell_type": "code",
   "execution_count": null,
   "metadata": {
    "colab": {
     "base_uri": "https://localhost:8080/",
     "height": 497
    },
    "executionInfo": {
     "elapsed": 56733,
     "status": "ok",
     "timestamp": 1611535841260,
     "user": {
      "displayName": "Rafael de Miranda da Costa Leite",
      "photoUrl": "https://lh3.googleusercontent.com/a-/AOh14Gj-3rbInttHw_wvyiLPSmYAdgOUmDm2bFbC-AEvbw=s64",
      "userId": "02906791875441644303"
     },
     "user_tz": 180
    },
    "id": "Cz-smqKKNYbZ",
    "outputId": "7541ac13-7652-40bf-b103-12294e5a956a"
   },
   "outputs": [],
   "source": [
    "losses_lstm = lstm_model.history.history['loss']\n",
    "plt.figure(figsize=(12,8))\n",
    "plt.xlabel(\"Epochs\")\n",
    "plt.ylabel(\"Loss\")\n",
    "plt.xticks(np.arange(0,nepochs,1))\n",
    "plt.plot(range(len(losses_lstm)),losses_lstm);"
   ]
  },
  {
   "cell_type": "code",
   "execution_count": null,
   "metadata": {
    "executionInfo": {
     "elapsed": 57438,
     "status": "ok",
     "timestamp": 1611535841971,
     "user": {
      "displayName": "Rafael de Miranda da Costa Leite",
      "photoUrl": "https://lh3.googleusercontent.com/a-/AOh14Gj-3rbInttHw_wvyiLPSmYAdgOUmDm2bFbC-AEvbw=s64",
      "userId": "02906791875441644303"
     },
     "user_tz": 180
    },
    "id": "0NIISLnmNYbZ"
   },
   "outputs": [],
   "source": [
    "lstm_predictions_scaled = list()\n",
    "\n",
    "batch = scaled_train_data[-n_input:]\n",
    "current_batch = batch.reshape((1, n_input, n_features))\n",
    "\n",
    "for i in range(len(test_data)):   \n",
    "    lstm_pred = lstm_model.predict(current_batch)[0]\n",
    "    lstm_predictions_scaled.append(lstm_pred) \n",
    "    current_batch = np.append(current_batch[:,1:,:],[[lstm_pred]],axis=1)"
   ]
  },
  {
   "cell_type": "code",
   "execution_count": null,
   "metadata": {
    "executionInfo": {
     "elapsed": 57436,
     "status": "ok",
     "timestamp": 1611535841972,
     "user": {
      "displayName": "Rafael de Miranda da Costa Leite",
      "photoUrl": "https://lh3.googleusercontent.com/a-/AOh14Gj-3rbInttHw_wvyiLPSmYAdgOUmDm2bFbC-AEvbw=s64",
      "userId": "02906791875441644303"
     },
     "user_tz": 180
    },
    "id": "CPXHVASvNYba"
   },
   "outputs": [],
   "source": [
    "lstm_predictions = scaler.inverse_transform(lstm_predictions_scaled)"
   ]
  },
  {
   "cell_type": "code",
   "execution_count": null,
   "metadata": {
    "colab": {
     "base_uri": "https://localhost:8080/"
    },
    "executionInfo": {
     "elapsed": 57433,
     "status": "ok",
     "timestamp": 1611535841973,
     "user": {
      "displayName": "Rafael de Miranda da Costa Leite",
      "photoUrl": "https://lh3.googleusercontent.com/a-/AOh14Gj-3rbInttHw_wvyiLPSmYAdgOUmDm2bFbC-AEvbw=s64",
      "userId": "02906791875441644303"
     },
     "user_tz": 180
    },
    "id": "V1eDYoYcNYba",
    "outputId": "0d3fa310-27e4-40b4-b863-defe6c27f9be"
   },
   "outputs": [],
   "source": [
    "test_data['LSTM'] = lstm_predictions"
   ]
  },
  {
   "cell_type": "markdown",
   "metadata": {
    "id": "KBMF7e_3Fu_t"
   },
   "source": [
    "# Avaliação do Forecast"
   ]
  },
  {
   "cell_type": "code",
   "execution_count": null,
   "metadata": {
    "executionInfo": {
     "elapsed": 57428,
     "status": "ok",
     "timestamp": 1611535841974,
     "user": {
      "displayName": "Rafael de Miranda da Costa Leite",
      "photoUrl": "https://lh3.googleusercontent.com/a-/AOh14Gj-3rbInttHw_wvyiLPSmYAdgOUmDm2bFbC-AEvbw=s64",
      "userId": "02906791875441644303"
     },
     "user_tz": 180
    },
    "id": "TcrxWhwEOjO_"
   },
   "outputs": [],
   "source": [
    "#Concatena predições\n",
    "forecast = pd.concat([test,predSArima,predProphet1],axis=1)\n",
    "forecast['LSTM'] = lstm_predictions"
   ]
  },
  {
   "cell_type": "code",
   "execution_count": null,
   "metadata": {
    "colab": {
     "base_uri": "https://localhost:8080/",
     "height": 417
    },
    "executionInfo": {
     "elapsed": 57424,
     "status": "ok",
     "timestamp": 1611535841974,
     "user": {
      "displayName": "Rafael de Miranda da Costa Leite",
      "photoUrl": "https://lh3.googleusercontent.com/a-/AOh14Gj-3rbInttHw_wvyiLPSmYAdgOUmDm2bFbC-AEvbw=s64",
      "userId": "02906791875441644303"
     },
     "user_tz": 180
    },
    "id": "UrG_xT_K9W00",
    "outputId": "aeb32e9f-201d-485f-a83d-897bc18233f9"
   },
   "outputs": [],
   "source": [
    "forecast"
   ]
  },
  {
   "cell_type": "code",
   "execution_count": null,
   "metadata": {
    "colab": {
     "base_uri": "https://localhost:8080/",
     "height": 295
    },
    "executionInfo": {
     "elapsed": 57833,
     "status": "ok",
     "timestamp": 1611535842389,
     "user": {
      "displayName": "Rafael de Miranda da Costa Leite",
      "photoUrl": "https://lh3.googleusercontent.com/a-/AOh14Gj-3rbInttHw_wvyiLPSmYAdgOUmDm2bFbC-AEvbw=s64",
      "userId": "02906791875441644303"
     },
     "user_tz": 180
    },
    "id": "44QVVxDg8Sb9",
    "outputId": "b7b93fc6-306c-4ac2-b937-458ceaa1a764"
   },
   "outputs": [],
   "source": [
    "forecast.plot()"
   ]
  },
  {
   "cell_type": "code",
   "execution_count": null,
   "metadata": {
    "executionInfo": {
     "elapsed": 57827,
     "status": "ok",
     "timestamp": 1611535842390,
     "user": {
      "displayName": "Rafael de Miranda da Costa Leite",
      "photoUrl": "https://lh3.googleusercontent.com/a-/AOh14Gj-3rbInttHw_wvyiLPSmYAdgOUmDm2bFbC-AEvbw=s64",
      "userId": "02906791875441644303"
     },
     "user_tz": 180
    },
    "id": "zkxt16tucUgw"
   },
   "outputs": [],
   "source": [
    "forecast['Ac_venda'] = test.cumsum()\n",
    "forecast['Ac_SArima'] = forecast['SARIMA'].cumsum()\n",
    "forecast['Ac_PROPHET'] = forecast['PROPHET'].cumsum()\n",
    "forecast['Ac_LSTM'] = forecast['LSTM'].cumsum()"
   ]
  },
  {
   "cell_type": "code",
   "execution_count": null,
   "metadata": {
    "colab": {
     "base_uri": "https://localhost:8080/",
     "height": 295
    },
    "executionInfo": {
     "elapsed": 58419,
     "status": "ok",
     "timestamp": 1611535842986,
     "user": {
      "displayName": "Rafael de Miranda da Costa Leite",
      "photoUrl": "https://lh3.googleusercontent.com/a-/AOh14Gj-3rbInttHw_wvyiLPSmYAdgOUmDm2bFbC-AEvbw=s64",
      "userId": "02906791875441644303"
     },
     "user_tz": 180
    },
    "id": "ZFquRXwPc_iy",
    "outputId": "8317d480-ef89-4d7c-f312-6d1c3e320afc"
   },
   "outputs": [],
   "source": [
    "forecast.plot()"
   ]
  },
  {
   "cell_type": "code",
   "execution_count": null,
   "metadata": {
    "colab": {
     "base_uri": "https://localhost:8080/",
     "height": 283
    },
    "executionInfo": {
     "elapsed": 891,
     "status": "ok",
     "timestamp": 1611535951136,
     "user": {
      "displayName": "Rafael de Miranda da Costa Leite",
      "photoUrl": "https://lh3.googleusercontent.com/a-/AOh14Gj-3rbInttHw_wvyiLPSmYAdgOUmDm2bFbC-AEvbw=s64",
      "userId": "02906791875441644303"
     },
     "user_tz": 180
    },
    "id": "RqS-lTajZ2c6",
    "outputId": "d83808df-b9ea-4e6b-bb27-7bbe1e68baf2"
   },
   "outputs": [],
   "source": [
    "#Visão geral\n",
    "pd.concat([train,predSArima,predProphet1],axis=1).plot()"
   ]
  },
  {
   "cell_type": "markdown",
   "metadata": {
    "id": "1BJPrB9YFYQD"
   },
   "source": [
    "Exporta Dados"
   ]
  },
  {
   "cell_type": "code",
   "execution_count": null,
   "metadata": {
    "executionInfo": {
     "elapsed": 659,
     "status": "ok",
     "timestamp": 1611535965081,
     "user": {
      "displayName": "Rafael de Miranda da Costa Leite",
      "photoUrl": "https://lh3.googleusercontent.com/a-/AOh14Gj-3rbInttHw_wvyiLPSmYAdgOUmDm2bFbC-AEvbw=s64",
      "userId": "02906791875441644303"
     },
     "user_tz": 180
    },
    "id": "B0Q614FobDzK"
   },
   "outputs": [],
   "source": [
    "#forecast.to_excel ('forecast.xlsx', index = True, header=True, sheet_name = 'Dados')"
   ]
  },
  {
   "cell_type": "code",
   "execution_count": null,
   "metadata": {},
   "outputs": [],
   "source": [
    "df_export = forecast.copy()\n",
    "df_export[\"sk_tempo\"] = df_export.index.strftime('%Y%m%d').astype(int)\n",
    "df_export[\"sk_protudo\"] = 5795\n",
    "\n",
    "df_export.drop(['value','Ac_venda'], axis=1, inplace=True)\n",
    "df_export = df_export.rename(columns={\"PROPHET\":\"qtd_prophet\",\"Ac_PROPHET\":\"acm_prophet\"})\n",
    "df_export = df_export.rename(columns={\"LSTM\":\"qtd_lstm\",\"Ac_LSTM\":\"acm_lstm\"})\n",
    "df_export = df_export.rename(columns={\"SARIMA\":\"qtd_sarima\",\"Ac_SArima\":\"acm_sarima\"})\n",
    "\n",
    "df_export.info()"
   ]
  },
  {
   "cell_type": "code",
   "execution_count": null,
   "metadata": {
    "executionInfo": {
     "elapsed": 58734,
     "status": "ok",
     "timestamp": 1611535843318,
     "user": {
      "displayName": "Rafael de Miranda da Costa Leite",
      "photoUrl": "https://lh3.googleusercontent.com/a-/AOh14Gj-3rbInttHw_wvyiLPSmYAdgOUmDm2bFbC-AEvbw=s64",
      "userId": "02906791875441644303"
     },
     "user_tz": 180
    },
    "id": "nY3RBscfz2Fd"
   },
   "outputs": [],
   "source": [
    "#Grava dados no MySQL\n",
    "try:\n",
    "    # Connect to the database\n",
    "    connection = mysql.connector.connect(host='localhost',\n",
    "                                         database='projeto',\n",
    "                                         user='root',\n",
    "                                         password='12345678')\n",
    "\n",
    "    cursor = connection.cursor()\n",
    "\n",
    "    # Create a new record\n",
    "    query = \"\"\"DELETE FROM projeto.fato_predicao WHERE sk_protudo=5795 \"\"\"\n",
    "\n",
    "    cursor.execute(query)\n",
    "\n",
    "    # connection is not autocommit by default. So we must commit to save our changes.\n",
    "    connection.commit()\n",
    "\n",
    "    # Create a new record\n",
    "    #query = \"\"\"INSERT INTO projeto.fato_predicao (sk_tempo, sk_protudo, qtd_predicao, qtd_acumula) VALUES(%s, %s, %s, %s) ON DUPLICATE KEY UPDATE qtd_predicao=%s, qtd_acumula=%s\"\"\"\n",
    "    #cursor.execute(query, (df_export.sk_tempo[i], df_export.sk_protudo[i], df_export.PROPHET[i], df_export.Ac_PROPHET[i], df_export.PROPHET[i], df_export.Ac_PROPHET[i]))\n",
    "\n",
    "    query = \"\"\"INSERT INTO projeto.fato_predicao (sk_tempo, sk_protudo, no_modelo, qtd_predicao, qtd_acumula) VALUES(%s, %s, %s, %s, %s) ON DUPLICATE KEY UPDATE qtd_predicao=%s, qtd_acumula=%s\"\"\"\n",
    "    \n",
    "    for index, row in df_export.iterrows():\n",
    "        #Grava dados PROPHET\n",
    "        cModelo = 'Prophet'\n",
    "        nQtdInsert = row['qtd_prophet'].item() \n",
    "        nAcmInsert = row['acm_prophet'].item()\n",
    "        \n",
    "        cursor.execute(query, (row['sk_tempo'].item(), row['sk_protudo'].item(), cModelo, nQtdInsert, nAcmInsert, nQtdInsert, nAcmInsert))       \n",
    "\n",
    "        #Grava dados SArima        \n",
    "        cModelo = 'SArima'\n",
    "        nQtdInsert = row['qtd_sarima'].item() \n",
    "        nAcmInsert = row['acm_sarima'].item()\n",
    "        \n",
    "        cursor.execute(query, (row['sk_tempo'].item(), row['sk_protudo'].item(), cModelo, nQtdInsert, nAcmInsert, nQtdInsert, nAcmInsert))       \n",
    "\n",
    "        #Grava dados LSTM        \n",
    "        cModelo = 'LSTM'\n",
    "        nQtdInsert = row['qtd_lstm'].item() \n",
    "        nAcmInsert = row['acm_lstm'].item()\n",
    "        \n",
    "        cursor.execute(query, (row['sk_tempo'].item(), row['sk_protudo'].item(), cModelo, nQtdInsert, nAcmInsert, nQtdInsert, nAcmInsert))       \n",
    "\n",
    "    # connection is not autocommit by default. So we must commit to save our changes.\n",
    "    connection.commit()\n",
    "\n",
    "    # Execute query\n",
    "    sql = \"SELECT * FROM projeto.fato_predicao\"\n",
    "    \n",
    "    cursor.execute(sql)\n",
    "    \n",
    "    # Fetch all the records\n",
    "    result = cursor.fetchall()\n",
    "    \n",
    "    for i in result:\n",
    "        print(i)\n",
    "\n",
    "finally:\n",
    "    # close the database connection using close() method.\n",
    "    connection.close()"
   ]
  },
  {
   "cell_type": "code",
   "execution_count": null,
   "metadata": {},
   "outputs": [],
   "source": []
  }
 ],
 "metadata": {
  "colab": {
   "authorship_tag": "ABX9TyPyUqI1rQJt6rqtTenTltJQ",
   "collapsed_sections": [],
   "name": "python-time-series-modelos.ipynb",
   "provenance": []
  },
  "kernelspec": {
   "display_name": "Python 3",
   "language": "python",
   "name": "python3"
  },
  "language_info": {
   "codemirror_mode": {
    "name": "ipython",
    "version": 3
   },
   "file_extension": ".py",
   "mimetype": "text/x-python",
   "name": "python",
   "nbconvert_exporter": "python",
   "pygments_lexer": "ipython3",
   "version": "3.8.3"
  }
 },
 "nbformat": 4,
 "nbformat_minor": 4
}
