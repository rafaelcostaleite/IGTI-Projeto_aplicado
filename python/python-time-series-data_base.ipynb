{
 "cells": [
  {
   "cell_type": "code",
   "execution_count": 86,
   "metadata": {
    "colab": {
     "base_uri": "https://localhost:8080/"
    },
    "executionInfo": {
     "elapsed": 5889,
     "status": "ok",
     "timestamp": 1611535790283,
     "user": {
      "displayName": "Rafael de Miranda da Costa Leite",
      "photoUrl": "https://lh3.googleusercontent.com/a-/AOh14Gj-3rbInttHw_wvyiLPSmYAdgOUmDm2bFbC-AEvbw=s64",
      "userId": "02906791875441644303"
     },
     "user_tz": 180
    },
    "id": "UuLK8aBwJgzT",
    "outputId": "f61d5bc7-82fb-45f7-9c7c-539039a08957"
   },
   "outputs": [
    {
     "name": "stdout",
     "output_type": "stream",
     "text": [
      "Requirement already satisfied: pmdarima in /home/rafael/Apps/anaconda3/lib/python3.8/site-packages (1.8.0)\n",
      "Requirement already satisfied: urllib3 in /home/rafael/Apps/anaconda3/lib/python3.8/site-packages (from pmdarima) (1.25.9)\n",
      "Requirement already satisfied: joblib>=0.11 in /home/rafael/Apps/anaconda3/lib/python3.8/site-packages (from pmdarima) (0.16.0)\n",
      "Requirement already satisfied: scikit-learn>=0.22 in /home/rafael/Apps/anaconda3/lib/python3.8/site-packages (from pmdarima) (0.23.1)\n",
      "Requirement already satisfied: scipy>=1.3.2 in /home/rafael/Apps/anaconda3/lib/python3.8/site-packages (from pmdarima) (1.5.0)\n",
      "Requirement already satisfied: Cython<0.29.18,>=0.29 in /home/rafael/Apps/anaconda3/lib/python3.8/site-packages (from pmdarima) (0.29.17)\n",
      "Requirement already satisfied: statsmodels!=0.12.0,>=0.11 in /home/rafael/Apps/anaconda3/lib/python3.8/site-packages (from pmdarima) (0.11.1)\n",
      "Requirement already satisfied: pandas>=0.19 in /home/rafael/Apps/anaconda3/lib/python3.8/site-packages (from pmdarima) (1.0.5)\n",
      "Requirement already satisfied: numpy>=1.17.3 in /home/rafael/Apps/anaconda3/lib/python3.8/site-packages (from pmdarima) (1.19.5)\n",
      "Requirement already satisfied: setuptools!=50.0.0,>=38.6.0 in /home/rafael/Apps/anaconda3/lib/python3.8/site-packages (from pmdarima) (49.2.0.post20200714)\n",
      "Requirement already satisfied: pytz>=2017.2 in /home/rafael/Apps/anaconda3/lib/python3.8/site-packages (from pandas>=0.19->pmdarima) (2019.3)\n",
      "Requirement already satisfied: python-dateutil>=2.6.1 in /home/rafael/Apps/anaconda3/lib/python3.8/site-packages (from pandas>=0.19->pmdarima) (2.8.1)\n",
      "Requirement already satisfied: six>=1.5 in /home/rafael/Apps/anaconda3/lib/python3.8/site-packages (from python-dateutil>=2.6.1->pandas>=0.19->pmdarima) (1.15.0)\n",
      "Requirement already satisfied: threadpoolctl>=2.0.0 in /home/rafael/Apps/anaconda3/lib/python3.8/site-packages (from scikit-learn>=0.22->pmdarima) (2.1.0)\n",
      "Requirement already satisfied: patsy>=0.5 in /home/rafael/Apps/anaconda3/lib/python3.8/site-packages (from statsmodels!=0.12.0,>=0.11->pmdarima) (0.5.1)\n",
      "\u001b[33mWARNING: You are using pip version 21.0.1; however, version 21.1.1 is available.\n",
      "You should consider upgrading via the '/home/rafael/Apps/anaconda3/bin/python -m pip install --upgrade pip' command.\u001b[0m\n",
      "Requirement already satisfied: mysql-connector-python in /home/rafael/Apps/anaconda3/lib/python3.8/site-packages (8.0.23)\n",
      "Requirement already satisfied: protobuf>=3.0.0 in /home/rafael/Apps/anaconda3/lib/python3.8/site-packages (from mysql-connector-python) (3.15.5)\n",
      "Requirement already satisfied: six>=1.9 in /home/rafael/Apps/anaconda3/lib/python3.8/site-packages (from protobuf>=3.0.0->mysql-connector-python) (1.15.0)\n",
      "\u001b[33mWARNING: You are using pip version 21.0.1; however, version 21.1.1 is available.\n",
      "You should consider upgrading via the '/home/rafael/Apps/anaconda3/bin/python -m pip install --upgrade pip' command.\u001b[0m\n",
      "Requirement already satisfied: keras in /home/rafael/Apps/anaconda3/lib/python3.8/site-packages (2.4.3)\n",
      "Requirement already satisfied: scipy>=0.14 in /home/rafael/Apps/anaconda3/lib/python3.8/site-packages (from keras) (1.5.0)\n",
      "Requirement already satisfied: pyyaml in /home/rafael/Apps/anaconda3/lib/python3.8/site-packages (from keras) (5.3.1)\n",
      "Requirement already satisfied: h5py in /home/rafael/Apps/anaconda3/lib/python3.8/site-packages (from keras) (2.10.0)\n",
      "Requirement already satisfied: numpy>=1.9.1 in /home/rafael/Apps/anaconda3/lib/python3.8/site-packages (from keras) (1.19.5)\n",
      "Requirement already satisfied: six in /home/rafael/Apps/anaconda3/lib/python3.8/site-packages (from h5py->keras) (1.15.0)\n",
      "\u001b[33mWARNING: You are using pip version 21.0.1; however, version 21.1.1 is available.\n",
      "You should consider upgrading via the '/home/rafael/Apps/anaconda3/bin/python -m pip install --upgrade pip' command.\u001b[0m\n",
      "Requirement already satisfied: tensorflow in /home/rafael/Apps/anaconda3/lib/python3.8/site-packages (2.4.1)\n",
      "Requirement already satisfied: wrapt~=1.12.1 in /home/rafael/Apps/anaconda3/lib/python3.8/site-packages (from tensorflow) (1.12.1)\n",
      "Requirement already satisfied: six~=1.15.0 in /home/rafael/Apps/anaconda3/lib/python3.8/site-packages (from tensorflow) (1.15.0)\n",
      "Requirement already satisfied: gast==0.3.3 in /home/rafael/Apps/anaconda3/lib/python3.8/site-packages (from tensorflow) (0.3.3)\n",
      "Requirement already satisfied: tensorflow-estimator<2.5.0,>=2.4.0 in /home/rafael/Apps/anaconda3/lib/python3.8/site-packages (from tensorflow) (2.4.0)\n",
      "Requirement already satisfied: google-pasta~=0.2 in /home/rafael/Apps/anaconda3/lib/python3.8/site-packages (from tensorflow) (0.2.0)\n",
      "Requirement already satisfied: keras-preprocessing~=1.1.2 in /home/rafael/Apps/anaconda3/lib/python3.8/site-packages (from tensorflow) (1.1.2)\n",
      "Requirement already satisfied: flatbuffers~=1.12.0 in /home/rafael/Apps/anaconda3/lib/python3.8/site-packages (from tensorflow) (1.12)\n",
      "Requirement already satisfied: numpy~=1.19.2 in /home/rafael/Apps/anaconda3/lib/python3.8/site-packages (from tensorflow) (1.19.5)\n",
      "Requirement already satisfied: termcolor~=1.1.0 in /home/rafael/Apps/anaconda3/lib/python3.8/site-packages (from tensorflow) (1.1.0)\n",
      "Requirement already satisfied: wheel~=0.35 in /home/rafael/Apps/anaconda3/lib/python3.8/site-packages (from tensorflow) (0.36.2)\n",
      "Requirement already satisfied: tensorboard~=2.4 in /home/rafael/Apps/anaconda3/lib/python3.8/site-packages (from tensorflow) (2.4.1)\n",
      "Requirement already satisfied: grpcio~=1.32.0 in /home/rafael/Apps/anaconda3/lib/python3.8/site-packages (from tensorflow) (1.32.0)\n",
      "Requirement already satisfied: astunparse~=1.6.3 in /home/rafael/Apps/anaconda3/lib/python3.8/site-packages (from tensorflow) (1.6.3)\n",
      "Requirement already satisfied: h5py~=2.10.0 in /home/rafael/Apps/anaconda3/lib/python3.8/site-packages (from tensorflow) (2.10.0)\n",
      "Requirement already satisfied: opt-einsum~=3.3.0 in /home/rafael/Apps/anaconda3/lib/python3.8/site-packages (from tensorflow) (3.3.0)\n",
      "Requirement already satisfied: absl-py~=0.10 in /home/rafael/Apps/anaconda3/lib/python3.8/site-packages (from tensorflow) (0.12.0)\n",
      "Requirement already satisfied: typing-extensions~=3.7.4 in /home/rafael/Apps/anaconda3/lib/python3.8/site-packages (from tensorflow) (3.7.4.2)\n",
      "Requirement already satisfied: protobuf>=3.9.2 in /home/rafael/Apps/anaconda3/lib/python3.8/site-packages (from tensorflow) (3.15.5)\n",
      "Requirement already satisfied: markdown>=2.6.8 in /home/rafael/Apps/anaconda3/lib/python3.8/site-packages (from tensorboard~=2.4->tensorflow) (3.3.4)\n",
      "Requirement already satisfied: setuptools>=41.0.0 in /home/rafael/Apps/anaconda3/lib/python3.8/site-packages (from tensorboard~=2.4->tensorflow) (49.2.0.post20200714)\n",
      "Requirement already satisfied: google-auth-oauthlib<0.5,>=0.4.1 in /home/rafael/Apps/anaconda3/lib/python3.8/site-packages (from tensorboard~=2.4->tensorflow) (0.4.4)\n",
      "Requirement already satisfied: werkzeug>=0.11.15 in /home/rafael/Apps/anaconda3/lib/python3.8/site-packages (from tensorboard~=2.4->tensorflow) (1.0.1)\n",
      "Requirement already satisfied: tensorboard-plugin-wit>=1.6.0 in /home/rafael/Apps/anaconda3/lib/python3.8/site-packages (from tensorboard~=2.4->tensorflow) (1.8.0)\n",
      "Requirement already satisfied: google-auth<2,>=1.6.3 in /home/rafael/Apps/anaconda3/lib/python3.8/site-packages (from tensorboard~=2.4->tensorflow) (1.28.0)\n",
      "Requirement already satisfied: requests<3,>=2.21.0 in /home/rafael/Apps/anaconda3/lib/python3.8/site-packages (from tensorboard~=2.4->tensorflow) (2.24.0)\n",
      "Requirement already satisfied: cachetools<5.0,>=2.0.0 in /home/rafael/Apps/anaconda3/lib/python3.8/site-packages (from google-auth<2,>=1.6.3->tensorboard~=2.4->tensorflow) (4.2.1)\n",
      "Requirement already satisfied: rsa<5,>=3.1.4 in /home/rafael/Apps/anaconda3/lib/python3.8/site-packages (from google-auth<2,>=1.6.3->tensorboard~=2.4->tensorflow) (4.7.2)\n",
      "Requirement already satisfied: pyasn1-modules>=0.2.1 in /home/rafael/Apps/anaconda3/lib/python3.8/site-packages (from google-auth<2,>=1.6.3->tensorboard~=2.4->tensorflow) (0.2.8)\n",
      "Requirement already satisfied: requests-oauthlib>=0.7.0 in /home/rafael/Apps/anaconda3/lib/python3.8/site-packages (from google-auth-oauthlib<0.5,>=0.4.1->tensorboard~=2.4->tensorflow) (1.3.0)\n",
      "Requirement already satisfied: pyasn1<0.5.0,>=0.4.6 in /home/rafael/Apps/anaconda3/lib/python3.8/site-packages (from pyasn1-modules>=0.2.1->google-auth<2,>=1.6.3->tensorboard~=2.4->tensorflow) (0.4.8)\n",
      "Requirement already satisfied: chardet<4,>=3.0.2 in /home/rafael/Apps/anaconda3/lib/python3.8/site-packages (from requests<3,>=2.21.0->tensorboard~=2.4->tensorflow) (3.0.4)\n",
      "Requirement already satisfied: certifi>=2017.4.17 in /home/rafael/Apps/anaconda3/lib/python3.8/site-packages (from requests<3,>=2.21.0->tensorboard~=2.4->tensorflow) (2020.6.20)\n",
      "Requirement already satisfied: idna<3,>=2.5 in /home/rafael/Apps/anaconda3/lib/python3.8/site-packages (from requests<3,>=2.21.0->tensorboard~=2.4->tensorflow) (2.10)\n",
      "Requirement already satisfied: urllib3!=1.25.0,!=1.25.1,<1.26,>=1.21.1 in /home/rafael/Apps/anaconda3/lib/python3.8/site-packages (from requests<3,>=2.21.0->tensorboard~=2.4->tensorflow) (1.25.9)\n",
      "Requirement already satisfied: oauthlib>=3.0.0 in /home/rafael/Apps/anaconda3/lib/python3.8/site-packages (from requests-oauthlib>=0.7.0->google-auth-oauthlib<0.5,>=0.4.1->tensorboard~=2.4->tensorflow) (3.1.0)\n",
      "\u001b[33mWARNING: You are using pip version 21.0.1; however, version 21.1.1 is available.\n",
      "You should consider upgrading via the '/home/rafael/Apps/anaconda3/bin/python -m pip install --upgrade pip' command.\u001b[0m\n"
     ]
    }
   ],
   "source": [
    "#instalação de pacotes\n",
    "#!pip3 install pyramid-arima\n",
    "!pip install pmdarima\n",
    "!pip install mysql-connector-python\n",
    "!pip install keras\n",
    "!pip install tensorflow"
   ]
  },
  {
   "cell_type": "code",
   "execution_count": 87,
   "metadata": {
    "executionInfo": {
     "elapsed": 5882,
     "status": "ok",
     "timestamp": 1611535790285,
     "user": {
      "displayName": "Rafael de Miranda da Costa Leite",
      "photoUrl": "https://lh3.googleusercontent.com/a-/AOh14Gj-3rbInttHw_wvyiLPSmYAdgOUmDm2bFbC-AEvbw=s64",
      "userId": "02906791875441644303"
     },
     "user_tz": 180
    },
    "id": "MyI1os5XJlqv"
   },
   "outputs": [],
   "source": [
    "#from statsmodels.tsa.stattools import adfuller\n",
    "#from numpy import log\n",
    "#from statsmodels.graphics.tsaplots import plot_acf, plot_pacf\n"
   ]
  },
  {
   "cell_type": "markdown",
   "metadata": {
    "id": "oSiipM3hu9Qu"
   },
   "source": [
    "# Importa dados"
   ]
  },
  {
   "cell_type": "code",
   "execution_count": 800,
   "metadata": {},
   "outputs": [
    {
     "name": "stdout",
     "output_type": "stream",
     "text": [
      "MySQL connection is closed\n",
      "<class 'pandas.core.frame.DataFrame'>\n",
      "RangeIndex: 2983 entries, 0 to 2982\n",
      "Data columns (total 3 columns):\n",
      " #   Column  Non-Null Count  Dtype \n",
      "---  ------  --------------  ----- \n",
      " 0   0       2983 non-null   object\n",
      " 1   1       2983 non-null   object\n",
      " 2   2       2983 non-null   int64 \n",
      "dtypes: int64(1), object(2)\n",
      "memory usage: 70.0+ KB\n"
     ]
    }
   ],
   "source": [
    "\n",
    "import numpy as np\n",
    "import pandas as pd\n",
    "import mysql.connector\n",
    "\n",
    "#Conecta com banco MySQL\n",
    "try:\n",
    "    connection = mysql.connector.connect(host='localhost',\n",
    "                                         database='projeto',\n",
    "                                         user='root',\n",
    "                                         password='12345678')\n",
    "\n",
    "    produto_proc = \"12804\"\n",
    "    \n",
    "    sql_select_Query = \" select ds_data_sem_hora \\\n",
    "                        ,isbn_produto \\\n",
    "                        ,qtd_venda  \\\n",
    "                        from fato_venda as ft \\\n",
    "                        , dim_tempo as tp \\\n",
    "                        , dim_produto as pd \\\n",
    "                        where tp.sk_tempo = ft.sk_tempo \\\n",
    "                        and pd.sk_produto = ft.sk_protudo \\\n",
    "                        and pd.sk_produto = \" + produto_proc \n",
    "    \n",
    "    cursor = connection.cursor()\n",
    "    cursor.execute(sql_select_Query)\n",
    "    \n",
    "    #carrega dados\n",
    "    records = cursor.fetchall()\n",
    "\n",
    "    data_sql = pd.DataFrame(records)\n",
    "\n",
    "except mysql.connector.Error as e:\n",
    "    print(\"Error reading data from MySQL table\", e)\n",
    "finally:\n",
    "    if connection.is_connected():\n",
    "        connection.close()\n",
    "        cursor.close()\n",
    "        print(\"MySQL connection is closed\")\n",
    "        \n",
    "data_sql.info()"
   ]
  },
  {
   "cell_type": "code",
   "execution_count": 801,
   "metadata": {},
   "outputs": [],
   "source": [
    "#ajusta dados para a predição\n",
    "df = data_sql.copy()\n",
    "\n",
    "#adiciona nome nas colunas\n",
    "df = df.rename(columns={0: \"date\",1:\"isbn\", 2: \"value\"})\n",
    "\n",
    "#transforma para datetime\n",
    "df[\"date\"] = pd.to_datetime(df[\"date\"])\n",
    "\n",
    "#ordena\n",
    "df = df.sort_values('date')\n",
    "\n",
    "#soma quantidade em datas iguais\n",
    "df = df.groupby('date')['value'].sum().reset_index()\n",
    "\n",
    "#transforma a data em indice\n",
    "df = df.set_index('date')\n",
    "\n",
    "#agrupa na soma do mês\n",
    "df = df['value'].resample('MS').sum()"
   ]
  },
  {
   "cell_type": "markdown",
   "metadata": {
    "id": "g18_JT40vAcC"
   },
   "source": [
    "# Analisa os dados"
   ]
  },
  {
   "cell_type": "code",
   "execution_count": 802,
   "metadata": {
    "colab": {
     "base_uri": "https://localhost:8080/",
     "height": 297
    },
    "executionInfo": {
     "elapsed": 7781,
     "status": "ok",
     "timestamp": 1611535792205,
     "user": {
      "displayName": "Rafael de Miranda da Costa Leite",
      "photoUrl": "https://lh3.googleusercontent.com/a-/AOh14Gj-3rbInttHw_wvyiLPSmYAdgOUmDm2bFbC-AEvbw=s64",
      "userId": "02906791875441644303"
     },
     "user_tz": 180
    },
    "id": "acpRaZR3Ie85",
    "outputId": "fc2a04c4-e0e1-4ed4-834c-4fc21e15eb08"
   },
   "outputs": [
    {
     "data": {
      "image/png": "[encoded data removed]",
      "text/plain": [
       "<Figure size 432x288 with 4 Axes>"
      ]
     },
     "metadata": {
      "needs_background": "light"
     },
     "output_type": "display_data"
    }
   ],
   "source": [
    "from pylab import rcParams\n",
    "from statsmodels.tsa.seasonal import seasonal_decompose\n",
    "import statsmodels.api as sm\n",
    "import matplotlib.pyplot as plt\n",
    "\n",
    "a = seasonal_decompose(df, model = \"add\")\n",
    "a.plot();"
   ]
  },
  {
   "cell_type": "code",
   "execution_count": 803,
   "metadata": {
    "colab": {
     "base_uri": "https://localhost:8080/",
     "height": 406
    },
    "executionInfo": {
     "elapsed": 7765,
     "status": "ok",
     "timestamp": 1611535792206,
     "user": {
      "displayName": "Rafael de Miranda da Costa Leite",
      "photoUrl": "https://lh3.googleusercontent.com/a-/AOh14Gj-3rbInttHw_wvyiLPSmYAdgOUmDm2bFbC-AEvbw=s64",
      "userId": "02906791875441644303"
     },
     "user_tz": 180
    },
    "id": "pnToCXWA-DBM",
    "outputId": "ccf7f152-755f-4d64-d126-e986aac771a7"
   },
   "outputs": [
    {
     "data": {
      "text/plain": [
       "<matplotlib.axes._subplots.AxesSubplot at 0x7f76a5ffc070>"
      ]
     },
     "execution_count": 803,
     "metadata": {},
     "output_type": "execute_result"
    },
    {
     "data": {
      "image/png": "[encoded data removed]",
      "text/plain": [
       "<Figure size 864x360 with 1 Axes>"
      ]
     },
     "metadata": {
      "needs_background": "light"
     },
     "output_type": "display_data"
    }
   ],
   "source": [
    "#Boxplot\n",
    "import seaborn\n",
    "\n",
    "fig, ax = plt.subplots(figsize=(12,5))\n",
    "seaborn.boxplot(df, ax=ax)"
   ]
  },
  {
   "cell_type": "markdown",
   "metadata": {},
   "source": [
    "Ajuste dados"
   ]
  },
  {
   "cell_type": "code",
   "execution_count": 804,
   "metadata": {},
   "outputs": [
    {
     "data": {
      "text/plain": [
       "count     60.000000\n",
       "mean     211.450000\n",
       "std      184.744572\n",
       "min      -27.000000\n",
       "25%       75.500000\n",
       "50%      170.500000\n",
       "75%      276.750000\n",
       "max      843.000000\n",
       "Name: value, dtype: float64"
      ]
     },
     "execution_count": 804,
     "metadata": {},
     "output_type": "execute_result"
    }
   ],
   "source": [
    "df.describe()"
   ]
  },
  {
   "cell_type": "code",
   "execution_count": 805,
   "metadata": {},
   "outputs": [
    {
     "data": {
      "text/plain": [
       "date\n",
       "2015-01-01     51.0\n",
       "2015-02-01     71.0\n",
       "2015-03-01      NaN\n",
       "2015-04-01    202.0\n",
       "2015-05-01    166.0\n",
       "2015-06-01    206.0\n",
       "2015-07-01    256.0\n",
       "2015-08-01    357.0\n",
       "2015-09-01    325.0\n",
       "2015-10-01    178.0\n",
       "2015-11-01     78.0\n",
       "2015-12-01     64.0\n",
       "2016-01-01    532.0\n",
       "2016-02-01     10.0\n",
       "2016-03-01      NaN\n",
       "2016-04-01    212.0\n",
       "2016-05-01    248.0\n",
       "2016-06-01    250.0\n",
       "2016-07-01    279.0\n",
       "2016-08-01    245.0\n",
       "2016-09-01    276.0\n",
       "2016-10-01    252.0\n",
       "2016-11-01    166.0\n",
       "2016-12-01    118.0\n",
       "2017-01-01    127.0\n",
       "2017-02-01     38.0\n",
       "2017-03-01    475.0\n",
       "2017-04-01    147.0\n",
       "2017-05-01    -19.0\n",
       "2017-06-01      NaN\n",
       "2017-07-01    164.0\n",
       "2017-08-01    407.0\n",
       "2017-09-01     44.0\n",
       "2017-10-01    317.0\n",
       "2017-11-01    -27.0\n",
       "2017-12-01     56.0\n",
       "2018-01-01    245.0\n",
       "2018-02-01     19.0\n",
       "2018-03-01     38.0\n",
       "2018-04-01    393.0\n",
       "2018-05-01    146.0\n",
       "2018-06-01    154.0\n",
       "2018-07-01    209.0\n",
       "2018-08-01    325.0\n",
       "2018-09-01    119.0\n",
       "2018-10-01    206.0\n",
       "2018-11-01    120.0\n",
       "2018-12-01     96.0\n",
       "2019-01-01     40.0\n",
       "2019-02-01     14.0\n",
       "2019-03-01    380.0\n",
       "2019-04-01     71.0\n",
       "2019-05-01    263.0\n",
       "2019-06-01    116.0\n",
       "2019-07-01     77.0\n",
       "2019-08-01     99.0\n",
       "2019-09-01    387.0\n",
       "2019-10-01    175.0\n",
       "2019-11-01     59.0\n",
       "2019-12-01    289.0\n",
       "Freq: MS, Name: value, dtype: float64"
      ]
     },
     "execution_count": 805,
     "metadata": {},
     "output_type": "execute_result"
    }
   ],
   "source": [
    "df.where(df<df.quantile(0.95))"
   ]
  },
  {
   "cell_type": "code",
   "execution_count": 806,
   "metadata": {},
   "outputs": [
    {
     "data": {
      "text/plain": [
       "date\n",
       "2015-01-01     51.0\n",
       "2015-02-01     71.0\n",
       "2015-03-01    700.0\n",
       "2015-04-01    202.0\n",
       "2015-05-01    166.0\n",
       "2015-06-01    206.0\n",
       "2015-07-01    256.0\n",
       "2015-08-01    357.0\n",
       "2015-09-01    325.0\n",
       "2015-10-01    178.0\n",
       "2015-11-01     78.0\n",
       "2015-12-01     64.0\n",
       "2016-01-01    532.0\n",
       "2016-02-01     10.0\n",
       "2016-03-01      NaN\n",
       "2016-04-01    212.0\n",
       "2016-05-01    248.0\n",
       "2016-06-01    250.0\n",
       "2016-07-01    279.0\n",
       "2016-08-01    245.0\n",
       "2016-09-01    276.0\n",
       "2016-10-01    252.0\n",
       "2016-11-01    166.0\n",
       "2016-12-01    118.0\n",
       "2017-01-01    127.0\n",
       "2017-02-01     38.0\n",
       "2017-03-01    475.0\n",
       "2017-04-01    147.0\n",
       "2017-05-01    -19.0\n",
       "2017-06-01      NaN\n",
       "2017-07-01    164.0\n",
       "2017-08-01    407.0\n",
       "2017-09-01     44.0\n",
       "2017-10-01    317.0\n",
       "2017-11-01    -27.0\n",
       "2017-12-01     56.0\n",
       "2018-01-01    245.0\n",
       "2018-02-01     19.0\n",
       "2018-03-01     38.0\n",
       "2018-04-01    393.0\n",
       "2018-05-01    146.0\n",
       "2018-06-01    154.0\n",
       "2018-07-01    209.0\n",
       "2018-08-01    325.0\n",
       "2018-09-01    119.0\n",
       "2018-10-01    206.0\n",
       "2018-11-01    120.0\n",
       "2018-12-01     96.0\n",
       "2019-01-01     40.0\n",
       "2019-02-01     14.0\n",
       "2019-03-01    380.0\n",
       "2019-04-01     71.0\n",
       "2019-05-01    263.0\n",
       "2019-06-01    116.0\n",
       "2019-07-01     77.0\n",
       "2019-08-01     99.0\n",
       "2019-09-01    387.0\n",
       "2019-10-01    175.0\n",
       "2019-11-01     59.0\n",
       "2019-12-01    289.0\n",
       "Freq: MS, Name: value, dtype: float64"
      ]
     },
     "execution_count": 806,
     "metadata": {},
     "output_type": "execute_result"
    }
   ],
   "source": [
    "df.where(((df-df.mean()).abs() < 3*df.std()))"
   ]
  },
  {
   "cell_type": "code",
   "execution_count": 807,
   "metadata": {},
   "outputs": [],
   "source": [
    "#Trata outliers superiores \n",
    "\n",
    "#df = df.where(((df-df.mean()).abs() < 3*df.std()),3*df.std())\n",
    "df = df.where(df<df.quantile(0.95),df.quantile(0.95))\n",
    "\n",
    "#Copia para dataframe dos demais modelos\n",
    "df1 = df.copy()\n",
    "df2 = df.copy()\n",
    "df3 = df.copy()"
   ]
  },
  {
   "cell_type": "code",
   "execution_count": 808,
   "metadata": {},
   "outputs": [
    {
     "data": {
      "text/plain": [
       "<matplotlib.axes._subplots.AxesSubplot at 0x7f76a37f6ee0>"
      ]
     },
     "execution_count": 808,
     "metadata": {},
     "output_type": "execute_result"
    },
    {
     "data": {
      "image/png": "[encoded data removed]",
      "text/plain": [
       "<Figure size 864x360 with 1 Axes>"
      ]
     },
     "metadata": {
      "needs_background": "light"
     },
     "output_type": "display_data"
    }
   ],
   "source": [
    "#Boxplot\n",
    "import seaborn\n",
    "\n",
    "fig, ax = plt.subplots(figsize=(12,5))\n",
    "seaborn.boxplot(df1, ax=ax)"
   ]
  },
  {
   "cell_type": "code",
   "execution_count": 809,
   "metadata": {},
   "outputs": [],
   "source": [
    "#Separa dados\n",
    "train = df1.iloc[:len(df1)-12]\n",
    "test = df1.iloc[len(df1)-12:]\n",
    "\n",
    "#Períodos de predição\n",
    "n_periods = 24"
   ]
  },
  {
   "cell_type": "code",
   "execution_count": 810,
   "metadata": {
    "colab": {
     "base_uri": "https://localhost:8080/",
     "height": 334
    },
    "executionInfo": {
     "elapsed": 8059,
     "status": "ok",
     "timestamp": 1611535792513,
     "user": {
      "displayName": "Rafael de Miranda da Costa Leite",
      "photoUrl": "https://lh3.googleusercontent.com/a-/AOh14Gj-3rbInttHw_wvyiLPSmYAdgOUmDm2bFbC-AEvbw=s64",
      "userId": "02906791875441644303"
     },
     "user_tz": 180
    },
    "id": "D7OJspOhAHfg",
    "outputId": "107ed0f6-d3bf-4050-ab93-b06dafaf394b"
   },
   "outputs": [
    {
     "data": {
      "image/png": "[encoded data removed]",
      "text/plain": [
       "<Figure size 432x288 with 1 Axes>"
      ]
     },
     "metadata": {
      "needs_background": "light"
     },
     "output_type": "display_data"
    }
   ],
   "source": [
    "#Histograma\n",
    "seaborn.distplot(df1, hist=True, kde=True, \n",
    "             bins=5, color = 'darkblue', \n",
    "             hist_kws={'edgecolor':'black'},\n",
    "             kde_kws={'linewidth': 3});"
   ]
  },
  {
   "cell_type": "code",
   "execution_count": 811,
   "metadata": {
    "colab": {
     "base_uri": "https://localhost:8080/",
     "height": 297
    },
    "executionInfo": {
     "elapsed": 8760,
     "status": "ok",
     "timestamp": 1611535793221,
     "user": {
      "displayName": "Rafael de Miranda da Costa Leite",
      "photoUrl": "https://lh3.googleusercontent.com/a-/AOh14Gj-3rbInttHw_wvyiLPSmYAdgOUmDm2bFbC-AEvbw=s64",
      "userId": "02906791875441644303"
     },
     "user_tz": 180
    },
    "id": "1l0N5nt2CWZk",
    "outputId": "2ea8e0e3-ce06-427b-8f24-63610d99c0f4"
   },
   "outputs": [
    {
     "data": {
      "image/png": "[encoded data removed]",
      "text/plain": [
       "<Figure size 432x288 with 4 Axes>"
      ]
     },
     "metadata": {
      "needs_background": "light"
     },
     "output_type": "display_data"
    }
   ],
   "source": [
    "for i, binwidth in enumerate([5, 10, 15, 20]):\n",
    "    \n",
    "    # Set up the plot\n",
    "    ax = plt.subplot(2, 2, i + 1)\n",
    "    \n",
    "    # Draw the plot\n",
    "    ax.hist(df1, bins = binwidth, color = 'blue', edgecolor = 'black')\n",
    "    \n",
    "    # Title and labels\n",
    "    ax.set_title('Histogram with Binwidth = %d' % binwidth, size = 15)\n",
    "    ax.set_xlabel('Quantidade', size = 15)\n",
    "    ax.set_ylabel('Ocorrências', size= 15)\n",
    "\n",
    "plt.tight_layout()\n",
    "plt.show()"
   ]
  },
  {
   "cell_type": "markdown",
   "metadata": {
    "id": "5GUR1JwAGBrK"
   },
   "source": [
    "# Modelos"
   ]
  },
  {
   "cell_type": "markdown",
   "metadata": {
    "id": "a_TDvkyHvKY3"
   },
   "source": [
    "Modelo Auto ARIMA"
   ]
  },
  {
   "cell_type": "code",
   "execution_count": 812,
   "metadata": {
    "colab": {
     "base_uri": "https://localhost:8080/"
    },
    "executionInfo": {
     "elapsed": 19470,
     "status": "ok",
     "timestamp": 1611535803937,
     "user": {
      "displayName": "Rafael de Miranda da Costa Leite",
      "photoUrl": "https://lh3.googleusercontent.com/a-/AOh14Gj-3rbInttHw_wvyiLPSmYAdgOUmDm2bFbC-AEvbw=s64",
      "userId": "02906791875441644303"
     },
     "user_tz": 180
    },
    "id": "dCNRCC5zKeEj",
    "outputId": "a3e2195b-2849-4311-8eb7-2626f4097665"
   },
   "outputs": [
    {
     "data": {
      "text/plain": [
       "ARIMA(order=(0, 0, 1), scoring_args={}, seasonal_order=(2, 1, 0, 12),\n",
       "      suppress_warnings=True)"
      ]
     },
     "execution_count": 812,
     "metadata": {},
     "output_type": "execute_result"
    }
   ],
   "source": [
    "import pmdarima as pm\n",
    "\n",
    "#Fit modelo auto-arima\n",
    "fitSArima = pm.auto_arima(df1, start_p=1, start_q=1,\n",
    "                         max_p=3, max_q=3, m=12,\n",
    "                         start_P=0, seasonal=True,\n",
    "                         d=None, D=1, trace=False,\n",
    "                         error_action='ignore',  \n",
    "                         suppress_warnings=True, \n",
    "                         stepwise=True)\n",
    "\n",
    "#test='adf',\n",
    "\n",
    "#fitSArima = pm.auto_arima(df1, seasonal=True, m=12,max_p=7, max_d=5,max_q=7, max_P=4, max_D=4,max_Q=4) \n",
    "\n",
    "fitSArima.fit(train)"
   ]
  },
  {
   "cell_type": "code",
   "execution_count": 813,
   "metadata": {
    "colab": {
     "base_uri": "https://localhost:8080/",
     "height": 420
    },
    "executionInfo": {
     "elapsed": 29797,
     "status": "ok",
     "timestamp": 1611535814270,
     "user": {
      "displayName": "Rafael de Miranda da Costa Leite",
      "photoUrl": "https://lh3.googleusercontent.com/a-/AOh14Gj-3rbInttHw_wvyiLPSmYAdgOUmDm2bFbC-AEvbw=s64",
      "userId": "02906791875441644303"
     },
     "user_tz": 180
    },
    "id": "9GtX92IFLx5h",
    "outputId": "9b953dff-a8bf-49e4-cd1e-9df06fa0026b"
   },
   "outputs": [
    {
     "data": {
      "text/html": [
       "<table class=\"simpletable\">\n",
       "<caption>SARIMAX Results</caption>\n",
       "<tr>\n",
       "  <th>Dep. Variable:</th>                  <td>y</td>                <th>  No. Observations:  </th>    <td>60</td>   \n",
       "</tr>\n",
       "<tr>\n",
       "  <th>Model:</th>           <td>SARIMAX(0, 0, 1)x(2, 1, [], 12)</td> <th>  Log Likelihood     </th> <td>-306.186</td>\n",
       "</tr>\n",
       "<tr>\n",
       "  <th>Date:</th>                   <td>Thu, 13 May 2021</td>         <th>  AIC                </th>  <td>622.372</td>\n",
       "</tr>\n",
       "<tr>\n",
       "  <th>Time:</th>                       <td>21:52:04</td>             <th>  BIC                </th>  <td>631.728</td>\n",
       "</tr>\n",
       "<tr>\n",
       "  <th>Sample:</th>                         <td>0</td>                <th>  HQIC               </th>  <td>625.908</td>\n",
       "</tr>\n",
       "<tr>\n",
       "  <th></th>                              <td> - 60</td>              <th>                     </th>     <td> </td>   \n",
       "</tr>\n",
       "<tr>\n",
       "  <th>Covariance Type:</th>               <td>opg</td>               <th>                     </th>     <td> </td>   \n",
       "</tr>\n",
       "</table>\n",
       "<table class=\"simpletable\">\n",
       "<tr>\n",
       "      <td></td>         <th>coef</th>     <th>std err</th>      <th>z</th>      <th>P>|z|</th>  <th>[0.025</th>    <th>0.975]</th>  \n",
       "</tr>\n",
       "<tr>\n",
       "  <th>intercept</th> <td>  -50.8993</td> <td>   17.716</td> <td>   -2.873</td> <td> 0.004</td> <td>  -85.622</td> <td>  -16.177</td>\n",
       "</tr>\n",
       "<tr>\n",
       "  <th>ma.L1</th>     <td>   -0.5350</td> <td>    0.152</td> <td>   -3.523</td> <td> 0.000</td> <td>   -0.833</td> <td>   -0.237</td>\n",
       "</tr>\n",
       "<tr>\n",
       "  <th>ar.S.L12</th>  <td>   -0.7079</td> <td>    0.212</td> <td>   -3.339</td> <td> 0.001</td> <td>   -1.123</td> <td>   -0.292</td>\n",
       "</tr>\n",
       "<tr>\n",
       "  <th>ar.S.L24</th>  <td>   -0.4240</td> <td>    0.234</td> <td>   -1.809</td> <td> 0.070</td> <td>   -0.884</td> <td>    0.035</td>\n",
       "</tr>\n",
       "<tr>\n",
       "  <th>sigma2</th>    <td> 1.706e+04</td> <td> 4059.750</td> <td>    4.201</td> <td> 0.000</td> <td> 9099.055</td> <td>  2.5e+04</td>\n",
       "</tr>\n",
       "</table>\n",
       "<table class=\"simpletable\">\n",
       "<tr>\n",
       "  <th>Ljung-Box (Q):</th>          <td>35.22</td> <th>  Jarque-Bera (JB):  </th> <td>6.03</td> \n",
       "</tr>\n",
       "<tr>\n",
       "  <th>Prob(Q):</th>                <td>0.69</td>  <th>  Prob(JB):          </th> <td>0.05</td> \n",
       "</tr>\n",
       "<tr>\n",
       "  <th>Heteroskedasticity (H):</th> <td>1.15</td>  <th>  Skew:              </th> <td>-0.43</td>\n",
       "</tr>\n",
       "<tr>\n",
       "  <th>Prob(H) (two-sided):</th>    <td>0.79</td>  <th>  Kurtosis:          </th> <td>4.51</td> \n",
       "</tr>\n",
       "</table><br/><br/>Warnings:<br/>[1] Covariance matrix calculated using the outer product of gradients (complex-step)."
      ],
      "text/plain": [
       "<class 'statsmodels.iolib.summary.Summary'>\n",
       "\"\"\"\n",
       "                                      SARIMAX Results                                      \n",
       "===========================================================================================\n",
       "Dep. Variable:                                   y   No. Observations:                   60\n",
       "Model:             SARIMAX(0, 0, 1)x(2, 1, [], 12)   Log Likelihood                -306.186\n",
       "Date:                             Thu, 13 May 2021   AIC                            622.372\n",
       "Time:                                     21:52:04   BIC                            631.728\n",
       "Sample:                                          0   HQIC                           625.908\n",
       "                                              - 60                                         \n",
       "Covariance Type:                               opg                                         \n",
       "==============================================================================\n",
       "                 coef    std err          z      P>|z|      [0.025      0.975]\n",
       "------------------------------------------------------------------------------\n",
       "intercept    -50.8993     17.716     -2.873      0.004     -85.622     -16.177\n",
       "ma.L1         -0.5350      0.152     -3.523      0.000      -0.833      -0.237\n",
       "ar.S.L12      -0.7079      0.212     -3.339      0.001      -1.123      -0.292\n",
       "ar.S.L24      -0.4240      0.234     -1.809      0.070      -0.884       0.035\n",
       "sigma2      1.706e+04   4059.750      4.201      0.000    9099.055     2.5e+04\n",
       "===================================================================================\n",
       "Ljung-Box (Q):                       35.22   Jarque-Bera (JB):                 6.03\n",
       "Prob(Q):                              0.69   Prob(JB):                         0.05\n",
       "Heteroskedasticity (H):               1.15   Skew:                            -0.43\n",
       "Prob(H) (two-sided):                  0.79   Kurtosis:                         4.51\n",
       "===================================================================================\n",
       "\n",
       "Warnings:\n",
       "[1] Covariance matrix calculated using the outer product of gradients (complex-step).\n",
       "\"\"\""
      ]
     },
     "execution_count": 813,
     "metadata": {},
     "output_type": "execute_result"
    }
   ],
   "source": [
    "#Teste 1\n",
    "pm.auto_arima(df1, start_p=1, start_q=1,max_p=3, max_q=3, m=12,start_P=0, seasonal=True,\n",
    "              d=None, D=1, trace=False,error_action='ignore',suppress_warnings=True,stepwise=True).summary()"
   ]
  },
  {
   "cell_type": "code",
   "execution_count": 814,
   "metadata": {
    "executionInfo": {
     "elapsed": 29792,
     "status": "ok",
     "timestamp": 1611535814272,
     "user": {
      "displayName": "Rafael de Miranda da Costa Leite",
      "photoUrl": "https://lh3.googleusercontent.com/a-/AOh14Gj-3rbInttHw_wvyiLPSmYAdgOUmDm2bFbC-AEvbw=s64",
      "userId": "02906791875441644303"
     },
     "user_tz": 180
    },
    "id": "PTvwdvT8JpdQ"
   },
   "outputs": [],
   "source": [
    "#Teste 2\n",
    "#pm.auto_arima(df1, seasonal=True, m=12,max_p=7, max_d=5,max_q=7, max_P=4, max_D=4,max_Q=4).summary()"
   ]
  },
  {
   "cell_type": "code",
   "execution_count": 815,
   "metadata": {
    "executionInfo": {
     "elapsed": 29788,
     "status": "ok",
     "timestamp": 1611535814273,
     "user": {
      "displayName": "Rafael de Miranda da Costa Leite",
      "photoUrl": "https://lh3.googleusercontent.com/a-/AOh14Gj-3rbInttHw_wvyiLPSmYAdgOUmDm2bFbC-AEvbw=s64",
      "userId": "02906791875441644303"
     },
     "user_tz": 180
    },
    "id": "PuQuqdKxK7-B"
   },
   "outputs": [],
   "source": [
    "#Forecast auto-arima\n",
    "index_pred = pd.date_range(test.index[0], periods = n_periods, freq='MS')\n",
    "\n",
    "predSArima, confint = fitSArima.predict(n_periods=n_periods, return_conf_int=True)\n",
    "\n",
    "#Cria dataseries\n",
    "predSArima = pd.DataFrame(predSArima,index = index_pred,columns=['SARIMA'])"
   ]
  },
  {
   "cell_type": "markdown",
   "metadata": {
    "id": "nDrBRDknvHIE"
   },
   "source": [
    "Modelo Prophet"
   ]
  },
  {
   "cell_type": "code",
   "execution_count": 816,
   "metadata": {
    "executionInfo": {
     "elapsed": 29787,
     "status": "ok",
     "timestamp": 1611535814275,
     "user": {
      "displayName": "Rafael de Miranda da Costa Leite",
      "photoUrl": "https://lh3.googleusercontent.com/a-/AOh14Gj-3rbInttHw_wvyiLPSmYAdgOUmDm2bFbC-AEvbw=s64",
      "userId": "02906791875441644303"
     },
     "user_tz": 180
    },
    "id": "dGvVEzGevP5Z"
   },
   "outputs": [],
   "source": [
    "#Dados Prophet\n",
    "#df2 = data_sql\n",
    "\n",
    "#adiciona nome nas colunas\n",
    "#df2 = df2.rename(columns={0: \"ds\",1:\"isbn\", 2: \"y\"})\n",
    "\n",
    "#transforma para datetime\n",
    "#df2[\"ds\"] = pd.to_datetime(df2[\"ds\"])\n",
    "\n",
    "#df2['ds'] = df2['ds'].values.astype('datetime64[M]')\n",
    "\n",
    "#df2 = df2.groupby(['ds']).sum()\n",
    "\n",
    "#df2 = df2.reset_index()\n",
    "\n",
    "#df2.info()"
   ]
  },
  {
   "cell_type": "code",
   "execution_count": 817,
   "metadata": {},
   "outputs": [
    {
     "name": "stdout",
     "output_type": "stream",
     "text": [
      "<class 'pandas.core.frame.DataFrame'>\n",
      "RangeIndex: 60 entries, 0 to 59\n",
      "Data columns (total 2 columns):\n",
      " #   Column  Non-Null Count  Dtype         \n",
      "---  ------  --------------  -----         \n",
      " 0   ds      60 non-null     datetime64[ns]\n",
      " 1   y       60 non-null     float64       \n",
      "dtypes: datetime64[ns](1), float64(1)\n",
      "memory usage: 1.1 KB\n"
     ]
    }
   ],
   "source": [
    "#Dados Prophet\n",
    "df2 = df.to_frame()\n",
    "\n",
    "#Reinicia indice\n",
    "df2 = df2.reset_index()\n",
    "\n",
    "#adiciona nome nas colunas\n",
    "df2 = df2.rename(columns={\"date\":\"ds\",\"value\":\"y\"})\n",
    "\n",
    "df2.info()"
   ]
  },
  {
   "cell_type": "code",
   "execution_count": 818,
   "metadata": {
    "colab": {
     "base_uri": "https://localhost:8080/"
    },
    "executionInfo": {
     "elapsed": 31541,
     "status": "ok",
     "timestamp": 1611535816033,
     "user": {
      "displayName": "Rafael de Miranda da Costa Leite",
      "photoUrl": "https://lh3.googleusercontent.com/a-/AOh14Gj-3rbInttHw_wvyiLPSmYAdgOUmDm2bFbC-AEvbw=s64",
      "userId": "02906791875441644303"
     },
     "user_tz": 180
    },
    "id": "_UMZHBeRe_3j",
    "outputId": "16cf1b89-b159-45a2-b409-31b283cac166"
   },
   "outputs": [
    {
     "name": "stderr",
     "output_type": "stream",
     "text": [
      "INFO:fbprophet:Disabling weekly seasonality. Run prophet with weekly_seasonality=True to override this.\n",
      "INFO:fbprophet:Disabling daily seasonality. Run prophet with daily_seasonality=True to override this.\n"
     ]
    },
    {
     "data": {
      "text/plain": [
       "<fbprophet.forecaster.Prophet at 0x7f76a37e0730>"
      ]
     },
     "execution_count": 818,
     "metadata": {},
     "output_type": "execute_result"
    }
   ],
   "source": [
    "from fbprophet import Prophet\n",
    "\n",
    "#Fit modelo Prophet\n",
    "fitProphet = Prophet()\n",
    "\n",
    "fitProphet.fit(df2)"
   ]
  },
  {
   "cell_type": "code",
   "execution_count": 819,
   "metadata": {
    "executionInfo": {
     "elapsed": 33453,
     "status": "ok",
     "timestamp": 1611535817950,
     "user": {
      "displayName": "Rafael de Miranda da Costa Leite",
      "photoUrl": "https://lh3.googleusercontent.com/a-/AOh14Gj-3rbInttHw_wvyiLPSmYAdgOUmDm2bFbC-AEvbw=s64",
      "userId": "02906791875441644303"
     },
     "user_tz": 180
    },
    "id": "jrER-SJ4mUmc"
   },
   "outputs": [],
   "source": [
    "#Forecast Prophet\n",
    "future = fitProphet.make_future_dataframe(periods=12, freq='MS')\n",
    "\n",
    "predProphetfull = fitProphet.predict(future)\n",
    "\n",
    "predProphet = predProphetfull[['ds','yhat']]\n",
    "\n",
    "predProphet = predProphet.set_index('ds')\n",
    "predProphet = predProphet.rename(columns={\"yhat\": \"PROPHET\"})\n",
    "\n",
    "predProphet = predProphet.iloc[-24:]"
   ]
  },
  {
   "cell_type": "markdown",
   "metadata": {
    "id": "vaBJwAnqyBLP"
   },
   "source": [
    "Modelo LSTM"
   ]
  },
  {
   "cell_type": "code",
   "execution_count": 820,
   "metadata": {},
   "outputs": [],
   "source": [
    "#Dados LSTM\n",
    "\n",
    "#importa dados\n",
    "#df3 = data_sql\n",
    "\n",
    "#adiciona nome nas colunas\n",
    "#df3 = df3.rename(columns={0: \"ds\",1:\"isbn\", 2: \"Venda\"})\n",
    "\n",
    "#transforma para datetime\n",
    "#df3[\"Mes\"] = pd.to_datetime(df3[\"ds\"])\n",
    "\n",
    "#df3['Mes'] = df3['Mes'].values.astype('datetime64[M]')\n",
    "\n",
    "#df3.drop(['ds','isbn'], axis=1, inplace=True)\n",
    "\n",
    "#df3 = df3.groupby(['Mes']).sum()\n",
    "\n",
    "#df3 = df3.reset_index()\n",
    "\n",
    "#df3 = df3.set_index(\"Mes\")\n",
    "\n",
    "#df3.index.freq = 'MS'\n",
    "\n",
    "#train_data = df3[:len(df3)-12]\n",
    "#test_data = df3[len(df3)-12:]"
   ]
  },
  {
   "cell_type": "code",
   "execution_count": 821,
   "metadata": {},
   "outputs": [
    {
     "data": {
      "text/html": [
       "<div>\n",
       "<style scoped>\n",
       "    .dataframe tbody tr th:only-of-type {\n",
       "        vertical-align: middle;\n",
       "    }\n",
       "\n",
       "    .dataframe tbody tr th {\n",
       "        vertical-align: top;\n",
       "    }\n",
       "\n",
       "    .dataframe thead th {\n",
       "        text-align: right;\n",
       "    }\n",
       "</style>\n",
       "<table border=\"1\" class=\"dataframe\">\n",
       "  <thead>\n",
       "    <tr style=\"text-align: right;\">\n",
       "      <th></th>\n",
       "      <th>value</th>\n",
       "    </tr>\n",
       "    <tr>\n",
       "      <th>date</th>\n",
       "      <th></th>\n",
       "    </tr>\n",
       "  </thead>\n",
       "  <tbody>\n",
       "    <tr>\n",
       "      <th>2015-01-01</th>\n",
       "      <td>51.0</td>\n",
       "    </tr>\n",
       "    <tr>\n",
       "      <th>2015-02-01</th>\n",
       "      <td>71.0</td>\n",
       "    </tr>\n",
       "    <tr>\n",
       "      <th>2015-03-01</th>\n",
       "      <td>540.4</td>\n",
       "    </tr>\n",
       "    <tr>\n",
       "      <th>2015-04-01</th>\n",
       "      <td>202.0</td>\n",
       "    </tr>\n",
       "    <tr>\n",
       "      <th>2015-05-01</th>\n",
       "      <td>166.0</td>\n",
       "    </tr>\n",
       "  </tbody>\n",
       "</table>\n",
       "</div>"
      ],
      "text/plain": [
       "            value\n",
       "date             \n",
       "2015-01-01   51.0\n",
       "2015-02-01   71.0\n",
       "2015-03-01  540.4\n",
       "2015-04-01  202.0\n",
       "2015-05-01  166.0"
      ]
     },
     "execution_count": 821,
     "metadata": {},
     "output_type": "execute_result"
    }
   ],
   "source": [
    "#Dados LSTM\n",
    "\n",
    "#Copia dos dados tratados\n",
    "df3 = df.to_frame()\n",
    "\n",
    "#Cria data frame train e teste\n",
    "train_data = df3[:len(df3)-12]\n",
    "test_data = df3[len(df3)-12:]\n",
    "\n",
    "df3.head()"
   ]
  },
  {
   "cell_type": "code",
   "execution_count": 822,
   "metadata": {
    "executionInfo": {
     "elapsed": 33449,
     "status": "ok",
     "timestamp": 1611535817953,
     "user": {
      "displayName": "Rafael de Miranda da Costa Leite",
      "photoUrl": "https://lh3.googleusercontent.com/a-/AOh14Gj-3rbInttHw_wvyiLPSmYAdgOUmDm2bFbC-AEvbw=s64",
      "userId": "02906791875441644303"
     },
     "user_tz": 180
    },
    "id": "J4Na9k9lNYbY"
   },
   "outputs": [],
   "source": [
    "from sklearn.preprocessing import MinMaxScaler\n",
    "scaler = MinMaxScaler()"
   ]
  },
  {
   "cell_type": "code",
   "execution_count": 823,
   "metadata": {
    "executionInfo": {
     "elapsed": 33447,
     "status": "ok",
     "timestamp": 1611535817954,
     "user": {
      "displayName": "Rafael de Miranda da Costa Leite",
      "photoUrl": "https://lh3.googleusercontent.com/a-/AOh14Gj-3rbInttHw_wvyiLPSmYAdgOUmDm2bFbC-AEvbw=s64",
      "userId": "02906791875441644303"
     },
     "user_tz": 180
    },
    "id": "-QYaskWVNYbY"
   },
   "outputs": [],
   "source": [
    "scaler.fit(train_data)\n",
    "scaled_train_data = scaler.transform(train_data)\n",
    "scaled_test_data = scaler.transform(test_data)"
   ]
  },
  {
   "cell_type": "code",
   "execution_count": 824,
   "metadata": {
    "executionInfo": {
     "elapsed": 35272,
     "status": "ok",
     "timestamp": 1611535819784,
     "user": {
      "displayName": "Rafael de Miranda da Costa Leite",
      "photoUrl": "https://lh3.googleusercontent.com/a-/AOh14Gj-3rbInttHw_wvyiLPSmYAdgOUmDm2bFbC-AEvbw=s64",
      "userId": "02906791875441644303"
     },
     "user_tz": 180
    },
    "id": "fcObEiVKNYbY"
   },
   "outputs": [],
   "source": [
    "from keras.preprocessing.sequence import TimeseriesGenerator\n",
    "\n",
    "n_input = n_periods\n",
    "#n_input = 12\n",
    "n_features= 1\n",
    "generator = TimeseriesGenerator(scaled_train_data, scaled_train_data, length=n_input, batch_size=2)"
   ]
  },
  {
   "cell_type": "code",
   "execution_count": 825,
   "metadata": {
    "colab": {
     "base_uri": "https://localhost:8080/"
    },
    "executionInfo": {
     "elapsed": 35269,
     "status": "ok",
     "timestamp": 1611535819785,
     "user": {
      "displayName": "Rafael de Miranda da Costa Leite",
      "photoUrl": "https://lh3.googleusercontent.com/a-/AOh14Gj-3rbInttHw_wvyiLPSmYAdgOUmDm2bFbC-AEvbw=s64",
      "userId": "02906791875441644303"
     },
     "user_tz": 180
    },
    "id": "niryx9RJNYbZ",
    "outputId": "de76434f-4746-49d2-876d-41ea23e18348"
   },
   "outputs": [
    {
     "name": "stdout",
     "output_type": "stream",
     "text": [
      "Model: \"sequential_17\"\n",
      "_________________________________________________________________\n",
      "Layer (type)                 Output Shape              Param #   \n",
      "=================================================================\n",
      "lstm_17 (LSTM)               (None, 100)               40800     \n",
      "_________________________________________________________________\n",
      "dense_17 (Dense)             (None, 1)                 101       \n",
      "=================================================================\n",
      "Total params: 40,901\n",
      "Trainable params: 40,901\n",
      "Non-trainable params: 0\n",
      "_________________________________________________________________\n"
     ]
    }
   ],
   "source": [
    "from keras.models import Sequential\n",
    "from keras.layers import Dense\n",
    "from keras.layers import LSTM\n",
    "\n",
    "lstm_model = Sequential()\n",
    "lstm_model.add(LSTM(100, activation='relu', input_shape=(n_input, n_features)))\n",
    "lstm_model.add(Dense(1))\n",
    "lstm_model.compile(optimizer='adam', loss='mse')\n",
    "\n",
    "lstm_model.summary()"
   ]
  },
  {
   "cell_type": "code",
   "execution_count": 826,
   "metadata": {
    "colab": {
     "base_uri": "https://localhost:8080/"
    },
    "executionInfo": {
     "elapsed": 56336,
     "status": "ok",
     "timestamp": 1611535840857,
     "user": {
      "displayName": "Rafael de Miranda da Costa Leite",
      "photoUrl": "https://lh3.googleusercontent.com/a-/AOh14Gj-3rbInttHw_wvyiLPSmYAdgOUmDm2bFbC-AEvbw=s64",
      "userId": "02906791875441644303"
     },
     "user_tz": 180
    },
    "id": "KQ0aNvA-NYbZ",
    "outputId": "cd5ad4b6-c2ab-412f-ed94-5fd144afc139"
   },
   "outputs": [
    {
     "name": "stdout",
     "output_type": "stream",
     "text": [
      "Epoch 1/50\n"
     ]
    },
    {
     "name": "stderr",
     "output_type": "stream",
     "text": [
      "/home/rafael/Apps/anaconda3/lib/python3.8/site-packages/tensorflow/python/keras/engine/training.py:1844: UserWarning: `Model.fit_generator` is deprecated and will be removed in a future version. Please use `Model.fit`, which supports generators.\n",
      "  warnings.warn('`Model.fit_generator` is deprecated and '\n"
     ]
    },
    {
     "name": "stdout",
     "output_type": "stream",
     "text": [
      "12/12 [==============================] - 1s 32ms/step - loss: 0.2370\n",
      "Epoch 2/50\n",
      "12/12 [==============================] - 1s 41ms/step - loss: 0.0878\n",
      "Epoch 3/50\n",
      "12/12 [==============================] - 0s 37ms/step - loss: 0.0675\n",
      "Epoch 4/50\n",
      "12/12 [==============================] - 1s 47ms/step - loss: 0.0582\n",
      "Epoch 5/50\n",
      "12/12 [==============================] - 0s 31ms/step - loss: 0.0750\n",
      "Epoch 6/50\n",
      "12/12 [==============================] - 0s 36ms/step - loss: 0.1099\n",
      "Epoch 7/50\n",
      "12/12 [==============================] - 0s 39ms/step - loss: 0.0984\n",
      "Epoch 8/50\n",
      "12/12 [==============================] - 0s 34ms/step - loss: 0.0652\n",
      "Epoch 9/50\n",
      "12/12 [==============================] - 0s 35ms/step - loss: 0.0676\n",
      "Epoch 10/50\n",
      "12/12 [==============================] - 0s 32ms/step - loss: 0.0518\n",
      "Epoch 11/50\n",
      "12/12 [==============================] - 0s 35ms/step - loss: 0.0780\n",
      "Epoch 12/50\n",
      "12/12 [==============================] - 0s 37ms/step - loss: 0.1100\n",
      "Epoch 13/50\n",
      "12/12 [==============================] - 0s 36ms/step - loss: 0.0790\n",
      "Epoch 14/50\n",
      "12/12 [==============================] - 0s 36ms/step - loss: 0.0620\n",
      "Epoch 15/50\n",
      "12/12 [==============================] - 0s 36ms/step - loss: 0.0700\n",
      "Epoch 16/50\n",
      "12/12 [==============================] - 1s 39ms/step - loss: 0.0893\n",
      "Epoch 17/50\n",
      "12/12 [==============================] - 0s 33ms/step - loss: 0.0691\n",
      "Epoch 18/50\n",
      "12/12 [==============================] - 0s 35ms/step - loss: 0.0577\n",
      "Epoch 19/50\n",
      "12/12 [==============================] - 1s 56ms/step - loss: 0.0750\n",
      "Epoch 20/50\n",
      "12/12 [==============================] - 1s 47ms/step - loss: 0.1060\n",
      "Epoch 21/50\n",
      "12/12 [==============================] - 1s 45ms/step - loss: 0.0818\n",
      "Epoch 22/50\n",
      "12/12 [==============================] - 1s 52ms/step - loss: 0.0635\n",
      "Epoch 23/50\n",
      "12/12 [==============================] - 1s 54ms/step - loss: 0.0860\n",
      "Epoch 24/50\n",
      "12/12 [==============================] - 1s 49ms/step - loss: 0.0480\n",
      "Epoch 25/50\n",
      "12/12 [==============================] - 0s 15ms/step - loss: 0.0649\n",
      "Epoch 26/50\n",
      "12/12 [==============================] - 0s 14ms/step - loss: 0.0727\n",
      "Epoch 27/50\n",
      "12/12 [==============================] - 0s 12ms/step - loss: 0.1200\n",
      "Epoch 28/50\n",
      "12/12 [==============================] - 0s 10ms/step - loss: 0.0600\n",
      "Epoch 29/50\n",
      "12/12 [==============================] - 0s 10ms/step - loss: 0.0475\n",
      "Epoch 30/50\n",
      "12/12 [==============================] - 0s 9ms/step - loss: 0.0549\n",
      "Epoch 31/50\n",
      "12/12 [==============================] - 0s 11ms/step - loss: 0.0757\n",
      "Epoch 32/50\n",
      "12/12 [==============================] - 0s 15ms/step - loss: 0.1070\n",
      "Epoch 33/50\n",
      "12/12 [==============================] - 0s 14ms/step - loss: 0.0576\n",
      "Epoch 34/50\n",
      "12/12 [==============================] - 0s 10ms/step - loss: 0.0398\n",
      "Epoch 35/50\n",
      "12/12 [==============================] - 0s 14ms/step - loss: 0.0979\n",
      "Epoch 36/50\n",
      "12/12 [==============================] - 0s 14ms/step - loss: 0.0475\n",
      "Epoch 37/50\n",
      "12/12 [==============================] - 0s 10ms/step - loss: 0.0715\n",
      "Epoch 38/50\n",
      "12/12 [==============================] - 0s 13ms/step - loss: 0.0583\n",
      "Epoch 39/50\n",
      "12/12 [==============================] - 0s 26ms/step - loss: 0.0787\n",
      "Epoch 40/50\n",
      "12/12 [==============================] - 0s 11ms/step - loss: 0.0516\n",
      "Epoch 41/50\n",
      "12/12 [==============================] - 0s 9ms/step - loss: 0.0731\n",
      "Epoch 42/50\n",
      "12/12 [==============================] - 0s 12ms/step - loss: 0.0536\n",
      "Epoch 43/50\n",
      "12/12 [==============================] - 0s 9ms/step - loss: 0.0933\n",
      "Epoch 44/50\n",
      "12/12 [==============================] - 0s 9ms/step - loss: 0.0623\n",
      "Epoch 45/50\n",
      "12/12 [==============================] - 0s 14ms/step - loss: 0.0738\n",
      "Epoch 46/50\n",
      "12/12 [==============================] - 0s 14ms/step - loss: 0.0548\n",
      "Epoch 47/50\n",
      "12/12 [==============================] - 0s 8ms/step - loss: 0.0554\n",
      "Epoch 48/50\n",
      "12/12 [==============================] - 0s 13ms/step - loss: 0.0602\n",
      "Epoch 49/50\n",
      "12/12 [==============================] - 0s 9ms/step - loss: 0.0748\n",
      "Epoch 50/50\n",
      "12/12 [==============================] - 0s 9ms/step - loss: 0.0625\n"
     ]
    },
    {
     "data": {
      "text/plain": [
       "<tensorflow.python.keras.callbacks.History at 0x7f76a37f69a0>"
      ]
     },
     "execution_count": 826,
     "metadata": {},
     "output_type": "execute_result"
    }
   ],
   "source": [
    "nepochs=50\n",
    "lstm_model.fit_generator(generator,epochs=nepochs)"
   ]
  },
  {
   "cell_type": "code",
   "execution_count": 827,
   "metadata": {
    "colab": {
     "base_uri": "https://localhost:8080/",
     "height": 497
    },
    "executionInfo": {
     "elapsed": 56733,
     "status": "ok",
     "timestamp": 1611535841260,
     "user": {
      "displayName": "Rafael de Miranda da Costa Leite",
      "photoUrl": "https://lh3.googleusercontent.com/a-/AOh14Gj-3rbInttHw_wvyiLPSmYAdgOUmDm2bFbC-AEvbw=s64",
      "userId": "02906791875441644303"
     },
     "user_tz": 180
    },
    "id": "Cz-smqKKNYbZ",
    "outputId": "7541ac13-7652-40bf-b103-12294e5a956a"
   },
   "outputs": [
    {
     "data": {
      "image/png": "[encoded data removed]",
      "text/plain": [
       "<Figure size 864x576 with 1 Axes>"
      ]
     },
     "metadata": {
      "needs_background": "light"
     },
     "output_type": "display_data"
    }
   ],
   "source": [
    "losses_lstm = lstm_model.history.history['loss']\n",
    "plt.figure(figsize=(12,8))\n",
    "plt.xlabel(\"Epochs\")\n",
    "plt.ylabel(\"Loss\")\n",
    "plt.xticks(np.arange(0,nepochs,1))\n",
    "plt.plot(range(len(losses_lstm)),losses_lstm);"
   ]
  },
  {
   "cell_type": "code",
   "execution_count": 828,
   "metadata": {
    "executionInfo": {
     "elapsed": 57438,
     "status": "ok",
     "timestamp": 1611535841971,
     "user": {
      "displayName": "Rafael de Miranda da Costa Leite",
      "photoUrl": "https://lh3.googleusercontent.com/a-/AOh14Gj-3rbInttHw_wvyiLPSmYAdgOUmDm2bFbC-AEvbw=s64",
      "userId": "02906791875441644303"
     },
     "user_tz": 180
    },
    "id": "0NIISLnmNYbZ"
   },
   "outputs": [],
   "source": [
    "lstm_predictions_scaled = list()\n",
    "\n",
    "batch = scaled_train_data[-n_input:]\n",
    "current_batch = batch.reshape((1, n_input, n_features))\n",
    "\n",
    "for i in range(n_input):   \n",
    "    lstm_pred = lstm_model.predict(current_batch)[0]\n",
    "    lstm_predictions_scaled.append(lstm_pred) \n",
    "    current_batch = np.append(current_batch[:,1:,:],[[lstm_pred]],axis=1)"
   ]
  },
  {
   "cell_type": "code",
   "execution_count": 829,
   "metadata": {
    "executionInfo": {
     "elapsed": 57436,
     "status": "ok",
     "timestamp": 1611535841972,
     "user": {
      "displayName": "Rafael de Miranda da Costa Leite",
      "photoUrl": "https://lh3.googleusercontent.com/a-/AOh14Gj-3rbInttHw_wvyiLPSmYAdgOUmDm2bFbC-AEvbw=s64",
      "userId": "02906791875441644303"
     },
     "user_tz": 180
    },
    "id": "CPXHVASvNYba"
   },
   "outputs": [],
   "source": [
    "lstm_predictions = scaler.inverse_transform(lstm_predictions_scaled)"
   ]
  },
  {
   "cell_type": "markdown",
   "metadata": {
    "id": "KBMF7e_3Fu_t"
   },
   "source": [
    "# Avaliação do Forecast"
   ]
  },
  {
   "cell_type": "code",
   "execution_count": 830,
   "metadata": {
    "executionInfo": {
     "elapsed": 57428,
     "status": "ok",
     "timestamp": 1611535841974,
     "user": {
      "displayName": "Rafael de Miranda da Costa Leite",
      "photoUrl": "https://lh3.googleusercontent.com/a-/AOh14Gj-3rbInttHw_wvyiLPSmYAdgOUmDm2bFbC-AEvbw=s64",
      "userId": "02906791875441644303"
     },
     "user_tz": 180
    },
    "id": "TcrxWhwEOjO_"
   },
   "outputs": [],
   "source": [
    "#Concatena predições\n",
    "forecast = pd.concat([test,predSArima,predProphet],axis=1)\n",
    "forecast['LSTM'] = lstm_predictions"
   ]
  },
  {
   "cell_type": "code",
   "execution_count": 831,
   "metadata": {
    "colab": {
     "base_uri": "https://localhost:8080/",
     "height": 295
    },
    "executionInfo": {
     "elapsed": 57833,
     "status": "ok",
     "timestamp": 1611535842389,
     "user": {
      "displayName": "Rafael de Miranda da Costa Leite",
      "photoUrl": "https://lh3.googleusercontent.com/a-/AOh14Gj-3rbInttHw_wvyiLPSmYAdgOUmDm2bFbC-AEvbw=s64",
      "userId": "02906791875441644303"
     },
     "user_tz": 180
    },
    "id": "44QVVxDg8Sb9",
    "outputId": "b7b93fc6-306c-4ac2-b937-458ceaa1a764"
   },
   "outputs": [
    {
     "data": {
      "text/plain": [
       "<matplotlib.axes._subplots.AxesSubplot at 0x7f769cbadf70>"
      ]
     },
     "execution_count": 831,
     "metadata": {},
     "output_type": "execute_result"
    },
    {
     "data": {
      "image/png": "[encoded data removed]",
      "text/plain": [
       "<Figure size 432x288 with 1 Axes>"
      ]
     },
     "metadata": {
      "needs_background": "light"
     },
     "output_type": "display_data"
    }
   ],
   "source": [
    "forecast.plot()"
   ]
  },
  {
   "cell_type": "code",
   "execution_count": 832,
   "metadata": {
    "executionInfo": {
     "elapsed": 57827,
     "status": "ok",
     "timestamp": 1611535842390,
     "user": {
      "displayName": "Rafael de Miranda da Costa Leite",
      "photoUrl": "https://lh3.googleusercontent.com/a-/AOh14Gj-3rbInttHw_wvyiLPSmYAdgOUmDm2bFbC-AEvbw=s64",
      "userId": "02906791875441644303"
     },
     "user_tz": 180
    },
    "id": "zkxt16tucUgw"
   },
   "outputs": [],
   "source": [
    "forecast['Ac_venda'] = test.cumsum()\n",
    "forecast['Ac_SArima'] = forecast['SARIMA'].cumsum()\n",
    "forecast['Ac_PROPHET'] = forecast['PROPHET'].cumsum()\n",
    "forecast['Ac_LSTM'] = forecast['LSTM'].cumsum()"
   ]
  },
  {
   "cell_type": "code",
   "execution_count": 833,
   "metadata": {
    "colab": {
     "base_uri": "https://localhost:8080/",
     "height": 295
    },
    "executionInfo": {
     "elapsed": 58419,
     "status": "ok",
     "timestamp": 1611535842986,
     "user": {
      "displayName": "Rafael de Miranda da Costa Leite",
      "photoUrl": "https://lh3.googleusercontent.com/a-/AOh14Gj-3rbInttHw_wvyiLPSmYAdgOUmDm2bFbC-AEvbw=s64",
      "userId": "02906791875441644303"
     },
     "user_tz": 180
    },
    "id": "ZFquRXwPc_iy",
    "outputId": "8317d480-ef89-4d7c-f312-6d1c3e320afc"
   },
   "outputs": [
    {
     "data": {
      "text/plain": [
       "<matplotlib.axes._subplots.AxesSubplot at 0x7f769dcfa370>"
      ]
     },
     "execution_count": 833,
     "metadata": {},
     "output_type": "execute_result"
    },
    {
     "data": {
      "image/png": "[encoded data removed]",
      "text/plain": [
       "<Figure size 432x288 with 1 Axes>"
      ]
     },
     "metadata": {
      "needs_background": "light"
     },
     "output_type": "display_data"
    }
   ],
   "source": [
    "forecast.plot()"
   ]
  },
  {
   "cell_type": "code",
   "execution_count": 834,
   "metadata": {
    "colab": {
     "base_uri": "https://localhost:8080/",
     "height": 283
    },
    "executionInfo": {
     "elapsed": 891,
     "status": "ok",
     "timestamp": 1611535951136,
     "user": {
      "displayName": "Rafael de Miranda da Costa Leite",
      "photoUrl": "https://lh3.googleusercontent.com/a-/AOh14Gj-3rbInttHw_wvyiLPSmYAdgOUmDm2bFbC-AEvbw=s64",
      "userId": "02906791875441644303"
     },
     "user_tz": 180
    },
    "id": "RqS-lTajZ2c6",
    "outputId": "d83808df-b9ea-4e6b-bb27-7bbe1e68baf2"
   },
   "outputs": [
    {
     "data": {
      "text/plain": [
       "<matplotlib.axes._subplots.AxesSubplot at 0x7f769cc8f310>"
      ]
     },
     "execution_count": 834,
     "metadata": {},
     "output_type": "execute_result"
    },
    {
     "data": {
      "image/png": "[encoded data removed]",
      "text/plain": [
       "<Figure size 432x288 with 1 Axes>"
      ]
     },
     "metadata": {
      "needs_background": "light"
     },
     "output_type": "display_data"
    }
   ],
   "source": [
    "#Visão geral\n",
    "pd.concat([df1,predSArima,predProphet],axis=1).plot()"
   ]
  },
  {
   "cell_type": "markdown",
   "metadata": {
    "id": "1BJPrB9YFYQD"
   },
   "source": [
    "Exporta Dados"
   ]
  },
  {
   "cell_type": "code",
   "execution_count": 835,
   "metadata": {
    "executionInfo": {
     "elapsed": 659,
     "status": "ok",
     "timestamp": 1611535965081,
     "user": {
      "displayName": "Rafael de Miranda da Costa Leite",
      "photoUrl": "https://lh3.googleusercontent.com/a-/AOh14Gj-3rbInttHw_wvyiLPSmYAdgOUmDm2bFbC-AEvbw=s64",
      "userId": "02906791875441644303"
     },
     "user_tz": 180
    },
    "id": "B0Q614FobDzK"
   },
   "outputs": [],
   "source": [
    "#forecast.to_excel ('forecast.xlsx', index = True, header=True, sheet_name = 'Dados')"
   ]
  },
  {
   "cell_type": "code",
   "execution_count": 836,
   "metadata": {},
   "outputs": [
    {
     "name": "stdout",
     "output_type": "stream",
     "text": [
      "<class 'pandas.core.frame.DataFrame'>\n",
      "DatetimeIndex: 24 entries, 2019-01-01 to 2020-12-01\n",
      "Freq: MS\n",
      "Data columns (total 10 columns):\n",
      " #   Column       Non-Null Count  Dtype  \n",
      "---  ------       --------------  -----  \n",
      " 0   qtd_venda    24 non-null     float64\n",
      " 1   qtd_sarima   24 non-null     float64\n",
      " 2   qtd_prophet  24 non-null     float64\n",
      " 3   qtd_lstm     24 non-null     float64\n",
      " 4   acm_venda    24 non-null     float64\n",
      " 5   acm_sarima   24 non-null     float64\n",
      " 6   acm_prophet  24 non-null     float64\n",
      " 7   acm_lstm     24 non-null     float64\n",
      " 8   sk_tempo     24 non-null     int64  \n",
      " 9   sk_protudo   24 non-null     int64  \n",
      "dtypes: float64(8), int64(2)\n",
      "memory usage: 2.1 KB\n"
     ]
    }
   ],
   "source": [
    "df_export = forecast.copy()\n",
    "df_export[\"sk_tempo\"] = df_export.index.strftime('%Y%m%d').astype(int)\n",
    "df_export[\"sk_protudo\"] = int(produto_proc)\n",
    "\n",
    "df_export = df_export.rename(columns={\"value\":\"qtd_venda\",\"Ac_venda\":\"acm_venda\"})\n",
    "df_export = df_export.rename(columns={\"PROPHET\":\"qtd_prophet\",\"Ac_PROPHET\":\"acm_prophet\"})\n",
    "df_export = df_export.rename(columns={\"LSTM\":\"qtd_lstm\",\"Ac_LSTM\":\"acm_lstm\"})\n",
    "df_export = df_export.rename(columns={\"SARIMA\":\"qtd_sarima\",\"Ac_SArima\":\"acm_sarima\"})\n",
    "df_export = df_export.replace(np.nan,0)\n",
    "\n",
    "df_export.info()"
   ]
  },
  {
   "cell_type": "code",
   "execution_count": 837,
   "metadata": {},
   "outputs": [
    {
     "data": {
      "text/html": [
       "<div>\n",
       "<style scoped>\n",
       "    .dataframe tbody tr th:only-of-type {\n",
       "        vertical-align: middle;\n",
       "    }\n",
       "\n",
       "    .dataframe tbody tr th {\n",
       "        vertical-align: top;\n",
       "    }\n",
       "\n",
       "    .dataframe thead th {\n",
       "        text-align: right;\n",
       "    }\n",
       "</style>\n",
       "<table border=\"1\" class=\"dataframe\">\n",
       "  <thead>\n",
       "    <tr style=\"text-align: right;\">\n",
       "      <th></th>\n",
       "      <th>qtd_venda</th>\n",
       "      <th>qtd_sarima</th>\n",
       "      <th>qtd_prophet</th>\n",
       "      <th>qtd_lstm</th>\n",
       "      <th>acm_venda</th>\n",
       "      <th>acm_sarima</th>\n",
       "      <th>acm_prophet</th>\n",
       "      <th>acm_lstm</th>\n",
       "      <th>sk_tempo</th>\n",
       "      <th>sk_protudo</th>\n",
       "    </tr>\n",
       "  </thead>\n",
       "  <tbody>\n",
       "    <tr>\n",
       "      <th>2019-01-01</th>\n",
       "      <td>40.0</td>\n",
       "      <td>195.859519</td>\n",
       "      <td>186.747988</td>\n",
       "      <td>188.395991</td>\n",
       "      <td>40.0</td>\n",
       "      <td>195.859519</td>\n",
       "      <td>186.747988</td>\n",
       "      <td>188.395991</td>\n",
       "      <td>20190101</td>\n",
       "      <td>12804</td>\n",
       "    </tr>\n",
       "    <tr>\n",
       "      <th>2019-02-01</th>\n",
       "      <td>14.0</td>\n",
       "      <td>-26.330954</td>\n",
       "      <td>-12.650818</td>\n",
       "      <td>183.472878</td>\n",
       "      <td>54.0</td>\n",
       "      <td>169.528565</td>\n",
       "      <td>174.097169</td>\n",
       "      <td>371.868869</td>\n",
       "      <td>20190201</td>\n",
       "      <td>12804</td>\n",
       "    </tr>\n",
       "    <tr>\n",
       "      <th>2019-03-01</th>\n",
       "      <td>380.0</td>\n",
       "      <td>379.249149</td>\n",
       "      <td>328.816525</td>\n",
       "      <td>183.154652</td>\n",
       "      <td>434.0</td>\n",
       "      <td>548.777714</td>\n",
       "      <td>502.913694</td>\n",
       "      <td>555.023520</td>\n",
       "      <td>20190301</td>\n",
       "      <td>12804</td>\n",
       "    </tr>\n",
       "    <tr>\n",
       "      <th>2019-04-01</th>\n",
       "      <td>71.0</td>\n",
       "      <td>156.759695</td>\n",
       "      <td>179.859908</td>\n",
       "      <td>179.194655</td>\n",
       "      <td>505.0</td>\n",
       "      <td>705.537410</td>\n",
       "      <td>682.773602</td>\n",
       "      <td>734.218175</td>\n",
       "      <td>20190401</td>\n",
       "      <td>12804</td>\n",
       "    </tr>\n",
       "    <tr>\n",
       "      <th>2019-05-01</th>\n",
       "      <td>263.0</td>\n",
       "      <td>50.120002</td>\n",
       "      <td>180.404164</td>\n",
       "      <td>178.673477</td>\n",
       "      <td>768.0</td>\n",
       "      <td>755.657411</td>\n",
       "      <td>863.177766</td>\n",
       "      <td>912.891652</td>\n",
       "      <td>20190501</td>\n",
       "      <td>12804</td>\n",
       "    </tr>\n",
       "    <tr>\n",
       "      <th>2019-06-01</th>\n",
       "      <td>116.0</td>\n",
       "      <td>325.850117</td>\n",
       "      <td>174.249645</td>\n",
       "      <td>180.831443</td>\n",
       "      <td>884.0</td>\n",
       "      <td>1081.507529</td>\n",
       "      <td>1037.427411</td>\n",
       "      <td>1093.723095</td>\n",
       "      <td>20190601</td>\n",
       "      <td>12804</td>\n",
       "    </tr>\n",
       "    <tr>\n",
       "      <th>2019-07-01</th>\n",
       "      <td>77.0</td>\n",
       "      <td>160.461706</td>\n",
       "      <td>160.978032</td>\n",
       "      <td>176.925896</td>\n",
       "      <td>961.0</td>\n",
       "      <td>1241.969234</td>\n",
       "      <td>1198.405443</td>\n",
       "      <td>1270.648991</td>\n",
       "      <td>20190701</td>\n",
       "      <td>12804</td>\n",
       "    </tr>\n",
       "    <tr>\n",
       "      <th>2019-08-01</th>\n",
       "      <td>99.0</td>\n",
       "      <td>285.234103</td>\n",
       "      <td>245.921244</td>\n",
       "      <td>177.499833</td>\n",
       "      <td>1060.0</td>\n",
       "      <td>1527.203337</td>\n",
       "      <td>1444.326687</td>\n",
       "      <td>1448.148824</td>\n",
       "      <td>20190801</td>\n",
       "      <td>12804</td>\n",
       "    </tr>\n",
       "    <tr>\n",
       "      <th>2019-09-01</th>\n",
       "      <td>387.0</td>\n",
       "      <td>86.741735</td>\n",
       "      <td>264.335062</td>\n",
       "      <td>175.237110</td>\n",
       "      <td>1447.0</td>\n",
       "      <td>1613.945072</td>\n",
       "      <td>1708.661749</td>\n",
       "      <td>1623.385934</td>\n",
       "      <td>20190901</td>\n",
       "      <td>12804</td>\n",
       "    </tr>\n",
       "    <tr>\n",
       "      <th>2019-10-01</th>\n",
       "      <td>175.0</td>\n",
       "      <td>225.269617</td>\n",
       "      <td>143.864405</td>\n",
       "      <td>178.010341</td>\n",
       "      <td>1622.0</td>\n",
       "      <td>1839.214690</td>\n",
       "      <td>1852.526154</td>\n",
       "      <td>1801.396275</td>\n",
       "      <td>20191001</td>\n",
       "      <td>12804</td>\n",
       "    </tr>\n",
       "    <tr>\n",
       "      <th>2019-11-01</th>\n",
       "      <td>59.0</td>\n",
       "      <td>12.999595</td>\n",
       "      <td>14.037451</td>\n",
       "      <td>176.345686</td>\n",
       "      <td>1681.0</td>\n",
       "      <td>1852.214284</td>\n",
       "      <td>1866.563605</td>\n",
       "      <td>1977.741960</td>\n",
       "      <td>20191101</td>\n",
       "      <td>12804</td>\n",
       "    </tr>\n",
       "    <tr>\n",
       "      <th>2019-12-01</th>\n",
       "      <td>289.0</td>\n",
       "      <td>32.825990</td>\n",
       "      <td>103.956501</td>\n",
       "      <td>179.669855</td>\n",
       "      <td>1970.0</td>\n",
       "      <td>1885.040275</td>\n",
       "      <td>1970.520106</td>\n",
       "      <td>2157.411816</td>\n",
       "      <td>20191201</td>\n",
       "      <td>12804</td>\n",
       "    </tr>\n",
       "    <tr>\n",
       "      <th>2020-01-01</th>\n",
       "      <td>0.0</td>\n",
       "      <td>143.976365</td>\n",
       "      <td>222.353218</td>\n",
       "      <td>181.037777</td>\n",
       "      <td>0.0</td>\n",
       "      <td>2029.016640</td>\n",
       "      <td>2192.873324</td>\n",
       "      <td>2338.449592</td>\n",
       "      <td>20200101</td>\n",
       "      <td>12804</td>\n",
       "    </tr>\n",
       "    <tr>\n",
       "      <th>2020-02-01</th>\n",
       "      <td>0.0</td>\n",
       "      <td>-32.677158</td>\n",
       "      <td>-54.481768</td>\n",
       "      <td>179.359002</td>\n",
       "      <td>0.0</td>\n",
       "      <td>1996.339482</td>\n",
       "      <td>2138.391556</td>\n",
       "      <td>2517.808594</td>\n",
       "      <td>20200201</td>\n",
       "      <td>12804</td>\n",
       "    </tr>\n",
       "    <tr>\n",
       "      <th>2020-03-01</th>\n",
       "      <td>0.0</td>\n",
       "      <td>194.885501</td>\n",
       "      <td>393.532431</td>\n",
       "      <td>181.319427</td>\n",
       "      <td>0.0</td>\n",
       "      <td>2191.224983</td>\n",
       "      <td>2531.923987</td>\n",
       "      <td>2699.128021</td>\n",
       "      <td>20200301</td>\n",
       "      <td>12804</td>\n",
       "    </tr>\n",
       "    <tr>\n",
       "      <th>2020-04-01</th>\n",
       "      <td>0.0</td>\n",
       "      <td>217.479838</td>\n",
       "      <td>142.737401</td>\n",
       "      <td>183.012237</td>\n",
       "      <td>0.0</td>\n",
       "      <td>2408.704821</td>\n",
       "      <td>2674.661388</td>\n",
       "      <td>2882.140258</td>\n",
       "      <td>20200401</td>\n",
       "      <td>12804</td>\n",
       "    </tr>\n",
       "    <tr>\n",
       "      <th>2020-05-01</th>\n",
       "      <td>0.0</td>\n",
       "      <td>21.019338</td>\n",
       "      <td>29.979920</td>\n",
       "      <td>180.461219</td>\n",
       "      <td>0.0</td>\n",
       "      <td>2429.724159</td>\n",
       "      <td>2704.641308</td>\n",
       "      <td>3062.601477</td>\n",
       "      <td>20200501</td>\n",
       "      <td>12804</td>\n",
       "    </tr>\n",
       "    <tr>\n",
       "      <th>2020-06-01</th>\n",
       "      <td>0.0</td>\n",
       "      <td>266.673129</td>\n",
       "      <td>270.668329</td>\n",
       "      <td>180.990615</td>\n",
       "      <td>0.0</td>\n",
       "      <td>2696.397288</td>\n",
       "      <td>2975.309637</td>\n",
       "      <td>3243.592092</td>\n",
       "      <td>20200601</td>\n",
       "      <td>12804</td>\n",
       "    </tr>\n",
       "    <tr>\n",
       "      <th>2020-07-01</th>\n",
       "      <td>0.0</td>\n",
       "      <td>134.049622</td>\n",
       "      <td>151.015528</td>\n",
       "      <td>181.450258</td>\n",
       "      <td>0.0</td>\n",
       "      <td>2830.446910</td>\n",
       "      <td>3126.325165</td>\n",
       "      <td>3425.042350</td>\n",
       "      <td>20200701</td>\n",
       "      <td>12804</td>\n",
       "    </tr>\n",
       "    <tr>\n",
       "      <th>2020-08-01</th>\n",
       "      <td>0.0</td>\n",
       "      <td>296.604884</td>\n",
       "      <td>248.195247</td>\n",
       "      <td>181.200466</td>\n",
       "      <td>0.0</td>\n",
       "      <td>3127.051793</td>\n",
       "      <td>3374.520412</td>\n",
       "      <td>3606.242816</td>\n",
       "      <td>20200801</td>\n",
       "      <td>12804</td>\n",
       "    </tr>\n",
       "    <tr>\n",
       "      <th>2020-09-01</th>\n",
       "      <td>0.0</td>\n",
       "      <td>35.891216</td>\n",
       "      <td>78.170585</td>\n",
       "      <td>179.479518</td>\n",
       "      <td>0.0</td>\n",
       "      <td>3162.943009</td>\n",
       "      <td>3452.690997</td>\n",
       "      <td>3785.722334</td>\n",
       "      <td>20200901</td>\n",
       "      <td>12804</td>\n",
       "    </tr>\n",
       "    <tr>\n",
       "      <th>2020-10-01</th>\n",
       "      <td>0.0</td>\n",
       "      <td>197.057919</td>\n",
       "      <td>246.851612</td>\n",
       "      <td>180.794190</td>\n",
       "      <td>0.0</td>\n",
       "      <td>3360.000928</td>\n",
       "      <td>3699.542609</td>\n",
       "      <td>3966.516525</td>\n",
       "      <td>20201001</td>\n",
       "      <td>12804</td>\n",
       "    </tr>\n",
       "    <tr>\n",
       "      <th>2020-11-01</th>\n",
       "      <td>0.0</td>\n",
       "      <td>-0.294819</td>\n",
       "      <td>76.684688</td>\n",
       "      <td>180.828399</td>\n",
       "      <td>0.0</td>\n",
       "      <td>3359.706109</td>\n",
       "      <td>3776.227297</td>\n",
       "      <td>4147.344924</td>\n",
       "      <td>20201101</td>\n",
       "      <td>12804</td>\n",
       "    </tr>\n",
       "    <tr>\n",
       "      <th>2020-12-01</th>\n",
       "      <td>0.0</td>\n",
       "      <td>20.565090</td>\n",
       "      <td>55.584769</td>\n",
       "      <td>181.793934</td>\n",
       "      <td>0.0</td>\n",
       "      <td>3380.271199</td>\n",
       "      <td>3831.812066</td>\n",
       "      <td>4329.138857</td>\n",
       "      <td>20201201</td>\n",
       "      <td>12804</td>\n",
       "    </tr>\n",
       "  </tbody>\n",
       "</table>\n",
       "</div>"
      ],
      "text/plain": [
       "            qtd_venda  qtd_sarima  qtd_prophet    qtd_lstm  acm_venda  \\\n",
       "2019-01-01       40.0  195.859519   186.747988  188.395991       40.0   \n",
       "2019-02-01       14.0  -26.330954   -12.650818  183.472878       54.0   \n",
       "2019-03-01      380.0  379.249149   328.816525  183.154652      434.0   \n",
       "2019-04-01       71.0  156.759695   179.859908  179.194655      505.0   \n",
       "2019-05-01      263.0   50.120002   180.404164  178.673477      768.0   \n",
       "2019-06-01      116.0  325.850117   174.249645  180.831443      884.0   \n",
       "2019-07-01       77.0  160.461706   160.978032  176.925896      961.0   \n",
       "2019-08-01       99.0  285.234103   245.921244  177.499833     1060.0   \n",
       "2019-09-01      387.0   86.741735   264.335062  175.237110     1447.0   \n",
       "2019-10-01      175.0  225.269617   143.864405  178.010341     1622.0   \n",
       "2019-11-01       59.0   12.999595    14.037451  176.345686     1681.0   \n",
       "2019-12-01      289.0   32.825990   103.956501  179.669855     1970.0   \n",
       "2020-01-01        0.0  143.976365   222.353218  181.037777        0.0   \n",
       "2020-02-01        0.0  -32.677158   -54.481768  179.359002        0.0   \n",
       "2020-03-01        0.0  194.885501   393.532431  181.319427        0.0   \n",
       "2020-04-01        0.0  217.479838   142.737401  183.012237        0.0   \n",
       "2020-05-01        0.0   21.019338    29.979920  180.461219        0.0   \n",
       "2020-06-01        0.0  266.673129   270.668329  180.990615        0.0   \n",
       "2020-07-01        0.0  134.049622   151.015528  181.450258        0.0   \n",
       "2020-08-01        0.0  296.604884   248.195247  181.200466        0.0   \n",
       "2020-09-01        0.0   35.891216    78.170585  179.479518        0.0   \n",
       "2020-10-01        0.0  197.057919   246.851612  180.794190        0.0   \n",
       "2020-11-01        0.0   -0.294819    76.684688  180.828399        0.0   \n",
       "2020-12-01        0.0   20.565090    55.584769  181.793934        0.0   \n",
       "\n",
       "             acm_sarima  acm_prophet     acm_lstm  sk_tempo  sk_protudo  \n",
       "2019-01-01   195.859519   186.747988   188.395991  20190101       12804  \n",
       "2019-02-01   169.528565   174.097169   371.868869  20190201       12804  \n",
       "2019-03-01   548.777714   502.913694   555.023520  20190301       12804  \n",
       "2019-04-01   705.537410   682.773602   734.218175  20190401       12804  \n",
       "2019-05-01   755.657411   863.177766   912.891652  20190501       12804  \n",
       "2019-06-01  1081.507529  1037.427411  1093.723095  20190601       12804  \n",
       "2019-07-01  1241.969234  1198.405443  1270.648991  20190701       12804  \n",
       "2019-08-01  1527.203337  1444.326687  1448.148824  20190801       12804  \n",
       "2019-09-01  1613.945072  1708.661749  1623.385934  20190901       12804  \n",
       "2019-10-01  1839.214690  1852.526154  1801.396275  20191001       12804  \n",
       "2019-11-01  1852.214284  1866.563605  1977.741960  20191101       12804  \n",
       "2019-12-01  1885.040275  1970.520106  2157.411816  20191201       12804  \n",
       "2020-01-01  2029.016640  2192.873324  2338.449592  20200101       12804  \n",
       "2020-02-01  1996.339482  2138.391556  2517.808594  20200201       12804  \n",
       "2020-03-01  2191.224983  2531.923987  2699.128021  20200301       12804  \n",
       "2020-04-01  2408.704821  2674.661388  2882.140258  20200401       12804  \n",
       "2020-05-01  2429.724159  2704.641308  3062.601477  20200501       12804  \n",
       "2020-06-01  2696.397288  2975.309637  3243.592092  20200601       12804  \n",
       "2020-07-01  2830.446910  3126.325165  3425.042350  20200701       12804  \n",
       "2020-08-01  3127.051793  3374.520412  3606.242816  20200801       12804  \n",
       "2020-09-01  3162.943009  3452.690997  3785.722334  20200901       12804  \n",
       "2020-10-01  3360.000928  3699.542609  3966.516525  20201001       12804  \n",
       "2020-11-01  3359.706109  3776.227297  4147.344924  20201101       12804  \n",
       "2020-12-01  3380.271199  3831.812066  4329.138857  20201201       12804  "
      ]
     },
     "execution_count": 837,
     "metadata": {},
     "output_type": "execute_result"
    }
   ],
   "source": [
    "#df1 = df1.rename(columns={0: \"date\",1:\"isbn\", 2: \"value\"})\n",
    "df_export"
   ]
  },
  {
   "cell_type": "code",
   "execution_count": 838,
   "metadata": {
    "executionInfo": {
     "elapsed": 58734,
     "status": "ok",
     "timestamp": 1611535843318,
     "user": {
      "displayName": "Rafael de Miranda da Costa Leite",
      "photoUrl": "https://lh3.googleusercontent.com/a-/AOh14Gj-3rbInttHw_wvyiLPSmYAdgOUmDm2bFbC-AEvbw=s64",
      "userId": "02906791875441644303"
     },
     "user_tz": 180
    },
    "id": "nY3RBscfz2Fd"
   },
   "outputs": [
    {
     "name": "stdout",
     "output_type": "stream",
     "text": [
      "(20190101, 12804, 'LSTM', Decimal('188.40'), Decimal('188.40'))\n",
      "(20190101, 12804, 'Prophet', Decimal('186.75'), Decimal('186.75'))\n",
      "(20190101, 12804, 'SArima', Decimal('195.86'), Decimal('195.86'))\n",
      "(20190101, 12804, 'Venda', Decimal('40.00'), Decimal('40.00'))\n",
      "(20190201, 12804, 'LSTM', Decimal('183.47'), Decimal('371.87'))\n",
      "(20190201, 12804, 'Prophet', Decimal('-12.65'), Decimal('174.10'))\n",
      "(20190201, 12804, 'SArima', Decimal('-26.33'), Decimal('169.53'))\n",
      "(20190201, 12804, 'Venda', Decimal('14.00'), Decimal('54.00'))\n",
      "(20190301, 12804, 'LSTM', Decimal('183.15'), Decimal('555.02'))\n",
      "(20190301, 12804, 'Prophet', Decimal('328.82'), Decimal('502.91'))\n",
      "(20190301, 12804, 'SArima', Decimal('379.25'), Decimal('548.78'))\n",
      "(20190301, 12804, 'Venda', Decimal('380.00'), Decimal('434.00'))\n",
      "(20190401, 12804, 'LSTM', Decimal('179.19'), Decimal('734.22'))\n",
      "(20190401, 12804, 'Prophet', Decimal('179.86'), Decimal('682.77'))\n",
      "(20190401, 12804, 'SArima', Decimal('156.76'), Decimal('705.54'))\n",
      "(20190401, 12804, 'Venda', Decimal('71.00'), Decimal('505.00'))\n",
      "(20190501, 12804, 'LSTM', Decimal('178.67'), Decimal('912.89'))\n",
      "(20190501, 12804, 'Prophet', Decimal('180.40'), Decimal('863.18'))\n",
      "(20190501, 12804, 'SArima', Decimal('50.12'), Decimal('755.66'))\n",
      "(20190501, 12804, 'Venda', Decimal('263.00'), Decimal('768.00'))\n",
      "(20190601, 12804, 'LSTM', Decimal('180.83'), Decimal('1093.72'))\n",
      "(20190601, 12804, 'Prophet', Decimal('174.25'), Decimal('1037.43'))\n",
      "(20190601, 12804, 'SArima', Decimal('325.85'), Decimal('1081.51'))\n",
      "(20190601, 12804, 'Venda', Decimal('116.00'), Decimal('884.00'))\n",
      "(20190701, 12804, 'LSTM', Decimal('176.93'), Decimal('1270.65'))\n",
      "(20190701, 12804, 'Prophet', Decimal('160.98'), Decimal('1198.41'))\n",
      "(20190701, 12804, 'SArima', Decimal('160.46'), Decimal('1241.97'))\n",
      "(20190701, 12804, 'Venda', Decimal('77.00'), Decimal('961.00'))\n",
      "(20190801, 12804, 'LSTM', Decimal('177.50'), Decimal('1448.15'))\n",
      "(20190801, 12804, 'Prophet', Decimal('245.92'), Decimal('1444.33'))\n",
      "(20190801, 12804, 'SArima', Decimal('285.23'), Decimal('1527.20'))\n",
      "(20190801, 12804, 'Venda', Decimal('99.00'), Decimal('1060.00'))\n",
      "(20190901, 12804, 'LSTM', Decimal('175.24'), Decimal('1623.39'))\n",
      "(20190901, 12804, 'Prophet', Decimal('264.34'), Decimal('1708.66'))\n",
      "(20190901, 12804, 'SArima', Decimal('86.74'), Decimal('1613.95'))\n",
      "(20190901, 12804, 'Venda', Decimal('387.00'), Decimal('1447.00'))\n",
      "(20191001, 12804, 'LSTM', Decimal('178.01'), Decimal('1801.40'))\n",
      "(20191001, 12804, 'Prophet', Decimal('143.86'), Decimal('1852.53'))\n",
      "(20191001, 12804, 'SArima', Decimal('225.27'), Decimal('1839.21'))\n",
      "(20191001, 12804, 'Venda', Decimal('175.00'), Decimal('1622.00'))\n",
      "(20191101, 12804, 'LSTM', Decimal('176.35'), Decimal('1977.74'))\n",
      "(20191101, 12804, 'Prophet', Decimal('14.04'), Decimal('1866.56'))\n",
      "(20191101, 12804, 'SArima', Decimal('13.00'), Decimal('1852.21'))\n",
      "(20191101, 12804, 'Venda', Decimal('59.00'), Decimal('1681.00'))\n",
      "(20191201, 12804, 'LSTM', Decimal('179.67'), Decimal('2157.41'))\n",
      "(20191201, 12804, 'Prophet', Decimal('103.96'), Decimal('1970.52'))\n",
      "(20191201, 12804, 'SArima', Decimal('32.83'), Decimal('1885.04'))\n",
      "(20191201, 12804, 'Venda', Decimal('289.00'), Decimal('1970.00'))\n",
      "(20200101, 12804, 'LSTM', Decimal('181.04'), Decimal('2338.45'))\n",
      "(20200101, 12804, 'Prophet', Decimal('222.35'), Decimal('2192.87'))\n",
      "(20200101, 12804, 'SArima', Decimal('143.98'), Decimal('2029.02'))\n",
      "(20200101, 12804, 'Venda', Decimal('0.00'), Decimal('0.00'))\n",
      "(20200201, 12804, 'LSTM', Decimal('179.36'), Decimal('2517.81'))\n",
      "(20200201, 12804, 'Prophet', Decimal('-54.48'), Decimal('2138.39'))\n",
      "(20200201, 12804, 'SArima', Decimal('-32.68'), Decimal('1996.34'))\n",
      "(20200201, 12804, 'Venda', Decimal('0.00'), Decimal('0.00'))\n",
      "(20200301, 12804, 'LSTM', Decimal('181.32'), Decimal('2699.13'))\n",
      "(20200301, 12804, 'Prophet', Decimal('393.53'), Decimal('2531.92'))\n",
      "(20200301, 12804, 'SArima', Decimal('194.89'), Decimal('2191.22'))\n",
      "(20200301, 12804, 'Venda', Decimal('0.00'), Decimal('0.00'))\n",
      "(20200401, 12804, 'LSTM', Decimal('183.01'), Decimal('2882.14'))\n",
      "(20200401, 12804, 'Prophet', Decimal('142.74'), Decimal('2674.66'))\n",
      "(20200401, 12804, 'SArima', Decimal('217.48'), Decimal('2408.70'))\n",
      "(20200401, 12804, 'Venda', Decimal('0.00'), Decimal('0.00'))\n",
      "(20200501, 12804, 'LSTM', Decimal('180.46'), Decimal('3062.60'))\n",
      "(20200501, 12804, 'Prophet', Decimal('29.98'), Decimal('2704.64'))\n",
      "(20200501, 12804, 'SArima', Decimal('21.02'), Decimal('2429.72'))\n",
      "(20200501, 12804, 'Venda', Decimal('0.00'), Decimal('0.00'))\n",
      "(20200601, 12804, 'LSTM', Decimal('180.99'), Decimal('3243.59'))\n",
      "(20200601, 12804, 'Prophet', Decimal('270.67'), Decimal('2975.31'))\n",
      "(20200601, 12804, 'SArima', Decimal('266.67'), Decimal('2696.40'))\n",
      "(20200601, 12804, 'Venda', Decimal('0.00'), Decimal('0.00'))\n",
      "(20200701, 12804, 'LSTM', Decimal('181.45'), Decimal('3425.04'))\n",
      "(20200701, 12804, 'Prophet', Decimal('151.02'), Decimal('3126.33'))\n",
      "(20200701, 12804, 'SArima', Decimal('134.05'), Decimal('2830.45'))\n",
      "(20200701, 12804, 'Venda', Decimal('0.00'), Decimal('0.00'))\n",
      "(20200801, 12804, 'LSTM', Decimal('181.20'), Decimal('3606.24'))\n",
      "(20200801, 12804, 'Prophet', Decimal('248.20'), Decimal('3374.52'))\n",
      "(20200801, 12804, 'SArima', Decimal('296.60'), Decimal('3127.05'))\n",
      "(20200801, 12804, 'Venda', Decimal('0.00'), Decimal('0.00'))\n",
      "(20200901, 12804, 'LSTM', Decimal('179.48'), Decimal('3785.72'))\n",
      "(20200901, 12804, 'Prophet', Decimal('78.17'), Decimal('3452.69'))\n",
      "(20200901, 12804, 'SArima', Decimal('35.89'), Decimal('3162.94'))\n",
      "(20200901, 12804, 'Venda', Decimal('0.00'), Decimal('0.00'))\n",
      "(20201001, 12804, 'LSTM', Decimal('180.79'), Decimal('3966.52'))\n",
      "(20201001, 12804, 'Prophet', Decimal('246.85'), Decimal('3699.54'))\n",
      "(20201001, 12804, 'SArima', Decimal('197.06'), Decimal('3360.00'))\n",
      "(20201001, 12804, 'Venda', Decimal('0.00'), Decimal('0.00'))\n",
      "(20201101, 12804, 'LSTM', Decimal('180.83'), Decimal('4147.34'))\n",
      "(20201101, 12804, 'Prophet', Decimal('76.68'), Decimal('3776.23'))\n",
      "(20201101, 12804, 'SArima', Decimal('-0.29'), Decimal('3359.71'))\n",
      "(20201101, 12804, 'Venda', Decimal('0.00'), Decimal('0.00'))\n",
      "(20201201, 12804, 'LSTM', Decimal('181.79'), Decimal('4329.14'))\n",
      "(20201201, 12804, 'Prophet', Decimal('55.58'), Decimal('3831.81'))\n",
      "(20201201, 12804, 'SArima', Decimal('20.57'), Decimal('3380.27'))\n",
      "(20201201, 12804, 'Venda', Decimal('0.00'), Decimal('0.00'))\n"
     ]
    }
   ],
   "source": [
    "#Grava dados no MySQL\n",
    "try:\n",
    "    # Connect to the database\n",
    "    connection = mysql.connector.connect(host='localhost',\n",
    "                                         database='projeto',\n",
    "                                         user='root',\n",
    "                                         password='12345678')\n",
    "\n",
    "    cursor = connection.cursor()\n",
    "\n",
    "    # Create a new record\n",
    "    query = \" DELETE FROM projeto.fato_predicao WHERE sk_protudo = \" + produto_proc\n",
    "\n",
    "    cursor.execute(query)\n",
    "\n",
    "    # connection is not autocommit by default. So we must commit to save our changes.\n",
    "    connection.commit()\n",
    "\n",
    "    # Create a new record\n",
    "    #query = \"\"\"INSERT INTO projeto.fato_predicao (sk_tempo, sk_protudo, qtd_predicao, qtd_acumula) VALUES(%s, %s, %s, %s) ON DUPLICATE KEY UPDATE qtd_predicao=%s, qtd_acumula=%s\"\"\"\n",
    "    #cursor.execute(query, (df_export.sk_tempo[i], df_export.sk_protudo[i], df_export.PROPHET[i], df_export.Ac_PROPHET[i], df_export.PROPHET[i], df_export.Ac_PROPHET[i]))\n",
    "\n",
    "    query = \"\"\"INSERT INTO projeto.fato_predicao (sk_tempo, sk_protudo, no_modelo, qtd_predicao, qtd_acumula) VALUES(%s, %s, %s, %s, %s) ON DUPLICATE KEY UPDATE qtd_predicao=%s, qtd_acumula=%s\"\"\"\n",
    "    \n",
    "    for index, row in df_export.iterrows():\n",
    "        #Grava dados da Venda Realizada\n",
    "        cModelo = 'Venda'\n",
    "        nQtdInsert = row['qtd_venda'].item() \n",
    "        nAcmInsert = row['acm_venda'].item()\n",
    "        \n",
    "        cursor.execute(query, (row['sk_tempo'].item(), row['sk_protudo'].item(), cModelo, nQtdInsert, nAcmInsert, nQtdInsert, nAcmInsert))       \n",
    "\n",
    "        #Grava dados PROPHET\n",
    "        cModelo = 'Prophet'\n",
    "        nQtdInsert = row['qtd_prophet'].item() \n",
    "        nAcmInsert = row['acm_prophet'].item()\n",
    "        \n",
    "        cursor.execute(query, (row['sk_tempo'].item(), row['sk_protudo'].item(), cModelo, nQtdInsert, nAcmInsert, nQtdInsert, nAcmInsert))       \n",
    "\n",
    "        #Grava dados SArima        \n",
    "        cModelo = 'SArima'\n",
    "        nQtdInsert = row['qtd_sarima'].item() \n",
    "        nAcmInsert = row['acm_sarima'].item()\n",
    "        \n",
    "        cursor.execute(query, (row['sk_tempo'].item(), row['sk_protudo'].item(), cModelo, nQtdInsert, nAcmInsert, nQtdInsert, nAcmInsert))       \n",
    "\n",
    "        #Grava dados LSTM        \n",
    "        cModelo = 'LSTM'\n",
    "        nQtdInsert = row['qtd_lstm'].item() \n",
    "        nAcmInsert = row['acm_lstm'].item()\n",
    "        \n",
    "        cursor.execute(query, (row['sk_tempo'].item(), row['sk_protudo'].item(), cModelo, nQtdInsert, nAcmInsert, nQtdInsert, nAcmInsert))       \n",
    "\n",
    "    # connection is not autocommit by default. So we must commit to save our changes.\n",
    "    connection.commit()\n",
    "\n",
    "    # Execute query\n",
    "    sql = \"SELECT * FROM projeto.fato_predicao WHERE sk_protudo = \" + produto_proc \n",
    "    \n",
    "    cursor.execute(sql)\n",
    "    \n",
    "    # Fetch all the records\n",
    "    result = cursor.fetchall()\n",
    "    \n",
    "    for i in result:\n",
    "        print(i)\n",
    "\n",
    "finally:\n",
    "    # close the database connection using close() method.\n",
    "    connection.close()"
   ]
  },
  {
   "cell_type": "code",
   "execution_count": null,
   "metadata": {},
   "outputs": [],
   "source": []
  }
 ],
 "metadata": {
  "colab": {
   "authorship_tag": "ABX9TyPyUqI1rQJt6rqtTenTltJQ",
   "collapsed_sections": [],
   "name": "python-time-series-modelos.ipynb",
   "provenance": []
  },
  "kernelspec": {
   "display_name": "Python 3",
   "language": "python",
   "name": "python3"
  },
  "language_info": {
   "codemirror_mode": {
    "name": "ipython",
    "version": 3
   },
   "file_extension": ".py",
   "mimetype": "text/x-python",
   "name": "python",
   "nbconvert_exporter": "python",
   "pygments_lexer": "ipython3",
   "version": "3.8.3"
  }
 },
 "nbformat": 4,
 "nbformat_minor": 4
}
