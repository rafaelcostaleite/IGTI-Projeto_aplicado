{
 "cells": [
  {
   "cell_type": "code",
   "execution_count": 1,
   "metadata": {
    "colab": {
     "base_uri": "https://localhost:8080/"
    },
    "executionInfo": {
     "elapsed": 5889,
     "status": "ok",
     "timestamp": 1611535790283,
     "user": {
      "displayName": "Rafael de Miranda da Costa Leite",
      "photoUrl": "https://lh3.googleusercontent.com/a-/AOh14Gj-3rbInttHw_wvyiLPSmYAdgOUmDm2bFbC-AEvbw=s64",
      "userId": "02906791875441644303"
     },
     "user_tz": 180
    },
    "id": "UuLK8aBwJgzT",
    "outputId": "f61d5bc7-82fb-45f7-9c7c-539039a08957"
   },
   "outputs": [
    {
     "name": "stdout",
     "output_type": "stream",
     "text": [
      "Requirement already satisfied: pmdarima in /home/rafael/Apps/anaconda3/lib/python3.8/site-packages (1.8.0)\n",
      "Requirement already satisfied: urllib3 in /home/rafael/Apps/anaconda3/lib/python3.8/site-packages (from pmdarima) (1.25.9)\n",
      "Requirement already satisfied: Cython<0.29.18,>=0.29 in /home/rafael/Apps/anaconda3/lib/python3.8/site-packages (from pmdarima) (0.29.17)\n",
      "Requirement already satisfied: numpy>=1.17.3 in /home/rafael/Apps/anaconda3/lib/python3.8/site-packages (from pmdarima) (1.19.5)\n",
      "Requirement already satisfied: setuptools!=50.0.0,>=38.6.0 in /home/rafael/Apps/anaconda3/lib/python3.8/site-packages (from pmdarima) (49.2.0.post20200714)\n",
      "Requirement already satisfied: joblib>=0.11 in /home/rafael/Apps/anaconda3/lib/python3.8/site-packages (from pmdarima) (0.16.0)\n",
      "Requirement already satisfied: pandas>=0.19 in /home/rafael/Apps/anaconda3/lib/python3.8/site-packages (from pmdarima) (1.0.5)\n",
      "Requirement already satisfied: scipy>=1.3.2 in /home/rafael/Apps/anaconda3/lib/python3.8/site-packages (from pmdarima) (1.5.0)\n",
      "Requirement already satisfied: scikit-learn>=0.22 in /home/rafael/Apps/anaconda3/lib/python3.8/site-packages (from pmdarima) (0.23.1)\n",
      "Requirement already satisfied: statsmodels!=0.12.0,>=0.11 in /home/rafael/Apps/anaconda3/lib/python3.8/site-packages (from pmdarima) (0.11.1)\n",
      "Requirement already satisfied: python-dateutil>=2.6.1 in /home/rafael/Apps/anaconda3/lib/python3.8/site-packages (from pandas>=0.19->pmdarima) (2.8.1)\n",
      "Requirement already satisfied: pytz>=2017.2 in /home/rafael/Apps/anaconda3/lib/python3.8/site-packages (from pandas>=0.19->pmdarima) (2019.3)\n",
      "Requirement already satisfied: six>=1.5 in /home/rafael/Apps/anaconda3/lib/python3.8/site-packages (from python-dateutil>=2.6.1->pandas>=0.19->pmdarima) (1.15.0)\n",
      "Requirement already satisfied: threadpoolctl>=2.0.0 in /home/rafael/Apps/anaconda3/lib/python3.8/site-packages (from scikit-learn>=0.22->pmdarima) (2.1.0)\n",
      "Requirement already satisfied: patsy>=0.5 in /home/rafael/Apps/anaconda3/lib/python3.8/site-packages (from statsmodels!=0.12.0,>=0.11->pmdarima) (0.5.1)\n",
      "\u001b[33mWARNING: You are using pip version 21.0.1; however, version 21.1 is available.\n",
      "You should consider upgrading via the '/home/rafael/Apps/anaconda3/bin/python -m pip install --upgrade pip' command.\u001b[0m\n",
      "Requirement already satisfied: mysql-connector-python in /home/rafael/Apps/anaconda3/lib/python3.8/site-packages (8.0.23)\n",
      "Requirement already satisfied: protobuf>=3.0.0 in /home/rafael/Apps/anaconda3/lib/python3.8/site-packages (from mysql-connector-python) (3.15.5)\n",
      "Requirement already satisfied: six>=1.9 in /home/rafael/Apps/anaconda3/lib/python3.8/site-packages (from protobuf>=3.0.0->mysql-connector-python) (1.15.0)\n",
      "\u001b[33mWARNING: You are using pip version 21.0.1; however, version 21.1 is available.\n",
      "You should consider upgrading via the '/home/rafael/Apps/anaconda3/bin/python -m pip install --upgrade pip' command.\u001b[0m\n",
      "Requirement already satisfied: keras in /home/rafael/Apps/anaconda3/lib/python3.8/site-packages (2.4.3)\n",
      "Requirement already satisfied: numpy>=1.9.1 in /home/rafael/Apps/anaconda3/lib/python3.8/site-packages (from keras) (1.19.5)\n",
      "Requirement already satisfied: h5py in /home/rafael/Apps/anaconda3/lib/python3.8/site-packages (from keras) (2.10.0)\n",
      "Requirement already satisfied: pyyaml in /home/rafael/Apps/anaconda3/lib/python3.8/site-packages (from keras) (5.3.1)\n",
      "Requirement already satisfied: scipy>=0.14 in /home/rafael/Apps/anaconda3/lib/python3.8/site-packages (from keras) (1.5.0)\n",
      "Requirement already satisfied: six in /home/rafael/Apps/anaconda3/lib/python3.8/site-packages (from h5py->keras) (1.15.0)\n",
      "\u001b[33mWARNING: You are using pip version 21.0.1; however, version 21.1 is available.\n",
      "You should consider upgrading via the '/home/rafael/Apps/anaconda3/bin/python -m pip install --upgrade pip' command.\u001b[0m\n",
      "Requirement already satisfied: tensorflow in /home/rafael/Apps/anaconda3/lib/python3.8/site-packages (2.4.1)\n",
      "Requirement already satisfied: six~=1.15.0 in /home/rafael/Apps/anaconda3/lib/python3.8/site-packages (from tensorflow) (1.15.0)\n",
      "Requirement already satisfied: h5py~=2.10.0 in /home/rafael/Apps/anaconda3/lib/python3.8/site-packages (from tensorflow) (2.10.0)\n",
      "Requirement already satisfied: protobuf>=3.9.2 in /home/rafael/Apps/anaconda3/lib/python3.8/site-packages (from tensorflow) (3.15.5)\n",
      "Requirement already satisfied: typing-extensions~=3.7.4 in /home/rafael/Apps/anaconda3/lib/python3.8/site-packages (from tensorflow) (3.7.4.2)\n",
      "Requirement already satisfied: gast==0.3.3 in /home/rafael/Apps/anaconda3/lib/python3.8/site-packages (from tensorflow) (0.3.3)\n",
      "Requirement already satisfied: astunparse~=1.6.3 in /home/rafael/Apps/anaconda3/lib/python3.8/site-packages (from tensorflow) (1.6.3)\n",
      "Requirement already satisfied: tensorflow-estimator<2.5.0,>=2.4.0 in /home/rafael/Apps/anaconda3/lib/python3.8/site-packages (from tensorflow) (2.4.0)\n",
      "Requirement already satisfied: opt-einsum~=3.3.0 in /home/rafael/Apps/anaconda3/lib/python3.8/site-packages (from tensorflow) (3.3.0)\n",
      "Requirement already satisfied: wrapt~=1.12.1 in /home/rafael/Apps/anaconda3/lib/python3.8/site-packages (from tensorflow) (1.12.1)\n",
      "Requirement already satisfied: google-pasta~=0.2 in /home/rafael/Apps/anaconda3/lib/python3.8/site-packages (from tensorflow) (0.2.0)\n",
      "Requirement already satisfied: tensorboard~=2.4 in /home/rafael/Apps/anaconda3/lib/python3.8/site-packages (from tensorflow) (2.4.1)\n",
      "Requirement already satisfied: grpcio~=1.32.0 in /home/rafael/Apps/anaconda3/lib/python3.8/site-packages (from tensorflow) (1.32.0)\n",
      "Requirement already satisfied: numpy~=1.19.2 in /home/rafael/Apps/anaconda3/lib/python3.8/site-packages (from tensorflow) (1.19.5)\n",
      "Requirement already satisfied: termcolor~=1.1.0 in /home/rafael/Apps/anaconda3/lib/python3.8/site-packages (from tensorflow) (1.1.0)\n",
      "Requirement already satisfied: keras-preprocessing~=1.1.2 in /home/rafael/Apps/anaconda3/lib/python3.8/site-packages (from tensorflow) (1.1.2)\n",
      "Requirement already satisfied: wheel~=0.35 in /home/rafael/Apps/anaconda3/lib/python3.8/site-packages (from tensorflow) (0.36.2)\n",
      "Requirement already satisfied: absl-py~=0.10 in /home/rafael/Apps/anaconda3/lib/python3.8/site-packages (from tensorflow) (0.12.0)\n",
      "Requirement already satisfied: flatbuffers~=1.12.0 in /home/rafael/Apps/anaconda3/lib/python3.8/site-packages (from tensorflow) (1.12)\n",
      "Requirement already satisfied: setuptools>=41.0.0 in /home/rafael/Apps/anaconda3/lib/python3.8/site-packages (from tensorboard~=2.4->tensorflow) (49.2.0.post20200714)\n",
      "Requirement already satisfied: markdown>=2.6.8 in /home/rafael/Apps/anaconda3/lib/python3.8/site-packages (from tensorboard~=2.4->tensorflow) (3.3.4)\n",
      "Requirement already satisfied: werkzeug>=0.11.15 in /home/rafael/Apps/anaconda3/lib/python3.8/site-packages (from tensorboard~=2.4->tensorflow) (1.0.1)\n",
      "Requirement already satisfied: tensorboard-plugin-wit>=1.6.0 in /home/rafael/Apps/anaconda3/lib/python3.8/site-packages (from tensorboard~=2.4->tensorflow) (1.8.0)\n",
      "Requirement already satisfied: google-auth<2,>=1.6.3 in /home/rafael/Apps/anaconda3/lib/python3.8/site-packages (from tensorboard~=2.4->tensorflow) (1.28.0)\n",
      "Requirement already satisfied: requests<3,>=2.21.0 in /home/rafael/Apps/anaconda3/lib/python3.8/site-packages (from tensorboard~=2.4->tensorflow) (2.24.0)\n",
      "Requirement already satisfied: google-auth-oauthlib<0.5,>=0.4.1 in /home/rafael/Apps/anaconda3/lib/python3.8/site-packages (from tensorboard~=2.4->tensorflow) (0.4.4)\n",
      "Requirement already satisfied: pyasn1-modules>=0.2.1 in /home/rafael/Apps/anaconda3/lib/python3.8/site-packages (from google-auth<2,>=1.6.3->tensorboard~=2.4->tensorflow) (0.2.8)\n",
      "Requirement already satisfied: rsa<5,>=3.1.4 in /home/rafael/Apps/anaconda3/lib/python3.8/site-packages (from google-auth<2,>=1.6.3->tensorboard~=2.4->tensorflow) (4.7.2)\n",
      "Requirement already satisfied: cachetools<5.0,>=2.0.0 in /home/rafael/Apps/anaconda3/lib/python3.8/site-packages (from google-auth<2,>=1.6.3->tensorboard~=2.4->tensorflow) (4.2.1)\n",
      "Requirement already satisfied: requests-oauthlib>=0.7.0 in /home/rafael/Apps/anaconda3/lib/python3.8/site-packages (from google-auth-oauthlib<0.5,>=0.4.1->tensorboard~=2.4->tensorflow) (1.3.0)\n",
      "Requirement already satisfied: pyasn1<0.5.0,>=0.4.6 in /home/rafael/Apps/anaconda3/lib/python3.8/site-packages (from pyasn1-modules>=0.2.1->google-auth<2,>=1.6.3->tensorboard~=2.4->tensorflow) (0.4.8)\n",
      "Requirement already satisfied: idna<3,>=2.5 in /home/rafael/Apps/anaconda3/lib/python3.8/site-packages (from requests<3,>=2.21.0->tensorboard~=2.4->tensorflow) (2.10)\n",
      "Requirement already satisfied: certifi>=2017.4.17 in /home/rafael/Apps/anaconda3/lib/python3.8/site-packages (from requests<3,>=2.21.0->tensorboard~=2.4->tensorflow) (2020.6.20)\n",
      "Requirement already satisfied: chardet<4,>=3.0.2 in /home/rafael/Apps/anaconda3/lib/python3.8/site-packages (from requests<3,>=2.21.0->tensorboard~=2.4->tensorflow) (3.0.4)\n",
      "Requirement already satisfied: urllib3!=1.25.0,!=1.25.1,<1.26,>=1.21.1 in /home/rafael/Apps/anaconda3/lib/python3.8/site-packages (from requests<3,>=2.21.0->tensorboard~=2.4->tensorflow) (1.25.9)\n",
      "Requirement already satisfied: oauthlib>=3.0.0 in /home/rafael/Apps/anaconda3/lib/python3.8/site-packages (from requests-oauthlib>=0.7.0->google-auth-oauthlib<0.5,>=0.4.1->tensorboard~=2.4->tensorflow) (3.1.0)\n",
      "\u001b[33mWARNING: You are using pip version 21.0.1; however, version 21.1 is available.\n",
      "You should consider upgrading via the '/home/rafael/Apps/anaconda3/bin/python -m pip install --upgrade pip' command.\u001b[0m\n"
     ]
    }
   ],
   "source": [
    "#instalação de pacotes\n",
    "#!pip3 install pyramid-arima\n",
    "!pip install pmdarima\n",
    "!pip install mysql-connector-python\n",
    "!pip install keras\n",
    "!pip install tensorflow"
   ]
  },
  {
   "cell_type": "code",
   "execution_count": 2,
   "metadata": {
    "executionInfo": {
     "elapsed": 5882,
     "status": "ok",
     "timestamp": 1611535790285,
     "user": {
      "displayName": "Rafael de Miranda da Costa Leite",
      "photoUrl": "https://lh3.googleusercontent.com/a-/AOh14Gj-3rbInttHw_wvyiLPSmYAdgOUmDm2bFbC-AEvbw=s64",
      "userId": "02906791875441644303"
     },
     "user_tz": 180
    },
    "id": "MyI1os5XJlqv"
   },
   "outputs": [],
   "source": [
    "#from statsmodels.tsa.stattools import adfuller\n",
    "#from numpy import log\n",
    "#from statsmodels.graphics.tsaplots import plot_acf, plot_pacf\n"
   ]
  },
  {
   "cell_type": "markdown",
   "metadata": {
    "id": "oSiipM3hu9Qu"
   },
   "source": [
    "# Importa dados"
   ]
  },
  {
   "cell_type": "code",
   "execution_count": 3,
   "metadata": {},
   "outputs": [
    {
     "name": "stdout",
     "output_type": "stream",
     "text": [
      "MySQL connection is closed\n",
      "<class 'pandas.core.frame.DataFrame'>\n",
      "RangeIndex: 4065 entries, 0 to 4064\n",
      "Data columns (total 3 columns):\n",
      " #   Column  Non-Null Count  Dtype \n",
      "---  ------  --------------  ----- \n",
      " 0   0       4065 non-null   object\n",
      " 1   1       4065 non-null   object\n",
      " 2   2       4065 non-null   int64 \n",
      "dtypes: int64(1), object(2)\n",
      "memory usage: 95.4+ KB\n"
     ]
    }
   ],
   "source": [
    "\n",
    "import numpy as np\n",
    "import pandas as pd\n",
    "import mysql.connector\n",
    "\n",
    "#Conecta com banco MySQL\n",
    "try:\n",
    "    connection = mysql.connector.connect(host='localhost',\n",
    "                                         database='projeto',\n",
    "                                         user='root',\n",
    "                                         password='12345678')\n",
    "\n",
    "    produto_proc = \"12870\"\n",
    "    \n",
    "    sql_select_Query = \" select ds_data_sem_hora \\\n",
    "                        ,isbn_produto \\\n",
    "                        ,qtd_venda  \\\n",
    "                        from fato_venda as ft \\\n",
    "                        , dim_tempo as tp \\\n",
    "                        , dim_produto as pd \\\n",
    "                        where tp.sk_tempo = ft.sk_tempo \\\n",
    "                        and pd.sk_produto = ft.sk_protudo \\\n",
    "                        and pd.sk_produto = \" + produto_proc \n",
    "    \n",
    "    cursor = connection.cursor()\n",
    "    cursor.execute(sql_select_Query)\n",
    "    \n",
    "    #carrega dados\n",
    "    records = cursor.fetchall()\n",
    "\n",
    "    data_sql = pd.DataFrame(records)\n",
    "\n",
    "except mysql.connector.Error as e:\n",
    "    print(\"Error reading data from MySQL table\", e)\n",
    "finally:\n",
    "    if connection.is_connected():\n",
    "        connection.close()\n",
    "        cursor.close()\n",
    "        print(\"MySQL connection is closed\")\n",
    "        \n",
    "data_sql.info()"
   ]
  },
  {
   "cell_type": "code",
   "execution_count": 4,
   "metadata": {},
   "outputs": [],
   "source": [
    "#ajusta dados para a predição\n",
    "df1 = data_sql\n",
    "\n",
    "#adiciona nome nas colunas\n",
    "df1 = df1.rename(columns={0: \"date\",1:\"isbn\", 2: \"value\"})\n",
    "\n",
    "#transforma para datetime\n",
    "df1[\"date\"] = pd.to_datetime(df1[\"date\"])\n",
    "\n",
    "#ordena\n",
    "df1 = df1.sort_values('date')\n",
    "\n",
    "#soma quantidade em datas iguais\n",
    "df1 = df1.groupby('date')['value'].sum().reset_index()\n",
    "\n",
    "#transforma a data em indice\n",
    "df1 = df1.set_index('date')\n",
    "\n",
    "#agrupa na soma do mês\n",
    "df1 = df1['value'].resample('MS').sum()"
   ]
  },
  {
   "cell_type": "markdown",
   "metadata": {
    "id": "oMRp_5Hpu6hO"
   },
   "source": [
    "Prepara dados"
   ]
  },
  {
   "cell_type": "code",
   "execution_count": 5,
   "metadata": {
    "executionInfo": {
     "elapsed": 6161,
     "status": "ok",
     "timestamp": 1611535790580,
     "user": {
      "displayName": "Rafael de Miranda da Costa Leite",
      "photoUrl": "https://lh3.googleusercontent.com/a-/AOh14Gj-3rbInttHw_wvyiLPSmYAdgOUmDm2bFbC-AEvbw=s64",
      "userId": "02906791875441644303"
     },
     "user_tz": 180
    },
    "id": "YKvp5fbBVI0-"
   },
   "outputs": [],
   "source": [
    "#Separa dados\n",
    "train = df1.iloc[:len(df1)-12]\n",
    "test = df1.iloc[len(df1)-12:]\n",
    "\n",
    "#Períodos de predição\n",
    "n_periods = 24"
   ]
  },
  {
   "cell_type": "markdown",
   "metadata": {
    "id": "g18_JT40vAcC"
   },
   "source": [
    "# Analisa os dados"
   ]
  },
  {
   "cell_type": "code",
   "execution_count": 6,
   "metadata": {
    "colab": {
     "base_uri": "https://localhost:8080/",
     "height": 297
    },
    "executionInfo": {
     "elapsed": 7781,
     "status": "ok",
     "timestamp": 1611535792205,
     "user": {
      "displayName": "Rafael de Miranda da Costa Leite",
      "photoUrl": "https://lh3.googleusercontent.com/a-/AOh14Gj-3rbInttHw_wvyiLPSmYAdgOUmDm2bFbC-AEvbw=s64",
      "userId": "02906791875441644303"
     },
     "user_tz": 180
    },
    "id": "acpRaZR3Ie85",
    "outputId": "fc2a04c4-e0e1-4ed4-834c-4fc21e15eb08"
   },
   "outputs": [
    {
     "data": {
      "image/png": "[encoded data removed]",
      "text/plain": [
       "<Figure size 432x288 with 4 Axes>"
      ]
     },
     "metadata": {
      "needs_background": "light"
     },
     "output_type": "display_data"
    }
   ],
   "source": [
    "from pylab import rcParams\n",
    "from statsmodels.tsa.seasonal import seasonal_decompose\n",
    "import statsmodels.api as sm\n",
    "import matplotlib.pyplot as plt\n",
    "\n",
    "a = seasonal_decompose(df1, model = \"add\")\n",
    "a.plot();"
   ]
  },
  {
   "cell_type": "code",
   "execution_count": 7,
   "metadata": {
    "colab": {
     "base_uri": "https://localhost:8080/",
     "height": 406
    },
    "executionInfo": {
     "elapsed": 7765,
     "status": "ok",
     "timestamp": 1611535792206,
     "user": {
      "displayName": "Rafael de Miranda da Costa Leite",
      "photoUrl": "https://lh3.googleusercontent.com/a-/AOh14Gj-3rbInttHw_wvyiLPSmYAdgOUmDm2bFbC-AEvbw=s64",
      "userId": "02906791875441644303"
     },
     "user_tz": 180
    },
    "id": "pnToCXWA-DBM",
    "outputId": "ccf7f152-755f-4d64-d126-e986aac771a7"
   },
   "outputs": [
    {
     "data": {
      "text/plain": [
       "<matplotlib.axes._subplots.AxesSubplot at 0x7f981a3029d0>"
      ]
     },
     "execution_count": 7,
     "metadata": {},
     "output_type": "execute_result"
    },
    {
     "data": {
      "image/png": "[encoded data removed]",
      "text/plain": [
       "<Figure size 864x360 with 1 Axes>"
      ]
     },
     "metadata": {
      "needs_background": "light"
     },
     "output_type": "display_data"
    }
   ],
   "source": [
    "#Boxplot\n",
    "import seaborn\n",
    "\n",
    "fig, ax = plt.subplots(figsize=(12,5))\n",
    "seaborn.boxplot(df1, ax=ax)"
   ]
  },
  {
   "cell_type": "code",
   "execution_count": 8,
   "metadata": {
    "colab": {
     "base_uri": "https://localhost:8080/",
     "height": 334
    },
    "executionInfo": {
     "elapsed": 8059,
     "status": "ok",
     "timestamp": 1611535792513,
     "user": {
      "displayName": "Rafael de Miranda da Costa Leite",
      "photoUrl": "https://lh3.googleusercontent.com/a-/AOh14Gj-3rbInttHw_wvyiLPSmYAdgOUmDm2bFbC-AEvbw=s64",
      "userId": "02906791875441644303"
     },
     "user_tz": 180
    },
    "id": "D7OJspOhAHfg",
    "outputId": "107ed0f6-d3bf-4050-ab93-b06dafaf394b"
   },
   "outputs": [
    {
     "data": {
      "image/png": "[encoded data removed]",
      "text/plain": [
       "<Figure size 432x288 with 1 Axes>"
      ]
     },
     "metadata": {
      "needs_background": "light"
     },
     "output_type": "display_data"
    }
   ],
   "source": [
    "#Histograma\n",
    "seaborn.distplot(df1, hist=True, kde=True, \n",
    "             bins=5, color = 'darkblue', \n",
    "             hist_kws={'edgecolor':'black'},\n",
    "             kde_kws={'linewidth': 3});"
   ]
  },
  {
   "cell_type": "code",
   "execution_count": 9,
   "metadata": {
    "colab": {
     "base_uri": "https://localhost:8080/",
     "height": 297
    },
    "executionInfo": {
     "elapsed": 8760,
     "status": "ok",
     "timestamp": 1611535793221,
     "user": {
      "displayName": "Rafael de Miranda da Costa Leite",
      "photoUrl": "https://lh3.googleusercontent.com/a-/AOh14Gj-3rbInttHw_wvyiLPSmYAdgOUmDm2bFbC-AEvbw=s64",
      "userId": "02906791875441644303"
     },
     "user_tz": 180
    },
    "id": "1l0N5nt2CWZk",
    "outputId": "2ea8e0e3-ce06-427b-8f24-63610d99c0f4"
   },
   "outputs": [
    {
     "data": {
      "image/png": "[encoded data removed]",
      "text/plain": [
       "<Figure size 432x288 with 4 Axes>"
      ]
     },
     "metadata": {
      "needs_background": "light"
     },
     "output_type": "display_data"
    }
   ],
   "source": [
    "for i, binwidth in enumerate([5, 10, 15, 20]):\n",
    "    \n",
    "    # Set up the plot\n",
    "    ax = plt.subplot(2, 2, i + 1)\n",
    "    \n",
    "    # Draw the plot\n",
    "    ax.hist(df1, bins = binwidth, color = 'blue', edgecolor = 'black')\n",
    "    \n",
    "    # Title and labels\n",
    "    ax.set_title('Histogram with Binwidth = %d' % binwidth, size = 15)\n",
    "    ax.set_xlabel('Quantidade', size = 15)\n",
    "    ax.set_ylabel('Ocorrências', size= 15)\n",
    "\n",
    "plt.tight_layout()\n",
    "plt.show()"
   ]
  },
  {
   "cell_type": "markdown",
   "metadata": {
    "id": "5GUR1JwAGBrK"
   },
   "source": [
    "# Modelos"
   ]
  },
  {
   "cell_type": "markdown",
   "metadata": {
    "id": "a_TDvkyHvKY3"
   },
   "source": [
    "Modelo Auto ARIMA"
   ]
  },
  {
   "cell_type": "code",
   "execution_count": 10,
   "metadata": {
    "colab": {
     "base_uri": "https://localhost:8080/"
    },
    "executionInfo": {
     "elapsed": 19470,
     "status": "ok",
     "timestamp": 1611535803937,
     "user": {
      "displayName": "Rafael de Miranda da Costa Leite",
      "photoUrl": "https://lh3.googleusercontent.com/a-/AOh14Gj-3rbInttHw_wvyiLPSmYAdgOUmDm2bFbC-AEvbw=s64",
      "userId": "02906791875441644303"
     },
     "user_tz": 180
    },
    "id": "dCNRCC5zKeEj",
    "outputId": "a3e2195b-2849-4311-8eb7-2626f4097665"
   },
   "outputs": [
    {
     "data": {
      "text/plain": [
       "ARIMA(order=(0, 0, 0), scoring_args={}, seasonal_order=(0, 1, 1, 12),\n",
       "      suppress_warnings=True, with_intercept=False)"
      ]
     },
     "execution_count": 10,
     "metadata": {},
     "output_type": "execute_result"
    }
   ],
   "source": [
    "import pmdarima as pm\n",
    "\n",
    "#Fit modelo auto-arima\n",
    "fitSArima = pm.auto_arima(df1, start_p=1, start_q=1,\n",
    "                         max_p=3, max_q=3, m=12,\n",
    "                         start_P=0, seasonal=True,\n",
    "                         d=None, D=1, trace=False,\n",
    "                         error_action='ignore',  \n",
    "                         suppress_warnings=True, \n",
    "                         stepwise=True)\n",
    "\n",
    "#test='adf',\n",
    "\n",
    "#fitSArima = pm.auto_arima(df1, seasonal=True, m=12,max_p=7, max_d=5,max_q=7, max_P=4, max_D=4,max_Q=4) \n",
    "\n",
    "fitSArima.fit(train)"
   ]
  },
  {
   "cell_type": "code",
   "execution_count": 11,
   "metadata": {
    "colab": {
     "base_uri": "https://localhost:8080/",
     "height": 420
    },
    "executionInfo": {
     "elapsed": 29797,
     "status": "ok",
     "timestamp": 1611535814270,
     "user": {
      "displayName": "Rafael de Miranda da Costa Leite",
      "photoUrl": "https://lh3.googleusercontent.com/a-/AOh14Gj-3rbInttHw_wvyiLPSmYAdgOUmDm2bFbC-AEvbw=s64",
      "userId": "02906791875441644303"
     },
     "user_tz": 180
    },
    "id": "9GtX92IFLx5h",
    "outputId": "9b953dff-a8bf-49e4-cd1e-9df06fa0026b"
   },
   "outputs": [
    {
     "data": {
      "text/html": [
       "<table class=\"simpletable\">\n",
       "<caption>SARIMAX Results</caption>\n",
       "<tr>\n",
       "  <th>Dep. Variable:</th>              <td>y</td>           <th>  No. Observations:  </th>    <td>60</td>   \n",
       "</tr>\n",
       "<tr>\n",
       "  <th>Model:</th>           <td>SARIMAX(0, 1, [1], 12)</td> <th>  Log Likelihood     </th> <td>-321.723</td>\n",
       "</tr>\n",
       "<tr>\n",
       "  <th>Date:</th>               <td>Sat, 24 Apr 2021</td>    <th>  AIC                </th>  <td>647.445</td>\n",
       "</tr>\n",
       "<tr>\n",
       "  <th>Time:</th>                   <td>22:07:31</td>        <th>  BIC                </th>  <td>651.188</td>\n",
       "</tr>\n",
       "<tr>\n",
       "  <th>Sample:</th>                     <td>0</td>           <th>  HQIC               </th>  <td>648.859</td>\n",
       "</tr>\n",
       "<tr>\n",
       "  <th></th>                          <td> - 60</td>         <th>                     </th>     <td> </td>   \n",
       "</tr>\n",
       "<tr>\n",
       "  <th>Covariance Type:</th>           <td>opg</td>          <th>                     </th>     <td> </td>   \n",
       "</tr>\n",
       "</table>\n",
       "<table class=\"simpletable\">\n",
       "<tr>\n",
       "      <td></td>        <th>coef</th>     <th>std err</th>      <th>z</th>      <th>P>|z|</th>  <th>[0.025</th>    <th>0.975]</th>  \n",
       "</tr>\n",
       "<tr>\n",
       "  <th>ma.S.L12</th> <td>   -0.7204</td> <td>    0.227</td> <td>   -3.167</td> <td> 0.002</td> <td>   -1.166</td> <td>   -0.275</td>\n",
       "</tr>\n",
       "<tr>\n",
       "  <th>sigma2</th>   <td> 3.328e+04</td> <td> 8476.294</td> <td>    3.926</td> <td> 0.000</td> <td> 1.67e+04</td> <td> 4.99e+04</td>\n",
       "</tr>\n",
       "</table>\n",
       "<table class=\"simpletable\">\n",
       "<tr>\n",
       "  <th>Ljung-Box (Q):</th>          <td>27.48</td> <th>  Jarque-Bera (JB):  </th> <td>6.63</td> \n",
       "</tr>\n",
       "<tr>\n",
       "  <th>Prob(Q):</th>                <td>0.93</td>  <th>  Prob(JB):          </th> <td>0.04</td> \n",
       "</tr>\n",
       "<tr>\n",
       "  <th>Heteroskedasticity (H):</th> <td>0.24</td>  <th>  Skew:              </th> <td>-0.50</td>\n",
       "</tr>\n",
       "<tr>\n",
       "  <th>Prob(H) (two-sided):</th>    <td>0.01</td>  <th>  Kurtosis:          </th> <td>4.53</td> \n",
       "</tr>\n",
       "</table><br/><br/>Warnings:<br/>[1] Covariance matrix calculated using the outer product of gradients (complex-step)."
      ],
      "text/plain": [
       "<class 'statsmodels.iolib.summary.Summary'>\n",
       "\"\"\"\n",
       "                                 SARIMAX Results                                  \n",
       "==================================================================================\n",
       "Dep. Variable:                          y   No. Observations:                   60\n",
       "Model:             SARIMAX(0, 1, [1], 12)   Log Likelihood                -321.723\n",
       "Date:                    Sat, 24 Apr 2021   AIC                            647.445\n",
       "Time:                            22:07:31   BIC                            651.188\n",
       "Sample:                                 0   HQIC                           648.859\n",
       "                                     - 60                                         \n",
       "Covariance Type:                      opg                                         \n",
       "==============================================================================\n",
       "                 coef    std err          z      P>|z|      [0.025      0.975]\n",
       "------------------------------------------------------------------------------\n",
       "ma.S.L12      -0.7204      0.227     -3.167      0.002      -1.166      -0.275\n",
       "sigma2      3.328e+04   8476.294      3.926      0.000    1.67e+04    4.99e+04\n",
       "===================================================================================\n",
       "Ljung-Box (Q):                       27.48   Jarque-Bera (JB):                 6.63\n",
       "Prob(Q):                              0.93   Prob(JB):                         0.04\n",
       "Heteroskedasticity (H):               0.24   Skew:                            -0.50\n",
       "Prob(H) (two-sided):                  0.01   Kurtosis:                         4.53\n",
       "===================================================================================\n",
       "\n",
       "Warnings:\n",
       "[1] Covariance matrix calculated using the outer product of gradients (complex-step).\n",
       "\"\"\""
      ]
     },
     "execution_count": 11,
     "metadata": {},
     "output_type": "execute_result"
    }
   ],
   "source": [
    "#Teste 1\n",
    "pm.auto_arima(df1, start_p=1, start_q=1,max_p=3, max_q=3, m=12,start_P=0, seasonal=True,\n",
    "              d=None, D=1, trace=False,error_action='ignore',suppress_warnings=True,stepwise=True).summary()"
   ]
  },
  {
   "cell_type": "code",
   "execution_count": 12,
   "metadata": {
    "executionInfo": {
     "elapsed": 29792,
     "status": "ok",
     "timestamp": 1611535814272,
     "user": {
      "displayName": "Rafael de Miranda da Costa Leite",
      "photoUrl": "https://lh3.googleusercontent.com/a-/AOh14Gj-3rbInttHw_wvyiLPSmYAdgOUmDm2bFbC-AEvbw=s64",
      "userId": "02906791875441644303"
     },
     "user_tz": 180
    },
    "id": "PTvwdvT8JpdQ"
   },
   "outputs": [],
   "source": [
    "#Teste 2\n",
    "#pm.auto_arima(df1, seasonal=True, m=12,max_p=7, max_d=5,max_q=7, max_P=4, max_D=4,max_Q=4).summary()"
   ]
  },
  {
   "cell_type": "code",
   "execution_count": 13,
   "metadata": {
    "executionInfo": {
     "elapsed": 29788,
     "status": "ok",
     "timestamp": 1611535814273,
     "user": {
      "displayName": "Rafael de Miranda da Costa Leite",
      "photoUrl": "https://lh3.googleusercontent.com/a-/AOh14Gj-3rbInttHw_wvyiLPSmYAdgOUmDm2bFbC-AEvbw=s64",
      "userId": "02906791875441644303"
     },
     "user_tz": 180
    },
    "id": "PuQuqdKxK7-B"
   },
   "outputs": [],
   "source": [
    "#Forecast auto-arima\n",
    "index_pred = pd.date_range(test.index[0], periods = n_periods, freq='MS')\n",
    "\n",
    "predSArima, confint = fitSArima.predict(n_periods=n_periods, return_conf_int=True)\n",
    "\n",
    "#Cria dataseries\n",
    "predSArima = pd.DataFrame(predSArima,index = index_pred,columns=['SARIMA'])"
   ]
  },
  {
   "cell_type": "markdown",
   "metadata": {
    "id": "nDrBRDknvHIE"
   },
   "source": [
    "Modelo Prophet"
   ]
  },
  {
   "cell_type": "code",
   "execution_count": 14,
   "metadata": {
    "executionInfo": {
     "elapsed": 29787,
     "status": "ok",
     "timestamp": 1611535814275,
     "user": {
      "displayName": "Rafael de Miranda da Costa Leite",
      "photoUrl": "https://lh3.googleusercontent.com/a-/AOh14Gj-3rbInttHw_wvyiLPSmYAdgOUmDm2bFbC-AEvbw=s64",
      "userId": "02906791875441644303"
     },
     "user_tz": 180
    },
    "id": "dGvVEzGevP5Z"
   },
   "outputs": [],
   "source": [
    "#Dados Prophet\n",
    "df2 = data_sql\n",
    "\n",
    "#adiciona nome nas colunas\n",
    "df2 = df2.rename(columns={0: \"ds\",1:\"isbn\", 2: \"y\"})\n",
    "\n",
    "#transforma para datetime\n",
    "df2[\"ds\"] = pd.to_datetime(df2[\"ds\"])\n",
    "\n",
    "df2['ds'] = df2['ds'].values.astype('datetime64[M]')\n",
    "\n",
    "df2 = df2.groupby(['ds']).sum()\n",
    "\n",
    "df2 = df2.reset_index()"
   ]
  },
  {
   "cell_type": "code",
   "execution_count": 15,
   "metadata": {
    "colab": {
     "base_uri": "https://localhost:8080/"
    },
    "executionInfo": {
     "elapsed": 31541,
     "status": "ok",
     "timestamp": 1611535816033,
     "user": {
      "displayName": "Rafael de Miranda da Costa Leite",
      "photoUrl": "https://lh3.googleusercontent.com/a-/AOh14Gj-3rbInttHw_wvyiLPSmYAdgOUmDm2bFbC-AEvbw=s64",
      "userId": "02906791875441644303"
     },
     "user_tz": 180
    },
    "id": "_UMZHBeRe_3j",
    "outputId": "16cf1b89-b159-45a2-b409-31b283cac166"
   },
   "outputs": [
    {
     "name": "stderr",
     "output_type": "stream",
     "text": [
      "INFO:numexpr.utils:NumExpr defaulting to 1 threads.\n",
      "INFO:fbprophet:Disabling weekly seasonality. Run prophet with weekly_seasonality=True to override this.\n",
      "INFO:fbprophet:Disabling daily seasonality. Run prophet with daily_seasonality=True to override this.\n"
     ]
    },
    {
     "data": {
      "text/plain": [
       "<fbprophet.forecaster.Prophet at 0x7f980cb84880>"
      ]
     },
     "execution_count": 15,
     "metadata": {},
     "output_type": "execute_result"
    }
   ],
   "source": [
    "from fbprophet import Prophet\n",
    "\n",
    "#Fit modelo Prophet\n",
    "fitProphet = Prophet()\n",
    "\n",
    "fitProphet.fit(df2)"
   ]
  },
  {
   "cell_type": "code",
   "execution_count": 16,
   "metadata": {
    "executionInfo": {
     "elapsed": 33453,
     "status": "ok",
     "timestamp": 1611535817950,
     "user": {
      "displayName": "Rafael de Miranda da Costa Leite",
      "photoUrl": "https://lh3.googleusercontent.com/a-/AOh14Gj-3rbInttHw_wvyiLPSmYAdgOUmDm2bFbC-AEvbw=s64",
      "userId": "02906791875441644303"
     },
     "user_tz": 180
    },
    "id": "jrER-SJ4mUmc"
   },
   "outputs": [],
   "source": [
    "#Forecast Prophet\n",
    "future = fitProphet.make_future_dataframe(periods=12, freq='MS')\n",
    "\n",
    "predProphetfull = fitProphet.predict(future)\n",
    "\n",
    "predProphet = predProphetfull[['ds','yhat']]\n",
    "\n",
    "predProphet = predProphet.set_index('ds')\n",
    "predProphet = predProphet.rename(columns={\"yhat\": \"PROPHET\"})\n",
    "\n",
    "predProphet = predProphet.iloc[-24:]"
   ]
  },
  {
   "cell_type": "markdown",
   "metadata": {
    "id": "vaBJwAnqyBLP"
   },
   "source": [
    "Modelo LSTM"
   ]
  },
  {
   "cell_type": "code",
   "execution_count": 17,
   "metadata": {},
   "outputs": [],
   "source": [
    "#Dados LSTM\n",
    "\n",
    "#importa dados\n",
    "df3 = data_sql\n",
    "\n",
    "#adiciona nome nas colunas\n",
    "df3 = df3.rename(columns={0: \"ds\",1:\"isbn\", 2: \"Venda\"})\n",
    "\n",
    "#transforma para datetime\n",
    "df3[\"Mes\"] = pd.to_datetime(df3[\"ds\"])\n",
    "\n",
    "df3['Mes'] = df3['Mes'].values.astype('datetime64[M]')\n",
    "\n",
    "df3.drop(['ds','isbn'], axis=1, inplace=True)\n",
    "\n",
    "df3 = df3.groupby(['Mes']).sum()\n",
    "\n",
    "df3 = df3.reset_index()\n",
    "\n",
    "df3 = df3.set_index(\"Mes\")\n",
    "\n",
    "df3.index.freq = 'MS'\n",
    "\n",
    "train_data = df3[:len(df3)-12]\n",
    "test_data = df3[len(df3)-12:]"
   ]
  },
  {
   "cell_type": "code",
   "execution_count": 18,
   "metadata": {
    "executionInfo": {
     "elapsed": 33449,
     "status": "ok",
     "timestamp": 1611535817953,
     "user": {
      "displayName": "Rafael de Miranda da Costa Leite",
      "photoUrl": "https://lh3.googleusercontent.com/a-/AOh14Gj-3rbInttHw_wvyiLPSmYAdgOUmDm2bFbC-AEvbw=s64",
      "userId": "02906791875441644303"
     },
     "user_tz": 180
    },
    "id": "J4Na9k9lNYbY"
   },
   "outputs": [],
   "source": [
    "from sklearn.preprocessing import MinMaxScaler\n",
    "scaler = MinMaxScaler()"
   ]
  },
  {
   "cell_type": "code",
   "execution_count": 19,
   "metadata": {
    "executionInfo": {
     "elapsed": 33447,
     "status": "ok",
     "timestamp": 1611535817954,
     "user": {
      "displayName": "Rafael de Miranda da Costa Leite",
      "photoUrl": "https://lh3.googleusercontent.com/a-/AOh14Gj-3rbInttHw_wvyiLPSmYAdgOUmDm2bFbC-AEvbw=s64",
      "userId": "02906791875441644303"
     },
     "user_tz": 180
    },
    "id": "-QYaskWVNYbY"
   },
   "outputs": [],
   "source": [
    "scaler.fit(train_data)\n",
    "scaled_train_data = scaler.transform(train_data)\n",
    "scaled_test_data = scaler.transform(test_data)"
   ]
  },
  {
   "cell_type": "code",
   "execution_count": 20,
   "metadata": {
    "executionInfo": {
     "elapsed": 35272,
     "status": "ok",
     "timestamp": 1611535819784,
     "user": {
      "displayName": "Rafael de Miranda da Costa Leite",
      "photoUrl": "https://lh3.googleusercontent.com/a-/AOh14Gj-3rbInttHw_wvyiLPSmYAdgOUmDm2bFbC-AEvbw=s64",
      "userId": "02906791875441644303"
     },
     "user_tz": 180
    },
    "id": "fcObEiVKNYbY"
   },
   "outputs": [],
   "source": [
    "from keras.preprocessing.sequence import TimeseriesGenerator\n",
    "\n",
    "n_input = n_periods\n",
    "#n_input = 12\n",
    "n_features= 1\n",
    "generator = TimeseriesGenerator(scaled_train_data, scaled_train_data, length=n_input, batch_size=2)"
   ]
  },
  {
   "cell_type": "code",
   "execution_count": 21,
   "metadata": {
    "colab": {
     "base_uri": "https://localhost:8080/"
    },
    "executionInfo": {
     "elapsed": 35269,
     "status": "ok",
     "timestamp": 1611535819785,
     "user": {
      "displayName": "Rafael de Miranda da Costa Leite",
      "photoUrl": "https://lh3.googleusercontent.com/a-/AOh14Gj-3rbInttHw_wvyiLPSmYAdgOUmDm2bFbC-AEvbw=s64",
      "userId": "02906791875441644303"
     },
     "user_tz": 180
    },
    "id": "niryx9RJNYbZ",
    "outputId": "de76434f-4746-49d2-876d-41ea23e18348"
   },
   "outputs": [
    {
     "name": "stdout",
     "output_type": "stream",
     "text": [
      "Model: \"sequential\"\n",
      "_________________________________________________________________\n",
      "Layer (type)                 Output Shape              Param #   \n",
      "=================================================================\n",
      "lstm (LSTM)                  (None, 200)               161600    \n",
      "_________________________________________________________________\n",
      "dense (Dense)                (None, 1)                 201       \n",
      "=================================================================\n",
      "Total params: 161,801\n",
      "Trainable params: 161,801\n",
      "Non-trainable params: 0\n",
      "_________________________________________________________________\n"
     ]
    }
   ],
   "source": [
    "from keras.models import Sequential\n",
    "from keras.layers import Dense\n",
    "from keras.layers import LSTM\n",
    "\n",
    "lstm_model = Sequential()\n",
    "lstm_model.add(LSTM(200, activation='relu', input_shape=(n_input, n_features)))\n",
    "lstm_model.add(Dense(1))\n",
    "lstm_model.compile(optimizer='adam', loss='mse')\n",
    "\n",
    "lstm_model.summary()"
   ]
  },
  {
   "cell_type": "code",
   "execution_count": 22,
   "metadata": {
    "colab": {
     "base_uri": "https://localhost:8080/"
    },
    "executionInfo": {
     "elapsed": 56336,
     "status": "ok",
     "timestamp": 1611535840857,
     "user": {
      "displayName": "Rafael de Miranda da Costa Leite",
      "photoUrl": "https://lh3.googleusercontent.com/a-/AOh14Gj-3rbInttHw_wvyiLPSmYAdgOUmDm2bFbC-AEvbw=s64",
      "userId": "02906791875441644303"
     },
     "user_tz": 180
    },
    "id": "KQ0aNvA-NYbZ",
    "outputId": "cd5ad4b6-c2ab-412f-ed94-5fd144afc139"
   },
   "outputs": [
    {
     "name": "stdout",
     "output_type": "stream",
     "text": [
      "Epoch 1/50\n"
     ]
    },
    {
     "name": "stderr",
     "output_type": "stream",
     "text": [
      "/home/rafael/Apps/anaconda3/lib/python3.8/site-packages/tensorflow/python/keras/engine/training.py:1844: UserWarning: `Model.fit_generator` is deprecated and will be removed in a future version. Please use `Model.fit`, which supports generators.\n",
      "  warnings.warn('`Model.fit_generator` is deprecated and '\n"
     ]
    },
    {
     "name": "stdout",
     "output_type": "stream",
     "text": [
      "12/12 [==============================] - 1s 24ms/step - loss: 0.0699\n",
      "Epoch 2/50\n",
      "12/12 [==============================] - 0s 24ms/step - loss: 0.0850\n",
      "Epoch 3/50\n",
      "12/12 [==============================] - 0s 22ms/step - loss: 0.0341\n",
      "Epoch 4/50\n",
      "12/12 [==============================] - 0s 23ms/step - loss: 0.0335\n",
      "Epoch 5/50\n",
      "12/12 [==============================] - 0s 22ms/step - loss: 0.0530\n",
      "Epoch 6/50\n",
      "12/12 [==============================] - 0s 24ms/step - loss: 0.0183\n",
      "Epoch 7/50\n",
      "12/12 [==============================] - 0s 22ms/step - loss: 0.0545\n",
      "Epoch 8/50\n",
      "12/12 [==============================] - 0s 23ms/step - loss: 0.0440\n",
      "Epoch 9/50\n",
      "12/12 [==============================] - 0s 29ms/step - loss: 0.0308\n",
      "Epoch 10/50\n",
      "12/12 [==============================] - 0s 24ms/step - loss: 0.0268\n",
      "Epoch 11/50\n",
      "12/12 [==============================] - 0s 24ms/step - loss: 0.0640\n",
      "Epoch 12/50\n",
      "12/12 [==============================] - 0s 24ms/step - loss: 0.0649\n",
      "Epoch 13/50\n",
      "12/12 [==============================] - 0s 26ms/step - loss: 0.0291\n",
      "Epoch 14/50\n",
      "12/12 [==============================] - 0s 26ms/step - loss: 0.0313\n",
      "Epoch 15/50\n",
      "12/12 [==============================] - 0s 24ms/step - loss: 0.0199\n",
      "Epoch 16/50\n",
      "12/12 [==============================] - 0s 23ms/step - loss: 0.0286\n",
      "Epoch 17/50\n",
      "12/12 [==============================] - 0s 23ms/step - loss: 0.0223\n",
      "Epoch 18/50\n",
      "12/12 [==============================] - 0s 23ms/step - loss: 0.0257\n",
      "Epoch 19/50\n",
      "12/12 [==============================] - 0s 23ms/step - loss: 0.0220\n",
      "Epoch 20/50\n",
      "12/12 [==============================] - 0s 24ms/step - loss: 0.0340\n",
      "Epoch 21/50\n",
      "12/12 [==============================] - 0s 23ms/step - loss: 0.0374\n",
      "Epoch 22/50\n",
      "12/12 [==============================] - 0s 24ms/step - loss: 0.0381\n",
      "Epoch 23/50\n",
      "12/12 [==============================] - 0s 24ms/step - loss: 0.0425\n",
      "Epoch 24/50\n",
      "12/12 [==============================] - 0s 23ms/step - loss: 0.0432\n",
      "Epoch 25/50\n",
      "12/12 [==============================] - 0s 23ms/step - loss: 0.0236\n",
      "Epoch 26/50\n",
      "12/12 [==============================] - 0s 23ms/step - loss: 0.0688\n",
      "Epoch 27/50\n",
      "12/12 [==============================] - 0s 23ms/step - loss: 0.0239\n",
      "Epoch 28/50\n",
      "12/12 [==============================] - 0s 23ms/step - loss: 0.0312\n",
      "Epoch 29/50\n",
      "12/12 [==============================] - 0s 23ms/step - loss: 0.0304\n",
      "Epoch 30/50\n",
      "12/12 [==============================] - 0s 24ms/step - loss: 0.0484\n",
      "Epoch 31/50\n",
      "12/12 [==============================] - 0s 23ms/step - loss: 0.0318\n",
      "Epoch 32/50\n",
      "12/12 [==============================] - 0s 25ms/step - loss: 0.0265\n",
      "Epoch 33/50\n",
      "12/12 [==============================] - 0s 24ms/step - loss: 0.0411\n",
      "Epoch 34/50\n",
      "12/12 [==============================] - 0s 22ms/step - loss: 0.0306\n",
      "Epoch 35/50\n",
      "12/12 [==============================] - 0s 24ms/step - loss: 0.0656\n",
      "Epoch 36/50\n",
      "12/12 [==============================] - 0s 24ms/step - loss: 0.0388\n",
      "Epoch 37/50\n",
      "12/12 [==============================] - 0s 23ms/step - loss: 0.0298\n",
      "Epoch 38/50\n",
      "12/12 [==============================] - 0s 24ms/step - loss: 0.0388\n",
      "Epoch 39/50\n",
      "12/12 [==============================] - 0s 24ms/step - loss: 0.0169\n",
      "Epoch 40/50\n",
      "12/12 [==============================] - 0s 23ms/step - loss: 0.0256\n",
      "Epoch 41/50\n",
      "12/12 [==============================] - 0s 23ms/step - loss: 0.0398\n",
      "Epoch 42/50\n",
      "12/12 [==============================] - 0s 29ms/step - loss: 0.0274\n",
      "Epoch 43/50\n",
      "12/12 [==============================] - 0s 25ms/step - loss: 0.0609\n",
      "Epoch 44/50\n",
      "12/12 [==============================] - 0s 24ms/step - loss: 0.0262\n",
      "Epoch 45/50\n",
      "12/12 [==============================] - 0s 22ms/step - loss: 0.0244\n",
      "Epoch 46/50\n",
      "12/12 [==============================] - 0s 23ms/step - loss: 0.0344\n",
      "Epoch 47/50\n",
      "12/12 [==============================] - 0s 25ms/step - loss: 0.0518\n",
      "Epoch 48/50\n",
      "12/12 [==============================] - 0s 23ms/step - loss: 0.0614\n",
      "Epoch 49/50\n",
      "12/12 [==============================] - 0s 23ms/step - loss: 0.0253\n",
      "Epoch 50/50\n",
      "12/12 [==============================] - 0s 24ms/step - loss: 0.0204\n"
     ]
    },
    {
     "data": {
      "text/plain": [
       "<tensorflow.python.keras.callbacks.History at 0x7f97dbbdec40>"
      ]
     },
     "execution_count": 22,
     "metadata": {},
     "output_type": "execute_result"
    }
   ],
   "source": [
    "nepochs=50\n",
    "lstm_model.fit_generator(generator,epochs=nepochs)"
   ]
  },
  {
   "cell_type": "code",
   "execution_count": 23,
   "metadata": {
    "colab": {
     "base_uri": "https://localhost:8080/",
     "height": 497
    },
    "executionInfo": {
     "elapsed": 56733,
     "status": "ok",
     "timestamp": 1611535841260,
     "user": {
      "displayName": "Rafael de Miranda da Costa Leite",
      "photoUrl": "https://lh3.googleusercontent.com/a-/AOh14Gj-3rbInttHw_wvyiLPSmYAdgOUmDm2bFbC-AEvbw=s64",
      "userId": "02906791875441644303"
     },
     "user_tz": 180
    },
    "id": "Cz-smqKKNYbZ",
    "outputId": "7541ac13-7652-40bf-b103-12294e5a956a"
   },
   "outputs": [
    {
     "data": {
      "image/png": "[encoded data removed]",
      "text/plain": [
       "<Figure size 864x576 with 1 Axes>"
      ]
     },
     "metadata": {
      "needs_background": "light"
     },
     "output_type": "display_data"
    }
   ],
   "source": [
    "losses_lstm = lstm_model.history.history['loss']\n",
    "plt.figure(figsize=(12,8))\n",
    "plt.xlabel(\"Epochs\")\n",
    "plt.ylabel(\"Loss\")\n",
    "plt.xticks(np.arange(0,nepochs,1))\n",
    "plt.plot(range(len(losses_lstm)),losses_lstm);"
   ]
  },
  {
   "cell_type": "code",
   "execution_count": 24,
   "metadata": {
    "executionInfo": {
     "elapsed": 57438,
     "status": "ok",
     "timestamp": 1611535841971,
     "user": {
      "displayName": "Rafael de Miranda da Costa Leite",
      "photoUrl": "https://lh3.googleusercontent.com/a-/AOh14Gj-3rbInttHw_wvyiLPSmYAdgOUmDm2bFbC-AEvbw=s64",
      "userId": "02906791875441644303"
     },
     "user_tz": 180
    },
    "id": "0NIISLnmNYbZ"
   },
   "outputs": [],
   "source": [
    "lstm_predictions_scaled = list()\n",
    "\n",
    "batch = scaled_train_data[-n_input:]\n",
    "current_batch = batch.reshape((1, n_input, n_features))\n",
    "\n",
    "for i in range(n_input):   \n",
    "    lstm_pred = lstm_model.predict(current_batch)[0]\n",
    "    lstm_predictions_scaled.append(lstm_pred) \n",
    "    current_batch = np.append(current_batch[:,1:,:],[[lstm_pred]],axis=1)"
   ]
  },
  {
   "cell_type": "code",
   "execution_count": 25,
   "metadata": {
    "executionInfo": {
     "elapsed": 57436,
     "status": "ok",
     "timestamp": 1611535841972,
     "user": {
      "displayName": "Rafael de Miranda da Costa Leite",
      "photoUrl": "https://lh3.googleusercontent.com/a-/AOh14Gj-3rbInttHw_wvyiLPSmYAdgOUmDm2bFbC-AEvbw=s64",
      "userId": "02906791875441644303"
     },
     "user_tz": 180
    },
    "id": "CPXHVASvNYba"
   },
   "outputs": [],
   "source": [
    "lstm_predictions = scaler.inverse_transform(lstm_predictions_scaled)"
   ]
  },
  {
   "cell_type": "markdown",
   "metadata": {
    "id": "KBMF7e_3Fu_t"
   },
   "source": [
    "# Avaliação do Forecast"
   ]
  },
  {
   "cell_type": "code",
   "execution_count": 26,
   "metadata": {
    "executionInfo": {
     "elapsed": 57428,
     "status": "ok",
     "timestamp": 1611535841974,
     "user": {
      "displayName": "Rafael de Miranda da Costa Leite",
      "photoUrl": "https://lh3.googleusercontent.com/a-/AOh14Gj-3rbInttHw_wvyiLPSmYAdgOUmDm2bFbC-AEvbw=s64",
      "userId": "02906791875441644303"
     },
     "user_tz": 180
    },
    "id": "TcrxWhwEOjO_"
   },
   "outputs": [],
   "source": [
    "#Concatena predições\n",
    "forecast = pd.concat([test,predSArima,predProphet],axis=1)\n",
    "forecast['LSTM'] = lstm_predictions"
   ]
  },
  {
   "cell_type": "code",
   "execution_count": 27,
   "metadata": {
    "colab": {
     "base_uri": "https://localhost:8080/",
     "height": 295
    },
    "executionInfo": {
     "elapsed": 57833,
     "status": "ok",
     "timestamp": 1611535842389,
     "user": {
      "displayName": "Rafael de Miranda da Costa Leite",
      "photoUrl": "https://lh3.googleusercontent.com/a-/AOh14Gj-3rbInttHw_wvyiLPSmYAdgOUmDm2bFbC-AEvbw=s64",
      "userId": "02906791875441644303"
     },
     "user_tz": 180
    },
    "id": "44QVVxDg8Sb9",
    "outputId": "b7b93fc6-306c-4ac2-b937-458ceaa1a764"
   },
   "outputs": [
    {
     "data": {
      "text/plain": [
       "<matplotlib.axes._subplots.AxesSubplot at 0x7f97d81eaf40>"
      ]
     },
     "execution_count": 27,
     "metadata": {},
     "output_type": "execute_result"
    },
    {
     "data": {
      "image/png": "[encoded data removed]",
      "text/plain": [
       "<Figure size 432x288 with 1 Axes>"
      ]
     },
     "metadata": {
      "needs_background": "light"
     },
     "output_type": "display_data"
    }
   ],
   "source": [
    "forecast.plot()"
   ]
  },
  {
   "cell_type": "code",
   "execution_count": 28,
   "metadata": {
    "executionInfo": {
     "elapsed": 57827,
     "status": "ok",
     "timestamp": 1611535842390,
     "user": {
      "displayName": "Rafael de Miranda da Costa Leite",
      "photoUrl": "https://lh3.googleusercontent.com/a-/AOh14Gj-3rbInttHw_wvyiLPSmYAdgOUmDm2bFbC-AEvbw=s64",
      "userId": "02906791875441644303"
     },
     "user_tz": 180
    },
    "id": "zkxt16tucUgw"
   },
   "outputs": [],
   "source": [
    "forecast['Ac_venda'] = test.cumsum()\n",
    "forecast['Ac_SArima'] = forecast['SARIMA'].cumsum()\n",
    "forecast['Ac_PROPHET'] = forecast['PROPHET'].cumsum()\n",
    "forecast['Ac_LSTM'] = forecast['LSTM'].cumsum()"
   ]
  },
  {
   "cell_type": "code",
   "execution_count": 29,
   "metadata": {
    "colab": {
     "base_uri": "https://localhost:8080/",
     "height": 295
    },
    "executionInfo": {
     "elapsed": 58419,
     "status": "ok",
     "timestamp": 1611535842986,
     "user": {
      "displayName": "Rafael de Miranda da Costa Leite",
      "photoUrl": "https://lh3.googleusercontent.com/a-/AOh14Gj-3rbInttHw_wvyiLPSmYAdgOUmDm2bFbC-AEvbw=s64",
      "userId": "02906791875441644303"
     },
     "user_tz": 180
    },
    "id": "ZFquRXwPc_iy",
    "outputId": "8317d480-ef89-4d7c-f312-6d1c3e320afc"
   },
   "outputs": [
    {
     "data": {
      "text/plain": [
       "<matplotlib.axes._subplots.AxesSubplot at 0x7f97d809bb80>"
      ]
     },
     "execution_count": 29,
     "metadata": {},
     "output_type": "execute_result"
    },
    {
     "data": {
      "image/png": "[encoded data removed]",
      "text/plain": [
       "<Figure size 432x288 with 1 Axes>"
      ]
     },
     "metadata": {
      "needs_background": "light"
     },
     "output_type": "display_data"
    }
   ],
   "source": [
    "forecast.plot()"
   ]
  },
  {
   "cell_type": "code",
   "execution_count": 30,
   "metadata": {
    "colab": {
     "base_uri": "https://localhost:8080/",
     "height": 283
    },
    "executionInfo": {
     "elapsed": 891,
     "status": "ok",
     "timestamp": 1611535951136,
     "user": {
      "displayName": "Rafael de Miranda da Costa Leite",
      "photoUrl": "https://lh3.googleusercontent.com/a-/AOh14Gj-3rbInttHw_wvyiLPSmYAdgOUmDm2bFbC-AEvbw=s64",
      "userId": "02906791875441644303"
     },
     "user_tz": 180
    },
    "id": "RqS-lTajZ2c6",
    "outputId": "d83808df-b9ea-4e6b-bb27-7bbe1e68baf2"
   },
   "outputs": [
    {
     "data": {
      "text/plain": [
       "<matplotlib.axes._subplots.AxesSubplot at 0x7f97d9c5ab20>"
      ]
     },
     "execution_count": 30,
     "metadata": {},
     "output_type": "execute_result"
    },
    {
     "data": {
      "image/png": "[encoded data removed]",
      "text/plain": [
       "<Figure size 432x288 with 1 Axes>"
      ]
     },
     "metadata": {
      "needs_background": "light"
     },
     "output_type": "display_data"
    }
   ],
   "source": [
    "#Visão geral\n",
    "pd.concat([df1,predSArima,predProphet],axis=1).plot()"
   ]
  },
  {
   "cell_type": "markdown",
   "metadata": {
    "id": "1BJPrB9YFYQD"
   },
   "source": [
    "Exporta Dados"
   ]
  },
  {
   "cell_type": "code",
   "execution_count": 31,
   "metadata": {
    "executionInfo": {
     "elapsed": 659,
     "status": "ok",
     "timestamp": 1611535965081,
     "user": {
      "displayName": "Rafael de Miranda da Costa Leite",
      "photoUrl": "https://lh3.googleusercontent.com/a-/AOh14Gj-3rbInttHw_wvyiLPSmYAdgOUmDm2bFbC-AEvbw=s64",
      "userId": "02906791875441644303"
     },
     "user_tz": 180
    },
    "id": "B0Q614FobDzK"
   },
   "outputs": [],
   "source": [
    "#forecast.to_excel ('forecast.xlsx', index = True, header=True, sheet_name = 'Dados')"
   ]
  },
  {
   "cell_type": "code",
   "execution_count": 32,
   "metadata": {},
   "outputs": [
    {
     "name": "stdout",
     "output_type": "stream",
     "text": [
      "<class 'pandas.core.frame.DataFrame'>\n",
      "DatetimeIndex: 24 entries, 2019-01-01 to 2020-12-01\n",
      "Freq: MS\n",
      "Data columns (total 10 columns):\n",
      " #   Column       Non-Null Count  Dtype  \n",
      "---  ------       --------------  -----  \n",
      " 0   qtd_venda    24 non-null     float64\n",
      " 1   qtd_sarima   24 non-null     float64\n",
      " 2   qtd_prophet  24 non-null     float64\n",
      " 3   qtd_lstm     24 non-null     float64\n",
      " 4   acm_venda    24 non-null     float64\n",
      " 5   acm_sarima   24 non-null     float64\n",
      " 6   acm_prophet  24 non-null     float64\n",
      " 7   acm_lstm     24 non-null     float64\n",
      " 8   sk_tempo     24 non-null     int64  \n",
      " 9   sk_protudo   24 non-null     int64  \n",
      "dtypes: float64(8), int64(2)\n",
      "memory usage: 2.1 KB\n"
     ]
    }
   ],
   "source": [
    "df_export = forecast.copy()\n",
    "df_export[\"sk_tempo\"] = df_export.index.strftime('%Y%m%d').astype(int)\n",
    "df_export[\"sk_protudo\"] = int(produto_proc)\n",
    "\n",
    "df_export = df_export.rename(columns={\"value\":\"qtd_venda\",\"Ac_venda\":\"acm_venda\"})\n",
    "df_export = df_export.rename(columns={\"PROPHET\":\"qtd_prophet\",\"Ac_PROPHET\":\"acm_prophet\"})\n",
    "df_export = df_export.rename(columns={\"LSTM\":\"qtd_lstm\",\"Ac_LSTM\":\"acm_lstm\"})\n",
    "df_export = df_export.rename(columns={\"SARIMA\":\"qtd_sarima\",\"Ac_SArima\":\"acm_sarima\"})\n",
    "df_export = df_export.replace(np.nan,0)\n",
    "\n",
    "df_export.info()"
   ]
  },
  {
   "cell_type": "code",
   "execution_count": 33,
   "metadata": {},
   "outputs": [
    {
     "data": {
      "text/html": [
       "<div>\n",
       "<style scoped>\n",
       "    .dataframe tbody tr th:only-of-type {\n",
       "        vertical-align: middle;\n",
       "    }\n",
       "\n",
       "    .dataframe tbody tr th {\n",
       "        vertical-align: top;\n",
       "    }\n",
       "\n",
       "    .dataframe thead th {\n",
       "        text-align: right;\n",
       "    }\n",
       "</style>\n",
       "<table border=\"1\" class=\"dataframe\">\n",
       "  <thead>\n",
       "    <tr style=\"text-align: right;\">\n",
       "      <th></th>\n",
       "      <th>qtd_venda</th>\n",
       "      <th>qtd_sarima</th>\n",
       "      <th>qtd_prophet</th>\n",
       "      <th>qtd_lstm</th>\n",
       "      <th>acm_venda</th>\n",
       "      <th>acm_sarima</th>\n",
       "      <th>acm_prophet</th>\n",
       "      <th>acm_lstm</th>\n",
       "      <th>sk_tempo</th>\n",
       "      <th>sk_protudo</th>\n",
       "    </tr>\n",
       "  </thead>\n",
       "  <tbody>\n",
       "    <tr>\n",
       "      <th>2019-01-01</th>\n",
       "      <td>109.0</td>\n",
       "      <td>346.546973</td>\n",
       "      <td>310.330501</td>\n",
       "      <td>246.881193</td>\n",
       "      <td>109.0</td>\n",
       "      <td>346.546973</td>\n",
       "      <td>310.330501</td>\n",
       "      <td>246.881193</td>\n",
       "      <td>20190101</td>\n",
       "      <td>12870</td>\n",
       "    </tr>\n",
       "    <tr>\n",
       "      <th>2019-02-01</th>\n",
       "      <td>183.0</td>\n",
       "      <td>122.113947</td>\n",
       "      <td>137.806195</td>\n",
       "      <td>246.722601</td>\n",
       "      <td>292.0</td>\n",
       "      <td>468.660920</td>\n",
       "      <td>448.136696</td>\n",
       "      <td>493.603794</td>\n",
       "      <td>20190201</td>\n",
       "      <td>12870</td>\n",
       "    </tr>\n",
       "    <tr>\n",
       "      <th>2019-03-01</th>\n",
       "      <td>514.0</td>\n",
       "      <td>378.196400</td>\n",
       "      <td>261.692444</td>\n",
       "      <td>246.203867</td>\n",
       "      <td>806.0</td>\n",
       "      <td>846.857320</td>\n",
       "      <td>709.829140</td>\n",
       "      <td>739.807662</td>\n",
       "      <td>20190301</td>\n",
       "      <td>12870</td>\n",
       "    </tr>\n",
       "    <tr>\n",
       "      <th>2019-04-01</th>\n",
       "      <td>244.0</td>\n",
       "      <td>258.155718</td>\n",
       "      <td>189.339339</td>\n",
       "      <td>245.673557</td>\n",
       "      <td>1050.0</td>\n",
       "      <td>1105.013038</td>\n",
       "      <td>899.168479</td>\n",
       "      <td>985.481219</td>\n",
       "      <td>20190401</td>\n",
       "      <td>12870</td>\n",
       "    </tr>\n",
       "    <tr>\n",
       "      <th>2019-05-01</th>\n",
       "      <td>553.0</td>\n",
       "      <td>320.731874</td>\n",
       "      <td>438.662013</td>\n",
       "      <td>245.324308</td>\n",
       "      <td>1603.0</td>\n",
       "      <td>1425.744912</td>\n",
       "      <td>1337.830492</td>\n",
       "      <td>1230.805527</td>\n",
       "      <td>20190501</td>\n",
       "      <td>12870</td>\n",
       "    </tr>\n",
       "    <tr>\n",
       "      <th>2019-06-01</th>\n",
       "      <td>445.0</td>\n",
       "      <td>345.383738</td>\n",
       "      <td>376.888689</td>\n",
       "      <td>244.948687</td>\n",
       "      <td>2048.0</td>\n",
       "      <td>1771.128650</td>\n",
       "      <td>1714.719181</td>\n",
       "      <td>1475.754215</td>\n",
       "      <td>20190601</td>\n",
       "      <td>12870</td>\n",
       "    </tr>\n",
       "    <tr>\n",
       "      <th>2019-07-01</th>\n",
       "      <td>211.0</td>\n",
       "      <td>357.955644</td>\n",
       "      <td>313.629312</td>\n",
       "      <td>244.677725</td>\n",
       "      <td>2259.0</td>\n",
       "      <td>2129.084294</td>\n",
       "      <td>2028.348494</td>\n",
       "      <td>1720.431940</td>\n",
       "      <td>20190701</td>\n",
       "      <td>12870</td>\n",
       "    </tr>\n",
       "    <tr>\n",
       "      <th>2019-08-01</th>\n",
       "      <td>441.0</td>\n",
       "      <td>322.151701</td>\n",
       "      <td>305.106439</td>\n",
       "      <td>244.437893</td>\n",
       "      <td>2700.0</td>\n",
       "      <td>2451.235995</td>\n",
       "      <td>2333.454933</td>\n",
       "      <td>1964.869832</td>\n",
       "      <td>20190801</td>\n",
       "      <td>12870</td>\n",
       "    </tr>\n",
       "    <tr>\n",
       "      <th>2019-09-01</th>\n",
       "      <td>240.0</td>\n",
       "      <td>299.201528</td>\n",
       "      <td>279.492480</td>\n",
       "      <td>244.265975</td>\n",
       "      <td>2940.0</td>\n",
       "      <td>2750.437523</td>\n",
       "      <td>2612.947412</td>\n",
       "      <td>2209.135807</td>\n",
       "      <td>20190901</td>\n",
       "      <td>12870</td>\n",
       "    </tr>\n",
       "    <tr>\n",
       "      <th>2019-10-01</th>\n",
       "      <td>202.0</td>\n",
       "      <td>300.630638</td>\n",
       "      <td>216.193886</td>\n",
       "      <td>244.155261</td>\n",
       "      <td>3142.0</td>\n",
       "      <td>3051.068161</td>\n",
       "      <td>2829.141299</td>\n",
       "      <td>2453.291068</td>\n",
       "      <td>20191001</td>\n",
       "      <td>12870</td>\n",
       "    </tr>\n",
       "    <tr>\n",
       "      <th>2019-11-01</th>\n",
       "      <td>72.0</td>\n",
       "      <td>177.907783</td>\n",
       "      <td>130.089127</td>\n",
       "      <td>244.061269</td>\n",
       "      <td>3214.0</td>\n",
       "      <td>3228.975944</td>\n",
       "      <td>2959.230425</td>\n",
       "      <td>2697.352338</td>\n",
       "      <td>20191101</td>\n",
       "      <td>12870</td>\n",
       "    </tr>\n",
       "    <tr>\n",
       "      <th>2019-12-01</th>\n",
       "      <td>255.0</td>\n",
       "      <td>243.251092</td>\n",
       "      <td>238.922564</td>\n",
       "      <td>244.059037</td>\n",
       "      <td>3469.0</td>\n",
       "      <td>3472.227036</td>\n",
       "      <td>3198.152989</td>\n",
       "      <td>2941.411375</td>\n",
       "      <td>20191201</td>\n",
       "      <td>12870</td>\n",
       "    </tr>\n",
       "    <tr>\n",
       "      <th>2020-01-01</th>\n",
       "      <td>0.0</td>\n",
       "      <td>346.546973</td>\n",
       "      <td>354.080250</td>\n",
       "      <td>243.984359</td>\n",
       "      <td>0.0</td>\n",
       "      <td>3818.774009</td>\n",
       "      <td>3552.233239</td>\n",
       "      <td>3185.395734</td>\n",
       "      <td>20200101</td>\n",
       "      <td>12870</td>\n",
       "    </tr>\n",
       "    <tr>\n",
       "      <th>2020-02-01</th>\n",
       "      <td>0.0</td>\n",
       "      <td>122.113947</td>\n",
       "      <td>177.508712</td>\n",
       "      <td>243.953964</td>\n",
       "      <td>0.0</td>\n",
       "      <td>3940.887956</td>\n",
       "      <td>3729.741951</td>\n",
       "      <td>3429.349698</td>\n",
       "      <td>20200201</td>\n",
       "      <td>12870</td>\n",
       "    </tr>\n",
       "    <tr>\n",
       "      <th>2020-03-01</th>\n",
       "      <td>0.0</td>\n",
       "      <td>378.196400</td>\n",
       "      <td>573.476328</td>\n",
       "      <td>243.940585</td>\n",
       "      <td>0.0</td>\n",
       "      <td>4319.084356</td>\n",
       "      <td>4303.218279</td>\n",
       "      <td>3673.290283</td>\n",
       "      <td>20200301</td>\n",
       "      <td>12870</td>\n",
       "    </tr>\n",
       "    <tr>\n",
       "      <th>2020-04-01</th>\n",
       "      <td>0.0</td>\n",
       "      <td>258.155718</td>\n",
       "      <td>296.334069</td>\n",
       "      <td>243.932765</td>\n",
       "      <td>0.0</td>\n",
       "      <td>4577.240074</td>\n",
       "      <td>4599.552347</td>\n",
       "      <td>3917.223048</td>\n",
       "      <td>20200401</td>\n",
       "      <td>12870</td>\n",
       "    </tr>\n",
       "    <tr>\n",
       "      <th>2020-05-01</th>\n",
       "      <td>0.0</td>\n",
       "      <td>320.731874</td>\n",
       "      <td>205.895665</td>\n",
       "      <td>243.794998</td>\n",
       "      <td>0.0</td>\n",
       "      <td>4897.971947</td>\n",
       "      <td>4805.448012</td>\n",
       "      <td>4161.018046</td>\n",
       "      <td>20200501</td>\n",
       "      <td>12870</td>\n",
       "    </tr>\n",
       "    <tr>\n",
       "      <th>2020-06-01</th>\n",
       "      <td>0.0</td>\n",
       "      <td>345.383738</td>\n",
       "      <td>298.020433</td>\n",
       "      <td>243.717768</td>\n",
       "      <td>0.0</td>\n",
       "      <td>5243.355686</td>\n",
       "      <td>5103.468445</td>\n",
       "      <td>4404.735814</td>\n",
       "      <td>20200601</td>\n",
       "      <td>12870</td>\n",
       "    </tr>\n",
       "    <tr>\n",
       "      <th>2020-07-01</th>\n",
       "      <td>0.0</td>\n",
       "      <td>357.955644</td>\n",
       "      <td>302.830235</td>\n",
       "      <td>243.658916</td>\n",
       "      <td>0.0</td>\n",
       "      <td>5601.311330</td>\n",
       "      <td>5406.298680</td>\n",
       "      <td>4648.394730</td>\n",
       "      <td>20200701</td>\n",
       "      <td>12870</td>\n",
       "    </tr>\n",
       "    <tr>\n",
       "      <th>2020-08-01</th>\n",
       "      <td>0.0</td>\n",
       "      <td>322.151701</td>\n",
       "      <td>351.632082</td>\n",
       "      <td>243.595198</td>\n",
       "      <td>0.0</td>\n",
       "      <td>5923.463031</td>\n",
       "      <td>5757.930763</td>\n",
       "      <td>4891.989928</td>\n",
       "      <td>20200801</td>\n",
       "      <td>12870</td>\n",
       "    </tr>\n",
       "    <tr>\n",
       "      <th>2020-09-01</th>\n",
       "      <td>0.0</td>\n",
       "      <td>299.201528</td>\n",
       "      <td>247.985915</td>\n",
       "      <td>243.543337</td>\n",
       "      <td>0.0</td>\n",
       "      <td>6222.664558</td>\n",
       "      <td>6005.916678</td>\n",
       "      <td>5135.533265</td>\n",
       "      <td>20200901</td>\n",
       "      <td>12870</td>\n",
       "    </tr>\n",
       "    <tr>\n",
       "      <th>2020-10-01</th>\n",
       "      <td>0.0</td>\n",
       "      <td>300.630638</td>\n",
       "      <td>320.264962</td>\n",
       "      <td>243.470103</td>\n",
       "      <td>0.0</td>\n",
       "      <td>6523.295196</td>\n",
       "      <td>6326.181640</td>\n",
       "      <td>5379.003367</td>\n",
       "      <td>20201001</td>\n",
       "      <td>12870</td>\n",
       "    </tr>\n",
       "    <tr>\n",
       "      <th>2020-11-01</th>\n",
       "      <td>0.0</td>\n",
       "      <td>177.907783</td>\n",
       "      <td>145.252577</td>\n",
       "      <td>243.440376</td>\n",
       "      <td>0.0</td>\n",
       "      <td>6701.202980</td>\n",
       "      <td>6471.434217</td>\n",
       "      <td>5622.443743</td>\n",
       "      <td>20201101</td>\n",
       "      <td>12870</td>\n",
       "    </tr>\n",
       "    <tr>\n",
       "      <th>2020-12-01</th>\n",
       "      <td>0.0</td>\n",
       "      <td>243.251092</td>\n",
       "      <td>196.873291</td>\n",
       "      <td>243.429830</td>\n",
       "      <td>0.0</td>\n",
       "      <td>6944.454072</td>\n",
       "      <td>6668.307508</td>\n",
       "      <td>5865.873573</td>\n",
       "      <td>20201201</td>\n",
       "      <td>12870</td>\n",
       "    </tr>\n",
       "  </tbody>\n",
       "</table>\n",
       "</div>"
      ],
      "text/plain": [
       "            qtd_venda  qtd_sarima  qtd_prophet    qtd_lstm  acm_venda  \\\n",
       "2019-01-01      109.0  346.546973   310.330501  246.881193      109.0   \n",
       "2019-02-01      183.0  122.113947   137.806195  246.722601      292.0   \n",
       "2019-03-01      514.0  378.196400   261.692444  246.203867      806.0   \n",
       "2019-04-01      244.0  258.155718   189.339339  245.673557     1050.0   \n",
       "2019-05-01      553.0  320.731874   438.662013  245.324308     1603.0   \n",
       "2019-06-01      445.0  345.383738   376.888689  244.948687     2048.0   \n",
       "2019-07-01      211.0  357.955644   313.629312  244.677725     2259.0   \n",
       "2019-08-01      441.0  322.151701   305.106439  244.437893     2700.0   \n",
       "2019-09-01      240.0  299.201528   279.492480  244.265975     2940.0   \n",
       "2019-10-01      202.0  300.630638   216.193886  244.155261     3142.0   \n",
       "2019-11-01       72.0  177.907783   130.089127  244.061269     3214.0   \n",
       "2019-12-01      255.0  243.251092   238.922564  244.059037     3469.0   \n",
       "2020-01-01        0.0  346.546973   354.080250  243.984359        0.0   \n",
       "2020-02-01        0.0  122.113947   177.508712  243.953964        0.0   \n",
       "2020-03-01        0.0  378.196400   573.476328  243.940585        0.0   \n",
       "2020-04-01        0.0  258.155718   296.334069  243.932765        0.0   \n",
       "2020-05-01        0.0  320.731874   205.895665  243.794998        0.0   \n",
       "2020-06-01        0.0  345.383738   298.020433  243.717768        0.0   \n",
       "2020-07-01        0.0  357.955644   302.830235  243.658916        0.0   \n",
       "2020-08-01        0.0  322.151701   351.632082  243.595198        0.0   \n",
       "2020-09-01        0.0  299.201528   247.985915  243.543337        0.0   \n",
       "2020-10-01        0.0  300.630638   320.264962  243.470103        0.0   \n",
       "2020-11-01        0.0  177.907783   145.252577  243.440376        0.0   \n",
       "2020-12-01        0.0  243.251092   196.873291  243.429830        0.0   \n",
       "\n",
       "             acm_sarima  acm_prophet     acm_lstm  sk_tempo  sk_protudo  \n",
       "2019-01-01   346.546973   310.330501   246.881193  20190101       12870  \n",
       "2019-02-01   468.660920   448.136696   493.603794  20190201       12870  \n",
       "2019-03-01   846.857320   709.829140   739.807662  20190301       12870  \n",
       "2019-04-01  1105.013038   899.168479   985.481219  20190401       12870  \n",
       "2019-05-01  1425.744912  1337.830492  1230.805527  20190501       12870  \n",
       "2019-06-01  1771.128650  1714.719181  1475.754215  20190601       12870  \n",
       "2019-07-01  2129.084294  2028.348494  1720.431940  20190701       12870  \n",
       "2019-08-01  2451.235995  2333.454933  1964.869832  20190801       12870  \n",
       "2019-09-01  2750.437523  2612.947412  2209.135807  20190901       12870  \n",
       "2019-10-01  3051.068161  2829.141299  2453.291068  20191001       12870  \n",
       "2019-11-01  3228.975944  2959.230425  2697.352338  20191101       12870  \n",
       "2019-12-01  3472.227036  3198.152989  2941.411375  20191201       12870  \n",
       "2020-01-01  3818.774009  3552.233239  3185.395734  20200101       12870  \n",
       "2020-02-01  3940.887956  3729.741951  3429.349698  20200201       12870  \n",
       "2020-03-01  4319.084356  4303.218279  3673.290283  20200301       12870  \n",
       "2020-04-01  4577.240074  4599.552347  3917.223048  20200401       12870  \n",
       "2020-05-01  4897.971947  4805.448012  4161.018046  20200501       12870  \n",
       "2020-06-01  5243.355686  5103.468445  4404.735814  20200601       12870  \n",
       "2020-07-01  5601.311330  5406.298680  4648.394730  20200701       12870  \n",
       "2020-08-01  5923.463031  5757.930763  4891.989928  20200801       12870  \n",
       "2020-09-01  6222.664558  6005.916678  5135.533265  20200901       12870  \n",
       "2020-10-01  6523.295196  6326.181640  5379.003367  20201001       12870  \n",
       "2020-11-01  6701.202980  6471.434217  5622.443743  20201101       12870  \n",
       "2020-12-01  6944.454072  6668.307508  5865.873573  20201201       12870  "
      ]
     },
     "execution_count": 33,
     "metadata": {},
     "output_type": "execute_result"
    }
   ],
   "source": [
    "#df1 = df1.rename(columns={0: \"date\",1:\"isbn\", 2: \"value\"})\n",
    "df_export"
   ]
  },
  {
   "cell_type": "code",
   "execution_count": 34,
   "metadata": {
    "executionInfo": {
     "elapsed": 58734,
     "status": "ok",
     "timestamp": 1611535843318,
     "user": {
      "displayName": "Rafael de Miranda da Costa Leite",
      "photoUrl": "https://lh3.googleusercontent.com/a-/AOh14Gj-3rbInttHw_wvyiLPSmYAdgOUmDm2bFbC-AEvbw=s64",
      "userId": "02906791875441644303"
     },
     "user_tz": 180
    },
    "id": "nY3RBscfz2Fd"
   },
   "outputs": [
    {
     "name": "stdout",
     "output_type": "stream",
     "text": [
      "(20190101, 5795, 'LSTM', Decimal('294.16'), Decimal('294.16'))\n",
      "(20190101, 5795, 'Prophet', Decimal('285.93'), Decimal('285.93'))\n",
      "(20190101, 5795, 'SArima', Decimal('84.35'), Decimal('84.35'))\n",
      "(20190101, 5795, 'Venda', Decimal('739.00'), Decimal('739.00'))\n",
      "(20190101, 12870, 'LSTM', Decimal('246.88'), Decimal('246.88'))\n",
      "(20190101, 12870, 'Prophet', Decimal('310.33'), Decimal('310.33'))\n",
      "(20190101, 12870, 'SArima', Decimal('346.55'), Decimal('346.55'))\n",
      "(20190101, 12870, 'Venda', Decimal('109.00'), Decimal('109.00'))\n",
      "(20190101, 12886, 'LSTM', Decimal('123.53'), Decimal('123.53'))\n",
      "(20190101, 12886, 'Prophet', Decimal('204.77'), Decimal('204.77'))\n",
      "(20190101, 12886, 'SArima', Decimal('131.61'), Decimal('131.61'))\n",
      "(20190101, 12886, 'Venda', Decimal('361.00'), Decimal('361.00'))\n",
      "(20190101, 13005, 'LSTM', Decimal('878.68'), Decimal('878.68'))\n",
      "(20190101, 13005, 'Prophet', Decimal('3227.27'), Decimal('3227.27'))\n",
      "(20190101, 13005, 'SArima', Decimal('398.00'), Decimal('398.00'))\n",
      "(20190201, 5795, 'LSTM', Decimal('472.64'), Decimal('766.80'))\n",
      "(20190201, 5795, 'Prophet', Decimal('359.18'), Decimal('645.11'))\n",
      "(20190201, 5795, 'SArima', Decimal('343.33'), Decimal('427.68'))\n",
      "(20190201, 5795, 'Venda', Decimal('387.00'), Decimal('1126.00'))\n",
      "(20190201, 12870, 'LSTM', Decimal('246.72'), Decimal('493.60'))\n",
      "(20190201, 12870, 'Prophet', Decimal('137.81'), Decimal('448.14'))\n",
      "(20190201, 12870, 'SArima', Decimal('122.11'), Decimal('468.66'))\n",
      "(20190201, 12870, 'Venda', Decimal('183.00'), Decimal('292.00'))\n",
      "(20190201, 12886, 'LSTM', Decimal('158.21'), Decimal('281.74'))\n",
      "(20190201, 12886, 'Prophet', Decimal('226.00'), Decimal('430.77'))\n",
      "(20190201, 12886, 'SArima', Decimal('147.87'), Decimal('279.48'))\n",
      "(20190201, 12886, 'Venda', Decimal('70.00'), Decimal('431.00'))\n",
      "(20190201, 13005, 'LSTM', Decimal('1249.06'), Decimal('2127.74'))\n",
      "(20190201, 13005, 'Prophet', Decimal('796.93'), Decimal('4024.20'))\n",
      "(20190201, 13005, 'SArima', Decimal('852.00'), Decimal('1250.00'))\n",
      "(20190301, 5795, 'LSTM', Decimal('696.35'), Decimal('1463.15'))\n",
      "(20190301, 5795, 'Prophet', Decimal('663.92'), Decimal('1309.03'))\n",
      "(20190301, 5795, 'SArima', Decimal('928.60'), Decimal('1356.28'))\n",
      "(20190301, 5795, 'Venda', Decimal('589.00'), Decimal('1715.00'))\n",
      "(20190301, 12870, 'LSTM', Decimal('246.20'), Decimal('739.81'))\n",
      "(20190301, 12870, 'Prophet', Decimal('261.69'), Decimal('709.83'))\n",
      "(20190301, 12870, 'SArima', Decimal('378.20'), Decimal('846.86'))\n",
      "(20190301, 12870, 'Venda', Decimal('514.00'), Decimal('806.00'))\n",
      "(20190301, 12886, 'LSTM', Decimal('207.27'), Decimal('489.01'))\n",
      "(20190301, 12886, 'Prophet', Decimal('174.47'), Decimal('605.24'))\n",
      "(20190301, 12886, 'SArima', Decimal('211.38'), Decimal('490.86'))\n",
      "(20190301, 12886, 'Venda', Decimal('136.00'), Decimal('567.00'))\n",
      "(20190301, 13005, 'LSTM', Decimal('1360.34'), Decimal('3488.08'))\n",
      "(20190301, 13005, 'Prophet', Decimal('1060.42'), Decimal('5084.62'))\n",
      "(20190301, 13005, 'SArima', Decimal('1503.00'), Decimal('2753.00'))\n",
      "(20190401, 5795, 'LSTM', Decimal('509.78'), Decimal('1972.93'))\n",
      "(20190401, 5795, 'Prophet', Decimal('238.08'), Decimal('1547.10'))\n",
      "(20190401, 5795, 'SArima', Decimal('160.04'), Decimal('1516.31'))\n",
      "(20190401, 5795, 'Venda', Decimal('341.00'), Decimal('2056.00'))\n",
      "(20190401, 12870, 'LSTM', Decimal('245.67'), Decimal('985.48'))\n",
      "(20190401, 12870, 'Prophet', Decimal('189.34'), Decimal('899.17'))\n",
      "(20190401, 12870, 'SArima', Decimal('258.16'), Decimal('1105.01'))\n",
      "(20190401, 12870, 'Venda', Decimal('244.00'), Decimal('1050.00'))\n",
      "(20190401, 12886, 'LSTM', Decimal('273.71'), Decimal('762.72'))\n",
      "(20190401, 12886, 'Prophet', Decimal('43.35'), Decimal('648.60'))\n",
      "(20190401, 12886, 'SArima', Decimal('93.71'), Decimal('584.56'))\n",
      "(20190401, 12886, 'Venda', Decimal('25.00'), Decimal('592.00'))\n",
      "(20190401, 13005, 'LSTM', Decimal('1138.82'), Decimal('4626.90'))\n",
      "(20190401, 13005, 'Prophet', Decimal('946.38'), Decimal('6031.00'))\n",
      "(20190401, 13005, 'SArima', Decimal('275.00'), Decimal('3028.00'))\n",
      "(20190501, 5795, 'LSTM', Decimal('646.40'), Decimal('2619.33'))\n",
      "(20190501, 5795, 'Prophet', Decimal('231.04'), Decimal('1778.14'))\n",
      "(20190501, 5795, 'SArima', Decimal('503.98'), Decimal('2020.29'))\n",
      "(20190501, 5795, 'Venda', Decimal('166.00'), Decimal('2222.00'))\n",
      "(20190501, 12870, 'LSTM', Decimal('245.32'), Decimal('1230.81'))\n",
      "(20190501, 12870, 'Prophet', Decimal('438.66'), Decimal('1337.83'))\n",
      "(20190501, 12870, 'SArima', Decimal('320.73'), Decimal('1425.74'))\n",
      "(20190501, 12870, 'Venda', Decimal('553.00'), Decimal('1603.00'))\n",
      "(20190501, 12886, 'LSTM', Decimal('315.81'), Decimal('1078.53'))\n",
      "(20190501, 12886, 'Prophet', Decimal('437.40'), Decimal('1086.00'))\n",
      "(20190501, 12886, 'SArima', Decimal('662.00'), Decimal('1246.57'))\n",
      "(20190501, 12886, 'Venda', Decimal('344.00'), Decimal('936.00'))\n",
      "(20190501, 13005, 'LSTM', Decimal('1315.19'), Decimal('5942.08'))\n",
      "(20190501, 13005, 'Prophet', Decimal('1410.98'), Decimal('7441.98'))\n",
      "(20190501, 13005, 'SArima', Decimal('1441.00'), Decimal('4469.00'))\n",
      "(20190601, 5795, 'LSTM', Decimal('606.44'), Decimal('3225.76'))\n",
      "(20190601, 5795, 'Prophet', Decimal('703.43'), Decimal('2481.57'))\n",
      "(20190601, 5795, 'SArima', Decimal('446.81'), Decimal('2467.10'))\n",
      "(20190601, 5795, 'Venda', Decimal('1309.00'), Decimal('3531.00'))\n",
      "(20190601, 12870, 'LSTM', Decimal('244.95'), Decimal('1475.75'))\n",
      "(20190601, 12870, 'Prophet', Decimal('376.89'), Decimal('1714.72'))\n",
      "(20190601, 12870, 'SArima', Decimal('345.38'), Decimal('1771.13'))\n",
      "(20190601, 12870, 'Venda', Decimal('445.00'), Decimal('2048.00'))\n",
      "(20190601, 12886, 'LSTM', Decimal('345.54'), Decimal('1424.08'))\n",
      "(20190601, 12886, 'Prophet', Decimal('104.43'), Decimal('1190.43'))\n",
      "(20190601, 12886, 'SArima', Decimal('228.43'), Decimal('1475.00'))\n",
      "(20190601, 12886, 'Venda', Decimal('59.00'), Decimal('995.00'))\n",
      "(20190601, 13005, 'LSTM', Decimal('1122.86'), Decimal('7064.95'))\n",
      "(20190601, 13005, 'Prophet', Decimal('856.65'), Decimal('8298.63'))\n",
      "(20190601, 13005, 'SArima', Decimal('708.00'), Decimal('5177.00'))\n",
      "(20190701, 5795, 'LSTM', Decimal('621.62'), Decimal('3847.39'))\n",
      "(20190701, 5795, 'Prophet', Decimal('699.29'), Decimal('3180.86'))\n",
      "(20190701, 5795, 'SArima', Decimal('737.20'), Decimal('3204.30'))\n",
      "(20190701, 5795, 'Venda', Decimal('1085.00'), Decimal('4616.00'))\n",
      "(20190701, 12870, 'LSTM', Decimal('244.68'), Decimal('1720.43'))\n",
      "(20190701, 12870, 'Prophet', Decimal('313.63'), Decimal('2028.35'))\n",
      "(20190701, 12870, 'SArima', Decimal('357.96'), Decimal('2129.08'))\n",
      "(20190701, 12870, 'Venda', Decimal('211.00'), Decimal('2259.00'))\n",
      "(20190701, 12886, 'LSTM', Decimal('355.18'), Decimal('1779.25'))\n",
      "(20190701, 12886, 'Prophet', Decimal('277.18'), Decimal('1467.62'))\n",
      "(20190701, 12886, 'SArima', Decimal('251.41'), Decimal('1726.41'))\n",
      "(20190701, 12886, 'Venda', Decimal('150.00'), Decimal('1145.00'))\n",
      "(20190701, 13005, 'LSTM', Decimal('1595.52'), Decimal('8660.47'))\n",
      "(20190701, 13005, 'Prophet', Decimal('1305.94'), Decimal('9604.57'))\n",
      "(20190701, 13005, 'SArima', Decimal('1955.00'), Decimal('7132.00'))\n",
      "(20190801, 5795, 'LSTM', Decimal('571.59'), Decimal('4418.98'))\n",
      "(20190801, 5795, 'Prophet', Decimal('286.12'), Decimal('3466.98'))\n",
      "(20190801, 5795, 'SArima', Decimal('437.59'), Decimal('3641.89'))\n",
      "(20190801, 5795, 'Venda', Decimal('224.00'), Decimal('4840.00'))\n",
      "(20190801, 12870, 'LSTM', Decimal('244.44'), Decimal('1964.87'))\n",
      "(20190801, 12870, 'Prophet', Decimal('305.11'), Decimal('2333.45'))\n",
      "(20190801, 12870, 'SArima', Decimal('322.15'), Decimal('2451.24'))\n",
      "(20190801, 12870, 'Venda', Decimal('441.00'), Decimal('2700.00'))\n",
      "(20190801, 12886, 'LSTM', Decimal('356.24'), Decimal('2135.49'))\n",
      "(20190801, 12886, 'Prophet', Decimal('161.44'), Decimal('1629.06'))\n",
      "(20190801, 12886, 'SArima', Decimal('134.18'), Decimal('1860.59'))\n",
      "(20190801, 12886, 'Venda', Decimal('53.00'), Decimal('1198.00'))\n",
      "(20190801, 13005, 'LSTM', Decimal('1062.41'), Decimal('9722.87'))\n",
      "(20190801, 13005, 'Prophet', Decimal('839.25'), Decimal('10443.83'))\n",
      "(20190801, 13005, 'SArima', Decimal('715.00'), Decimal('7847.00'))\n",
      "(20190901, 5795, 'LSTM', Decimal('574.46'), Decimal('4993.44'))\n",
      "(20190901, 5795, 'Prophet', Decimal('804.88'), Decimal('4271.86'))\n",
      "(20190901, 5795, 'SArima', Decimal('316.11'), Decimal('3958.01'))\n",
      "(20190901, 5795, 'Venda', Decimal('485.00'), Decimal('5325.00'))\n",
      "(20190901, 12870, 'LSTM', Decimal('244.27'), Decimal('2209.14'))\n",
      "(20190901, 12870, 'Prophet', Decimal('279.49'), Decimal('2612.95'))\n",
      "(20190901, 12870, 'SArima', Decimal('299.20'), Decimal('2750.44'))\n",
      "(20190901, 12870, 'Venda', Decimal('240.00'), Decimal('2940.00'))\n",
      "(20190901, 12886, 'LSTM', Decimal('327.65'), Decimal('2463.15'))\n",
      "(20190901, 12886, 'Prophet', Decimal('94.35'), Decimal('1723.41'))\n",
      "(20190901, 12886, 'SArima', Decimal('106.69'), Decimal('1967.28'))\n",
      "(20190901, 12886, 'Venda', Decimal('60.00'), Decimal('1258.00'))\n",
      "(20190901, 13005, 'LSTM', Decimal('1121.17'), Decimal('10844.05'))\n",
      "(20190901, 13005, 'Prophet', Decimal('684.86'), Decimal('11128.69'))\n",
      "(20190901, 13005, 'SArima', Decimal('511.00'), Decimal('8358.00'))\n",
      "(20191001, 5795, 'LSTM', Decimal('568.06'), Decimal('5561.50'))\n",
      "(20191001, 5795, 'Prophet', Decimal('275.65'), Decimal('4547.51'))\n",
      "(20191001, 5795, 'SArima', Decimal('289.80'), Decimal('4247.80'))\n",
      "(20191001, 5795, 'Venda', Decimal('304.00'), Decimal('5629.00'))\n",
      "(20191001, 12870, 'LSTM', Decimal('244.16'), Decimal('2453.29'))\n",
      "(20191001, 12870, 'Prophet', Decimal('216.19'), Decimal('2829.14'))\n",
      "(20191001, 12870, 'SArima', Decimal('300.63'), Decimal('3051.07'))\n",
      "(20191001, 12870, 'Venda', Decimal('202.00'), Decimal('3142.00'))\n",
      "(20191001, 12886, 'LSTM', Decimal('273.79'), Decimal('2736.93'))\n",
      "(20191001, 12886, 'Prophet', Decimal('51.50'), Decimal('1774.92'))\n",
      "(20191001, 12886, 'SArima', Decimal('72.20'), Decimal('2039.48'))\n",
      "(20191001, 12886, 'Venda', Decimal('43.00'), Decimal('1301.00'))\n",
      "(20191001, 13005, 'LSTM', Decimal('1115.01'), Decimal('11959.06'))\n",
      "(20191001, 13005, 'Prophet', Decimal('1178.55'), Decimal('12307.24'))\n",
      "(20191001, 13005, 'SArima', Decimal('563.00'), Decimal('8921.00'))\n",
      "(20191101, 5795, 'LSTM', Decimal('549.75'), Decimal('6111.24'))\n",
      "(20191101, 5795, 'Prophet', Decimal('196.09'), Decimal('4743.60'))\n",
      "(20191101, 5795, 'SArima', Decimal('225.17'), Decimal('4472.98'))\n",
      "(20191101, 5795, 'Venda', Decimal('144.00'), Decimal('5773.00'))\n",
      "(20191101, 12870, 'LSTM', Decimal('244.06'), Decimal('2697.35'))\n",
      "(20191101, 12870, 'Prophet', Decimal('130.09'), Decimal('2959.23'))\n",
      "(20191101, 12870, 'SArima', Decimal('177.91'), Decimal('3228.98'))\n",
      "(20191101, 12870, 'Venda', Decimal('72.00'), Decimal('3214.00'))\n",
      "(20191101, 12886, 'LSTM', Decimal('208.34'), Decimal('2945.27'))\n",
      "(20191101, 12886, 'Prophet', Decimal('89.32'), Decimal('1864.23'))\n",
      "(20191101, 12886, 'SArima', Decimal('44.72'), Decimal('2084.20'))\n",
      "(20191101, 12886, 'Venda', Decimal('168.00'), Decimal('1469.00'))\n",
      "(20191101, 13005, 'LSTM', Decimal('1125.37'), Decimal('13084.43'))\n",
      "(20191101, 13005, 'Prophet', Decimal('511.00'), Decimal('12818.24'))\n",
      "(20191101, 13005, 'SArima', Decimal('475.00'), Decimal('9396.00'))\n",
      "(20191201, 5795, 'LSTM', Decimal('639.12'), Decimal('6750.37'))\n",
      "(20191201, 5795, 'Prophet', Decimal('877.63'), Decimal('5621.23'))\n",
      "(20191201, 5795, 'SArima', Decimal('1074.27'), Decimal('5547.25'))\n",
      "(20191201, 5795, 'Venda', Decimal('320.00'), Decimal('6093.00'))\n",
      "(20191201, 12870, 'LSTM', Decimal('244.06'), Decimal('2941.41'))\n",
      "(20191201, 12870, 'Prophet', Decimal('238.92'), Decimal('3198.15'))\n",
      "(20191201, 12870, 'SArima', Decimal('243.25'), Decimal('3472.23'))\n",
      "(20191201, 12870, 'Venda', Decimal('255.00'), Decimal('3469.00'))\n",
      "(20191201, 12886, 'LSTM', Decimal('151.73'), Decimal('3097.01'))\n",
      "(20191201, 12886, 'Prophet', Decimal('116.60'), Decimal('1980.83'))\n",
      "(20191201, 12886, 'SArima', Decimal('177.55'), Decimal('2261.75'))\n",
      "(20191201, 12886, 'Venda', Decimal('180.00'), Decimal('1649.00'))\n",
      "(20191201, 13005, 'LSTM', Decimal('3252.95'), Decimal('16337.37'))\n",
      "(20191201, 13005, 'Prophet', Decimal('1146.13'), Decimal('13964.36'))\n",
      "(20191201, 13005, 'SArima', Decimal('3278.00'), Decimal('12674.00'))\n",
      "(20200101, 5795, 'LSTM', Decimal('494.47'), Decimal('7244.84'))\n",
      "(20200101, 5795, 'Prophet', Decimal('298.88'), Decimal('5920.11'))\n",
      "(20200101, 5795, 'SArima', Decimal('7.45'), Decimal('5554.69'))\n",
      "(20200101, 5795, 'Venda', Decimal('0.00'), Decimal('0.00'))\n",
      "(20200101, 12870, 'LSTM', Decimal('243.98'), Decimal('3185.40'))\n",
      "(20200101, 12870, 'Prophet', Decimal('354.08'), Decimal('3552.23'))\n",
      "(20200101, 12870, 'SArima', Decimal('346.55'), Decimal('3818.77'))\n",
      "(20200101, 12870, 'Venda', Decimal('0.00'), Decimal('0.00'))\n",
      "(20200101, 12886, 'LSTM', Decimal('162.22'), Decimal('3259.22'))\n",
      "(20200101, 12886, 'Prophet', Decimal('238.45'), Decimal('2219.29'))\n",
      "(20200101, 12886, 'SArima', Decimal('131.61'), Decimal('2393.36'))\n",
      "(20200101, 12886, 'Venda', Decimal('0.00'), Decimal('0.00'))\n",
      "(20200201, 5795, 'LSTM', Decimal('538.12'), Decimal('7782.96'))\n",
      "(20200201, 5795, 'Prophet', Decimal('306.77'), Decimal('6226.88'))\n",
      "(20200201, 5795, 'SArima', Decimal('281.12'), Decimal('5835.81'))\n",
      "(20200201, 5795, 'Venda', Decimal('0.00'), Decimal('0.00'))\n",
      "(20200201, 12870, 'LSTM', Decimal('243.95'), Decimal('3429.35'))\n",
      "(20200201, 12870, 'Prophet', Decimal('177.51'), Decimal('3729.74'))\n",
      "(20200201, 12870, 'SArima', Decimal('122.11'), Decimal('3940.89'))\n",
      "(20200201, 12870, 'Venda', Decimal('0.00'), Decimal('0.00'))\n",
      "(20200201, 12886, 'LSTM', Decimal('147.75'), Decimal('3406.98'))\n",
      "(20200201, 12886, 'Prophet', Decimal('238.31'), Decimal('2457.60'))\n",
      "(20200201, 12886, 'SArima', Decimal('147.87'), Decimal('2541.23'))\n",
      "(20200201, 12886, 'Venda', Decimal('0.00'), Decimal('0.00'))\n",
      "(20200301, 5795, 'LSTM', Decimal('563.78'), Decimal('8346.74'))\n",
      "(20200301, 5795, 'Prophet', Decimal('638.45'), Decimal('6865.33'))\n",
      "(20200301, 5795, 'SArima', Decimal('638.03'), Decimal('6473.84'))\n",
      "(20200301, 5795, 'Venda', Decimal('0.00'), Decimal('0.00'))\n",
      "(20200301, 12870, 'LSTM', Decimal('243.94'), Decimal('3673.29'))\n",
      "(20200301, 12870, 'Prophet', Decimal('573.48'), Decimal('4303.22'))\n",
      "(20200301, 12870, 'SArima', Decimal('378.20'), Decimal('4319.08'))\n",
      "(20200301, 12870, 'Venda', Decimal('0.00'), Decimal('0.00'))\n",
      "(20200301, 12886, 'LSTM', Decimal('149.06'), Decimal('3556.04'))\n",
      "(20200301, 12886, 'Prophet', Decimal('160.92'), Decimal('2618.51'))\n",
      "(20200301, 12886, 'SArima', Decimal('211.38'), Decimal('2752.61'))\n",
      "(20200301, 12886, 'Venda', Decimal('0.00'), Decimal('0.00'))\n",
      "(20200401, 5795, 'LSTM', Decimal('507.05'), Decimal('8853.80'))\n",
      "(20200401, 5795, 'Prophet', Decimal('195.93'), Decimal('7061.26'))\n",
      "(20200401, 5795, 'SArima', Decimal('66.66'), Decimal('6540.50'))\n",
      "(20200401, 5795, 'Venda', Decimal('0.00'), Decimal('0.00'))\n",
      "(20200401, 12870, 'LSTM', Decimal('243.93'), Decimal('3917.22'))\n",
      "(20200401, 12870, 'Prophet', Decimal('296.33'), Decimal('4599.55'))\n",
      "(20200401, 12870, 'SArima', Decimal('258.16'), Decimal('4577.24'))\n",
      "(20200401, 12870, 'Venda', Decimal('0.00'), Decimal('0.00'))\n",
      "(20200401, 12886, 'LSTM', Decimal('165.32'), Decimal('3721.36'))\n",
      "(20200401, 12886, 'Prophet', Decimal('217.53'), Decimal('2836.05'))\n",
      "(20200401, 12886, 'SArima', Decimal('93.71'), Decimal('2846.31'))\n",
      "(20200401, 12886, 'Venda', Decimal('0.00'), Decimal('0.00'))\n",
      "(20200501, 5795, 'LSTM', Decimal('517.10'), Decimal('9370.90'))\n",
      "(20200501, 5795, 'Prophet', Decimal('237.21'), Decimal('7298.46'))\n",
      "(20200501, 5795, 'SArima', Decimal('172.46'), Decimal('6712.96'))\n",
      "(20200501, 5795, 'Venda', Decimal('0.00'), Decimal('0.00'))\n",
      "(20200501, 12870, 'LSTM', Decimal('243.79'), Decimal('4161.02'))\n",
      "(20200501, 12870, 'Prophet', Decimal('205.90'), Decimal('4805.45'))\n",
      "(20200501, 12870, 'SArima', Decimal('320.73'), Decimal('4897.97'))\n",
      "(20200501, 12870, 'Venda', Decimal('0.00'), Decimal('0.00'))\n",
      "(20200501, 12886, 'LSTM', Decimal('184.36'), Decimal('3905.72'))\n",
      "(20200501, 12886, 'Prophet', Decimal('171.40'), Decimal('3007.45'))\n",
      "(20200501, 12886, 'SArima', Decimal('662.00'), Decimal('3508.32'))\n",
      "(20200501, 12886, 'Venda', Decimal('0.00'), Decimal('0.00'))\n",
      "(20200601, 5795, 'LSTM', Decimal('535.22'), Decimal('9906.12'))\n",
      "(20200601, 5795, 'Prophet', Decimal('562.34'), Decimal('7860.81'))\n",
      "(20200601, 5795, 'SArima', Decimal('260.85'), Decimal('6973.80'))\n",
      "(20200601, 5795, 'Venda', Decimal('0.00'), Decimal('0.00'))\n",
      "(20200601, 12870, 'LSTM', Decimal('243.72'), Decimal('4404.74'))\n",
      "(20200601, 12870, 'Prophet', Decimal('298.02'), Decimal('5103.47'))\n",
      "(20200601, 12870, 'SArima', Decimal('345.38'), Decimal('5243.36'))\n",
      "(20200601, 12870, 'Venda', Decimal('0.00'), Decimal('0.00'))\n",
      "(20200601, 12886, 'LSTM', Decimal('307.87'), Decimal('4213.59'))\n",
      "(20200601, 12886, 'Prophet', Decimal('376.76'), Decimal('3384.21'))\n",
      "(20200601, 12886, 'SArima', Decimal('228.43'), Decimal('3736.75'))\n",
      "(20200601, 12886, 'Venda', Decimal('0.00'), Decimal('0.00'))\n",
      "(20200701, 5795, 'LSTM', Decimal('614.28'), Decimal('10520.40'))\n",
      "(20200701, 5795, 'Prophet', Decimal('607.28'), Decimal('8468.09'))\n",
      "(20200701, 5795, 'SArima', Decimal('787.16'), Decimal('7760.97'))\n",
      "(20200701, 5795, 'Venda', Decimal('0.00'), Decimal('0.00'))\n",
      "(20200701, 12870, 'LSTM', Decimal('243.66'), Decimal('4648.39'))\n",
      "(20200701, 12870, 'Prophet', Decimal('302.83'), Decimal('5406.30'))\n",
      "(20200701, 12870, 'SArima', Decimal('357.96'), Decimal('5601.31'))\n",
      "(20200701, 12870, 'Venda', Decimal('0.00'), Decimal('0.00'))\n",
      "(20200701, 12886, 'LSTM', Decimal('330.38'), Decimal('4543.97'))\n",
      "(20200701, 12886, 'Prophet', Decimal('159.91'), Decimal('3544.12'))\n",
      "(20200701, 12886, 'SArima', Decimal('251.41'), Decimal('3988.16'))\n",
      "(20200701, 12886, 'Venda', Decimal('0.00'), Decimal('0.00'))\n",
      "(20200801, 5795, 'LSTM', Decimal('518.54'), Decimal('11038.94'))\n",
      "(20200801, 5795, 'Prophet', Decimal('666.34'), Decimal('9134.43'))\n",
      "(20200801, 5795, 'SArima', Decimal('442.59'), Decimal('8203.55'))\n",
      "(20200801, 5795, 'Venda', Decimal('0.00'), Decimal('0.00'))\n",
      "(20200801, 12870, 'LSTM', Decimal('243.60'), Decimal('4891.99'))\n",
      "(20200801, 12870, 'Prophet', Decimal('351.63'), Decimal('5757.93'))\n",
      "(20200801, 12870, 'SArima', Decimal('322.15'), Decimal('5923.46'))\n",
      "(20200801, 12870, 'Venda', Decimal('0.00'), Decimal('0.00'))\n",
      "(20200801, 12886, 'LSTM', Decimal('339.39'), Decimal('4883.36'))\n",
      "(20200801, 12886, 'Prophet', Decimal('61.80'), Decimal('3605.92'))\n",
      "(20200801, 12886, 'SArima', Decimal('134.18'), Decimal('4122.34'))\n",
      "(20200801, 12886, 'Venda', Decimal('0.00'), Decimal('0.00'))\n",
      "(20200901, 5795, 'LSTM', Decimal('488.71'), Decimal('11527.65'))\n",
      "(20200901, 5795, 'Prophet', Decimal('156.78'), Decimal('9291.21'))\n",
      "(20200901, 5795, 'SArima', Decimal('154.63'), Decimal('8358.19'))\n",
      "(20200901, 5795, 'Venda', Decimal('0.00'), Decimal('0.00'))\n",
      "(20200901, 12870, 'LSTM', Decimal('243.54'), Decimal('5135.53'))\n",
      "(20200901, 12870, 'Prophet', Decimal('247.99'), Decimal('6005.92'))\n",
      "(20200901, 12870, 'SArima', Decimal('299.20'), Decimal('6222.66'))\n",
      "(20200901, 12870, 'Venda', Decimal('0.00'), Decimal('0.00'))\n",
      "(20200901, 12886, 'LSTM', Decimal('325.82'), Decimal('5209.18'))\n",
      "(20200901, 12886, 'Prophet', Decimal('134.81'), Decimal('3740.73'))\n",
      "(20200901, 12886, 'SArima', Decimal('106.69'), Decimal('4229.03'))\n",
      "(20200901, 12886, 'Venda', Decimal('0.00'), Decimal('0.00'))\n",
      "(20201001, 5795, 'LSTM', Decimal('511.49'), Decimal('12039.14'))\n",
      "(20201001, 5795, 'Prophet', Decimal('150.57'), Decimal('9441.77'))\n",
      "(20201001, 5795, 'SArima', Decimal('114.52'), Decimal('8472.71'))\n",
      "(20201001, 5795, 'Venda', Decimal('0.00'), Decimal('0.00'))\n",
      "(20201001, 12870, 'LSTM', Decimal('243.47'), Decimal('5379.00'))\n",
      "(20201001, 12870, 'Prophet', Decimal('320.26'), Decimal('6326.18'))\n",
      "(20201001, 12870, 'SArima', Decimal('300.63'), Decimal('6523.30'))\n",
      "(20201001, 12870, 'Venda', Decimal('0.00'), Decimal('0.00'))\n",
      "(20201001, 12886, 'LSTM', Decimal('289.74'), Decimal('5498.93'))\n",
      "(20201001, 12886, 'Prophet', Decimal('71.55'), Decimal('3812.28'))\n",
      "(20201001, 12886, 'SArima', Decimal('72.20'), Decimal('4301.23'))\n",
      "(20201001, 12886, 'Venda', Decimal('0.00'), Decimal('0.00'))\n",
      "(20201101, 5795, 'LSTM', Decimal('562.13'), Decimal('12601.26'))\n",
      "(20201101, 5795, 'Prophet', Decimal('624.44'), Decimal('10066.21'))\n",
      "(20201101, 5795, 'SArima', Decimal('299.17'), Decimal('8771.88'))\n",
      "(20201101, 5795, 'Venda', Decimal('0.00'), Decimal('0.00'))\n",
      "(20201101, 12870, 'LSTM', Decimal('243.44'), Decimal('5622.44'))\n",
      "(20201101, 12870, 'Prophet', Decimal('145.25'), Decimal('6471.43'))\n",
      "(20201101, 12870, 'SArima', Decimal('177.91'), Decimal('6701.20'))\n",
      "(20201101, 12870, 'Venda', Decimal('0.00'), Decimal('0.00'))\n",
      "(20201101, 12886, 'LSTM', Decimal('228.78'), Decimal('5727.71'))\n",
      "(20201101, 12886, 'Prophet', Decimal('22.15'), Decimal('3834.43'))\n",
      "(20201101, 12886, 'SArima', Decimal('44.72'), Decimal('4345.95'))\n",
      "(20201101, 12886, 'Venda', Decimal('0.00'), Decimal('0.00'))\n",
      "(20201201, 5795, 'LSTM', Decimal('675.95'), Decimal('13277.22'))\n",
      "(20201201, 5795, 'Prophet', Decimal('792.02'), Decimal('10858.23'))\n",
      "(20201201, 5795, 'SArima', Decimal('1066.81'), Decimal('9838.68'))\n",
      "(20201201, 5795, 'Venda', Decimal('0.00'), Decimal('0.00'))\n",
      "(20201201, 12870, 'LSTM', Decimal('243.43'), Decimal('5865.87'))\n",
      "(20201201, 12870, 'Prophet', Decimal('196.87'), Decimal('6668.31'))\n",
      "(20201201, 12870, 'SArima', Decimal('243.25'), Decimal('6944.45'))\n",
      "(20201201, 12870, 'Venda', Decimal('0.00'), Decimal('0.00'))\n",
      "(20201201, 12886, 'LSTM', Decimal('161.71'), Decimal('5889.42'))\n",
      "(20201201, 12886, 'Prophet', Decimal('286.89'), Decimal('4121.32'))\n",
      "(20201201, 12886, 'SArima', Decimal('177.55'), Decimal('4523.50'))\n",
      "(20201201, 12886, 'Venda', Decimal('0.00'), Decimal('0.00'))\n"
     ]
    }
   ],
   "source": [
    "#Grava dados no MySQL\n",
    "try:\n",
    "    # Connect to the database\n",
    "    connection = mysql.connector.connect(host='localhost',\n",
    "                                         database='projeto',\n",
    "                                         user='root',\n",
    "                                         password='12345678')\n",
    "\n",
    "    cursor = connection.cursor()\n",
    "\n",
    "    # Create a new record\n",
    "    query = \" DELETE FROM projeto.fato_predicao WHERE sk_protudo = \" + produto_proc\n",
    "\n",
    "    cursor.execute(query)\n",
    "\n",
    "    # connection is not autocommit by default. So we must commit to save our changes.\n",
    "    connection.commit()\n",
    "\n",
    "    # Create a new record\n",
    "    #query = \"\"\"INSERT INTO projeto.fato_predicao (sk_tempo, sk_protudo, qtd_predicao, qtd_acumula) VALUES(%s, %s, %s, %s) ON DUPLICATE KEY UPDATE qtd_predicao=%s, qtd_acumula=%s\"\"\"\n",
    "    #cursor.execute(query, (df_export.sk_tempo[i], df_export.sk_protudo[i], df_export.PROPHET[i], df_export.Ac_PROPHET[i], df_export.PROPHET[i], df_export.Ac_PROPHET[i]))\n",
    "\n",
    "    query = \"\"\"INSERT INTO projeto.fato_predicao (sk_tempo, sk_protudo, no_modelo, qtd_predicao, qtd_acumula) VALUES(%s, %s, %s, %s, %s) ON DUPLICATE KEY UPDATE qtd_predicao=%s, qtd_acumula=%s\"\"\"\n",
    "    \n",
    "    for index, row in df_export.iterrows():\n",
    "        #Grava dados da Venda Realizada\n",
    "        cModelo = 'Venda'\n",
    "        nQtdInsert = row['qtd_venda'].item() \n",
    "        nAcmInsert = row['acm_venda'].item()\n",
    "        \n",
    "        cursor.execute(query, (row['sk_tempo'].item(), row['sk_protudo'].item(), cModelo, nQtdInsert, nAcmInsert, nQtdInsert, nAcmInsert))       \n",
    "\n",
    "        #Grava dados PROPHET\n",
    "        cModelo = 'Prophet'\n",
    "        nQtdInsert = row['qtd_prophet'].item() \n",
    "        nAcmInsert = row['acm_prophet'].item()\n",
    "        \n",
    "        cursor.execute(query, (row['sk_tempo'].item(), row['sk_protudo'].item(), cModelo, nQtdInsert, nAcmInsert, nQtdInsert, nAcmInsert))       \n",
    "\n",
    "        #Grava dados SArima        \n",
    "        cModelo = 'SArima'\n",
    "        nQtdInsert = row['qtd_sarima'].item() \n",
    "        nAcmInsert = row['acm_sarima'].item()\n",
    "        \n",
    "        cursor.execute(query, (row['sk_tempo'].item(), row['sk_protudo'].item(), cModelo, nQtdInsert, nAcmInsert, nQtdInsert, nAcmInsert))       \n",
    "\n",
    "        #Grava dados LSTM        \n",
    "        cModelo = 'LSTM'\n",
    "        nQtdInsert = row['qtd_lstm'].item() \n",
    "        nAcmInsert = row['acm_lstm'].item()\n",
    "        \n",
    "        cursor.execute(query, (row['sk_tempo'].item(), row['sk_protudo'].item(), cModelo, nQtdInsert, nAcmInsert, nQtdInsert, nAcmInsert))       \n",
    "\n",
    "    # connection is not autocommit by default. So we must commit to save our changes.\n",
    "    connection.commit()\n",
    "\n",
    "    # Execute query\n",
    "    sql = \"SELECT * FROM projeto.fato_predicao\"\n",
    "    \n",
    "    cursor.execute(sql)\n",
    "    \n",
    "    # Fetch all the records\n",
    "    result = cursor.fetchall()\n",
    "    \n",
    "    for i in result:\n",
    "        print(i)\n",
    "\n",
    "finally:\n",
    "    # close the database connection using close() method.\n",
    "    connection.close()"
   ]
  },
  {
   "cell_type": "code",
   "execution_count": null,
   "metadata": {},
   "outputs": [],
   "source": []
  }
 ],
 "metadata": {
  "colab": {
   "authorship_tag": "ABX9TyPyUqI1rQJt6rqtTenTltJQ",
   "collapsed_sections": [],
   "name": "python-time-series-modelos.ipynb",
   "provenance": []
  },
  "kernelspec": {
   "display_name": "Python 3",
   "language": "python",
   "name": "python3"
  },
  "language_info": {
   "codemirror_mode": {
    "name": "ipython",
    "version": 3
   },
   "file_extension": ".py",
   "mimetype": "text/x-python",
   "name": "python",
   "nbconvert_exporter": "python",
   "pygments_lexer": "ipython3",
   "version": "3.8.3"
  }
 },
 "nbformat": 4,
 "nbformat_minor": 4
}
