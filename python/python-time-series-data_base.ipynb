{
 "cells": [
  {
   "cell_type": "code",
   "execution_count": 1,
   "metadata": {
    "colab": {
     "base_uri": "https://localhost:8080/"
    },
    "executionInfo": {
     "elapsed": 5889,
     "status": "ok",
     "timestamp": 1611535790283,
     "user": {
      "displayName": "Rafael de Miranda da Costa Leite",
      "photoUrl": "https://lh3.googleusercontent.com/a-/AOh14Gj-3rbInttHw_wvyiLPSmYAdgOUmDm2bFbC-AEvbw=s64",
      "userId": "02906791875441644303"
     },
     "user_tz": 180
    },
    "id": "UuLK8aBwJgzT",
    "outputId": "f61d5bc7-82fb-45f7-9c7c-539039a08957"
   },
   "outputs": [
    {
     "name": "stdout",
     "output_type": "stream",
     "text": [
      "Requirement already satisfied: pmdarima in /home/rafael/Apps/anaconda3/lib/python3.8/site-packages (1.8.0)\n",
      "Requirement already satisfied: urllib3 in /home/rafael/Apps/anaconda3/lib/python3.8/site-packages (from pmdarima) (1.25.9)\n",
      "Requirement already satisfied: Cython<0.29.18,>=0.29 in /home/rafael/Apps/anaconda3/lib/python3.8/site-packages (from pmdarima) (0.29.17)\n",
      "Requirement already satisfied: numpy>=1.17.3 in /home/rafael/Apps/anaconda3/lib/python3.8/site-packages (from pmdarima) (1.19.5)\n",
      "Requirement already satisfied: setuptools!=50.0.0,>=38.6.0 in /home/rafael/Apps/anaconda3/lib/python3.8/site-packages (from pmdarima) (49.2.0.post20200714)\n",
      "Requirement already satisfied: joblib>=0.11 in /home/rafael/Apps/anaconda3/lib/python3.8/site-packages (from pmdarima) (0.16.0)\n",
      "Requirement already satisfied: pandas>=0.19 in /home/rafael/Apps/anaconda3/lib/python3.8/site-packages (from pmdarima) (1.0.5)\n",
      "Requirement already satisfied: scipy>=1.3.2 in /home/rafael/Apps/anaconda3/lib/python3.8/site-packages (from pmdarima) (1.5.0)\n",
      "Requirement already satisfied: scikit-learn>=0.22 in /home/rafael/Apps/anaconda3/lib/python3.8/site-packages (from pmdarima) (0.23.1)\n",
      "Requirement already satisfied: statsmodels!=0.12.0,>=0.11 in /home/rafael/Apps/anaconda3/lib/python3.8/site-packages (from pmdarima) (0.11.1)\n",
      "Requirement already satisfied: python-dateutil>=2.6.1 in /home/rafael/Apps/anaconda3/lib/python3.8/site-packages (from pandas>=0.19->pmdarima) (2.8.1)\n",
      "Requirement already satisfied: pytz>=2017.2 in /home/rafael/Apps/anaconda3/lib/python3.8/site-packages (from pandas>=0.19->pmdarima) (2019.3)\n",
      "Requirement already satisfied: six>=1.5 in /home/rafael/Apps/anaconda3/lib/python3.8/site-packages (from python-dateutil>=2.6.1->pandas>=0.19->pmdarima) (1.15.0)\n",
      "Requirement already satisfied: threadpoolctl>=2.0.0 in /home/rafael/Apps/anaconda3/lib/python3.8/site-packages (from scikit-learn>=0.22->pmdarima) (2.1.0)\n",
      "Requirement already satisfied: patsy>=0.5 in /home/rafael/Apps/anaconda3/lib/python3.8/site-packages (from statsmodels!=0.12.0,>=0.11->pmdarima) (0.5.1)\n",
      "\u001b[33mWARNING: You are using pip version 21.0.1; however, version 21.1 is available.\n",
      "You should consider upgrading via the '/home/rafael/Apps/anaconda3/bin/python -m pip install --upgrade pip' command.\u001b[0m\n",
      "Requirement already satisfied: mysql-connector-python in /home/rafael/Apps/anaconda3/lib/python3.8/site-packages (8.0.23)\n",
      "Requirement already satisfied: protobuf>=3.0.0 in /home/rafael/Apps/anaconda3/lib/python3.8/site-packages (from mysql-connector-python) (3.15.5)\n",
      "Requirement already satisfied: six>=1.9 in /home/rafael/Apps/anaconda3/lib/python3.8/site-packages (from protobuf>=3.0.0->mysql-connector-python) (1.15.0)\n",
      "\u001b[33mWARNING: You are using pip version 21.0.1; however, version 21.1 is available.\n",
      "You should consider upgrading via the '/home/rafael/Apps/anaconda3/bin/python -m pip install --upgrade pip' command.\u001b[0m\n",
      "Requirement already satisfied: keras in /home/rafael/Apps/anaconda3/lib/python3.8/site-packages (2.4.3)\n",
      "Requirement already satisfied: numpy>=1.9.1 in /home/rafael/Apps/anaconda3/lib/python3.8/site-packages (from keras) (1.19.5)\n",
      "Requirement already satisfied: h5py in /home/rafael/Apps/anaconda3/lib/python3.8/site-packages (from keras) (2.10.0)\n",
      "Requirement already satisfied: pyyaml in /home/rafael/Apps/anaconda3/lib/python3.8/site-packages (from keras) (5.3.1)\n",
      "Requirement already satisfied: scipy>=0.14 in /home/rafael/Apps/anaconda3/lib/python3.8/site-packages (from keras) (1.5.0)\n",
      "Requirement already satisfied: six in /home/rafael/Apps/anaconda3/lib/python3.8/site-packages (from h5py->keras) (1.15.0)\n",
      "\u001b[33mWARNING: You are using pip version 21.0.1; however, version 21.1 is available.\n",
      "You should consider upgrading via the '/home/rafael/Apps/anaconda3/bin/python -m pip install --upgrade pip' command.\u001b[0m\n",
      "Requirement already satisfied: tensorflow in /home/rafael/Apps/anaconda3/lib/python3.8/site-packages (2.4.1)\n",
      "Requirement already satisfied: six~=1.15.0 in /home/rafael/Apps/anaconda3/lib/python3.8/site-packages (from tensorflow) (1.15.0)\n",
      "Requirement already satisfied: h5py~=2.10.0 in /home/rafael/Apps/anaconda3/lib/python3.8/site-packages (from tensorflow) (2.10.0)\n",
      "Requirement already satisfied: protobuf>=3.9.2 in /home/rafael/Apps/anaconda3/lib/python3.8/site-packages (from tensorflow) (3.15.5)\n",
      "Requirement already satisfied: typing-extensions~=3.7.4 in /home/rafael/Apps/anaconda3/lib/python3.8/site-packages (from tensorflow) (3.7.4.2)\n",
      "Requirement already satisfied: gast==0.3.3 in /home/rafael/Apps/anaconda3/lib/python3.8/site-packages (from tensorflow) (0.3.3)\n",
      "Requirement already satisfied: astunparse~=1.6.3 in /home/rafael/Apps/anaconda3/lib/python3.8/site-packages (from tensorflow) (1.6.3)\n",
      "Requirement already satisfied: tensorflow-estimator<2.5.0,>=2.4.0 in /home/rafael/Apps/anaconda3/lib/python3.8/site-packages (from tensorflow) (2.4.0)\n",
      "Requirement already satisfied: opt-einsum~=3.3.0 in /home/rafael/Apps/anaconda3/lib/python3.8/site-packages (from tensorflow) (3.3.0)\n",
      "Requirement already satisfied: wrapt~=1.12.1 in /home/rafael/Apps/anaconda3/lib/python3.8/site-packages (from tensorflow) (1.12.1)\n",
      "Requirement already satisfied: google-pasta~=0.2 in /home/rafael/Apps/anaconda3/lib/python3.8/site-packages (from tensorflow) (0.2.0)\n",
      "Requirement already satisfied: tensorboard~=2.4 in /home/rafael/Apps/anaconda3/lib/python3.8/site-packages (from tensorflow) (2.4.1)\n",
      "Requirement already satisfied: grpcio~=1.32.0 in /home/rafael/Apps/anaconda3/lib/python3.8/site-packages (from tensorflow) (1.32.0)\n",
      "Requirement already satisfied: numpy~=1.19.2 in /home/rafael/Apps/anaconda3/lib/python3.8/site-packages (from tensorflow) (1.19.5)\n",
      "Requirement already satisfied: termcolor~=1.1.0 in /home/rafael/Apps/anaconda3/lib/python3.8/site-packages (from tensorflow) (1.1.0)\n",
      "Requirement already satisfied: keras-preprocessing~=1.1.2 in /home/rafael/Apps/anaconda3/lib/python3.8/site-packages (from tensorflow) (1.1.2)\n",
      "Requirement already satisfied: wheel~=0.35 in /home/rafael/Apps/anaconda3/lib/python3.8/site-packages (from tensorflow) (0.36.2)\n",
      "Requirement already satisfied: absl-py~=0.10 in /home/rafael/Apps/anaconda3/lib/python3.8/site-packages (from tensorflow) (0.12.0)\n",
      "Requirement already satisfied: flatbuffers~=1.12.0 in /home/rafael/Apps/anaconda3/lib/python3.8/site-packages (from tensorflow) (1.12)\n",
      "Requirement already satisfied: setuptools>=41.0.0 in /home/rafael/Apps/anaconda3/lib/python3.8/site-packages (from tensorboard~=2.4->tensorflow) (49.2.0.post20200714)\n",
      "Requirement already satisfied: markdown>=2.6.8 in /home/rafael/Apps/anaconda3/lib/python3.8/site-packages (from tensorboard~=2.4->tensorflow) (3.3.4)\n",
      "Requirement already satisfied: werkzeug>=0.11.15 in /home/rafael/Apps/anaconda3/lib/python3.8/site-packages (from tensorboard~=2.4->tensorflow) (1.0.1)\n",
      "Requirement already satisfied: tensorboard-plugin-wit>=1.6.0 in /home/rafael/Apps/anaconda3/lib/python3.8/site-packages (from tensorboard~=2.4->tensorflow) (1.8.0)\n",
      "Requirement already satisfied: google-auth<2,>=1.6.3 in /home/rafael/Apps/anaconda3/lib/python3.8/site-packages (from tensorboard~=2.4->tensorflow) (1.28.0)\n",
      "Requirement already satisfied: requests<3,>=2.21.0 in /home/rafael/Apps/anaconda3/lib/python3.8/site-packages (from tensorboard~=2.4->tensorflow) (2.24.0)\n",
      "Requirement already satisfied: google-auth-oauthlib<0.5,>=0.4.1 in /home/rafael/Apps/anaconda3/lib/python3.8/site-packages (from tensorboard~=2.4->tensorflow) (0.4.4)\n",
      "Requirement already satisfied: pyasn1-modules>=0.2.1 in /home/rafael/Apps/anaconda3/lib/python3.8/site-packages (from google-auth<2,>=1.6.3->tensorboard~=2.4->tensorflow) (0.2.8)\n",
      "Requirement already satisfied: rsa<5,>=3.1.4 in /home/rafael/Apps/anaconda3/lib/python3.8/site-packages (from google-auth<2,>=1.6.3->tensorboard~=2.4->tensorflow) (4.7.2)\n",
      "Requirement already satisfied: cachetools<5.0,>=2.0.0 in /home/rafael/Apps/anaconda3/lib/python3.8/site-packages (from google-auth<2,>=1.6.3->tensorboard~=2.4->tensorflow) (4.2.1)\n",
      "Requirement already satisfied: requests-oauthlib>=0.7.0 in /home/rafael/Apps/anaconda3/lib/python3.8/site-packages (from google-auth-oauthlib<0.5,>=0.4.1->tensorboard~=2.4->tensorflow) (1.3.0)\n",
      "Requirement already satisfied: pyasn1<0.5.0,>=0.4.6 in /home/rafael/Apps/anaconda3/lib/python3.8/site-packages (from pyasn1-modules>=0.2.1->google-auth<2,>=1.6.3->tensorboard~=2.4->tensorflow) (0.4.8)\n",
      "Requirement already satisfied: idna<3,>=2.5 in /home/rafael/Apps/anaconda3/lib/python3.8/site-packages (from requests<3,>=2.21.0->tensorboard~=2.4->tensorflow) (2.10)\n",
      "Requirement already satisfied: certifi>=2017.4.17 in /home/rafael/Apps/anaconda3/lib/python3.8/site-packages (from requests<3,>=2.21.0->tensorboard~=2.4->tensorflow) (2020.6.20)\n",
      "Requirement already satisfied: chardet<4,>=3.0.2 in /home/rafael/Apps/anaconda3/lib/python3.8/site-packages (from requests<3,>=2.21.0->tensorboard~=2.4->tensorflow) (3.0.4)\n",
      "Requirement already satisfied: urllib3!=1.25.0,!=1.25.1,<1.26,>=1.21.1 in /home/rafael/Apps/anaconda3/lib/python3.8/site-packages (from requests<3,>=2.21.0->tensorboard~=2.4->tensorflow) (1.25.9)\n",
      "Requirement already satisfied: oauthlib>=3.0.0 in /home/rafael/Apps/anaconda3/lib/python3.8/site-packages (from requests-oauthlib>=0.7.0->google-auth-oauthlib<0.5,>=0.4.1->tensorboard~=2.4->tensorflow) (3.1.0)\n",
      "\u001b[33mWARNING: You are using pip version 21.0.1; however, version 21.1 is available.\n",
      "You should consider upgrading via the '/home/rafael/Apps/anaconda3/bin/python -m pip install --upgrade pip' command.\u001b[0m\n"
     ]
    }
   ],
   "source": [
    "#instalação de pacotes\n",
    "#!pip3 install pyramid-arima\n",
    "!pip install pmdarima\n",
    "!pip install mysql-connector-python\n",
    "!pip install keras\n",
    "!pip install tensorflow"
   ]
  },
  {
   "cell_type": "code",
   "execution_count": 2,
   "metadata": {
    "executionInfo": {
     "elapsed": 5882,
     "status": "ok",
     "timestamp": 1611535790285,
     "user": {
      "displayName": "Rafael de Miranda da Costa Leite",
      "photoUrl": "https://lh3.googleusercontent.com/a-/AOh14Gj-3rbInttHw_wvyiLPSmYAdgOUmDm2bFbC-AEvbw=s64",
      "userId": "02906791875441644303"
     },
     "user_tz": 180
    },
    "id": "MyI1os5XJlqv"
   },
   "outputs": [],
   "source": [
    "#from statsmodels.tsa.stattools import adfuller\n",
    "#from numpy import log\n",
    "#from statsmodels.graphics.tsaplots import plot_acf, plot_pacf\n"
   ]
  },
  {
   "cell_type": "markdown",
   "metadata": {
    "id": "oSiipM3hu9Qu"
   },
   "source": [
    "# Importa dados"
   ]
  },
  {
   "cell_type": "code",
   "execution_count": 8,
   "metadata": {},
   "outputs": [
    {
     "name": "stdout",
     "output_type": "stream",
     "text": [
      "MySQL connection is closed\n",
      "<class 'pandas.core.frame.DataFrame'>\n",
      "RangeIndex: 3522 entries, 0 to 3521\n",
      "Data columns (total 3 columns):\n",
      " #   Column  Non-Null Count  Dtype \n",
      "---  ------  --------------  ----- \n",
      " 0   0       3522 non-null   object\n",
      " 1   1       3522 non-null   object\n",
      " 2   2       3522 non-null   int64 \n",
      "dtypes: int64(1), object(2)\n",
      "memory usage: 82.7+ KB\n"
     ]
    }
   ],
   "source": [
    "\n",
    "import numpy as np\n",
    "import pandas as pd\n",
    "import mysql.connector\n",
    "\n",
    "#Conecta com banco MySQL\n",
    "try:\n",
    "    connection = mysql.connector.connect(host='localhost',\n",
    "                                         database='projeto',\n",
    "                                         user='root',\n",
    "                                         password='12345678')\n",
    "\n",
    "    produto_proc = \"5795\"\n",
    "    \n",
    "    sql_select_Query = \" select ds_data_sem_hora \\\n",
    "                        ,isbn_produto \\\n",
    "                        ,qtd_venda  \\\n",
    "                        from fato_venda as ft \\\n",
    "                        , dim_tempo as tp \\\n",
    "                        , dim_produto as pd \\\n",
    "                        where tp.sk_tempo = ft.sk_tempo \\\n",
    "                        and pd.sk_produto = ft.sk_protudo \\\n",
    "                        and pd.sk_produto = \" + produto_proc \n",
    "    \n",
    "    cursor = connection.cursor()\n",
    "    cursor.execute(sql_select_Query)\n",
    "    \n",
    "    #carrega dados\n",
    "    records = cursor.fetchall()\n",
    "\n",
    "    data_sql = pd.DataFrame(records)\n",
    "\n",
    "except mysql.connector.Error as e:\n",
    "    print(\"Error reading data from MySQL table\", e)\n",
    "finally:\n",
    "    if connection.is_connected():\n",
    "        connection.close()\n",
    "        cursor.close()\n",
    "        print(\"MySQL connection is closed\")\n",
    "        \n",
    "data_sql.info()"
   ]
  },
  {
   "cell_type": "code",
   "execution_count": 9,
   "metadata": {},
   "outputs": [],
   "source": [
    "#ajusta dados para a predição\n",
    "df1 = data_sql\n",
    "\n",
    "#adiciona nome nas colunas\n",
    "df1 = df1.rename(columns={0: \"date\",1:\"isbn\", 2: \"value\"})\n",
    "\n",
    "#transforma para datetime\n",
    "df1[\"date\"] = pd.to_datetime(df1[\"date\"])\n",
    "\n",
    "#ordena\n",
    "df1 = df1.sort_values('date')\n",
    "\n",
    "#soma quantidade em datas iguais\n",
    "df1 = df1.groupby('date')['value'].sum().reset_index()\n",
    "\n",
    "#transforma a data em indice\n",
    "df1 = df1.set_index('date')\n",
    "\n",
    "#agrupa na soma do mês\n",
    "df1 = df1['value'].resample('MS').sum()"
   ]
  },
  {
   "cell_type": "markdown",
   "metadata": {
    "id": "g18_JT40vAcC"
   },
   "source": [
    "# Analisa os dados"
   ]
  },
  {
   "cell_type": "code",
   "execution_count": 10,
   "metadata": {
    "colab": {
     "base_uri": "https://localhost:8080/",
     "height": 297
    },
    "executionInfo": {
     "elapsed": 7781,
     "status": "ok",
     "timestamp": 1611535792205,
     "user": {
      "displayName": "Rafael de Miranda da Costa Leite",
      "photoUrl": "https://lh3.googleusercontent.com/a-/AOh14Gj-3rbInttHw_wvyiLPSmYAdgOUmDm2bFbC-AEvbw=s64",
      "userId": "02906791875441644303"
     },
     "user_tz": 180
    },
    "id": "acpRaZR3Ie85",
    "outputId": "fc2a04c4-e0e1-4ed4-834c-4fc21e15eb08"
   },
   "outputs": [
    {
     "data": {
      "image/png": "[encoded data removed]",
      "text/plain": [
       "<Figure size 432x288 with 4 Axes>"
      ]
     },
     "metadata": {
      "needs_background": "light"
     },
     "output_type": "display_data"
    }
   ],
   "source": [
    "from pylab import rcParams\n",
    "from statsmodels.tsa.seasonal import seasonal_decompose\n",
    "import statsmodels.api as sm\n",
    "import matplotlib.pyplot as plt\n",
    "\n",
    "a = seasonal_decompose(df1, model = \"add\")\n",
    "a.plot();"
   ]
  },
  {
   "cell_type": "code",
   "execution_count": 11,
   "metadata": {
    "colab": {
     "base_uri": "https://localhost:8080/",
     "height": 406
    },
    "executionInfo": {
     "elapsed": 7765,
     "status": "ok",
     "timestamp": 1611535792206,
     "user": {
      "displayName": "Rafael de Miranda da Costa Leite",
      "photoUrl": "https://lh3.googleusercontent.com/a-/AOh14Gj-3rbInttHw_wvyiLPSmYAdgOUmDm2bFbC-AEvbw=s64",
      "userId": "02906791875441644303"
     },
     "user_tz": 180
    },
    "id": "pnToCXWA-DBM",
    "outputId": "ccf7f152-755f-4d64-d126-e986aac771a7"
   },
   "outputs": [
    {
     "data": {
      "text/plain": [
       "<matplotlib.axes._subplots.AxesSubplot at 0x7f26395f52e0>"
      ]
     },
     "execution_count": 11,
     "metadata": {},
     "output_type": "execute_result"
    },
    {
     "data": {
      "image/png": "[encoded data removed]",
      "text/plain": [
       "<Figure size 864x360 with 1 Axes>"
      ]
     },
     "metadata": {
      "needs_background": "light"
     },
     "output_type": "display_data"
    }
   ],
   "source": [
    "#Boxplot\n",
    "import seaborn\n",
    "\n",
    "fig, ax = plt.subplots(figsize=(12,5))\n",
    "seaborn.boxplot(df1, ax=ax)"
   ]
  },
  {
   "cell_type": "markdown",
   "metadata": {},
   "source": [
    "Ajuste dados"
   ]
  },
  {
   "cell_type": "code",
   "execution_count": 12,
   "metadata": {},
   "outputs": [
    {
     "data": {
      "text/plain": [
       "date\n",
       "2015-01-01       NaN\n",
       "2015-02-01       NaN\n",
       "2015-03-01       NaN\n",
       "2015-04-01       NaN\n",
       "2015-05-01       NaN\n",
       "2015-06-01       NaN\n",
       "2015-07-01       NaN\n",
       "2015-08-01       NaN\n",
       "2015-09-01    1616.0\n",
       "2015-10-01       NaN\n",
       "2015-11-01       NaN\n",
       "2015-12-01       NaN\n",
       "2016-01-01       NaN\n",
       "2016-02-01       NaN\n",
       "2016-03-01       NaN\n",
       "2016-04-01       NaN\n",
       "2016-05-01       NaN\n",
       "2016-06-01       NaN\n",
       "2016-07-01       NaN\n",
       "2016-08-01       NaN\n",
       "2016-09-01       NaN\n",
       "2016-10-01       NaN\n",
       "2016-11-01       NaN\n",
       "2016-12-01       NaN\n",
       "2017-01-01       NaN\n",
       "2017-02-01       NaN\n",
       "2017-03-01       NaN\n",
       "2017-04-01       NaN\n",
       "2017-05-01       NaN\n",
       "2017-06-01       NaN\n",
       "2017-07-01       NaN\n",
       "2017-08-01       NaN\n",
       "2017-09-01       NaN\n",
       "2017-10-01       NaN\n",
       "2017-11-01       NaN\n",
       "2017-12-01       NaN\n",
       "2018-01-01       NaN\n",
       "2018-02-01       NaN\n",
       "2018-03-01       NaN\n",
       "2018-04-01       NaN\n",
       "2018-05-01       NaN\n",
       "2018-06-01       NaN\n",
       "2018-07-01       NaN\n",
       "2018-08-01       NaN\n",
       "2018-09-01       NaN\n",
       "2018-10-01       NaN\n",
       "2018-11-01       NaN\n",
       "2018-12-01       NaN\n",
       "2019-01-01       NaN\n",
       "2019-02-01       NaN\n",
       "2019-03-01       NaN\n",
       "2019-04-01       NaN\n",
       "2019-05-01       NaN\n",
       "2019-06-01       NaN\n",
       "2019-07-01       NaN\n",
       "2019-08-01       NaN\n",
       "2019-09-01       NaN\n",
       "2019-10-01       NaN\n",
       "2019-11-01       NaN\n",
       "2019-12-01       NaN\n",
       "Freq: MS, Name: value, dtype: float64"
      ]
     },
     "execution_count": 12,
     "metadata": {},
     "output_type": "execute_result"
    }
   ],
   "source": [
    "#Trata outliers manualmente\n",
    "df1.where(df1>1400)"
   ]
  },
  {
   "cell_type": "code",
   "execution_count": 18,
   "metadata": {},
   "outputs": [
    {
     "data": {
      "text/plain": [
       "count      60.000000\n",
       "mean      575.783333\n",
       "std       324.609862\n",
       "min       100.000000\n",
       "25%       330.500000\n",
       "50%       524.000000\n",
       "75%       742.250000\n",
       "max      1309.000000\n",
       "Name: value, dtype: float64"
      ]
     },
     "execution_count": 18,
     "metadata": {},
     "output_type": "execute_result"
    }
   ],
   "source": [
    "df1.describe()"
   ]
  },
  {
   "cell_type": "code",
   "execution_count": 19,
   "metadata": {},
   "outputs": [],
   "source": [
    "df1['2015-09-01'] = int(df1.mean())"
   ]
  },
  {
   "cell_type": "code",
   "execution_count": 20,
   "metadata": {},
   "outputs": [],
   "source": [
    "#df1['2017-03-01'] = 291"
   ]
  },
  {
   "cell_type": "code",
   "execution_count": 21,
   "metadata": {},
   "outputs": [
    {
     "data": {
      "text/plain": [
       "<matplotlib.axes._subplots.AxesSubplot at 0x7f26396fdee0>"
      ]
     },
     "execution_count": 21,
     "metadata": {},
     "output_type": "execute_result"
    },
    {
     "data": {
      "image/png": "[encoded data removed]",
      "text/plain": [
       "<Figure size 864x360 with 1 Axes>"
      ]
     },
     "metadata": {
      "needs_background": "light"
     },
     "output_type": "display_data"
    }
   ],
   "source": [
    "#Boxplot\n",
    "import seaborn\n",
    "\n",
    "fig, ax = plt.subplots(figsize=(12,5))\n",
    "seaborn.boxplot(df1, ax=ax)"
   ]
  },
  {
   "cell_type": "code",
   "execution_count": 22,
   "metadata": {},
   "outputs": [],
   "source": [
    "#Separa dados\n",
    "train = df1.iloc[:len(df1)-12]\n",
    "test = df1.iloc[len(df1)-12:]\n",
    "\n",
    "#Períodos de predição\n",
    "n_periods = 24"
   ]
  },
  {
   "cell_type": "code",
   "execution_count": 23,
   "metadata": {
    "colab": {
     "base_uri": "https://localhost:8080/",
     "height": 334
    },
    "executionInfo": {
     "elapsed": 8059,
     "status": "ok",
     "timestamp": 1611535792513,
     "user": {
      "displayName": "Rafael de Miranda da Costa Leite",
      "photoUrl": "https://lh3.googleusercontent.com/a-/AOh14Gj-3rbInttHw_wvyiLPSmYAdgOUmDm2bFbC-AEvbw=s64",
      "userId": "02906791875441644303"
     },
     "user_tz": 180
    },
    "id": "D7OJspOhAHfg",
    "outputId": "107ed0f6-d3bf-4050-ab93-b06dafaf394b"
   },
   "outputs": [
    {
     "data": {
      "image/png": "[encoded data removed]",
      "text/plain": [
       "<Figure size 432x288 with 1 Axes>"
      ]
     },
     "metadata": {
      "needs_background": "light"
     },
     "output_type": "display_data"
    }
   ],
   "source": [
    "#Histograma\n",
    "seaborn.distplot(df1, hist=True, kde=True, \n",
    "             bins=5, color = 'darkblue', \n",
    "             hist_kws={'edgecolor':'black'},\n",
    "             kde_kws={'linewidth': 3});"
   ]
  },
  {
   "cell_type": "code",
   "execution_count": 24,
   "metadata": {
    "colab": {
     "base_uri": "https://localhost:8080/",
     "height": 297
    },
    "executionInfo": {
     "elapsed": 8760,
     "status": "ok",
     "timestamp": 1611535793221,
     "user": {
      "displayName": "Rafael de Miranda da Costa Leite",
      "photoUrl": "https://lh3.googleusercontent.com/a-/AOh14Gj-3rbInttHw_wvyiLPSmYAdgOUmDm2bFbC-AEvbw=s64",
      "userId": "02906791875441644303"
     },
     "user_tz": 180
    },
    "id": "1l0N5nt2CWZk",
    "outputId": "2ea8e0e3-ce06-427b-8f24-63610d99c0f4"
   },
   "outputs": [
    {
     "data": {
      "image/png": "[encoded data removed]",
      "text/plain": [
       "<Figure size 432x288 with 4 Axes>"
      ]
     },
     "metadata": {
      "needs_background": "light"
     },
     "output_type": "display_data"
    }
   ],
   "source": [
    "for i, binwidth in enumerate([5, 10, 15, 20]):\n",
    "    \n",
    "    # Set up the plot\n",
    "    ax = plt.subplot(2, 2, i + 1)\n",
    "    \n",
    "    # Draw the plot\n",
    "    ax.hist(df1, bins = binwidth, color = 'blue', edgecolor = 'black')\n",
    "    \n",
    "    # Title and labels\n",
    "    ax.set_title('Histogram with Binwidth = %d' % binwidth, size = 15)\n",
    "    ax.set_xlabel('Quantidade', size = 15)\n",
    "    ax.set_ylabel('Ocorrências', size= 15)\n",
    "\n",
    "plt.tight_layout()\n",
    "plt.show()"
   ]
  },
  {
   "cell_type": "markdown",
   "metadata": {
    "id": "5GUR1JwAGBrK"
   },
   "source": [
    "# Modelos"
   ]
  },
  {
   "cell_type": "markdown",
   "metadata": {
    "id": "a_TDvkyHvKY3"
   },
   "source": [
    "Modelo Auto ARIMA"
   ]
  },
  {
   "cell_type": "code",
   "execution_count": 25,
   "metadata": {
    "colab": {
     "base_uri": "https://localhost:8080/"
    },
    "executionInfo": {
     "elapsed": 19470,
     "status": "ok",
     "timestamp": 1611535803937,
     "user": {
      "displayName": "Rafael de Miranda da Costa Leite",
      "photoUrl": "https://lh3.googleusercontent.com/a-/AOh14Gj-3rbInttHw_wvyiLPSmYAdgOUmDm2bFbC-AEvbw=s64",
      "userId": "02906791875441644303"
     },
     "user_tz": 180
    },
    "id": "dCNRCC5zKeEj",
    "outputId": "a3e2195b-2849-4311-8eb7-2626f4097665"
   },
   "outputs": [
    {
     "data": {
      "text/plain": [
       "ARIMA(order=(0, 0, 0), scoring_args={}, seasonal_order=(1, 1, 1, 12),\n",
       "      suppress_warnings=True)"
      ]
     },
     "execution_count": 25,
     "metadata": {},
     "output_type": "execute_result"
    }
   ],
   "source": [
    "import pmdarima as pm\n",
    "\n",
    "#Fit modelo auto-arima\n",
    "fitSArima = pm.auto_arima(df1, start_p=1, start_q=1,\n",
    "                         max_p=3, max_q=3, m=12,\n",
    "                         start_P=0, seasonal=True,\n",
    "                         d=None, D=1, trace=False,\n",
    "                         error_action='ignore',  \n",
    "                         suppress_warnings=True, \n",
    "                         stepwise=True)\n",
    "\n",
    "#test='adf',\n",
    "\n",
    "#fitSArima = pm.auto_arima(df1, seasonal=True, m=12,max_p=7, max_d=5,max_q=7, max_P=4, max_D=4,max_Q=4) \n",
    "\n",
    "fitSArima.fit(train)"
   ]
  },
  {
   "cell_type": "code",
   "execution_count": 26,
   "metadata": {
    "colab": {
     "base_uri": "https://localhost:8080/",
     "height": 420
    },
    "executionInfo": {
     "elapsed": 29797,
     "status": "ok",
     "timestamp": 1611535814270,
     "user": {
      "displayName": "Rafael de Miranda da Costa Leite",
      "photoUrl": "https://lh3.googleusercontent.com/a-/AOh14Gj-3rbInttHw_wvyiLPSmYAdgOUmDm2bFbC-AEvbw=s64",
      "userId": "02906791875441644303"
     },
     "user_tz": 180
    },
    "id": "9GtX92IFLx5h",
    "outputId": "9b953dff-a8bf-49e4-cd1e-9df06fa0026b"
   },
   "outputs": [
    {
     "data": {
      "text/html": [
       "<table class=\"simpletable\">\n",
       "<caption>SARIMAX Results</caption>\n",
       "<tr>\n",
       "  <th>Dep. Variable:</th>              <td>y</td>           <th>  No. Observations:  </th>    <td>60</td>   \n",
       "</tr>\n",
       "<tr>\n",
       "  <th>Model:</th>           <td>SARIMAX(1, 1, [1], 12)</td> <th>  Log Likelihood     </th> <td>-344.785</td>\n",
       "</tr>\n",
       "<tr>\n",
       "  <th>Date:</th>               <td>Mon, 26 Apr 2021</td>    <th>  AIC                </th>  <td>697.569</td>\n",
       "</tr>\n",
       "<tr>\n",
       "  <th>Time:</th>                   <td>11:46:39</td>        <th>  BIC                </th>  <td>705.054</td>\n",
       "</tr>\n",
       "<tr>\n",
       "  <th>Sample:</th>                     <td>0</td>           <th>  HQIC               </th>  <td>700.398</td>\n",
       "</tr>\n",
       "<tr>\n",
       "  <th></th>                          <td> - 60</td>         <th>                     </th>     <td> </td>   \n",
       "</tr>\n",
       "<tr>\n",
       "  <th>Covariance Type:</th>           <td>opg</td>          <th>                     </th>     <td> </td>   \n",
       "</tr>\n",
       "</table>\n",
       "<table class=\"simpletable\">\n",
       "<tr>\n",
       "      <td></td>         <th>coef</th>     <th>std err</th>      <th>z</th>      <th>P>|z|</th>  <th>[0.025</th>    <th>0.975]</th>  \n",
       "</tr>\n",
       "<tr>\n",
       "  <th>intercept</th> <td>  -55.3406</td> <td>   34.103</td> <td>   -1.623</td> <td> 0.105</td> <td> -122.180</td> <td>   11.499</td>\n",
       "</tr>\n",
       "<tr>\n",
       "  <th>ar.S.L12</th>  <td>   -0.3819</td> <td>    0.319</td> <td>   -1.197</td> <td> 0.231</td> <td>   -1.007</td> <td>    0.244</td>\n",
       "</tr>\n",
       "<tr>\n",
       "  <th>ma.S.L12</th>  <td>   -0.5696</td> <td>    0.389</td> <td>   -1.463</td> <td> 0.143</td> <td>   -1.332</td> <td>    0.193</td>\n",
       "</tr>\n",
       "<tr>\n",
       "  <th>sigma2</th>    <td> 8.206e+04</td> <td> 2.39e+04</td> <td>    3.428</td> <td> 0.001</td> <td> 3.51e+04</td> <td> 1.29e+05</td>\n",
       "</tr>\n",
       "</table>\n",
       "<table class=\"simpletable\">\n",
       "<tr>\n",
       "  <th>Ljung-Box (Q):</th>          <td>26.78</td> <th>  Jarque-Bera (JB):  </th> <td>1.50</td>\n",
       "</tr>\n",
       "<tr>\n",
       "  <th>Prob(Q):</th>                <td>0.95</td>  <th>  Prob(JB):          </th> <td>0.47</td>\n",
       "</tr>\n",
       "<tr>\n",
       "  <th>Heteroskedasticity (H):</th> <td>1.87</td>  <th>  Skew:              </th> <td>0.43</td>\n",
       "</tr>\n",
       "<tr>\n",
       "  <th>Prob(H) (two-sided):</th>    <td>0.22</td>  <th>  Kurtosis:          </th> <td>3.00</td>\n",
       "</tr>\n",
       "</table><br/><br/>Warnings:<br/>[1] Covariance matrix calculated using the outer product of gradients (complex-step)."
      ],
      "text/plain": [
       "<class 'statsmodels.iolib.summary.Summary'>\n",
       "\"\"\"\n",
       "                                 SARIMAX Results                                  \n",
       "==================================================================================\n",
       "Dep. Variable:                          y   No. Observations:                   60\n",
       "Model:             SARIMAX(1, 1, [1], 12)   Log Likelihood                -344.785\n",
       "Date:                    Mon, 26 Apr 2021   AIC                            697.569\n",
       "Time:                            11:46:39   BIC                            705.054\n",
       "Sample:                                 0   HQIC                           700.398\n",
       "                                     - 60                                         \n",
       "Covariance Type:                      opg                                         \n",
       "==============================================================================\n",
       "                 coef    std err          z      P>|z|      [0.025      0.975]\n",
       "------------------------------------------------------------------------------\n",
       "intercept    -55.3406     34.103     -1.623      0.105    -122.180      11.499\n",
       "ar.S.L12      -0.3819      0.319     -1.197      0.231      -1.007       0.244\n",
       "ma.S.L12      -0.5696      0.389     -1.463      0.143      -1.332       0.193\n",
       "sigma2      8.206e+04   2.39e+04      3.428      0.001    3.51e+04    1.29e+05\n",
       "===================================================================================\n",
       "Ljung-Box (Q):                       26.78   Jarque-Bera (JB):                 1.50\n",
       "Prob(Q):                              0.95   Prob(JB):                         0.47\n",
       "Heteroskedasticity (H):               1.87   Skew:                             0.43\n",
       "Prob(H) (two-sided):                  0.22   Kurtosis:                         3.00\n",
       "===================================================================================\n",
       "\n",
       "Warnings:\n",
       "[1] Covariance matrix calculated using the outer product of gradients (complex-step).\n",
       "\"\"\""
      ]
     },
     "execution_count": 26,
     "metadata": {},
     "output_type": "execute_result"
    }
   ],
   "source": [
    "#Teste 1\n",
    "pm.auto_arima(df1, start_p=1, start_q=1,max_p=3, max_q=3, m=12,start_P=0, seasonal=True,\n",
    "              d=None, D=1, trace=False,error_action='ignore',suppress_warnings=True,stepwise=True).summary()"
   ]
  },
  {
   "cell_type": "code",
   "execution_count": 27,
   "metadata": {
    "executionInfo": {
     "elapsed": 29792,
     "status": "ok",
     "timestamp": 1611535814272,
     "user": {
      "displayName": "Rafael de Miranda da Costa Leite",
      "photoUrl": "https://lh3.googleusercontent.com/a-/AOh14Gj-3rbInttHw_wvyiLPSmYAdgOUmDm2bFbC-AEvbw=s64",
      "userId": "02906791875441644303"
     },
     "user_tz": 180
    },
    "id": "PTvwdvT8JpdQ"
   },
   "outputs": [],
   "source": [
    "#Teste 2\n",
    "#pm.auto_arima(df1, seasonal=True, m=12,max_p=7, max_d=5,max_q=7, max_P=4, max_D=4,max_Q=4).summary()"
   ]
  },
  {
   "cell_type": "code",
   "execution_count": 28,
   "metadata": {
    "executionInfo": {
     "elapsed": 29788,
     "status": "ok",
     "timestamp": 1611535814273,
     "user": {
      "displayName": "Rafael de Miranda da Costa Leite",
      "photoUrl": "https://lh3.googleusercontent.com/a-/AOh14Gj-3rbInttHw_wvyiLPSmYAdgOUmDm2bFbC-AEvbw=s64",
      "userId": "02906791875441644303"
     },
     "user_tz": 180
    },
    "id": "PuQuqdKxK7-B"
   },
   "outputs": [],
   "source": [
    "#Forecast auto-arima\n",
    "index_pred = pd.date_range(test.index[0], periods = n_periods, freq='MS')\n",
    "\n",
    "predSArima, confint = fitSArima.predict(n_periods=n_periods, return_conf_int=True)\n",
    "\n",
    "#Cria dataseries\n",
    "predSArima = pd.DataFrame(predSArima,index = index_pred,columns=['SARIMA'])"
   ]
  },
  {
   "cell_type": "markdown",
   "metadata": {
    "id": "nDrBRDknvHIE"
   },
   "source": [
    "Modelo Prophet"
   ]
  },
  {
   "cell_type": "code",
   "execution_count": 29,
   "metadata": {
    "executionInfo": {
     "elapsed": 29787,
     "status": "ok",
     "timestamp": 1611535814275,
     "user": {
      "displayName": "Rafael de Miranda da Costa Leite",
      "photoUrl": "https://lh3.googleusercontent.com/a-/AOh14Gj-3rbInttHw_wvyiLPSmYAdgOUmDm2bFbC-AEvbw=s64",
      "userId": "02906791875441644303"
     },
     "user_tz": 180
    },
    "id": "dGvVEzGevP5Z"
   },
   "outputs": [],
   "source": [
    "#Dados Prophet\n",
    "df2 = data_sql\n",
    "\n",
    "#adiciona nome nas colunas\n",
    "df2 = df2.rename(columns={0: \"ds\",1:\"isbn\", 2: \"y\"})\n",
    "\n",
    "#transforma para datetime\n",
    "df2[\"ds\"] = pd.to_datetime(df2[\"ds\"])\n",
    "\n",
    "df2['ds'] = df2['ds'].values.astype('datetime64[M]')\n",
    "\n",
    "df2 = df2.groupby(['ds']).sum()\n",
    "\n",
    "df2 = df2.reset_index()"
   ]
  },
  {
   "cell_type": "code",
   "execution_count": 30,
   "metadata": {
    "colab": {
     "base_uri": "https://localhost:8080/"
    },
    "executionInfo": {
     "elapsed": 31541,
     "status": "ok",
     "timestamp": 1611535816033,
     "user": {
      "displayName": "Rafael de Miranda da Costa Leite",
      "photoUrl": "https://lh3.googleusercontent.com/a-/AOh14Gj-3rbInttHw_wvyiLPSmYAdgOUmDm2bFbC-AEvbw=s64",
      "userId": "02906791875441644303"
     },
     "user_tz": 180
    },
    "id": "_UMZHBeRe_3j",
    "outputId": "16cf1b89-b159-45a2-b409-31b283cac166"
   },
   "outputs": [
    {
     "name": "stderr",
     "output_type": "stream",
     "text": [
      "INFO:fbprophet:Disabling weekly seasonality. Run prophet with weekly_seasonality=True to override this.\n",
      "INFO:fbprophet:Disabling daily seasonality. Run prophet with daily_seasonality=True to override this.\n"
     ]
    },
    {
     "data": {
      "text/plain": [
       "<fbprophet.forecaster.Prophet at 0x7f263175c2e0>"
      ]
     },
     "execution_count": 30,
     "metadata": {},
     "output_type": "execute_result"
    }
   ],
   "source": [
    "from fbprophet import Prophet\n",
    "\n",
    "#Fit modelo Prophet\n",
    "fitProphet = Prophet()\n",
    "\n",
    "fitProphet.fit(df2)"
   ]
  },
  {
   "cell_type": "code",
   "execution_count": 31,
   "metadata": {
    "executionInfo": {
     "elapsed": 33453,
     "status": "ok",
     "timestamp": 1611535817950,
     "user": {
      "displayName": "Rafael de Miranda da Costa Leite",
      "photoUrl": "https://lh3.googleusercontent.com/a-/AOh14Gj-3rbInttHw_wvyiLPSmYAdgOUmDm2bFbC-AEvbw=s64",
      "userId": "02906791875441644303"
     },
     "user_tz": 180
    },
    "id": "jrER-SJ4mUmc"
   },
   "outputs": [],
   "source": [
    "#Forecast Prophet\n",
    "future = fitProphet.make_future_dataframe(periods=12, freq='MS')\n",
    "\n",
    "predProphetfull = fitProphet.predict(future)\n",
    "\n",
    "predProphet = predProphetfull[['ds','yhat']]\n",
    "\n",
    "predProphet = predProphet.set_index('ds')\n",
    "predProphet = predProphet.rename(columns={\"yhat\": \"PROPHET\"})\n",
    "\n",
    "predProphet = predProphet.iloc[-24:]"
   ]
  },
  {
   "cell_type": "markdown",
   "metadata": {
    "id": "vaBJwAnqyBLP"
   },
   "source": [
    "Modelo LSTM"
   ]
  },
  {
   "cell_type": "code",
   "execution_count": 32,
   "metadata": {},
   "outputs": [],
   "source": [
    "#Dados LSTM\n",
    "\n",
    "#importa dados\n",
    "df3 = data_sql\n",
    "\n",
    "#adiciona nome nas colunas\n",
    "df3 = df3.rename(columns={0: \"ds\",1:\"isbn\", 2: \"Venda\"})\n",
    "\n",
    "#transforma para datetime\n",
    "df3[\"Mes\"] = pd.to_datetime(df3[\"ds\"])\n",
    "\n",
    "df3['Mes'] = df3['Mes'].values.astype('datetime64[M]')\n",
    "\n",
    "df3.drop(['ds','isbn'], axis=1, inplace=True)\n",
    "\n",
    "df3 = df3.groupby(['Mes']).sum()\n",
    "\n",
    "df3 = df3.reset_index()\n",
    "\n",
    "df3 = df3.set_index(\"Mes\")\n",
    "\n",
    "df3.index.freq = 'MS'\n",
    "\n",
    "train_data = df3[:len(df3)-12]\n",
    "test_data = df3[len(df3)-12:]"
   ]
  },
  {
   "cell_type": "code",
   "execution_count": 33,
   "metadata": {
    "executionInfo": {
     "elapsed": 33449,
     "status": "ok",
     "timestamp": 1611535817953,
     "user": {
      "displayName": "Rafael de Miranda da Costa Leite",
      "photoUrl": "https://lh3.googleusercontent.com/a-/AOh14Gj-3rbInttHw_wvyiLPSmYAdgOUmDm2bFbC-AEvbw=s64",
      "userId": "02906791875441644303"
     },
     "user_tz": 180
    },
    "id": "J4Na9k9lNYbY"
   },
   "outputs": [],
   "source": [
    "from sklearn.preprocessing import MinMaxScaler\n",
    "scaler = MinMaxScaler()"
   ]
  },
  {
   "cell_type": "code",
   "execution_count": 34,
   "metadata": {
    "executionInfo": {
     "elapsed": 33447,
     "status": "ok",
     "timestamp": 1611535817954,
     "user": {
      "displayName": "Rafael de Miranda da Costa Leite",
      "photoUrl": "https://lh3.googleusercontent.com/a-/AOh14Gj-3rbInttHw_wvyiLPSmYAdgOUmDm2bFbC-AEvbw=s64",
      "userId": "02906791875441644303"
     },
     "user_tz": 180
    },
    "id": "-QYaskWVNYbY"
   },
   "outputs": [],
   "source": [
    "scaler.fit(train_data)\n",
    "scaled_train_data = scaler.transform(train_data)\n",
    "scaled_test_data = scaler.transform(test_data)"
   ]
  },
  {
   "cell_type": "code",
   "execution_count": 35,
   "metadata": {
    "executionInfo": {
     "elapsed": 35272,
     "status": "ok",
     "timestamp": 1611535819784,
     "user": {
      "displayName": "Rafael de Miranda da Costa Leite",
      "photoUrl": "https://lh3.googleusercontent.com/a-/AOh14Gj-3rbInttHw_wvyiLPSmYAdgOUmDm2bFbC-AEvbw=s64",
      "userId": "02906791875441644303"
     },
     "user_tz": 180
    },
    "id": "fcObEiVKNYbY"
   },
   "outputs": [],
   "source": [
    "from keras.preprocessing.sequence import TimeseriesGenerator\n",
    "\n",
    "n_input = n_periods\n",
    "#n_input = 12\n",
    "n_features= 1\n",
    "generator = TimeseriesGenerator(scaled_train_data, scaled_train_data, length=n_input, batch_size=2)"
   ]
  },
  {
   "cell_type": "code",
   "execution_count": 36,
   "metadata": {
    "colab": {
     "base_uri": "https://localhost:8080/"
    },
    "executionInfo": {
     "elapsed": 35269,
     "status": "ok",
     "timestamp": 1611535819785,
     "user": {
      "displayName": "Rafael de Miranda da Costa Leite",
      "photoUrl": "https://lh3.googleusercontent.com/a-/AOh14Gj-3rbInttHw_wvyiLPSmYAdgOUmDm2bFbC-AEvbw=s64",
      "userId": "02906791875441644303"
     },
     "user_tz": 180
    },
    "id": "niryx9RJNYbZ",
    "outputId": "de76434f-4746-49d2-876d-41ea23e18348"
   },
   "outputs": [
    {
     "name": "stdout",
     "output_type": "stream",
     "text": [
      "Model: \"sequential\"\n",
      "_________________________________________________________________\n",
      "Layer (type)                 Output Shape              Param #   \n",
      "=================================================================\n",
      "lstm (LSTM)                  (None, 200)               161600    \n",
      "_________________________________________________________________\n",
      "dense (Dense)                (None, 1)                 201       \n",
      "=================================================================\n",
      "Total params: 161,801\n",
      "Trainable params: 161,801\n",
      "Non-trainable params: 0\n",
      "_________________________________________________________________\n"
     ]
    }
   ],
   "source": [
    "from keras.models import Sequential\n",
    "from keras.layers import Dense\n",
    "from keras.layers import LSTM\n",
    "\n",
    "lstm_model = Sequential()\n",
    "lstm_model.add(LSTM(200, activation='relu', input_shape=(n_input, n_features)))\n",
    "lstm_model.add(Dense(1))\n",
    "lstm_model.compile(optimizer='adam', loss='mse')\n",
    "\n",
    "lstm_model.summary()"
   ]
  },
  {
   "cell_type": "code",
   "execution_count": 37,
   "metadata": {
    "colab": {
     "base_uri": "https://localhost:8080/"
    },
    "executionInfo": {
     "elapsed": 56336,
     "status": "ok",
     "timestamp": 1611535840857,
     "user": {
      "displayName": "Rafael de Miranda da Costa Leite",
      "photoUrl": "https://lh3.googleusercontent.com/a-/AOh14Gj-3rbInttHw_wvyiLPSmYAdgOUmDm2bFbC-AEvbw=s64",
      "userId": "02906791875441644303"
     },
     "user_tz": 180
    },
    "id": "KQ0aNvA-NYbZ",
    "outputId": "cd5ad4b6-c2ab-412f-ed94-5fd144afc139"
   },
   "outputs": [
    {
     "name": "stdout",
     "output_type": "stream",
     "text": [
      "Epoch 1/50\n"
     ]
    },
    {
     "name": "stderr",
     "output_type": "stream",
     "text": [
      "/home/rafael/Apps/anaconda3/lib/python3.8/site-packages/tensorflow/python/keras/engine/training.py:1844: UserWarning: `Model.fit_generator` is deprecated and will be removed in a future version. Please use `Model.fit`, which supports generators.\n",
      "  warnings.warn('`Model.fit_generator` is deprecated and '\n"
     ]
    },
    {
     "name": "stdout",
     "output_type": "stream",
     "text": [
      "12/12 [==============================] - 4s 182ms/step - loss: 0.0625\n",
      "Epoch 2/50\n",
      "12/12 [==============================] - 2s 130ms/step - loss: 0.0807\n",
      "Epoch 3/50\n",
      "12/12 [==============================] - 1s 112ms/step - loss: 0.0583\n",
      "Epoch 4/50\n",
      "12/12 [==============================] - 1s 85ms/step - loss: 0.0461\n",
      "Epoch 5/50\n",
      "12/12 [==============================] - 1s 84ms/step - loss: 0.0489\n",
      "Epoch 6/50\n",
      "12/12 [==============================] - 1s 69ms/step - loss: 0.0483\n",
      "Epoch 7/50\n",
      "12/12 [==============================] - 1s 72ms/step - loss: 0.0383\n",
      "Epoch 8/50\n",
      "12/12 [==============================] - 1s 71ms/step - loss: 0.0454\n",
      "Epoch 9/50\n",
      "12/12 [==============================] - 1s 108ms/step - loss: 0.0563\n",
      "Epoch 10/50\n",
      "12/12 [==============================] - 1s 82ms/step - loss: 0.0468\n",
      "Epoch 11/50\n",
      "12/12 [==============================] - 1s 64ms/step - loss: 0.0395\n",
      "Epoch 12/50\n",
      "12/12 [==============================] - 1s 65ms/step - loss: 0.0708\n",
      "Epoch 13/50\n",
      "12/12 [==============================] - 1s 69ms/step - loss: 0.0416\n",
      "Epoch 14/50\n",
      "12/12 [==============================] - 1s 70ms/step - loss: 0.0515\n",
      "Epoch 15/50\n",
      "12/12 [==============================] - 1s 65ms/step - loss: 0.0391\n",
      "Epoch 16/50\n",
      "12/12 [==============================] - 1s 64ms/step - loss: 0.0666\n",
      "Epoch 17/50\n",
      "12/12 [==============================] - 1s 69ms/step - loss: 0.0397\n",
      "Epoch 18/50\n",
      "12/12 [==============================] - 1s 82ms/step - loss: 0.0477\n",
      "Epoch 19/50\n",
      "12/12 [==============================] - 1s 69ms/step - loss: 0.0425\n",
      "Epoch 20/50\n",
      "12/12 [==============================] - 1s 68ms/step - loss: 0.0617\n",
      "Epoch 21/50\n",
      "12/12 [==============================] - 1s 62ms/step - loss: 0.0480\n",
      "Epoch 22/50\n",
      "12/12 [==============================] - 1s 62ms/step - loss: 0.0397\n",
      "Epoch 23/50\n",
      "12/12 [==============================] - 1s 65ms/step - loss: 0.0729\n",
      "Epoch 24/50\n",
      "12/12 [==============================] - 1s 68ms/step - loss: 0.0496\n",
      "Epoch 25/50\n",
      "12/12 [==============================] - 1s 67ms/step - loss: 0.0803\n",
      "Epoch 26/50\n",
      "12/12 [==============================] - 1s 67ms/step - loss: 0.0583\n",
      "Epoch 27/50\n",
      "12/12 [==============================] - 1s 63ms/step - loss: 0.0448\n",
      "Epoch 28/50\n",
      "12/12 [==============================] - 1s 84ms/step - loss: 0.0380\n",
      "Epoch 29/50\n",
      "12/12 [==============================] - 1s 68ms/step - loss: 0.0469\n",
      "Epoch 30/50\n",
      "12/12 [==============================] - 1s 70ms/step - loss: 0.0493\n",
      "Epoch 31/50\n",
      "12/12 [==============================] - 1s 79ms/step - loss: 0.0521\n",
      "Epoch 32/50\n",
      "12/12 [==============================] - 1s 73ms/step - loss: 0.0418\n",
      "Epoch 33/50\n",
      "12/12 [==============================] - 1s 64ms/step - loss: 0.0446\n",
      "Epoch 34/50\n",
      "12/12 [==============================] - 1s 66ms/step - loss: 0.0440\n",
      "Epoch 35/50\n",
      "12/12 [==============================] - 1s 86ms/step - loss: 0.0439\n",
      "Epoch 36/50\n",
      "12/12 [==============================] - 1s 88ms/step - loss: 0.0401\n",
      "Epoch 37/50\n",
      "12/12 [==============================] - 1s 63ms/step - loss: 0.0428\n",
      "Epoch 38/50\n",
      "12/12 [==============================] - 1s 66ms/step - loss: 0.0480\n",
      "Epoch 39/50\n",
      "12/12 [==============================] - 1s 65ms/step - loss: 0.0413\n",
      "Epoch 40/50\n",
      "12/12 [==============================] - 1s 62ms/step - loss: 0.0409\n",
      "Epoch 41/50\n",
      "12/12 [==============================] - 1s 69ms/step - loss: 0.0381\n",
      "Epoch 42/50\n",
      "12/12 [==============================] - 1s 64ms/step - loss: 0.0425\n",
      "Epoch 43/50\n",
      "12/12 [==============================] - 1s 66ms/step - loss: 0.0416\n",
      "Epoch 44/50\n",
      "12/12 [==============================] - 1s 75ms/step - loss: 0.0396\n",
      "Epoch 45/50\n",
      "12/12 [==============================] - 1s 67ms/step - loss: 0.0722\n",
      "Epoch 46/50\n",
      "12/12 [==============================] - 1s 80ms/step - loss: 0.0366\n",
      "Epoch 47/50\n",
      "12/12 [==============================] - 1s 74ms/step - loss: 0.0392\n",
      "Epoch 48/50\n",
      "12/12 [==============================] - 1s 66ms/step - loss: 0.0491\n",
      "Epoch 49/50\n",
      "12/12 [==============================] - 1s 70ms/step - loss: 0.0402\n",
      "Epoch 50/50\n",
      "12/12 [==============================] - 1s 75ms/step - loss: 0.0554\n"
     ]
    },
    {
     "data": {
      "text/plain": [
       "<tensorflow.python.keras.callbacks.History at 0x7f25faaa9a90>"
      ]
     },
     "execution_count": 37,
     "metadata": {},
     "output_type": "execute_result"
    }
   ],
   "source": [
    "nepochs=50\n",
    "lstm_model.fit_generator(generator,epochs=nepochs)"
   ]
  },
  {
   "cell_type": "code",
   "execution_count": 38,
   "metadata": {
    "colab": {
     "base_uri": "https://localhost:8080/",
     "height": 497
    },
    "executionInfo": {
     "elapsed": 56733,
     "status": "ok",
     "timestamp": 1611535841260,
     "user": {
      "displayName": "Rafael de Miranda da Costa Leite",
      "photoUrl": "https://lh3.googleusercontent.com/a-/AOh14Gj-3rbInttHw_wvyiLPSmYAdgOUmDm2bFbC-AEvbw=s64",
      "userId": "02906791875441644303"
     },
     "user_tz": 180
    },
    "id": "Cz-smqKKNYbZ",
    "outputId": "7541ac13-7652-40bf-b103-12294e5a956a"
   },
   "outputs": [
    {
     "data": {
      "image/png": "[encoded data removed]",
      "text/plain": [
       "<Figure size 864x576 with 1 Axes>"
      ]
     },
     "metadata": {
      "needs_background": "light"
     },
     "output_type": "display_data"
    }
   ],
   "source": [
    "losses_lstm = lstm_model.history.history['loss']\n",
    "plt.figure(figsize=(12,8))\n",
    "plt.xlabel(\"Epochs\")\n",
    "plt.ylabel(\"Loss\")\n",
    "plt.xticks(np.arange(0,nepochs,1))\n",
    "plt.plot(range(len(losses_lstm)),losses_lstm);"
   ]
  },
  {
   "cell_type": "code",
   "execution_count": 39,
   "metadata": {
    "executionInfo": {
     "elapsed": 57438,
     "status": "ok",
     "timestamp": 1611535841971,
     "user": {
      "displayName": "Rafael de Miranda da Costa Leite",
      "photoUrl": "https://lh3.googleusercontent.com/a-/AOh14Gj-3rbInttHw_wvyiLPSmYAdgOUmDm2bFbC-AEvbw=s64",
      "userId": "02906791875441644303"
     },
     "user_tz": 180
    },
    "id": "0NIISLnmNYbZ"
   },
   "outputs": [],
   "source": [
    "lstm_predictions_scaled = list()\n",
    "\n",
    "batch = scaled_train_data[-n_input:]\n",
    "current_batch = batch.reshape((1, n_input, n_features))\n",
    "\n",
    "for i in range(n_input):   \n",
    "    lstm_pred = lstm_model.predict(current_batch)[0]\n",
    "    lstm_predictions_scaled.append(lstm_pred) \n",
    "    current_batch = np.append(current_batch[:,1:,:],[[lstm_pred]],axis=1)"
   ]
  },
  {
   "cell_type": "code",
   "execution_count": 40,
   "metadata": {
    "executionInfo": {
     "elapsed": 57436,
     "status": "ok",
     "timestamp": 1611535841972,
     "user": {
      "displayName": "Rafael de Miranda da Costa Leite",
      "photoUrl": "https://lh3.googleusercontent.com/a-/AOh14Gj-3rbInttHw_wvyiLPSmYAdgOUmDm2bFbC-AEvbw=s64",
      "userId": "02906791875441644303"
     },
     "user_tz": 180
    },
    "id": "CPXHVASvNYba"
   },
   "outputs": [],
   "source": [
    "lstm_predictions = scaler.inverse_transform(lstm_predictions_scaled)"
   ]
  },
  {
   "cell_type": "markdown",
   "metadata": {
    "id": "KBMF7e_3Fu_t"
   },
   "source": [
    "# Avaliação do Forecast"
   ]
  },
  {
   "cell_type": "code",
   "execution_count": 41,
   "metadata": {
    "executionInfo": {
     "elapsed": 57428,
     "status": "ok",
     "timestamp": 1611535841974,
     "user": {
      "displayName": "Rafael de Miranda da Costa Leite",
      "photoUrl": "https://lh3.googleusercontent.com/a-/AOh14Gj-3rbInttHw_wvyiLPSmYAdgOUmDm2bFbC-AEvbw=s64",
      "userId": "02906791875441644303"
     },
     "user_tz": 180
    },
    "id": "TcrxWhwEOjO_"
   },
   "outputs": [],
   "source": [
    "#Concatena predições\n",
    "forecast = pd.concat([test,predSArima,predProphet],axis=1)\n",
    "forecast['LSTM'] = lstm_predictions"
   ]
  },
  {
   "cell_type": "code",
   "execution_count": 42,
   "metadata": {
    "colab": {
     "base_uri": "https://localhost:8080/",
     "height": 295
    },
    "executionInfo": {
     "elapsed": 57833,
     "status": "ok",
     "timestamp": 1611535842389,
     "user": {
      "displayName": "Rafael de Miranda da Costa Leite",
      "photoUrl": "https://lh3.googleusercontent.com/a-/AOh14Gj-3rbInttHw_wvyiLPSmYAdgOUmDm2bFbC-AEvbw=s64",
      "userId": "02906791875441644303"
     },
     "user_tz": 180
    },
    "id": "44QVVxDg8Sb9",
    "outputId": "b7b93fc6-306c-4ac2-b937-458ceaa1a764"
   },
   "outputs": [
    {
     "data": {
      "text/plain": [
       "<matplotlib.axes._subplots.AxesSubplot at 0x7f25fbb21fd0>"
      ]
     },
     "execution_count": 42,
     "metadata": {},
     "output_type": "execute_result"
    },
    {
     "data": {
      "image/png": "[encoded data removed]",
      "text/plain": [
       "<Figure size 432x288 with 1 Axes>"
      ]
     },
     "metadata": {
      "needs_background": "light"
     },
     "output_type": "display_data"
    }
   ],
   "source": [
    "forecast.plot()"
   ]
  },
  {
   "cell_type": "code",
   "execution_count": 43,
   "metadata": {
    "executionInfo": {
     "elapsed": 57827,
     "status": "ok",
     "timestamp": 1611535842390,
     "user": {
      "displayName": "Rafael de Miranda da Costa Leite",
      "photoUrl": "https://lh3.googleusercontent.com/a-/AOh14Gj-3rbInttHw_wvyiLPSmYAdgOUmDm2bFbC-AEvbw=s64",
      "userId": "02906791875441644303"
     },
     "user_tz": 180
    },
    "id": "zkxt16tucUgw"
   },
   "outputs": [],
   "source": [
    "forecast['Ac_venda'] = test.cumsum()\n",
    "forecast['Ac_SArima'] = forecast['SARIMA'].cumsum()\n",
    "forecast['Ac_PROPHET'] = forecast['PROPHET'].cumsum()\n",
    "forecast['Ac_LSTM'] = forecast['LSTM'].cumsum()"
   ]
  },
  {
   "cell_type": "code",
   "execution_count": 44,
   "metadata": {
    "colab": {
     "base_uri": "https://localhost:8080/",
     "height": 295
    },
    "executionInfo": {
     "elapsed": 58419,
     "status": "ok",
     "timestamp": 1611535842986,
     "user": {
      "displayName": "Rafael de Miranda da Costa Leite",
      "photoUrl": "https://lh3.googleusercontent.com/a-/AOh14Gj-3rbInttHw_wvyiLPSmYAdgOUmDm2bFbC-AEvbw=s64",
      "userId": "02906791875441644303"
     },
     "user_tz": 180
    },
    "id": "ZFquRXwPc_iy",
    "outputId": "8317d480-ef89-4d7c-f312-6d1c3e320afc"
   },
   "outputs": [
    {
     "data": {
      "text/plain": [
       "<matplotlib.axes._subplots.AxesSubplot at 0x7f25f2815a60>"
      ]
     },
     "execution_count": 44,
     "metadata": {},
     "output_type": "execute_result"
    },
    {
     "data": {
      "image/png": "[encoded data removed]",
      "text/plain": [
       "<Figure size 432x288 with 1 Axes>"
      ]
     },
     "metadata": {
      "needs_background": "light"
     },
     "output_type": "display_data"
    }
   ],
   "source": [
    "forecast.plot()"
   ]
  },
  {
   "cell_type": "code",
   "execution_count": 45,
   "metadata": {
    "colab": {
     "base_uri": "https://localhost:8080/",
     "height": 283
    },
    "executionInfo": {
     "elapsed": 891,
     "status": "ok",
     "timestamp": 1611535951136,
     "user": {
      "displayName": "Rafael de Miranda da Costa Leite",
      "photoUrl": "https://lh3.googleusercontent.com/a-/AOh14Gj-3rbInttHw_wvyiLPSmYAdgOUmDm2bFbC-AEvbw=s64",
      "userId": "02906791875441644303"
     },
     "user_tz": 180
    },
    "id": "RqS-lTajZ2c6",
    "outputId": "d83808df-b9ea-4e6b-bb27-7bbe1e68baf2"
   },
   "outputs": [
    {
     "data": {
      "text/plain": [
       "<matplotlib.axes._subplots.AxesSubplot at 0x7f25f169c640>"
      ]
     },
     "execution_count": 45,
     "metadata": {},
     "output_type": "execute_result"
    },
    {
     "data": {
      "image/png": "[encoded data removed]",
      "text/plain": [
       "<Figure size 432x288 with 1 Axes>"
      ]
     },
     "metadata": {
      "needs_background": "light"
     },
     "output_type": "display_data"
    }
   ],
   "source": [
    "#Visão geral\n",
    "pd.concat([df1,predSArima,predProphet],axis=1).plot()"
   ]
  },
  {
   "cell_type": "markdown",
   "metadata": {
    "id": "1BJPrB9YFYQD"
   },
   "source": [
    "Exporta Dados"
   ]
  },
  {
   "cell_type": "code",
   "execution_count": 46,
   "metadata": {
    "executionInfo": {
     "elapsed": 659,
     "status": "ok",
     "timestamp": 1611535965081,
     "user": {
      "displayName": "Rafael de Miranda da Costa Leite",
      "photoUrl": "https://lh3.googleusercontent.com/a-/AOh14Gj-3rbInttHw_wvyiLPSmYAdgOUmDm2bFbC-AEvbw=s64",
      "userId": "02906791875441644303"
     },
     "user_tz": 180
    },
    "id": "B0Q614FobDzK"
   },
   "outputs": [],
   "source": [
    "#forecast.to_excel ('forecast.xlsx', index = True, header=True, sheet_name = 'Dados')"
   ]
  },
  {
   "cell_type": "code",
   "execution_count": 47,
   "metadata": {},
   "outputs": [
    {
     "name": "stdout",
     "output_type": "stream",
     "text": [
      "<class 'pandas.core.frame.DataFrame'>\n",
      "DatetimeIndex: 24 entries, 2019-01-01 to 2020-12-01\n",
      "Freq: MS\n",
      "Data columns (total 10 columns):\n",
      " #   Column       Non-Null Count  Dtype  \n",
      "---  ------       --------------  -----  \n",
      " 0   qtd_venda    24 non-null     float64\n",
      " 1   qtd_sarima   24 non-null     float64\n",
      " 2   qtd_prophet  24 non-null     float64\n",
      " 3   qtd_lstm     24 non-null     float64\n",
      " 4   acm_venda    24 non-null     float64\n",
      " 5   acm_sarima   24 non-null     float64\n",
      " 6   acm_prophet  24 non-null     float64\n",
      " 7   acm_lstm     24 non-null     float64\n",
      " 8   sk_tempo     24 non-null     int64  \n",
      " 9   sk_protudo   24 non-null     int64  \n",
      "dtypes: float64(8), int64(2)\n",
      "memory usage: 2.1 KB\n"
     ]
    }
   ],
   "source": [
    "df_export = forecast.copy()\n",
    "df_export[\"sk_tempo\"] = df_export.index.strftime('%Y%m%d').astype(int)\n",
    "df_export[\"sk_protudo\"] = int(produto_proc)\n",
    "\n",
    "df_export = df_export.rename(columns={\"value\":\"qtd_venda\",\"Ac_venda\":\"acm_venda\"})\n",
    "df_export = df_export.rename(columns={\"PROPHET\":\"qtd_prophet\",\"Ac_PROPHET\":\"acm_prophet\"})\n",
    "df_export = df_export.rename(columns={\"LSTM\":\"qtd_lstm\",\"Ac_LSTM\":\"acm_lstm\"})\n",
    "df_export = df_export.rename(columns={\"SARIMA\":\"qtd_sarima\",\"Ac_SArima\":\"acm_sarima\"})\n",
    "df_export = df_export.replace(np.nan,0)\n",
    "\n",
    "df_export.info()"
   ]
  },
  {
   "cell_type": "code",
   "execution_count": 48,
   "metadata": {},
   "outputs": [
    {
     "data": {
      "text/html": [
       "<div>\n",
       "<style scoped>\n",
       "    .dataframe tbody tr th:only-of-type {\n",
       "        vertical-align: middle;\n",
       "    }\n",
       "\n",
       "    .dataframe tbody tr th {\n",
       "        vertical-align: top;\n",
       "    }\n",
       "\n",
       "    .dataframe thead th {\n",
       "        text-align: right;\n",
       "    }\n",
       "</style>\n",
       "<table border=\"1\" class=\"dataframe\">\n",
       "  <thead>\n",
       "    <tr style=\"text-align: right;\">\n",
       "      <th></th>\n",
       "      <th>qtd_venda</th>\n",
       "      <th>qtd_sarima</th>\n",
       "      <th>qtd_prophet</th>\n",
       "      <th>qtd_lstm</th>\n",
       "      <th>acm_venda</th>\n",
       "      <th>acm_sarima</th>\n",
       "      <th>acm_prophet</th>\n",
       "      <th>acm_lstm</th>\n",
       "      <th>sk_tempo</th>\n",
       "      <th>sk_protudo</th>\n",
       "    </tr>\n",
       "  </thead>\n",
       "  <tbody>\n",
       "    <tr>\n",
       "      <th>2019-01-01</th>\n",
       "      <td>739.0</td>\n",
       "      <td>124.196361</td>\n",
       "      <td>285.926413</td>\n",
       "      <td>486.413097</td>\n",
       "      <td>739.0</td>\n",
       "      <td>124.196361</td>\n",
       "      <td>285.926413</td>\n",
       "      <td>486.413097</td>\n",
       "      <td>20190101</td>\n",
       "      <td>5795</td>\n",
       "    </tr>\n",
       "    <tr>\n",
       "      <th>2019-02-01</th>\n",
       "      <td>387.0</td>\n",
       "      <td>386.478016</td>\n",
       "      <td>359.181222</td>\n",
       "      <td>534.957815</td>\n",
       "      <td>1126.0</td>\n",
       "      <td>510.674377</td>\n",
       "      <td>645.107636</td>\n",
       "      <td>1021.370912</td>\n",
       "      <td>20190201</td>\n",
       "      <td>5795</td>\n",
       "    </tr>\n",
       "    <tr>\n",
       "      <th>2019-03-01</th>\n",
       "      <td>589.0</td>\n",
       "      <td>903.528296</td>\n",
       "      <td>663.919202</td>\n",
       "      <td>559.911945</td>\n",
       "      <td>1715.0</td>\n",
       "      <td>1414.202673</td>\n",
       "      <td>1309.026838</td>\n",
       "      <td>1581.282857</td>\n",
       "      <td>20190301</td>\n",
       "      <td>5795</td>\n",
       "    </tr>\n",
       "    <tr>\n",
       "      <th>2019-04-01</th>\n",
       "      <td>341.0</td>\n",
       "      <td>236.625962</td>\n",
       "      <td>238.075210</td>\n",
       "      <td>558.372065</td>\n",
       "      <td>2056.0</td>\n",
       "      <td>1650.828635</td>\n",
       "      <td>1547.102048</td>\n",
       "      <td>2139.654922</td>\n",
       "      <td>20190401</td>\n",
       "      <td>5795</td>\n",
       "    </tr>\n",
       "    <tr>\n",
       "      <th>2019-05-01</th>\n",
       "      <td>166.0</td>\n",
       "      <td>487.915410</td>\n",
       "      <td>231.036632</td>\n",
       "      <td>568.410048</td>\n",
       "      <td>2222.0</td>\n",
       "      <td>2138.744045</td>\n",
       "      <td>1778.138681</td>\n",
       "      <td>2708.064969</td>\n",
       "      <td>20190501</td>\n",
       "      <td>5795</td>\n",
       "    </tr>\n",
       "    <tr>\n",
       "      <th>2019-06-01</th>\n",
       "      <td>1309.0</td>\n",
       "      <td>578.813055</td>\n",
       "      <td>703.431904</td>\n",
       "      <td>568.246359</td>\n",
       "      <td>3531.0</td>\n",
       "      <td>2717.557101</td>\n",
       "      <td>2481.570585</td>\n",
       "      <td>3276.311329</td>\n",
       "      <td>20190601</td>\n",
       "      <td>5795</td>\n",
       "    </tr>\n",
       "    <tr>\n",
       "      <th>2019-07-01</th>\n",
       "      <td>1085.0</td>\n",
       "      <td>673.419206</td>\n",
       "      <td>699.290478</td>\n",
       "      <td>569.298112</td>\n",
       "      <td>4616.0</td>\n",
       "      <td>3390.976307</td>\n",
       "      <td>3180.861063</td>\n",
       "      <td>3845.609441</td>\n",
       "      <td>20190701</td>\n",
       "      <td>5795</td>\n",
       "    </tr>\n",
       "    <tr>\n",
       "      <th>2019-08-01</th>\n",
       "      <td>224.0</td>\n",
       "      <td>527.215231</td>\n",
       "      <td>286.120694</td>\n",
       "      <td>566.958223</td>\n",
       "      <td>4840.0</td>\n",
       "      <td>3918.191537</td>\n",
       "      <td>3466.981757</td>\n",
       "      <td>4412.567664</td>\n",
       "      <td>20190801</td>\n",
       "      <td>5795</td>\n",
       "    </tr>\n",
       "    <tr>\n",
       "      <th>2019-09-01</th>\n",
       "      <td>485.0</td>\n",
       "      <td>403.042878</td>\n",
       "      <td>804.875573</td>\n",
       "      <td>567.278642</td>\n",
       "      <td>5325.0</td>\n",
       "      <td>4321.234416</td>\n",
       "      <td>4271.857330</td>\n",
       "      <td>4979.846306</td>\n",
       "      <td>20190901</td>\n",
       "      <td>5795</td>\n",
       "    </tr>\n",
       "    <tr>\n",
       "      <th>2019-10-01</th>\n",
       "      <td>304.0</td>\n",
       "      <td>344.893531</td>\n",
       "      <td>275.651965</td>\n",
       "      <td>567.173101</td>\n",
       "      <td>5629.0</td>\n",
       "      <td>4666.127947</td>\n",
       "      <td>4547.509296</td>\n",
       "      <td>5547.019406</td>\n",
       "      <td>20191001</td>\n",
       "      <td>5795</td>\n",
       "    </tr>\n",
       "    <tr>\n",
       "      <th>2019-11-01</th>\n",
       "      <td>144.0</td>\n",
       "      <td>396.346448</td>\n",
       "      <td>196.091916</td>\n",
       "      <td>565.601774</td>\n",
       "      <td>5773.0</td>\n",
       "      <td>5062.474394</td>\n",
       "      <td>4743.601212</td>\n",
       "      <td>6112.621181</td>\n",
       "      <td>20191101</td>\n",
       "      <td>5795</td>\n",
       "    </tr>\n",
       "    <tr>\n",
       "      <th>2019-12-01</th>\n",
       "      <td>320.0</td>\n",
       "      <td>1032.229713</td>\n",
       "      <td>877.625470</td>\n",
       "      <td>572.765747</td>\n",
       "      <td>6093.0</td>\n",
       "      <td>6094.704108</td>\n",
       "      <td>5621.226681</td>\n",
       "      <td>6685.386927</td>\n",
       "      <td>20191201</td>\n",
       "      <td>5795</td>\n",
       "    </tr>\n",
       "    <tr>\n",
       "      <th>2020-01-01</th>\n",
       "      <td>0.0</td>\n",
       "      <td>62.632666</td>\n",
       "      <td>298.881180</td>\n",
       "      <td>561.688255</td>\n",
       "      <td>0.0</td>\n",
       "      <td>6157.336773</td>\n",
       "      <td>5920.107862</td>\n",
       "      <td>7247.075182</td>\n",
       "      <td>20200101</td>\n",
       "      <td>5795</td>\n",
       "    </tr>\n",
       "    <tr>\n",
       "      <th>2020-02-01</th>\n",
       "      <td>0.0</td>\n",
       "      <td>335.298578</td>\n",
       "      <td>306.768001</td>\n",
       "      <td>564.594072</td>\n",
       "      <td>0.0</td>\n",
       "      <td>6492.635351</td>\n",
       "      <td>6226.875863</td>\n",
       "      <td>7811.669255</td>\n",
       "      <td>20200201</td>\n",
       "      <td>5795</td>\n",
       "    </tr>\n",
       "    <tr>\n",
       "      <th>2020-03-01</th>\n",
       "      <td>0.0</td>\n",
       "      <td>700.315726</td>\n",
       "      <td>638.453474</td>\n",
       "      <td>566.592217</td>\n",
       "      <td>0.0</td>\n",
       "      <td>7192.951077</td>\n",
       "      <td>6865.329337</td>\n",
       "      <td>8378.261472</td>\n",
       "      <td>20200301</td>\n",
       "      <td>5795</td>\n",
       "    </tr>\n",
       "    <tr>\n",
       "      <th>2020-04-01</th>\n",
       "      <td>0.0</td>\n",
       "      <td>140.983357</td>\n",
       "      <td>195.928651</td>\n",
       "      <td>562.757131</td>\n",
       "      <td>0.0</td>\n",
       "      <td>7333.934434</td>\n",
       "      <td>7061.257987</td>\n",
       "      <td>8941.018603</td>\n",
       "      <td>20200401</td>\n",
       "      <td>5795</td>\n",
       "    </tr>\n",
       "    <tr>\n",
       "      <th>2020-05-01</th>\n",
       "      <td>0.0</td>\n",
       "      <td>245.654628</td>\n",
       "      <td>237.206962</td>\n",
       "      <td>563.080938</td>\n",
       "      <td>0.0</td>\n",
       "      <td>7579.589062</td>\n",
       "      <td>7298.464949</td>\n",
       "      <td>9504.099541</td>\n",
       "      <td>20200501</td>\n",
       "      <td>5795</td>\n",
       "    </tr>\n",
       "    <tr>\n",
       "      <th>2020-06-01</th>\n",
       "      <td>0.0</td>\n",
       "      <td>375.442511</td>\n",
       "      <td>562.342229</td>\n",
       "      <td>564.799010</td>\n",
       "      <td>0.0</td>\n",
       "      <td>7955.031573</td>\n",
       "      <td>7860.807178</td>\n",
       "      <td>10068.898552</td>\n",
       "      <td>20200601</td>\n",
       "      <td>5795</td>\n",
       "    </tr>\n",
       "    <tr>\n",
       "      <th>2020-07-01</th>\n",
       "      <td>0.0</td>\n",
       "      <td>774.832396</td>\n",
       "      <td>607.281504</td>\n",
       "      <td>570.235694</td>\n",
       "      <td>0.0</td>\n",
       "      <td>8729.863969</td>\n",
       "      <td>8468.088681</td>\n",
       "      <td>10639.134246</td>\n",
       "      <td>20200701</td>\n",
       "      <td>5795</td>\n",
       "    </tr>\n",
       "    <tr>\n",
       "      <th>2020-08-01</th>\n",
       "      <td>0.0</td>\n",
       "      <td>506.138813</td>\n",
       "      <td>666.340591</td>\n",
       "      <td>565.733385</td>\n",
       "      <td>0.0</td>\n",
       "      <td>9236.002783</td>\n",
       "      <td>9134.429273</td>\n",
       "      <td>11204.867630</td>\n",
       "      <td>20200801</td>\n",
       "      <td>5795</td>\n",
       "    </tr>\n",
       "    <tr>\n",
       "      <th>2020-09-01</th>\n",
       "      <td>0.0</td>\n",
       "      <td>245.035455</td>\n",
       "      <td>156.777885</td>\n",
       "      <td>562.818983</td>\n",
       "      <td>0.0</td>\n",
       "      <td>9481.038238</td>\n",
       "      <td>9291.207158</td>\n",
       "      <td>11767.686613</td>\n",
       "      <td>20200901</td>\n",
       "      <td>5795</td>\n",
       "    </tr>\n",
       "    <tr>\n",
       "      <th>2020-10-01</th>\n",
       "      <td>0.0</td>\n",
       "      <td>193.071361</td>\n",
       "      <td>150.567567</td>\n",
       "      <td>563.348993</td>\n",
       "      <td>0.0</td>\n",
       "      <td>9674.109599</td>\n",
       "      <td>9441.774725</td>\n",
       "      <td>12331.035606</td>\n",
       "      <td>20201001</td>\n",
       "      <td>5795</td>\n",
       "    </tr>\n",
       "    <tr>\n",
       "      <th>2020-11-01</th>\n",
       "      <td>0.0</td>\n",
       "      <td>387.402036</td>\n",
       "      <td>624.435845</td>\n",
       "      <td>567.385674</td>\n",
       "      <td>0.0</td>\n",
       "      <td>10061.511635</td>\n",
       "      <td>10066.210570</td>\n",
       "      <td>12898.421281</td>\n",
       "      <td>20201101</td>\n",
       "      <td>5795</td>\n",
       "    </tr>\n",
       "    <tr>\n",
       "      <th>2020-12-01</th>\n",
       "      <td>0.0</td>\n",
       "      <td>1073.833553</td>\n",
       "      <td>792.022546</td>\n",
       "      <td>573.000278</td>\n",
       "      <td>0.0</td>\n",
       "      <td>11135.345188</td>\n",
       "      <td>10858.233116</td>\n",
       "      <td>13471.421558</td>\n",
       "      <td>20201201</td>\n",
       "      <td>5795</td>\n",
       "    </tr>\n",
       "  </tbody>\n",
       "</table>\n",
       "</div>"
      ],
      "text/plain": [
       "            qtd_venda   qtd_sarima  qtd_prophet    qtd_lstm  acm_venda  \\\n",
       "2019-01-01      739.0   124.196361   285.926413  486.413097      739.0   \n",
       "2019-02-01      387.0   386.478016   359.181222  534.957815     1126.0   \n",
       "2019-03-01      589.0   903.528296   663.919202  559.911945     1715.0   \n",
       "2019-04-01      341.0   236.625962   238.075210  558.372065     2056.0   \n",
       "2019-05-01      166.0   487.915410   231.036632  568.410048     2222.0   \n",
       "2019-06-01     1309.0   578.813055   703.431904  568.246359     3531.0   \n",
       "2019-07-01     1085.0   673.419206   699.290478  569.298112     4616.0   \n",
       "2019-08-01      224.0   527.215231   286.120694  566.958223     4840.0   \n",
       "2019-09-01      485.0   403.042878   804.875573  567.278642     5325.0   \n",
       "2019-10-01      304.0   344.893531   275.651965  567.173101     5629.0   \n",
       "2019-11-01      144.0   396.346448   196.091916  565.601774     5773.0   \n",
       "2019-12-01      320.0  1032.229713   877.625470  572.765747     6093.0   \n",
       "2020-01-01        0.0    62.632666   298.881180  561.688255        0.0   \n",
       "2020-02-01        0.0   335.298578   306.768001  564.594072        0.0   \n",
       "2020-03-01        0.0   700.315726   638.453474  566.592217        0.0   \n",
       "2020-04-01        0.0   140.983357   195.928651  562.757131        0.0   \n",
       "2020-05-01        0.0   245.654628   237.206962  563.080938        0.0   \n",
       "2020-06-01        0.0   375.442511   562.342229  564.799010        0.0   \n",
       "2020-07-01        0.0   774.832396   607.281504  570.235694        0.0   \n",
       "2020-08-01        0.0   506.138813   666.340591  565.733385        0.0   \n",
       "2020-09-01        0.0   245.035455   156.777885  562.818983        0.0   \n",
       "2020-10-01        0.0   193.071361   150.567567  563.348993        0.0   \n",
       "2020-11-01        0.0   387.402036   624.435845  567.385674        0.0   \n",
       "2020-12-01        0.0  1073.833553   792.022546  573.000278        0.0   \n",
       "\n",
       "              acm_sarima   acm_prophet      acm_lstm  sk_tempo  sk_protudo  \n",
       "2019-01-01    124.196361    285.926413    486.413097  20190101        5795  \n",
       "2019-02-01    510.674377    645.107636   1021.370912  20190201        5795  \n",
       "2019-03-01   1414.202673   1309.026838   1581.282857  20190301        5795  \n",
       "2019-04-01   1650.828635   1547.102048   2139.654922  20190401        5795  \n",
       "2019-05-01   2138.744045   1778.138681   2708.064969  20190501        5795  \n",
       "2019-06-01   2717.557101   2481.570585   3276.311329  20190601        5795  \n",
       "2019-07-01   3390.976307   3180.861063   3845.609441  20190701        5795  \n",
       "2019-08-01   3918.191537   3466.981757   4412.567664  20190801        5795  \n",
       "2019-09-01   4321.234416   4271.857330   4979.846306  20190901        5795  \n",
       "2019-10-01   4666.127947   4547.509296   5547.019406  20191001        5795  \n",
       "2019-11-01   5062.474394   4743.601212   6112.621181  20191101        5795  \n",
       "2019-12-01   6094.704108   5621.226681   6685.386927  20191201        5795  \n",
       "2020-01-01   6157.336773   5920.107862   7247.075182  20200101        5795  \n",
       "2020-02-01   6492.635351   6226.875863   7811.669255  20200201        5795  \n",
       "2020-03-01   7192.951077   6865.329337   8378.261472  20200301        5795  \n",
       "2020-04-01   7333.934434   7061.257987   8941.018603  20200401        5795  \n",
       "2020-05-01   7579.589062   7298.464949   9504.099541  20200501        5795  \n",
       "2020-06-01   7955.031573   7860.807178  10068.898552  20200601        5795  \n",
       "2020-07-01   8729.863969   8468.088681  10639.134246  20200701        5795  \n",
       "2020-08-01   9236.002783   9134.429273  11204.867630  20200801        5795  \n",
       "2020-09-01   9481.038238   9291.207158  11767.686613  20200901        5795  \n",
       "2020-10-01   9674.109599   9441.774725  12331.035606  20201001        5795  \n",
       "2020-11-01  10061.511635  10066.210570  12898.421281  20201101        5795  \n",
       "2020-12-01  11135.345188  10858.233116  13471.421558  20201201        5795  "
      ]
     },
     "execution_count": 48,
     "metadata": {},
     "output_type": "execute_result"
    }
   ],
   "source": [
    "#df1 = df1.rename(columns={0: \"date\",1:\"isbn\", 2: \"value\"})\n",
    "df_export"
   ]
  },
  {
   "cell_type": "code",
   "execution_count": 49,
   "metadata": {
    "executionInfo": {
     "elapsed": 58734,
     "status": "ok",
     "timestamp": 1611535843318,
     "user": {
      "displayName": "Rafael de Miranda da Costa Leite",
      "photoUrl": "https://lh3.googleusercontent.com/a-/AOh14Gj-3rbInttHw_wvyiLPSmYAdgOUmDm2bFbC-AEvbw=s64",
      "userId": "02906791875441644303"
     },
     "user_tz": 180
    },
    "id": "nY3RBscfz2Fd"
   },
   "outputs": [
    {
     "name": "stdout",
     "output_type": "stream",
     "text": [
      "(20190101, 5795, 'LSTM', Decimal('486.41'), Decimal('486.41'))\n",
      "(20190101, 5795, 'Prophet', Decimal('285.93'), Decimal('285.93'))\n",
      "(20190101, 5795, 'SArima', Decimal('124.20'), Decimal('124.20'))\n",
      "(20190101, 5795, 'Venda', Decimal('739.00'), Decimal('739.00'))\n",
      "(20190101, 12870, 'LSTM', Decimal('230.86'), Decimal('230.86'))\n",
      "(20190101, 12870, 'Prophet', Decimal('310.33'), Decimal('310.33'))\n",
      "(20190101, 12870, 'SArima', Decimal('179.71'), Decimal('179.71'))\n",
      "(20190101, 12870, 'Venda', Decimal('109.00'), Decimal('109.00'))\n",
      "(20190101, 12886, 'LSTM', Decimal('123.53'), Decimal('123.53'))\n",
      "(20190101, 12886, 'Prophet', Decimal('204.77'), Decimal('204.77'))\n",
      "(20190101, 12886, 'SArima', Decimal('131.61'), Decimal('131.61'))\n",
      "(20190101, 12886, 'Venda', Decimal('361.00'), Decimal('361.00'))\n",
      "(20190101, 13005, 'LSTM', Decimal('878.68'), Decimal('878.68'))\n",
      "(20190101, 13005, 'Prophet', Decimal('3227.27'), Decimal('3227.27'))\n",
      "(20190101, 13005, 'SArima', Decimal('398.00'), Decimal('398.00'))\n",
      "(20190201, 5795, 'LSTM', Decimal('534.96'), Decimal('1021.37'))\n",
      "(20190201, 5795, 'Prophet', Decimal('359.18'), Decimal('645.11'))\n",
      "(20190201, 5795, 'SArima', Decimal('386.48'), Decimal('510.67'))\n",
      "(20190201, 5795, 'Venda', Decimal('387.00'), Decimal('1126.00'))\n",
      "(20190201, 12870, 'LSTM', Decimal('223.71'), Decimal('454.57'))\n",
      "(20190201, 12870, 'Prophet', Decimal('137.81'), Decimal('448.14'))\n",
      "(20190201, 12870, 'SArima', Decimal('132.18'), Decimal('311.89'))\n",
      "(20190201, 12870, 'Venda', Decimal('183.00'), Decimal('292.00'))\n",
      "(20190201, 12886, 'LSTM', Decimal('158.21'), Decimal('281.74'))\n",
      "(20190201, 12886, 'Prophet', Decimal('226.00'), Decimal('430.77'))\n",
      "(20190201, 12886, 'SArima', Decimal('147.87'), Decimal('279.48'))\n",
      "(20190201, 12886, 'Venda', Decimal('70.00'), Decimal('431.00'))\n",
      "(20190201, 13005, 'LSTM', Decimal('1249.06'), Decimal('2127.74'))\n",
      "(20190201, 13005, 'Prophet', Decimal('796.93'), Decimal('4024.20'))\n",
      "(20190201, 13005, 'SArima', Decimal('852.00'), Decimal('1250.00'))\n",
      "(20190301, 5795, 'LSTM', Decimal('559.91'), Decimal('1581.28'))\n",
      "(20190301, 5795, 'Prophet', Decimal('663.92'), Decimal('1309.03'))\n",
      "(20190301, 5795, 'SArima', Decimal('903.53'), Decimal('1414.20'))\n",
      "(20190301, 5795, 'Venda', Decimal('589.00'), Decimal('1715.00'))\n",
      "(20190301, 12870, 'LSTM', Decimal('217.99'), Decimal('672.56'))\n",
      "(20190301, 12870, 'Prophet', Decimal('261.69'), Decimal('709.83'))\n",
      "(20190301, 12870, 'SArima', Decimal('351.21'), Decimal('663.10'))\n",
      "(20190301, 12870, 'Venda', Decimal('514.00'), Decimal('806.00'))\n",
      "(20190301, 12886, 'LSTM', Decimal('207.27'), Decimal('489.01'))\n",
      "(20190301, 12886, 'Prophet', Decimal('174.47'), Decimal('605.24'))\n",
      "(20190301, 12886, 'SArima', Decimal('211.38'), Decimal('490.86'))\n",
      "(20190301, 12886, 'Venda', Decimal('136.00'), Decimal('567.00'))\n",
      "(20190301, 13005, 'LSTM', Decimal('1360.34'), Decimal('3488.08'))\n",
      "(20190301, 13005, 'Prophet', Decimal('1060.42'), Decimal('5084.62'))\n",
      "(20190301, 13005, 'SArima', Decimal('1503.00'), Decimal('2753.00'))\n",
      "(20190401, 5795, 'LSTM', Decimal('558.37'), Decimal('2139.65'))\n",
      "(20190401, 5795, 'Prophet', Decimal('238.08'), Decimal('1547.10'))\n",
      "(20190401, 5795, 'SArima', Decimal('236.63'), Decimal('1650.83'))\n",
      "(20190401, 5795, 'Venda', Decimal('341.00'), Decimal('2056.00'))\n",
      "(20190401, 12870, 'LSTM', Decimal('215.19'), Decimal('887.74'))\n",
      "(20190401, 12870, 'Prophet', Decimal('189.34'), Decimal('899.17'))\n",
      "(20190401, 12870, 'SArima', Decimal('371.28'), Decimal('1034.38'))\n",
      "(20190401, 12870, 'Venda', Decimal('244.00'), Decimal('1050.00'))\n",
      "(20190401, 12886, 'LSTM', Decimal('273.71'), Decimal('762.72'))\n",
      "(20190401, 12886, 'Prophet', Decimal('43.35'), Decimal('648.60'))\n",
      "(20190401, 12886, 'SArima', Decimal('93.71'), Decimal('584.56'))\n",
      "(20190401, 12886, 'Venda', Decimal('25.00'), Decimal('592.00'))\n",
      "(20190401, 13005, 'LSTM', Decimal('1138.82'), Decimal('4626.90'))\n",
      "(20190401, 13005, 'Prophet', Decimal('946.38'), Decimal('6031.00'))\n",
      "(20190401, 13005, 'SArima', Decimal('275.00'), Decimal('3028.00'))\n",
      "(20190501, 5795, 'LSTM', Decimal('568.41'), Decimal('2708.06'))\n",
      "(20190501, 5795, 'Prophet', Decimal('231.04'), Decimal('1778.14'))\n",
      "(20190501, 5795, 'SArima', Decimal('487.92'), Decimal('2138.74'))\n",
      "(20190501, 5795, 'Venda', Decimal('166.00'), Decimal('2222.00'))\n",
      "(20190501, 12870, 'LSTM', Decimal('218.36'), Decimal('1106.10'))\n",
      "(20190501, 12870, 'Prophet', Decimal('438.66'), Decimal('1337.83'))\n",
      "(20190501, 12870, 'SArima', Decimal('307.91'), Decimal('1342.28'))\n",
      "(20190501, 12870, 'Venda', Decimal('553.00'), Decimal('1603.00'))\n",
      "(20190501, 12886, 'LSTM', Decimal('315.81'), Decimal('1078.53'))\n",
      "(20190501, 12886, 'Prophet', Decimal('437.40'), Decimal('1086.00'))\n",
      "(20190501, 12886, 'SArima', Decimal('662.00'), Decimal('1246.57'))\n",
      "(20190501, 12886, 'Venda', Decimal('344.00'), Decimal('936.00'))\n",
      "(20190501, 13005, 'LSTM', Decimal('1315.19'), Decimal('5942.08'))\n",
      "(20190501, 13005, 'Prophet', Decimal('1410.98'), Decimal('7441.98'))\n",
      "(20190501, 13005, 'SArima', Decimal('1441.00'), Decimal('4469.00'))\n",
      "(20190601, 5795, 'LSTM', Decimal('568.25'), Decimal('3276.31'))\n",
      "(20190601, 5795, 'Prophet', Decimal('703.43'), Decimal('2481.57'))\n",
      "(20190601, 5795, 'SArima', Decimal('578.81'), Decimal('2717.56'))\n",
      "(20190601, 5795, 'Venda', Decimal('1309.00'), Decimal('3531.00'))\n",
      "(20190601, 12870, 'LSTM', Decimal('231.58'), Decimal('1337.68'))\n",
      "(20190601, 12870, 'Prophet', Decimal('376.89'), Decimal('1714.72'))\n",
      "(20190601, 12870, 'SArima', Decimal('327.16'), Decimal('1669.44'))\n",
      "(20190601, 12870, 'Venda', Decimal('445.00'), Decimal('2048.00'))\n",
      "(20190601, 12886, 'LSTM', Decimal('345.54'), Decimal('1424.08'))\n",
      "(20190601, 12886, 'Prophet', Decimal('104.43'), Decimal('1190.43'))\n",
      "(20190601, 12886, 'SArima', Decimal('228.43'), Decimal('1475.00'))\n",
      "(20190601, 12886, 'Venda', Decimal('59.00'), Decimal('995.00'))\n",
      "(20190601, 13005, 'LSTM', Decimal('1122.86'), Decimal('7064.95'))\n",
      "(20190601, 13005, 'Prophet', Decimal('856.65'), Decimal('8298.63'))\n",
      "(20190601, 13005, 'SArima', Decimal('708.00'), Decimal('5177.00'))\n",
      "(20190701, 5795, 'LSTM', Decimal('569.30'), Decimal('3845.61'))\n",
      "(20190701, 5795, 'Prophet', Decimal('699.29'), Decimal('3180.86'))\n",
      "(20190701, 5795, 'SArima', Decimal('673.42'), Decimal('3390.98'))\n",
      "(20190701, 5795, 'Venda', Decimal('1085.00'), Decimal('4616.00'))\n",
      "(20190701, 12870, 'LSTM', Decimal('254.57'), Decimal('1592.25'))\n",
      "(20190701, 12870, 'Prophet', Decimal('313.63'), Decimal('2028.35'))\n",
      "(20190701, 12870, 'SArima', Decimal('368.70'), Decimal('2038.14'))\n",
      "(20190701, 12870, 'Venda', Decimal('211.00'), Decimal('2259.00'))\n",
      "(20190701, 12886, 'LSTM', Decimal('355.18'), Decimal('1779.25'))\n",
      "(20190701, 12886, 'Prophet', Decimal('277.18'), Decimal('1467.62'))\n",
      "(20190701, 12886, 'SArima', Decimal('251.41'), Decimal('1726.41'))\n",
      "(20190701, 12886, 'Venda', Decimal('150.00'), Decimal('1145.00'))\n",
      "(20190701, 13005, 'LSTM', Decimal('1595.52'), Decimal('8660.47'))\n",
      "(20190701, 13005, 'Prophet', Decimal('1305.94'), Decimal('9604.57'))\n",
      "(20190701, 13005, 'SArima', Decimal('1955.00'), Decimal('7132.00'))\n",
      "(20190801, 5795, 'LSTM', Decimal('566.96'), Decimal('4412.57'))\n",
      "(20190801, 5795, 'Prophet', Decimal('286.12'), Decimal('3466.98'))\n",
      "(20190801, 5795, 'SArima', Decimal('527.22'), Decimal('3918.19'))\n",
      "(20190801, 5795, 'Venda', Decimal('224.00'), Decimal('4840.00'))\n",
      "(20190801, 12870, 'LSTM', Decimal('271.57'), Decimal('1863.83'))\n",
      "(20190801, 12870, 'Prophet', Decimal('305.11'), Decimal('2333.45'))\n",
      "(20190801, 12870, 'SArima', Decimal('334.76'), Decimal('2372.90'))\n",
      "(20190801, 12870, 'Venda', Decimal('441.00'), Decimal('2700.00'))\n",
      "(20190801, 12886, 'LSTM', Decimal('356.24'), Decimal('2135.49'))\n",
      "(20190801, 12886, 'Prophet', Decimal('161.44'), Decimal('1629.06'))\n",
      "(20190801, 12886, 'SArima', Decimal('134.18'), Decimal('1860.59'))\n",
      "(20190801, 12886, 'Venda', Decimal('53.00'), Decimal('1198.00'))\n",
      "(20190801, 13005, 'LSTM', Decimal('1062.41'), Decimal('9722.87'))\n",
      "(20190801, 13005, 'Prophet', Decimal('839.25'), Decimal('10443.83'))\n",
      "(20190801, 13005, 'SArima', Decimal('715.00'), Decimal('7847.00'))\n",
      "(20190901, 5795, 'LSTM', Decimal('567.28'), Decimal('4979.85'))\n",
      "(20190901, 5795, 'Prophet', Decimal('804.88'), Decimal('4271.86'))\n",
      "(20190901, 5795, 'SArima', Decimal('403.04'), Decimal('4321.23'))\n",
      "(20190901, 5795, 'Venda', Decimal('485.00'), Decimal('5325.00'))\n",
      "(20190901, 12870, 'LSTM', Decimal('284.21'), Decimal('2148.03'))\n",
      "(20190901, 12870, 'Prophet', Decimal('279.49'), Decimal('2612.95'))\n",
      "(20190901, 12870, 'SArima', Decimal('297.41'), Decimal('2670.31'))\n",
      "(20190901, 12870, 'Venda', Decimal('240.00'), Decimal('2940.00'))\n",
      "(20190901, 12886, 'LSTM', Decimal('327.65'), Decimal('2463.15'))\n",
      "(20190901, 12886, 'Prophet', Decimal('94.35'), Decimal('1723.41'))\n",
      "(20190901, 12886, 'SArima', Decimal('106.69'), Decimal('1967.28'))\n",
      "(20190901, 12886, 'Venda', Decimal('60.00'), Decimal('1258.00'))\n",
      "(20190901, 13005, 'LSTM', Decimal('1121.17'), Decimal('10844.05'))\n",
      "(20190901, 13005, 'Prophet', Decimal('684.86'), Decimal('11128.69'))\n",
      "(20190901, 13005, 'SArima', Decimal('511.00'), Decimal('8358.00'))\n",
      "(20191001, 5795, 'LSTM', Decimal('567.17'), Decimal('5547.02'))\n",
      "(20191001, 5795, 'Prophet', Decimal('275.65'), Decimal('4547.51'))\n",
      "(20191001, 5795, 'SArima', Decimal('344.89'), Decimal('4666.13'))\n",
      "(20191001, 5795, 'Venda', Decimal('304.00'), Decimal('5629.00'))\n",
      "(20191001, 12870, 'LSTM', Decimal('277.97'), Decimal('2426.01'))\n",
      "(20191001, 12870, 'Prophet', Decimal('216.19'), Decimal('2829.14'))\n",
      "(20191001, 12870, 'SArima', Decimal('320.65'), Decimal('2990.96'))\n",
      "(20191001, 12870, 'Venda', Decimal('202.00'), Decimal('3142.00'))\n",
      "(20191001, 12886, 'LSTM', Decimal('273.79'), Decimal('2736.93'))\n",
      "(20191001, 12886, 'Prophet', Decimal('51.50'), Decimal('1774.92'))\n",
      "(20191001, 12886, 'SArima', Decimal('72.20'), Decimal('2039.48'))\n",
      "(20191001, 12886, 'Venda', Decimal('43.00'), Decimal('1301.00'))\n",
      "(20191001, 13005, 'LSTM', Decimal('1115.01'), Decimal('11959.06'))\n",
      "(20191001, 13005, 'Prophet', Decimal('1178.55'), Decimal('12307.24'))\n",
      "(20191001, 13005, 'SArima', Decimal('563.00'), Decimal('8921.00'))\n",
      "(20191101, 5795, 'LSTM', Decimal('565.60'), Decimal('6112.62'))\n",
      "(20191101, 5795, 'Prophet', Decimal('196.09'), Decimal('4743.60'))\n",
      "(20191101, 5795, 'SArima', Decimal('396.35'), Decimal('5062.47'))\n",
      "(20191101, 5795, 'Venda', Decimal('144.00'), Decimal('5773.00'))\n",
      "(20191101, 12870, 'LSTM', Decimal('267.82'), Decimal('2693.83'))\n",
      "(20191101, 12870, 'Prophet', Decimal('130.09'), Decimal('2959.23'))\n",
      "(20191101, 12870, 'SArima', Decimal('170.30'), Decimal('3161.26'))\n",
      "(20191101, 12870, 'Venda', Decimal('72.00'), Decimal('3214.00'))\n",
      "(20191101, 12886, 'LSTM', Decimal('208.34'), Decimal('2945.27'))\n",
      "(20191101, 12886, 'Prophet', Decimal('89.32'), Decimal('1864.23'))\n",
      "(20191101, 12886, 'SArima', Decimal('44.72'), Decimal('2084.20'))\n",
      "(20191101, 12886, 'Venda', Decimal('168.00'), Decimal('1469.00'))\n",
      "(20191101, 13005, 'LSTM', Decimal('1125.37'), Decimal('13084.43'))\n",
      "(20191101, 13005, 'Prophet', Decimal('511.00'), Decimal('12818.24'))\n",
      "(20191101, 13005, 'SArima', Decimal('475.00'), Decimal('9396.00'))\n",
      "(20191201, 5795, 'LSTM', Decimal('572.77'), Decimal('6685.39'))\n",
      "(20191201, 5795, 'Prophet', Decimal('877.63'), Decimal('5621.23'))\n",
      "(20191201, 5795, 'SArima', Decimal('1032.23'), Decimal('6094.70'))\n",
      "(20191201, 5795, 'Venda', Decimal('320.00'), Decimal('6093.00'))\n",
      "(20191201, 12870, 'LSTM', Decimal('254.32'), Decimal('2948.15'))\n",
      "(20191201, 12870, 'Prophet', Decimal('238.92'), Decimal('3198.15'))\n",
      "(20191201, 12870, 'SArima', Decimal('234.36'), Decimal('3395.61'))\n",
      "(20191201, 12870, 'Venda', Decimal('255.00'), Decimal('3469.00'))\n",
      "(20191201, 12886, 'LSTM', Decimal('151.73'), Decimal('3097.01'))\n",
      "(20191201, 12886, 'Prophet', Decimal('116.60'), Decimal('1980.83'))\n",
      "(20191201, 12886, 'SArima', Decimal('177.55'), Decimal('2261.75'))\n",
      "(20191201, 12886, 'Venda', Decimal('180.00'), Decimal('1649.00'))\n",
      "(20191201, 13005, 'LSTM', Decimal('3252.95'), Decimal('16337.37'))\n",
      "(20191201, 13005, 'Prophet', Decimal('1146.13'), Decimal('13964.36'))\n",
      "(20191201, 13005, 'SArima', Decimal('3278.00'), Decimal('12674.00'))\n",
      "(20200101, 5795, 'LSTM', Decimal('561.69'), Decimal('7247.08'))\n",
      "(20200101, 5795, 'Prophet', Decimal('298.88'), Decimal('5920.11'))\n",
      "(20200101, 5795, 'SArima', Decimal('62.63'), Decimal('6157.34'))\n",
      "(20200101, 5795, 'Venda', Decimal('0.00'), Decimal('0.00'))\n",
      "(20200101, 12870, 'LSTM', Decimal('245.66'), Decimal('3193.81'))\n",
      "(20200101, 12870, 'Prophet', Decimal('354.08'), Decimal('3552.23'))\n",
      "(20200101, 12870, 'SArima', Decimal('165.88'), Decimal('3561.49'))\n",
      "(20200101, 12870, 'Venda', Decimal('0.00'), Decimal('0.00'))\n",
      "(20200101, 12886, 'LSTM', Decimal('162.22'), Decimal('3259.22'))\n",
      "(20200101, 12886, 'Prophet', Decimal('238.45'), Decimal('2219.29'))\n",
      "(20200101, 12886, 'SArima', Decimal('131.61'), Decimal('2393.36'))\n",
      "(20200101, 12886, 'Venda', Decimal('0.00'), Decimal('0.00'))\n",
      "(20200201, 5795, 'LSTM', Decimal('564.59'), Decimal('7811.67'))\n",
      "(20200201, 5795, 'Prophet', Decimal('306.77'), Decimal('6226.88'))\n",
      "(20200201, 5795, 'SArima', Decimal('335.30'), Decimal('6492.64'))\n",
      "(20200201, 5795, 'Venda', Decimal('0.00'), Decimal('0.00'))\n",
      "(20200201, 12870, 'LSTM', Decimal('237.88'), Decimal('3431.69'))\n",
      "(20200201, 12870, 'Prophet', Decimal('177.51'), Decimal('3729.74'))\n",
      "(20200201, 12870, 'SArima', Decimal('74.26'), Decimal('3635.75'))\n",
      "(20200201, 12870, 'Venda', Decimal('0.00'), Decimal('0.00'))\n",
      "(20200201, 12886, 'LSTM', Decimal('147.75'), Decimal('3406.98'))\n",
      "(20200201, 12886, 'Prophet', Decimal('238.31'), Decimal('2457.60'))\n",
      "(20200201, 12886, 'SArima', Decimal('147.87'), Decimal('2541.23'))\n",
      "(20200201, 12886, 'Venda', Decimal('0.00'), Decimal('0.00'))\n",
      "(20200301, 5795, 'LSTM', Decimal('566.59'), Decimal('8378.26'))\n",
      "(20200301, 5795, 'Prophet', Decimal('638.45'), Decimal('6865.33'))\n",
      "(20200301, 5795, 'SArima', Decimal('700.32'), Decimal('7192.95'))\n",
      "(20200301, 5795, 'Venda', Decimal('0.00'), Decimal('0.00'))\n",
      "(20200301, 12870, 'LSTM', Decimal('231.43'), Decimal('3663.12'))\n",
      "(20200301, 12870, 'Prophet', Decimal('573.48'), Decimal('4303.22'))\n",
      "(20200301, 12870, 'SArima', Decimal('271.93'), Decimal('3907.68'))\n",
      "(20200301, 12870, 'Venda', Decimal('0.00'), Decimal('0.00'))\n",
      "(20200301, 12886, 'LSTM', Decimal('149.06'), Decimal('3556.04'))\n",
      "(20200301, 12886, 'Prophet', Decimal('160.92'), Decimal('2618.51'))\n",
      "(20200301, 12886, 'SArima', Decimal('211.38'), Decimal('2752.61'))\n",
      "(20200301, 12886, 'Venda', Decimal('0.00'), Decimal('0.00'))\n",
      "(20200401, 5795, 'LSTM', Decimal('562.76'), Decimal('8941.02'))\n",
      "(20200401, 5795, 'Prophet', Decimal('195.93'), Decimal('7061.26'))\n",
      "(20200401, 5795, 'SArima', Decimal('140.98'), Decimal('7333.93'))\n",
      "(20200401, 5795, 'Venda', Decimal('0.00'), Decimal('0.00'))\n",
      "(20200401, 12870, 'LSTM', Decimal('225.53'), Decimal('3888.64'))\n",
      "(20200401, 12870, 'Prophet', Decimal('296.33'), Decimal('4599.55'))\n",
      "(20200401, 12870, 'SArima', Decimal('257.21'), Decimal('4164.89'))\n",
      "(20200401, 12870, 'Venda', Decimal('0.00'), Decimal('0.00'))\n",
      "(20200401, 12886, 'LSTM', Decimal('165.32'), Decimal('3721.36'))\n",
      "(20200401, 12886, 'Prophet', Decimal('217.53'), Decimal('2836.05'))\n",
      "(20200401, 12886, 'SArima', Decimal('93.71'), Decimal('2846.31'))\n",
      "(20200401, 12886, 'Venda', Decimal('0.00'), Decimal('0.00'))\n",
      "(20200501, 5795, 'LSTM', Decimal('563.08'), Decimal('9504.10'))\n",
      "(20200501, 5795, 'Prophet', Decimal('237.21'), Decimal('7298.46'))\n",
      "(20200501, 5795, 'SArima', Decimal('245.65'), Decimal('7579.59'))\n",
      "(20200501, 5795, 'Venda', Decimal('0.00'), Decimal('0.00'))\n",
      "(20200501, 12870, 'LSTM', Decimal('223.46'), Decimal('4112.10'))\n",
      "(20200501, 12870, 'Prophet', Decimal('205.90'), Decimal('4805.45'))\n",
      "(20200501, 12870, 'SArima', Decimal('341.09'), Decimal('4505.98'))\n",
      "(20200501, 12870, 'Venda', Decimal('0.00'), Decimal('0.00'))\n",
      "(20200501, 12886, 'LSTM', Decimal('184.36'), Decimal('3905.72'))\n",
      "(20200501, 12886, 'Prophet', Decimal('171.40'), Decimal('3007.45'))\n",
      "(20200501, 12886, 'SArima', Decimal('662.00'), Decimal('3508.32'))\n",
      "(20200501, 12886, 'Venda', Decimal('0.00'), Decimal('0.00'))\n",
      "(20200601, 5795, 'LSTM', Decimal('564.80'), Decimal('10068.90'))\n",
      "(20200601, 5795, 'Prophet', Decimal('562.34'), Decimal('7860.81'))\n",
      "(20200601, 5795, 'SArima', Decimal('375.44'), Decimal('7955.03'))\n",
      "(20200601, 5795, 'Venda', Decimal('0.00'), Decimal('0.00'))\n",
      "(20200601, 12870, 'LSTM', Decimal('226.14'), Decimal('4338.24'))\n",
      "(20200601, 12870, 'Prophet', Decimal('298.02'), Decimal('5103.47'))\n",
      "(20200601, 12870, 'SArima', Decimal('385.83'), Decimal('4891.82'))\n",
      "(20200601, 12870, 'Venda', Decimal('0.00'), Decimal('0.00'))\n",
      "(20200601, 12886, 'LSTM', Decimal('307.87'), Decimal('4213.59'))\n",
      "(20200601, 12886, 'Prophet', Decimal('376.76'), Decimal('3384.21'))\n",
      "(20200601, 12886, 'SArima', Decimal('228.43'), Decimal('3736.75'))\n",
      "(20200601, 12886, 'Venda', Decimal('0.00'), Decimal('0.00'))\n",
      "(20200701, 5795, 'LSTM', Decimal('570.24'), Decimal('10639.13'))\n",
      "(20200701, 5795, 'Prophet', Decimal('607.28'), Decimal('8468.09'))\n",
      "(20200701, 5795, 'SArima', Decimal('774.83'), Decimal('8729.86'))\n",
      "(20200701, 5795, 'Venda', Decimal('0.00'), Decimal('0.00'))\n",
      "(20200701, 12870, 'LSTM', Decimal('233.86'), Decimal('4572.10'))\n",
      "(20200701, 12870, 'Prophet', Decimal('302.83'), Decimal('5406.30'))\n",
      "(20200701, 12870, 'SArima', Decimal('288.86'), Decimal('5180.68'))\n",
      "(20200701, 12870, 'Venda', Decimal('0.00'), Decimal('0.00'))\n",
      "(20200701, 12886, 'LSTM', Decimal('330.38'), Decimal('4543.97'))\n",
      "(20200701, 12886, 'Prophet', Decimal('159.91'), Decimal('3544.12'))\n",
      "(20200701, 12886, 'SArima', Decimal('251.41'), Decimal('3988.16'))\n",
      "(20200701, 12886, 'Venda', Decimal('0.00'), Decimal('0.00'))\n",
      "(20200801, 5795, 'LSTM', Decimal('565.73'), Decimal('11204.87'))\n",
      "(20200801, 5795, 'Prophet', Decimal('666.34'), Decimal('9134.43'))\n",
      "(20200801, 5795, 'SArima', Decimal('506.14'), Decimal('9236.00'))\n",
      "(20200801, 5795, 'Venda', Decimal('0.00'), Decimal('0.00'))\n",
      "(20200801, 12870, 'LSTM', Decimal('246.29'), Decimal('4818.39'))\n",
      "(20200801, 12870, 'Prophet', Decimal('351.63'), Decimal('5757.93'))\n",
      "(20200801, 12870, 'SArima', Decimal('405.79'), Decimal('5586.47'))\n",
      "(20200801, 12870, 'Venda', Decimal('0.00'), Decimal('0.00'))\n",
      "(20200801, 12886, 'LSTM', Decimal('339.39'), Decimal('4883.36'))\n",
      "(20200801, 12886, 'Prophet', Decimal('61.80'), Decimal('3605.92'))\n",
      "(20200801, 12886, 'SArima', Decimal('134.18'), Decimal('4122.34'))\n",
      "(20200801, 12886, 'Venda', Decimal('0.00'), Decimal('0.00'))\n",
      "(20200901, 5795, 'LSTM', Decimal('562.82'), Decimal('11767.69'))\n",
      "(20200901, 5795, 'Prophet', Decimal('156.78'), Decimal('9291.21'))\n",
      "(20200901, 5795, 'SArima', Decimal('245.04'), Decimal('9481.04'))\n",
      "(20200901, 5795, 'Venda', Decimal('0.00'), Decimal('0.00'))\n",
      "(20200901, 12870, 'LSTM', Decimal('252.55'), Decimal('5070.94'))\n",
      "(20200901, 12870, 'Prophet', Decimal('247.99'), Decimal('6005.92'))\n",
      "(20200901, 12870, 'SArima', Decimal('238.75'), Decimal('5825.22'))\n",
      "(20200901, 12870, 'Venda', Decimal('0.00'), Decimal('0.00'))\n",
      "(20200901, 12886, 'LSTM', Decimal('325.82'), Decimal('5209.18'))\n",
      "(20200901, 12886, 'Prophet', Decimal('134.81'), Decimal('3740.73'))\n",
      "(20200901, 12886, 'SArima', Decimal('106.69'), Decimal('4229.03'))\n",
      "(20200901, 12886, 'Venda', Decimal('0.00'), Decimal('0.00'))\n",
      "(20201001, 5795, 'LSTM', Decimal('563.35'), Decimal('12331.04'))\n",
      "(20201001, 5795, 'Prophet', Decimal('150.57'), Decimal('9441.77'))\n",
      "(20201001, 5795, 'SArima', Decimal('193.07'), Decimal('9674.11'))\n",
      "(20201001, 5795, 'Venda', Decimal('0.00'), Decimal('0.00'))\n",
      "(20201001, 12870, 'LSTM', Decimal('247.81'), Decimal('5318.75'))\n",
      "(20201001, 12870, 'Prophet', Decimal('320.26'), Decimal('6326.18'))\n",
      "(20201001, 12870, 'SArima', Decimal('312.77'), Decimal('6137.99'))\n",
      "(20201001, 12870, 'Venda', Decimal('0.00'), Decimal('0.00'))\n",
      "(20201001, 12886, 'LSTM', Decimal('289.74'), Decimal('5498.93'))\n",
      "(20201001, 12886, 'Prophet', Decimal('71.55'), Decimal('3812.28'))\n",
      "(20201001, 12886, 'SArima', Decimal('72.20'), Decimal('4301.23'))\n",
      "(20201001, 12886, 'Venda', Decimal('0.00'), Decimal('0.00'))\n",
      "(20201101, 5795, 'LSTM', Decimal('567.39'), Decimal('12898.42'))\n",
      "(20201101, 5795, 'Prophet', Decimal('624.44'), Decimal('10066.21'))\n",
      "(20201101, 5795, 'SArima', Decimal('387.40'), Decimal('10061.51'))\n",
      "(20201101, 5795, 'Venda', Decimal('0.00'), Decimal('0.00'))\n",
      "(20201101, 12870, 'LSTM', Decimal('239.51'), Decimal('5558.26'))\n",
      "(20201101, 12870, 'Prophet', Decimal('145.25'), Decimal('6471.43'))\n",
      "(20201101, 12870, 'SArima', Decimal('116.43'), Decimal('6254.41'))\n",
      "(20201101, 12870, 'Venda', Decimal('0.00'), Decimal('0.00'))\n",
      "(20201101, 12886, 'LSTM', Decimal('228.78'), Decimal('5727.71'))\n",
      "(20201101, 12886, 'Prophet', Decimal('22.15'), Decimal('3834.43'))\n",
      "(20201101, 12886, 'SArima', Decimal('44.72'), Decimal('4345.95'))\n",
      "(20201101, 12886, 'Venda', Decimal('0.00'), Decimal('0.00'))\n",
      "(20201201, 5795, 'LSTM', Decimal('573.00'), Decimal('13471.42'))\n",
      "(20201201, 5795, 'Prophet', Decimal('792.02'), Decimal('10858.23'))\n",
      "(20201201, 5795, 'SArima', Decimal('1073.83'), Decimal('11135.35'))\n",
      "(20201201, 5795, 'Venda', Decimal('0.00'), Decimal('0.00'))\n",
      "(20201201, 12870, 'LSTM', Decimal('236.11'), Decimal('5794.36'))\n",
      "(20201201, 12870, 'Prophet', Decimal('196.87'), Decimal('6668.31'))\n",
      "(20201201, 12870, 'SArima', Decimal('244.57'), Decimal('6498.98'))\n",
      "(20201201, 12870, 'Venda', Decimal('0.00'), Decimal('0.00'))\n",
      "(20201201, 12886, 'LSTM', Decimal('161.71'), Decimal('5889.42'))\n",
      "(20201201, 12886, 'Prophet', Decimal('286.89'), Decimal('4121.32'))\n",
      "(20201201, 12886, 'SArima', Decimal('177.55'), Decimal('4523.50'))\n",
      "(20201201, 12886, 'Venda', Decimal('0.00'), Decimal('0.00'))\n"
     ]
    }
   ],
   "source": [
    "#Grava dados no MySQL\n",
    "try:\n",
    "    # Connect to the database\n",
    "    connection = mysql.connector.connect(host='localhost',\n",
    "                                         database='projeto',\n",
    "                                         user='root',\n",
    "                                         password='12345678')\n",
    "\n",
    "    cursor = connection.cursor()\n",
    "\n",
    "    # Create a new record\n",
    "    query = \" DELETE FROM projeto.fato_predicao WHERE sk_protudo = \" + produto_proc\n",
    "\n",
    "    cursor.execute(query)\n",
    "\n",
    "    # connection is not autocommit by default. So we must commit to save our changes.\n",
    "    connection.commit()\n",
    "\n",
    "    # Create a new record\n",
    "    #query = \"\"\"INSERT INTO projeto.fato_predicao (sk_tempo, sk_protudo, qtd_predicao, qtd_acumula) VALUES(%s, %s, %s, %s) ON DUPLICATE KEY UPDATE qtd_predicao=%s, qtd_acumula=%s\"\"\"\n",
    "    #cursor.execute(query, (df_export.sk_tempo[i], df_export.sk_protudo[i], df_export.PROPHET[i], df_export.Ac_PROPHET[i], df_export.PROPHET[i], df_export.Ac_PROPHET[i]))\n",
    "\n",
    "    query = \"\"\"INSERT INTO projeto.fato_predicao (sk_tempo, sk_protudo, no_modelo, qtd_predicao, qtd_acumula) VALUES(%s, %s, %s, %s, %s) ON DUPLICATE KEY UPDATE qtd_predicao=%s, qtd_acumula=%s\"\"\"\n",
    "    \n",
    "    for index, row in df_export.iterrows():\n",
    "        #Grava dados da Venda Realizada\n",
    "        cModelo = 'Venda'\n",
    "        nQtdInsert = row['qtd_venda'].item() \n",
    "        nAcmInsert = row['acm_venda'].item()\n",
    "        \n",
    "        cursor.execute(query, (row['sk_tempo'].item(), row['sk_protudo'].item(), cModelo, nQtdInsert, nAcmInsert, nQtdInsert, nAcmInsert))       \n",
    "\n",
    "        #Grava dados PROPHET\n",
    "        cModelo = 'Prophet'\n",
    "        nQtdInsert = row['qtd_prophet'].item() \n",
    "        nAcmInsert = row['acm_prophet'].item()\n",
    "        \n",
    "        cursor.execute(query, (row['sk_tempo'].item(), row['sk_protudo'].item(), cModelo, nQtdInsert, nAcmInsert, nQtdInsert, nAcmInsert))       \n",
    "\n",
    "        #Grava dados SArima        \n",
    "        cModelo = 'SArima'\n",
    "        nQtdInsert = row['qtd_sarima'].item() \n",
    "        nAcmInsert = row['acm_sarima'].item()\n",
    "        \n",
    "        cursor.execute(query, (row['sk_tempo'].item(), row['sk_protudo'].item(), cModelo, nQtdInsert, nAcmInsert, nQtdInsert, nAcmInsert))       \n",
    "\n",
    "        #Grava dados LSTM        \n",
    "        cModelo = 'LSTM'\n",
    "        nQtdInsert = row['qtd_lstm'].item() \n",
    "        nAcmInsert = row['acm_lstm'].item()\n",
    "        \n",
    "        cursor.execute(query, (row['sk_tempo'].item(), row['sk_protudo'].item(), cModelo, nQtdInsert, nAcmInsert, nQtdInsert, nAcmInsert))       \n",
    "\n",
    "    # connection is not autocommit by default. So we must commit to save our changes.\n",
    "    connection.commit()\n",
    "\n",
    "    # Execute query\n",
    "    sql = \"SELECT * FROM projeto.fato_predicao\"\n",
    "    \n",
    "    cursor.execute(sql)\n",
    "    \n",
    "    # Fetch all the records\n",
    "    result = cursor.fetchall()\n",
    "    \n",
    "    for i in result:\n",
    "        print(i)\n",
    "\n",
    "finally:\n",
    "    # close the database connection using close() method.\n",
    "    connection.close()"
   ]
  },
  {
   "cell_type": "code",
   "execution_count": null,
   "metadata": {},
   "outputs": [],
   "source": []
  }
 ],
 "metadata": {
  "colab": {
   "authorship_tag": "ABX9TyPyUqI1rQJt6rqtTenTltJQ",
   "collapsed_sections": [],
   "name": "python-time-series-modelos.ipynb",
   "provenance": []
  },
  "kernelspec": {
   "display_name": "Python 3",
   "language": "python",
   "name": "python3"
  },
  "language_info": {
   "codemirror_mode": {
    "name": "ipython",
    "version": 3
   },
   "file_extension": ".py",
   "mimetype": "text/x-python",
   "name": "python",
   "nbconvert_exporter": "python",
   "pygments_lexer": "ipython3",
   "version": "3.8.3"
  }
 },
 "nbformat": 4,
 "nbformat_minor": 4
}
